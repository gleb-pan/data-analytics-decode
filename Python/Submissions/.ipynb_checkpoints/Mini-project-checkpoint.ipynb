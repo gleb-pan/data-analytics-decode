{
 "cells": [
  {
   "cell_type": "markdown",
   "id": "43036f07-f9e1-4850-83d0-4d4bac366ae9",
   "metadata": {},
   "source": [
    "# Мини проект"
   ]
  },
  {
   "cell_type": "code",
   "execution_count": 22,
   "id": "68d25942-99cc-494c-a169-7b0abad48ea7",
   "metadata": {},
   "outputs": [
    {
     "name": "stdout",
     "output_type": "stream",
     "text": [
      "<class 'pandas.core.frame.DataFrame'>\n",
      "RangeIndex: 244126 entries, 0 to 244125\n",
      "Data columns (total 4 columns):\n",
      " #   Column          Non-Null Count   Dtype \n",
      "---  ------          --------------   ----- \n",
      " 0   EventName       244126 non-null  object\n",
      " 1   DeviceIDHash    244126 non-null  int64 \n",
      " 2   EventTimestamp  244126 non-null  int64 \n",
      " 3   ExpId           244126 non-null  int64 \n",
      "dtypes: int64(3), object(1)\n",
      "memory usage: 7.5+ MB\n"
     ]
    }
   ],
   "source": [
    "# для начала пойму что это за датасет и предобработаю его при необходимости.\n",
    "\n",
    "import pandas as pd\n",
    "\n",
    "try:    \n",
    "    df = pd.read_csv('../datasets/logs_exp.csv', sep='\\t')\n",
    "except:\n",
    "    print('Dataset not found.')\n",
    "    \n",
    "df.info() \n",
    "\n",
    "# вижу что датасет полностью наполнен"
   ]
  },
  {
   "cell_type": "code",
   "execution_count": 23,
   "id": "accec06d-bf95-4753-8b48-f7955f4e065f",
   "metadata": {},
   "outputs": [
    {
     "data": {
      "text/html": [
       "<div>\n",
       "<style scoped>\n",
       "    .dataframe tbody tr th:only-of-type {\n",
       "        vertical-align: middle;\n",
       "    }\n",
       "\n",
       "    .dataframe tbody tr th {\n",
       "        vertical-align: top;\n",
       "    }\n",
       "\n",
       "    .dataframe thead th {\n",
       "        text-align: right;\n",
       "    }\n",
       "</style>\n",
       "<table border=\"1\" class=\"dataframe\">\n",
       "  <thead>\n",
       "    <tr style=\"text-align: right;\">\n",
       "      <th></th>\n",
       "      <th>EventName</th>\n",
       "      <th>DeviceIDHash</th>\n",
       "      <th>EventTimestamp</th>\n",
       "      <th>ExpId</th>\n",
       "    </tr>\n",
       "  </thead>\n",
       "  <tbody>\n",
       "    <tr>\n",
       "      <th>0</th>\n",
       "      <td>MainScreenAppear</td>\n",
       "      <td>4575588528974610257</td>\n",
       "      <td>1564029816</td>\n",
       "      <td>246</td>\n",
       "    </tr>\n",
       "    <tr>\n",
       "      <th>1</th>\n",
       "      <td>MainScreenAppear</td>\n",
       "      <td>7416695313311560658</td>\n",
       "      <td>1564053102</td>\n",
       "      <td>246</td>\n",
       "    </tr>\n",
       "    <tr>\n",
       "      <th>2</th>\n",
       "      <td>PaymentScreenSuccessful</td>\n",
       "      <td>3518123091307005509</td>\n",
       "      <td>1564054127</td>\n",
       "      <td>248</td>\n",
       "    </tr>\n",
       "    <tr>\n",
       "      <th>3</th>\n",
       "      <td>CartScreenAppear</td>\n",
       "      <td>3518123091307005509</td>\n",
       "      <td>1564054127</td>\n",
       "      <td>248</td>\n",
       "    </tr>\n",
       "    <tr>\n",
       "      <th>4</th>\n",
       "      <td>PaymentScreenSuccessful</td>\n",
       "      <td>6217807653094995999</td>\n",
       "      <td>1564055322</td>\n",
       "      <td>248</td>\n",
       "    </tr>\n",
       "    <tr>\n",
       "      <th>...</th>\n",
       "      <td>...</td>\n",
       "      <td>...</td>\n",
       "      <td>...</td>\n",
       "      <td>...</td>\n",
       "    </tr>\n",
       "    <tr>\n",
       "      <th>244121</th>\n",
       "      <td>MainScreenAppear</td>\n",
       "      <td>4599628364049201812</td>\n",
       "      <td>1565212345</td>\n",
       "      <td>247</td>\n",
       "    </tr>\n",
       "    <tr>\n",
       "      <th>244122</th>\n",
       "      <td>MainScreenAppear</td>\n",
       "      <td>5849806612437486590</td>\n",
       "      <td>1565212439</td>\n",
       "      <td>246</td>\n",
       "    </tr>\n",
       "    <tr>\n",
       "      <th>244123</th>\n",
       "      <td>MainScreenAppear</td>\n",
       "      <td>5746969938801999050</td>\n",
       "      <td>1565212483</td>\n",
       "      <td>246</td>\n",
       "    </tr>\n",
       "    <tr>\n",
       "      <th>244124</th>\n",
       "      <td>MainScreenAppear</td>\n",
       "      <td>5746969938801999050</td>\n",
       "      <td>1565212498</td>\n",
       "      <td>246</td>\n",
       "    </tr>\n",
       "    <tr>\n",
       "      <th>244125</th>\n",
       "      <td>OffersScreenAppear</td>\n",
       "      <td>5746969938801999050</td>\n",
       "      <td>1565212517</td>\n",
       "      <td>246</td>\n",
       "    </tr>\n",
       "  </tbody>\n",
       "</table>\n",
       "<p>244126 rows × 4 columns</p>\n",
       "</div>"
      ],
      "text/plain": [
       "                      EventName         DeviceIDHash  EventTimestamp  ExpId\n",
       "0              MainScreenAppear  4575588528974610257      1564029816    246\n",
       "1              MainScreenAppear  7416695313311560658      1564053102    246\n",
       "2       PaymentScreenSuccessful  3518123091307005509      1564054127    248\n",
       "3              CartScreenAppear  3518123091307005509      1564054127    248\n",
       "4       PaymentScreenSuccessful  6217807653094995999      1564055322    248\n",
       "...                         ...                  ...             ...    ...\n",
       "244121         MainScreenAppear  4599628364049201812      1565212345    247\n",
       "244122         MainScreenAppear  5849806612437486590      1565212439    246\n",
       "244123         MainScreenAppear  5746969938801999050      1565212483    246\n",
       "244124         MainScreenAppear  5746969938801999050      1565212498    246\n",
       "244125       OffersScreenAppear  5746969938801999050      1565212517    246\n",
       "\n",
       "[244126 rows x 4 columns]"
      ]
     },
     "execution_count": 23,
     "metadata": {},
     "output_type": "execute_result"
    }
   ],
   "source": [
    "df"
   ]
  },
  {
   "cell_type": "markdown",
   "id": "36b77905-054a-40f0-b8e0-25e1ab6a612a",
   "metadata": {},
   "source": [
    "- EventName — название события;\r\n",
    "- DeviceIDHash — уникальный идентификатор пользователя;\r\n",
    "- EventTimestamp — время события;\r\n",
    "- ExpId — номер эксперимента: 246 и 247 — контрольные группы, а 248 — экспериментальная."
   ]
  },
  {
   "cell_type": "markdown",
   "id": "4e515228-b95f-4fb7-8130-2b93690bd973",
   "metadata": {},
   "source": [
    "- Каждая строка в датасете - это посщение юзером, имеющим свой уникальный DeviceIDHash, оной из станиц веб-сайта.\n",
    "- Эта таблица позволяет нам отследить путь юзеров.\n",
    "  \n",
    "- Исходя из описания к заданию, все ясно с назначением колонн\n",
    "- Единственное для удобства, я бы преобразовал колонну EventTimestamp из unix формата в обычный."
   ]
  },
  {
   "cell_type": "code",
   "execution_count": 24,
   "id": "ca5bf685-bd55-4cd0-88e8-42660cb19fbc",
   "metadata": {},
   "outputs": [
    {
     "data": {
      "text/html": [
       "<div>\n",
       "<style scoped>\n",
       "    .dataframe tbody tr th:only-of-type {\n",
       "        vertical-align: middle;\n",
       "    }\n",
       "\n",
       "    .dataframe tbody tr th {\n",
       "        vertical-align: top;\n",
       "    }\n",
       "\n",
       "    .dataframe thead th {\n",
       "        text-align: right;\n",
       "    }\n",
       "</style>\n",
       "<table border=\"1\" class=\"dataframe\">\n",
       "  <thead>\n",
       "    <tr style=\"text-align: right;\">\n",
       "      <th></th>\n",
       "      <th>EventName</th>\n",
       "      <th>DeviceIDHash</th>\n",
       "      <th>EventTimestamp</th>\n",
       "      <th>ExpId</th>\n",
       "      <th>TimestampForHuman</th>\n",
       "    </tr>\n",
       "  </thead>\n",
       "  <tbody>\n",
       "    <tr>\n",
       "      <th>0</th>\n",
       "      <td>MainScreenAppear</td>\n",
       "      <td>4575588528974610257</td>\n",
       "      <td>1564029816</td>\n",
       "      <td>246</td>\n",
       "      <td>2019-07-25 04:43:36</td>\n",
       "    </tr>\n",
       "    <tr>\n",
       "      <th>1</th>\n",
       "      <td>MainScreenAppear</td>\n",
       "      <td>7416695313311560658</td>\n",
       "      <td>1564053102</td>\n",
       "      <td>246</td>\n",
       "      <td>2019-07-25 11:11:42</td>\n",
       "    </tr>\n",
       "    <tr>\n",
       "      <th>2</th>\n",
       "      <td>PaymentScreenSuccessful</td>\n",
       "      <td>3518123091307005509</td>\n",
       "      <td>1564054127</td>\n",
       "      <td>248</td>\n",
       "      <td>2019-07-25 11:28:47</td>\n",
       "    </tr>\n",
       "    <tr>\n",
       "      <th>3</th>\n",
       "      <td>CartScreenAppear</td>\n",
       "      <td>3518123091307005509</td>\n",
       "      <td>1564054127</td>\n",
       "      <td>248</td>\n",
       "      <td>2019-07-25 11:28:47</td>\n",
       "    </tr>\n",
       "    <tr>\n",
       "      <th>4</th>\n",
       "      <td>PaymentScreenSuccessful</td>\n",
       "      <td>6217807653094995999</td>\n",
       "      <td>1564055322</td>\n",
       "      <td>248</td>\n",
       "      <td>2019-07-25 11:48:42</td>\n",
       "    </tr>\n",
       "    <tr>\n",
       "      <th>...</th>\n",
       "      <td>...</td>\n",
       "      <td>...</td>\n",
       "      <td>...</td>\n",
       "      <td>...</td>\n",
       "      <td>...</td>\n",
       "    </tr>\n",
       "    <tr>\n",
       "      <th>244121</th>\n",
       "      <td>MainScreenAppear</td>\n",
       "      <td>4599628364049201812</td>\n",
       "      <td>1565212345</td>\n",
       "      <td>247</td>\n",
       "      <td>2019-08-07 21:12:25</td>\n",
       "    </tr>\n",
       "    <tr>\n",
       "      <th>244122</th>\n",
       "      <td>MainScreenAppear</td>\n",
       "      <td>5849806612437486590</td>\n",
       "      <td>1565212439</td>\n",
       "      <td>246</td>\n",
       "      <td>2019-08-07 21:13:59</td>\n",
       "    </tr>\n",
       "    <tr>\n",
       "      <th>244123</th>\n",
       "      <td>MainScreenAppear</td>\n",
       "      <td>5746969938801999050</td>\n",
       "      <td>1565212483</td>\n",
       "      <td>246</td>\n",
       "      <td>2019-08-07 21:14:43</td>\n",
       "    </tr>\n",
       "    <tr>\n",
       "      <th>244124</th>\n",
       "      <td>MainScreenAppear</td>\n",
       "      <td>5746969938801999050</td>\n",
       "      <td>1565212498</td>\n",
       "      <td>246</td>\n",
       "      <td>2019-08-07 21:14:58</td>\n",
       "    </tr>\n",
       "    <tr>\n",
       "      <th>244125</th>\n",
       "      <td>OffersScreenAppear</td>\n",
       "      <td>5746969938801999050</td>\n",
       "      <td>1565212517</td>\n",
       "      <td>246</td>\n",
       "      <td>2019-08-07 21:15:17</td>\n",
       "    </tr>\n",
       "  </tbody>\n",
       "</table>\n",
       "<p>244126 rows × 5 columns</p>\n",
       "</div>"
      ],
      "text/plain": [
       "                      EventName         DeviceIDHash  EventTimestamp  ExpId  \\\n",
       "0              MainScreenAppear  4575588528974610257      1564029816    246   \n",
       "1              MainScreenAppear  7416695313311560658      1564053102    246   \n",
       "2       PaymentScreenSuccessful  3518123091307005509      1564054127    248   \n",
       "3              CartScreenAppear  3518123091307005509      1564054127    248   \n",
       "4       PaymentScreenSuccessful  6217807653094995999      1564055322    248   \n",
       "...                         ...                  ...             ...    ...   \n",
       "244121         MainScreenAppear  4599628364049201812      1565212345    247   \n",
       "244122         MainScreenAppear  5849806612437486590      1565212439    246   \n",
       "244123         MainScreenAppear  5746969938801999050      1565212483    246   \n",
       "244124         MainScreenAppear  5746969938801999050      1565212498    246   \n",
       "244125       OffersScreenAppear  5746969938801999050      1565212517    246   \n",
       "\n",
       "         TimestampForHuman  \n",
       "0      2019-07-25 04:43:36  \n",
       "1      2019-07-25 11:11:42  \n",
       "2      2019-07-25 11:28:47  \n",
       "3      2019-07-25 11:28:47  \n",
       "4      2019-07-25 11:48:42  \n",
       "...                    ...  \n",
       "244121 2019-08-07 21:12:25  \n",
       "244122 2019-08-07 21:13:59  \n",
       "244123 2019-08-07 21:14:43  \n",
       "244124 2019-08-07 21:14:58  \n",
       "244125 2019-08-07 21:15:17  \n",
       "\n",
       "[244126 rows x 5 columns]"
      ]
     },
     "execution_count": 24,
     "metadata": {},
     "output_type": "execute_result"
    }
   ],
   "source": [
    "df['TimestampForHuman'] = pd.to_datetime(df['EventTimestamp'], unit='s') # конвертируем колонну EventTimestamp и добавляем ее как новый столбец\n",
    "df.drop_duplicates() # удалим дублирующиеся записи если они есть\n",
    "df"
   ]
  },
  {
   "cell_type": "code",
   "execution_count": 25,
   "id": "e1f70f68-ff8c-48e9-b091-ad3e722aeed5",
   "metadata": {},
   "outputs": [
    {
     "data": {
      "text/plain": [
       "array(['MainScreenAppear', 'PaymentScreenSuccessful', 'CartScreenAppear',\n",
       "       'OffersScreenAppear', 'Tutorial'], dtype=object)"
      ]
     },
     "execution_count": 25,
     "metadata": {},
     "output_type": "execute_result"
    }
   ],
   "source": [
    "# Колонна EventName описывает что именно произошло в то или иное время. Я бы хотел понять какие уникальные записи имеются в этой колонне.\n",
    "event_names = df['EventName'].unique()\n",
    "event_names"
   ]
  },
  {
   "cell_type": "markdown",
   "id": "77c146f2-fdd7-4338-a8c7-003cef65b6a1",
   "metadata": {},
   "source": [
    "Я понял значения колонны EventName следующим образом:\n",
    "- MainScreenAppear - юзер зашел на главную страницу.\n",
    "- PaymentScreenSuccessful - юзер был перенаправлен на страницу сообщающей об успешном проведении оплаты.\n",
    "- CartScreenAppear - юзер перешел в корзину с товарами.\n",
    "- OffersScreenAppear - юзер перешел на страницу с предложениями.\n",
    "- Tutorial - страница с описанием веб-сайта (как им пользоваться)."
   ]
  },
  {
   "cell_type": "code",
   "execution_count": 26,
   "id": "f6f870a2-1d4f-4ee9-a511-f83c24b37b50",
   "metadata": {},
   "outputs": [
    {
     "data": {
      "text/plain": [
       "7551"
      ]
     },
     "execution_count": 26,
     "metadata": {},
     "output_type": "execute_result"
    }
   ],
   "source": [
    "# Посчитав уникальные DeviceIDHash мы можем понять сколько человек заходило на веб-сайт за определенный период времени.\n",
    "users_count = df['DeviceIDHash'].nunique()\n",
    "users_count"
   ]
  },
  {
   "cell_type": "code",
   "execution_count": 27,
   "id": "96a978d7-30f6-4c0d-b247-4a0aa4959304",
   "metadata": {},
   "outputs": [
    {
     "data": {
      "text/plain": [
       "[Timestamp('2019-07-25 04:43:36'), Timestamp('2019-08-07 21:15:17')]"
      ]
     },
     "execution_count": 27,
     "metadata": {},
     "output_type": "execute_result"
    }
   ],
   "source": [
    "# было бы также полезно понять за какой период времени у нас данные\n",
    "time_range = []\n",
    "\n",
    "val = df['TimestampForHuman'].min()\n",
    "time_range.append(val)\n",
    "\n",
    "val = df['TimestampForHuman'].max()\n",
    "time_range.append(val)\n",
    "\n",
    "time_range\n",
    "# получается что у нас данные с 25 Июля 2019 по 7 Августа 2019"
   ]
  },
  {
   "cell_type": "code",
   "execution_count": 28,
   "id": "1f0bc881-6e3a-4604-988a-43bd23e4a2f8",
   "metadata": {},
   "outputs": [
    {
     "data": {
      "text/plain": [
       "([<matplotlib.patches.Wedge at 0x25589073210>,\n",
       "  <matplotlib.patches.Wedge at 0x2558d1a5c90>,\n",
       "  <matplotlib.patches.Wedge at 0x2558d1cea10>,\n",
       "  <matplotlib.patches.Wedge at 0x2558d1ce250>,\n",
       "  <matplotlib.patches.Wedge at 0x2558d2119d0>],\n",
       " [Text(0.937837964489716, 0.5748564623989074, 'CartScreenAppear'),\n",
       "  Text(-0.9612047954577926, 0.5348694618212403, 'MainScreenAppear'),\n",
       "  Text(0.06377775262884826, -1.0981495336563294, 'OffersScreenAppear'),\n",
       "  Text(0.9814014128092663, -0.49684128948385164, 'PaymentScreenSuccessful'),\n",
       "  Text(1.0998992015312186, -0.014891154118739727, 'Tutorial')],\n",
       " [Text(0.5115479806307541, 0.313558070399404, '17.5%'),\n",
       "  Text(-0.5242935247951596, 0.29174697917522197, '48.8%'),\n",
       "  Text(0.03478786507028086, -0.5989906547216342, '19.2%'),\n",
       "  Text(0.535309861532327, -0.2710043397184645, '14.1%'),\n",
       "  Text(0.5999450190170282, -0.008122447701130759, '0.4%')])"
      ]
     },
     "execution_count": 28,
     "metadata": {},
     "output_type": "execute_result"
    },
    {
     "data": {
      "image/png": "[encoded data removed]",
      "text/plain": [
       "<Figure size 640x480 with 1 Axes>"
      ]
     },
     "metadata": {},
     "output_type": "display_data"
    }
   ],
   "source": [
    "# Было бы интересно построить пай-чарт, чтобы понять какие из страниц веб-сайта являются самыми популярными среди пользователей.\n",
    "import matplotlib.pyplot as plt\n",
    "\n",
    "pie = df.groupby('EventName').agg({'DeviceIDHash':'count'}).reset_index()\n",
    "\n",
    "sizes = pie['DeviceIDHash']\n",
    "labels = pie['EventName']\n",
    "\n",
    "plt.pie(sizes, labels=labels, autopct='%1.1f%%')"
   ]
  },
  {
   "cell_type": "markdown",
   "id": "a649f009-f6b4-4828-a5da-a07039b80528",
   "metadata": {},
   "source": [
    "- Как мы видим, большинство пользователей (48,8%) просто заходят на главную страницу.\n",
    "- 19,2% заходят на страницу с предожениями\n",
    "- 17,5% переходят в корзину\n",
    "- ### 14,1% совершают покупки\n",
    "- и 0,4% переходят на страницу с описанием веб-сайта."
   ]
  },
  {
   "cell_type": "code",
   "execution_count": 29,
   "id": "548c75b5-dc6c-4222-a802-ad4363c7053e",
   "metadata": {},
   "outputs": [
    {
     "data": {
      "text/html": [
       "<div>\n",
       "<style scoped>\n",
       "    .dataframe tbody tr th:only-of-type {\n",
       "        vertical-align: middle;\n",
       "    }\n",
       "\n",
       "    .dataframe tbody tr th {\n",
       "        vertical-align: top;\n",
       "    }\n",
       "\n",
       "    .dataframe thead th {\n",
       "        text-align: right;\n",
       "    }\n",
       "</style>\n",
       "<table border=\"1\" class=\"dataframe\">\n",
       "  <thead>\n",
       "    <tr style=\"text-align: right;\">\n",
       "      <th></th>\n",
       "      <th>EventName</th>\n",
       "      <th>DeviceIDHash</th>\n",
       "    </tr>\n",
       "  </thead>\n",
       "  <tbody>\n",
       "    <tr>\n",
       "      <th>0</th>\n",
       "      <td>CartScreenAppear</td>\n",
       "      <td>42731</td>\n",
       "    </tr>\n",
       "    <tr>\n",
       "      <th>1</th>\n",
       "      <td>MainScreenAppear</td>\n",
       "      <td>119205</td>\n",
       "    </tr>\n",
       "    <tr>\n",
       "      <th>2</th>\n",
       "      <td>OffersScreenAppear</td>\n",
       "      <td>46825</td>\n",
       "    </tr>\n",
       "    <tr>\n",
       "      <th>3</th>\n",
       "      <td>PaymentScreenSuccessful</td>\n",
       "      <td>34313</td>\n",
       "    </tr>\n",
       "    <tr>\n",
       "      <th>4</th>\n",
       "      <td>Tutorial</td>\n",
       "      <td>1052</td>\n",
       "    </tr>\n",
       "  </tbody>\n",
       "</table>\n",
       "</div>"
      ],
      "text/plain": [
       "                 EventName  DeviceIDHash\n",
       "0         CartScreenAppear         42731\n",
       "1         MainScreenAppear        119205\n",
       "2       OffersScreenAppear         46825\n",
       "3  PaymentScreenSuccessful         34313\n",
       "4                 Tutorial          1052"
      ]
     },
     "execution_count": 29,
     "metadata": {},
     "output_type": "execute_result"
    }
   ],
   "source": [
    "pie"
   ]
  },
  {
   "cell_type": "markdown",
   "id": "65081962-adb6-42cf-8860-030d064425a2",
   "metadata": {
    "jp-MarkdownHeadingCollapsed": true
   },
   "source": [
    "# "
   ]
  },
  {
   "cell_type": "markdown",
   "id": "e17ea85f-6b7f-4eac-b927-53229d97a4fb",
   "metadata": {},
   "source": [
    "# Посчитайте количество девайсов, сгруппированных по группам (ExpId)"
   ]
  },
  {
   "cell_type": "code",
   "execution_count": 30,
   "id": "2567cebe-4f29-403a-9738-185d33c5a521",
   "metadata": {},
   "outputs": [
    {
     "data": {
      "text/html": [
       "<div>\n",
       "<style scoped>\n",
       "    .dataframe tbody tr th:only-of-type {\n",
       "        vertical-align: middle;\n",
       "    }\n",
       "\n",
       "    .dataframe tbody tr th {\n",
       "        vertical-align: top;\n",
       "    }\n",
       "\n",
       "    .dataframe thead th {\n",
       "        text-align: right;\n",
       "    }\n",
       "</style>\n",
       "<table border=\"1\" class=\"dataframe\">\n",
       "  <thead>\n",
       "    <tr style=\"text-align: right;\">\n",
       "      <th></th>\n",
       "      <th>ExpId</th>\n",
       "      <th>DeviceIDHash</th>\n",
       "    </tr>\n",
       "  </thead>\n",
       "  <tbody>\n",
       "    <tr>\n",
       "      <th>0</th>\n",
       "      <td>246</td>\n",
       "      <td>2489</td>\n",
       "    </tr>\n",
       "    <tr>\n",
       "      <th>1</th>\n",
       "      <td>247</td>\n",
       "      <td>2520</td>\n",
       "    </tr>\n",
       "    <tr>\n",
       "      <th>2</th>\n",
       "      <td>248</td>\n",
       "      <td>2542</td>\n",
       "    </tr>\n",
       "  </tbody>\n",
       "</table>\n",
       "</div>"
      ],
      "text/plain": [
       "   ExpId  DeviceIDHash\n",
       "0    246          2489\n",
       "1    247          2520\n",
       "2    248          2542"
      ]
     },
     "execution_count": 30,
     "metadata": {},
     "output_type": "execute_result"
    }
   ],
   "source": [
    "# считаем количество уникальных значений DeviceIDHash, тем самым получаем количество девайсов.\n",
    "devices = df.groupby('ExpId').agg({'DeviceIDHash': 'nunique'}).reset_index()\n",
    "devices"
   ]
  },
  {
   "cell_type": "code",
   "execution_count": 31,
   "id": "661dc35e-355e-4297-abb5-adafb984d351",
   "metadata": {},
   "outputs": [
    {
     "data": {
      "text/plain": [
       "7551"
      ]
     },
     "execution_count": 31,
     "metadata": {},
     "output_type": "execute_result"
    }
   ],
   "source": [
    "# чтобы проверить себя, сложу все получившиеся значения. Должно получиться 7551 (рассчитал ранее)\n",
    "devices['DeviceIDHash'].sum()"
   ]
  },
  {
   "cell_type": "markdown",
   "id": "c6a921ee-4a4a-4e58-b5fb-4a37202c4120",
   "metadata": {},
   "source": [
    "# Посчитайте количество посещений, сгруппированных по группам (ExpId)"
   ]
  },
  {
   "cell_type": "code",
   "execution_count": 32,
   "id": "ebfe6b2c-ce7c-44a1-9c1f-2de30f1c67e4",
   "metadata": {},
   "outputs": [
    {
     "data": {
      "text/html": [
       "<div>\n",
       "<style scoped>\n",
       "    .dataframe tbody tr th:only-of-type {\n",
       "        vertical-align: middle;\n",
       "    }\n",
       "\n",
       "    .dataframe tbody tr th {\n",
       "        vertical-align: top;\n",
       "    }\n",
       "\n",
       "    .dataframe thead th {\n",
       "        text-align: right;\n",
       "    }\n",
       "</style>\n",
       "<table border=\"1\" class=\"dataframe\">\n",
       "  <thead>\n",
       "    <tr style=\"text-align: right;\">\n",
       "      <th></th>\n",
       "      <th>ExpId</th>\n",
       "      <th>Visited</th>\n",
       "    </tr>\n",
       "  </thead>\n",
       "  <tbody>\n",
       "    <tr>\n",
       "      <th>0</th>\n",
       "      <td>246</td>\n",
       "      <td>80304</td>\n",
       "    </tr>\n",
       "    <tr>\n",
       "      <th>1</th>\n",
       "      <td>247</td>\n",
       "      <td>78075</td>\n",
       "    </tr>\n",
       "    <tr>\n",
       "      <th>2</th>\n",
       "      <td>248</td>\n",
       "      <td>85747</td>\n",
       "    </tr>\n",
       "  </tbody>\n",
       "</table>\n",
       "</div>"
      ],
      "text/plain": [
       "   ExpId  Visited\n",
       "0    246    80304\n",
       "1    247    78075\n",
       "2    248    85747"
      ]
     },
     "execution_count": 32,
     "metadata": {},
     "output_type": "execute_result"
    }
   ],
   "source": [
    "# каждая строка это посещение той или иной cтраницы\n",
    "# поэтому в данном случае нам нужно считать каждую строку, независимо от колонны\n",
    "sessions = df.groupby('ExpId').agg({'DeviceIDHash': 'count'}).reset_index()\n",
    "sessions.rename(columns={'DeviceIDHash': 'Visited'}, inplace=True) # переименуем стоблец с цифрами для удобства\n",
    "sessions"
   ]
  },
  {
   "cell_type": "markdown",
   "id": "3765a234-05f0-49a4-b702-bf7a36fbf38b",
   "metadata": {},
   "source": [
    "# Посчитайте количество посещений в каждую страницу"
   ]
  },
  {
   "cell_type": "code",
   "execution_count": 33,
   "id": "db0826c8-2c75-4be3-8778-7e6d66682c42",
   "metadata": {},
   "outputs": [
    {
     "data": {
      "text/html": [
       "<div>\n",
       "<style scoped>\n",
       "    .dataframe tbody tr th:only-of-type {\n",
       "        vertical-align: middle;\n",
       "    }\n",
       "\n",
       "    .dataframe tbody tr th {\n",
       "        vertical-align: top;\n",
       "    }\n",
       "\n",
       "    .dataframe thead th {\n",
       "        text-align: right;\n",
       "    }\n",
       "</style>\n",
       "<table border=\"1\" class=\"dataframe\">\n",
       "  <thead>\n",
       "    <tr style=\"text-align: right;\">\n",
       "      <th></th>\n",
       "      <th>EventName</th>\n",
       "      <th>DeviceIDHash</th>\n",
       "    </tr>\n",
       "  </thead>\n",
       "  <tbody>\n",
       "    <tr>\n",
       "      <th>1</th>\n",
       "      <td>MainScreenAppear</td>\n",
       "      <td>119205</td>\n",
       "    </tr>\n",
       "    <tr>\n",
       "      <th>2</th>\n",
       "      <td>OffersScreenAppear</td>\n",
       "      <td>46825</td>\n",
       "    </tr>\n",
       "    <tr>\n",
       "      <th>0</th>\n",
       "      <td>CartScreenAppear</td>\n",
       "      <td>42731</td>\n",
       "    </tr>\n",
       "    <tr>\n",
       "      <th>3</th>\n",
       "      <td>PaymentScreenSuccessful</td>\n",
       "      <td>34313</td>\n",
       "    </tr>\n",
       "    <tr>\n",
       "      <th>4</th>\n",
       "      <td>Tutorial</td>\n",
       "      <td>1052</td>\n",
       "    </tr>\n",
       "  </tbody>\n",
       "</table>\n",
       "</div>"
      ],
      "text/plain": [
       "                 EventName  DeviceIDHash\n",
       "1         MainScreenAppear        119205\n",
       "2       OffersScreenAppear         46825\n",
       "0         CartScreenAppear         42731\n",
       "3  PaymentScreenSuccessful         34313\n",
       "4                 Tutorial          1052"
      ]
     },
     "execution_count": 33,
     "metadata": {},
     "output_type": "execute_result"
    }
   ],
   "source": [
    "# то же самое я делал когда рисовал пай-чарт\n",
    "page_views = df.groupby('EventName').agg({'DeviceIDHash': 'count'}).reset_index().sort_values(by='DeviceIDHash', ascending=False)\n",
    "page_views"
   ]
  },
  {
   "cell_type": "markdown",
   "id": "3626838f-892f-4389-896d-c0a26e19fc48",
   "metadata": {},
   "source": [
    "# Постройте воронку из библиотеки Plotly (Funnel), которая будет описывать количество посещений в каждую таблицу"
   ]
  },
  {
   "cell_type": "code",
   "execution_count": 34,
   "id": "fc4ecfcf-5e3d-4f0e-bac7-8a4e2851928a",
   "metadata": {},
   "outputs": [
    {
     "data": {
      "application/vnd.plotly.v1+json": {
       "config": {
        "plotlyServerURL": "https://plot.ly"
       },
       "data": [
        {
         "hovertemplate": "amount=%{x}<br>page=%{y}<extra></extra>",
         "legendgroup": "",
         "marker": {
          "color": "#636efa"
         },
         "name": "",
         "orientation": "h",
         "showlegend": false,
         "type": "funnel",
         "x": [
          119205,
          46825,
          42731,
          34313,
          1052
         ],
         "xaxis": "x",
         "y": [
          "MainScreenAppear",
          "OffersScreenAppear",
          "CartScreenAppear",
          "PaymentScreenSuccessful",
          "Tutorial"
         ],
         "yaxis": "y"
        }
       ],
       "layout": {
        "autosize": true,
        "legend": {
         "tracegroupgap": 0
        },
        "margin": {
         "t": 60
        },
        "template": {
         "data": {
          "bar": [
           {
            "error_x": {
             "color": "#2a3f5f"
            },
            "error_y": {
             "color": "#2a3f5f"
            },
            "marker": {
             "line": {
              "color": "#E5ECF6",
              "width": 0.5
             },
             "pattern": {
              "fillmode": "overlay",
              "size": 10,
              "solidity": 0.2
             }
            },
            "type": "bar"
           }
          ],
          "barpolar": [
           {
            "marker": {
             "line": {
              "color": "#E5ECF6",
              "width": 0.5
             },
             "pattern": {
              "fillmode": "overlay",
              "size": 10,
              "solidity": 0.2
             }
            },
            "type": "barpolar"
           }
          ],
          "carpet": [
           {
            "aaxis": {
             "endlinecolor": "#2a3f5f",
             "gridcolor": "white",
             "linecolor": "white",
             "minorgridcolor": "white",
             "startlinecolor": "#2a3f5f"
            },
            "baxis": {
             "endlinecolor": "#2a3f5f",
             "gridcolor": "white",
             "linecolor": "white",
             "minorgridcolor": "white",
             "startlinecolor": "#2a3f5f"
            },
            "type": "carpet"
           }
          ],
          "choropleth": [
           {
            "colorbar": {
             "outlinewidth": 0,
             "ticks": ""
            },
            "type": "choropleth"
           }
          ],
          "contour": [
           {
            "colorbar": {
             "outlinewidth": 0,
             "ticks": ""
            },
            "colorscale": [
             [
              0,
              "#0d0887"
             ],
             [
              0.1111111111111111,
              "#46039f"
             ],
             [
              0.2222222222222222,
              "#7201a8"
             ],
             [
              0.3333333333333333,
              "#9c179e"
             ],
             [
              0.4444444444444444,
              "#bd3786"
             ],
             [
              0.5555555555555556,
              "#d8576b"
             ],
             [
              0.6666666666666666,
              "#ed7953"
             ],
             [
              0.7777777777777778,
              "#fb9f3a"
             ],
             [
              0.8888888888888888,
              "#fdca26"
             ],
             [
              1,
              "#f0f921"
             ]
            ],
            "type": "contour"
           }
          ],
          "contourcarpet": [
           {
            "colorbar": {
             "outlinewidth": 0,
             "ticks": ""
            },
            "type": "contourcarpet"
           }
          ],
          "heatmap": [
           {
            "colorbar": {
             "outlinewidth": 0,
             "ticks": ""
            },
            "colorscale": [
             [
              0,
              "#0d0887"
             ],
             [
              0.1111111111111111,
              "#46039f"
             ],
             [
              0.2222222222222222,
              "#7201a8"
             ],
             [
              0.3333333333333333,
              "#9c179e"
             ],
             [
              0.4444444444444444,
              "#bd3786"
             ],
             [
              0.5555555555555556,
              "#d8576b"
             ],
             [
              0.6666666666666666,
              "#ed7953"
             ],
             [
              0.7777777777777778,
              "#fb9f3a"
             ],
             [
              0.8888888888888888,
              "#fdca26"
             ],
             [
              1,
              "#f0f921"
             ]
            ],
            "type": "heatmap"
           }
          ],
          "heatmapgl": [
           {
            "colorbar": {
             "outlinewidth": 0,
             "ticks": ""
            },
            "colorscale": [
             [
              0,
              "#0d0887"
             ],
             [
              0.1111111111111111,
              "#46039f"
             ],
             [
              0.2222222222222222,
              "#7201a8"
             ],
             [
              0.3333333333333333,
              "#9c179e"
             ],
             [
              0.4444444444444444,
              "#bd3786"
             ],
             [
              0.5555555555555556,
              "#d8576b"
             ],
             [
              0.6666666666666666,
              "#ed7953"
             ],
             [
              0.7777777777777778,
              "#fb9f3a"
             ],
             [
              0.8888888888888888,
              "#fdca26"
             ],
             [
              1,
              "#f0f921"
             ]
            ],
            "type": "heatmapgl"
           }
          ],
          "histogram": [
           {
            "marker": {
             "pattern": {
              "fillmode": "overlay",
              "size": 10,
              "solidity": 0.2
             }
            },
            "type": "histogram"
           }
          ],
          "histogram2d": [
           {
            "colorbar": {
             "outlinewidth": 0,
             "ticks": ""
            },
            "colorscale": [
             [
              0,
              "#0d0887"
             ],
             [
              0.1111111111111111,
              "#46039f"
             ],
             [
              0.2222222222222222,
              "#7201a8"
             ],
             [
              0.3333333333333333,
              "#9c179e"
             ],
             [
              0.4444444444444444,
              "#bd3786"
             ],
             [
              0.5555555555555556,
              "#d8576b"
             ],
             [
              0.6666666666666666,
              "#ed7953"
             ],
             [
              0.7777777777777778,
              "#fb9f3a"
             ],
             [
              0.8888888888888888,
              "#fdca26"
             ],
             [
              1,
              "#f0f921"
             ]
            ],
            "type": "histogram2d"
           }
          ],
          "histogram2dcontour": [
           {
            "colorbar": {
             "outlinewidth": 0,
             "ticks": ""
            },
            "colorscale": [
             [
              0,
              "#0d0887"
             ],
             [
              0.1111111111111111,
              "#46039f"
             ],
             [
              0.2222222222222222,
              "#7201a8"
             ],
             [
              0.3333333333333333,
              "#9c179e"
             ],
             [
              0.4444444444444444,
              "#bd3786"
             ],
             [
              0.5555555555555556,
              "#d8576b"
             ],
             [
              0.6666666666666666,
              "#ed7953"
             ],
             [
              0.7777777777777778,
              "#fb9f3a"
             ],
             [
              0.8888888888888888,
              "#fdca26"
             ],
             [
              1,
              "#f0f921"
             ]
            ],
            "type": "histogram2dcontour"
           }
          ],
          "mesh3d": [
           {
            "colorbar": {
             "outlinewidth": 0,
             "ticks": ""
            },
            "type": "mesh3d"
           }
          ],
          "parcoords": [
           {
            "line": {
             "colorbar": {
              "outlinewidth": 0,
              "ticks": ""
             }
            },
            "type": "parcoords"
           }
          ],
          "pie": [
           {
            "automargin": true,
            "type": "pie"
           }
          ],
          "scatter": [
           {
            "fillpattern": {
             "fillmode": "overlay",
             "size": 10,
             "solidity": 0.2
            },
            "type": "scatter"
           }
          ],
          "scatter3d": [
           {
            "line": {
             "colorbar": {
              "outlinewidth": 0,
              "ticks": ""
             }
            },
            "marker": {
             "colorbar": {
              "outlinewidth": 0,
              "ticks": ""
             }
            },
            "type": "scatter3d"
           }
          ],
          "scattercarpet": [
           {
            "marker": {
             "colorbar": {
              "outlinewidth": 0,
              "ticks": ""
             }
            },
            "type": "scattercarpet"
           }
          ],
          "scattergeo": [
           {
            "marker": {
             "colorbar": {
              "outlinewidth": 0,
              "ticks": ""
             }
            },
            "type": "scattergeo"
           }
          ],
          "scattergl": [
           {
            "marker": {
             "colorbar": {
              "outlinewidth": 0,
              "ticks": ""
             }
            },
            "type": "scattergl"
           }
          ],
          "scattermapbox": [
           {
            "marker": {
             "colorbar": {
              "outlinewidth": 0,
              "ticks": ""
             }
            },
            "type": "scattermapbox"
           }
          ],
          "scatterpolar": [
           {
            "marker": {
             "colorbar": {
              "outlinewidth": 0,
              "ticks": ""
             }
            },
            "type": "scatterpolar"
           }
          ],
          "scatterpolargl": [
           {
            "marker": {
             "colorbar": {
              "outlinewidth": 0,
              "ticks": ""
             }
            },
            "type": "scatterpolargl"
           }
          ],
          "scatterternary": [
           {
            "marker": {
             "colorbar": {
              "outlinewidth": 0,
              "ticks": ""
             }
            },
            "type": "scatterternary"
           }
          ],
          "surface": [
           {
            "colorbar": {
             "outlinewidth": 0,
             "ticks": ""
            },
            "colorscale": [
             [
              0,
              "#0d0887"
             ],
             [
              0.1111111111111111,
              "#46039f"
             ],
             [
              0.2222222222222222,
              "#7201a8"
             ],
             [
              0.3333333333333333,
              "#9c179e"
             ],
             [
              0.4444444444444444,
              "#bd3786"
             ],
             [
              0.5555555555555556,
              "#d8576b"
             ],
             [
              0.6666666666666666,
              "#ed7953"
             ],
             [
              0.7777777777777778,
              "#fb9f3a"
             ],
             [
              0.8888888888888888,
              "#fdca26"
             ],
             [
              1,
              "#f0f921"
             ]
            ],
            "type": "surface"
           }
          ],
          "table": [
           {
            "cells": {
             "fill": {
              "color": "#EBF0F8"
             },
             "line": {
              "color": "white"
             }
            },
            "header": {
             "fill": {
              "color": "#C8D4E3"
             },
             "line": {
              "color": "white"
             }
            },
            "type": "table"
           }
          ]
         },
         "layout": {
          "annotationdefaults": {
           "arrowcolor": "#2a3f5f",
           "arrowhead": 0,
           "arrowwidth": 1
          },
          "autotypenumbers": "strict",
          "coloraxis": {
           "colorbar": {
            "outlinewidth": 0,
            "ticks": ""
           }
          },
          "colorscale": {
           "diverging": [
            [
             0,
             "#8e0152"
            ],
            [
             0.1,
             "#c51b7d"
            ],
            [
             0.2,
             "#de77ae"
            ],
            [
             0.3,
             "#f1b6da"
            ],
            [
             0.4,
             "#fde0ef"
            ],
            [
             0.5,
             "#f7f7f7"
            ],
            [
             0.6,
             "#e6f5d0"
            ],
            [
             0.7,
             "#b8e186"
            ],
            [
             0.8,
             "#7fbc41"
            ],
            [
             0.9,
             "#4d9221"
            ],
            [
             1,
             "#276419"
            ]
           ],
           "sequential": [
            [
             0,
             "#0d0887"
            ],
            [
             0.1111111111111111,
             "#46039f"
            ],
            [
             0.2222222222222222,
             "#7201a8"
            ],
            [
             0.3333333333333333,
             "#9c179e"
            ],
            [
             0.4444444444444444,
             "#bd3786"
            ],
            [
             0.5555555555555556,
             "#d8576b"
            ],
            [
             0.6666666666666666,
             "#ed7953"
            ],
            [
             0.7777777777777778,
             "#fb9f3a"
            ],
            [
             0.8888888888888888,
             "#fdca26"
            ],
            [
             1,
             "#f0f921"
            ]
           ],
           "sequentialminus": [
            [
             0,
             "#0d0887"
            ],
            [
             0.1111111111111111,
             "#46039f"
            ],
            [
             0.2222222222222222,
             "#7201a8"
            ],
            [
             0.3333333333333333,
             "#9c179e"
            ],
            [
             0.4444444444444444,
             "#bd3786"
            ],
            [
             0.5555555555555556,
             "#d8576b"
            ],
            [
             0.6666666666666666,
             "#ed7953"
            ],
            [
             0.7777777777777778,
             "#fb9f3a"
            ],
            [
             0.8888888888888888,
             "#fdca26"
            ],
            [
             1,
             "#f0f921"
            ]
           ]
          },
          "colorway": [
           "#636efa",
           "#EF553B",
           "#00cc96",
           "#ab63fa",
           "#FFA15A",
           "#19d3f3",
           "#FF6692",
           "#B6E880",
           "#FF97FF",
           "#FECB52"
          ],
          "font": {
           "color": "#2a3f5f"
          },
          "geo": {
           "bgcolor": "white",
           "lakecolor": "white",
           "landcolor": "#E5ECF6",
           "showlakes": true,
           "showland": true,
           "subunitcolor": "white"
          },
          "hoverlabel": {
           "align": "left"
          },
          "hovermode": "closest",
          "mapbox": {
           "style": "light"
          },
          "paper_bgcolor": "white",
          "plot_bgcolor": "#E5ECF6",
          "polar": {
           "angularaxis": {
            "gridcolor": "white",
            "linecolor": "white",
            "ticks": ""
           },
           "bgcolor": "#E5ECF6",
           "radialaxis": {
            "gridcolor": "white",
            "linecolor": "white",
            "ticks": ""
           }
          },
          "scene": {
           "xaxis": {
            "backgroundcolor": "#E5ECF6",
            "gridcolor": "white",
            "gridwidth": 2,
            "linecolor": "white",
            "showbackground": true,
            "ticks": "",
            "zerolinecolor": "white"
           },
           "yaxis": {
            "backgroundcolor": "#E5ECF6",
            "gridcolor": "white",
            "gridwidth": 2,
            "linecolor": "white",
            "showbackground": true,
            "ticks": "",
            "zerolinecolor": "white"
           },
           "zaxis": {
            "backgroundcolor": "#E5ECF6",
            "gridcolor": "white",
            "gridwidth": 2,
            "linecolor": "white",
            "showbackground": true,
            "ticks": "",
            "zerolinecolor": "white"
           }
          },
          "shapedefaults": {
           "line": {
            "color": "#2a3f5f"
           }
          },
          "ternary": {
           "aaxis": {
            "gridcolor": "white",
            "linecolor": "white",
            "ticks": ""
           },
           "baxis": {
            "gridcolor": "white",
            "linecolor": "white",
            "ticks": ""
           },
           "bgcolor": "#E5ECF6",
           "caxis": {
            "gridcolor": "white",
            "linecolor": "white",
            "ticks": ""
           }
          },
          "title": {
           "x": 0.05
          },
          "xaxis": {
           "automargin": true,
           "gridcolor": "white",
           "linecolor": "white",
           "ticks": "",
           "title": {
            "standoff": 15
           },
           "zerolinecolor": "white",
           "zerolinewidth": 2
          },
          "yaxis": {
           "automargin": true,
           "gridcolor": "white",
           "linecolor": "white",
           "ticks": "",
           "title": {
            "standoff": 15
           },
           "zerolinecolor": "white",
           "zerolinewidth": 2
          }
         }
        },
        "xaxis": {
         "anchor": "y",
         "autorange": true,
         "domain": [
          0,
          1
         ],
         "range": [
          -66225,
          66225
         ],
         "title": {
          "text": "amount"
         },
         "type": "linear"
        },
        "yaxis": {
         "anchor": "x",
         "autorange": true,
         "domain": [
          0,
          1
         ],
         "range": [
          4.5,
          -0.5
         ],
         "title": {
          "text": "page"
         },
         "type": "category"
        }
       }
      },
      "image/png": "[encoded data removed]",
      "text/html": [
       "<div>                            <div id=\"1723fda4-00d4-4e00-b244-ca53851c309b\" class=\"plotly-graph-div\" style=\"height:525px; width:100%;\"></div>            <script type=\"text/javascript\">                require([\"plotly\"], function(Plotly) {                    window.PLOTLYENV=window.PLOTLYENV || {};                                    if (document.getElementById(\"1723fda4-00d4-4e00-b244-ca53851c309b\")) {                    Plotly.newPlot(                        \"1723fda4-00d4-4e00-b244-ca53851c309b\",                        [{\"hovertemplate\":\"amount=%{x}\\u003cbr\\u003epage=%{y}\\u003cextra\\u003e\\u003c\\u002fextra\\u003e\",\"legendgroup\":\"\",\"marker\":{\"color\":\"#636efa\"},\"name\":\"\",\"orientation\":\"h\",\"showlegend\":false,\"x\":[119205,46825,42731,34313,1052],\"xaxis\":\"x\",\"y\":[\"MainScreenAppear\",\"OffersScreenAppear\",\"CartScreenAppear\",\"PaymentScreenSuccessful\",\"Tutorial\"],\"yaxis\":\"y\",\"type\":\"funnel\"}],                        {\"template\":{\"data\":{\"histogram2dcontour\":[{\"type\":\"histogram2dcontour\",\"colorbar\":{\"outlinewidth\":0,\"ticks\":\"\"},\"colorscale\":[[0.0,\"#0d0887\"],[0.1111111111111111,\"#46039f\"],[0.2222222222222222,\"#7201a8\"],[0.3333333333333333,\"#9c179e\"],[0.4444444444444444,\"#bd3786\"],[0.5555555555555556,\"#d8576b\"],[0.6666666666666666,\"#ed7953\"],[0.7777777777777778,\"#fb9f3a\"],[0.8888888888888888,\"#fdca26\"],[1.0,\"#f0f921\"]]}],\"choropleth\":[{\"type\":\"choropleth\",\"colorbar\":{\"outlinewidth\":0,\"ticks\":\"\"}}],\"histogram2d\":[{\"type\":\"histogram2d\",\"colorbar\":{\"outlinewidth\":0,\"ticks\":\"\"},\"colorscale\":[[0.0,\"#0d0887\"],[0.1111111111111111,\"#46039f\"],[0.2222222222222222,\"#7201a8\"],[0.3333333333333333,\"#9c179e\"],[0.4444444444444444,\"#bd3786\"],[0.5555555555555556,\"#d8576b\"],[0.6666666666666666,\"#ed7953\"],[0.7777777777777778,\"#fb9f3a\"],[0.8888888888888888,\"#fdca26\"],[1.0,\"#f0f921\"]]}],\"heatmap\":[{\"type\":\"heatmap\",\"colorbar\":{\"outlinewidth\":0,\"ticks\":\"\"},\"colorscale\":[[0.0,\"#0d0887\"],[0.1111111111111111,\"#46039f\"],[0.2222222222222222,\"#7201a8\"],[0.3333333333333333,\"#9c179e\"],[0.4444444444444444,\"#bd3786\"],[0.5555555555555556,\"#d8576b\"],[0.6666666666666666,\"#ed7953\"],[0.7777777777777778,\"#fb9f3a\"],[0.8888888888888888,\"#fdca26\"],[1.0,\"#f0f921\"]]}],\"heatmapgl\":[{\"type\":\"heatmapgl\",\"colorbar\":{\"outlinewidth\":0,\"ticks\":\"\"},\"colorscale\":[[0.0,\"#0d0887\"],[0.1111111111111111,\"#46039f\"],[0.2222222222222222,\"#7201a8\"],[0.3333333333333333,\"#9c179e\"],[0.4444444444444444,\"#bd3786\"],[0.5555555555555556,\"#d8576b\"],[0.6666666666666666,\"#ed7953\"],[0.7777777777777778,\"#fb9f3a\"],[0.8888888888888888,\"#fdca26\"],[1.0,\"#f0f921\"]]}],\"contourcarpet\":[{\"type\":\"contourcarpet\",\"colorbar\":{\"outlinewidth\":0,\"ticks\":\"\"}}],\"contour\":[{\"type\":\"contour\",\"colorbar\":{\"outlinewidth\":0,\"ticks\":\"\"},\"colorscale\":[[0.0,\"#0d0887\"],[0.1111111111111111,\"#46039f\"],[0.2222222222222222,\"#7201a8\"],[0.3333333333333333,\"#9c179e\"],[0.4444444444444444,\"#bd3786\"],[0.5555555555555556,\"#d8576b\"],[0.6666666666666666,\"#ed7953\"],[0.7777777777777778,\"#fb9f3a\"],[0.8888888888888888,\"#fdca26\"],[1.0,\"#f0f921\"]]}],\"surface\":[{\"type\":\"surface\",\"colorbar\":{\"outlinewidth\":0,\"ticks\":\"\"},\"colorscale\":[[0.0,\"#0d0887\"],[0.1111111111111111,\"#46039f\"],[0.2222222222222222,\"#7201a8\"],[0.3333333333333333,\"#9c179e\"],[0.4444444444444444,\"#bd3786\"],[0.5555555555555556,\"#d8576b\"],[0.6666666666666666,\"#ed7953\"],[0.7777777777777778,\"#fb9f3a\"],[0.8888888888888888,\"#fdca26\"],[1.0,\"#f0f921\"]]}],\"mesh3d\":[{\"type\":\"mesh3d\",\"colorbar\":{\"outlinewidth\":0,\"ticks\":\"\"}}],\"scatter\":[{\"fillpattern\":{\"fillmode\":\"overlay\",\"size\":10,\"solidity\":0.2},\"type\":\"scatter\"}],\"parcoords\":[{\"type\":\"parcoords\",\"line\":{\"colorbar\":{\"outlinewidth\":0,\"ticks\":\"\"}}}],\"scatterpolargl\":[{\"type\":\"scatterpolargl\",\"marker\":{\"colorbar\":{\"outlinewidth\":0,\"ticks\":\"\"}}}],\"bar\":[{\"error_x\":{\"color\":\"#2a3f5f\"},\"error_y\":{\"color\":\"#2a3f5f\"},\"marker\":{\"line\":{\"color\":\"#E5ECF6\",\"width\":0.5},\"pattern\":{\"fillmode\":\"overlay\",\"size\":10,\"solidity\":0.2}},\"type\":\"bar\"}],\"scattergeo\":[{\"type\":\"scattergeo\",\"marker\":{\"colorbar\":{\"outlinewidth\":0,\"ticks\":\"\"}}}],\"scatterpolar\":[{\"type\":\"scatterpolar\",\"marker\":{\"colorbar\":{\"outlinewidth\":0,\"ticks\":\"\"}}}],\"histogram\":[{\"marker\":{\"pattern\":{\"fillmode\":\"overlay\",\"size\":10,\"solidity\":0.2}},\"type\":\"histogram\"}],\"scattergl\":[{\"type\":\"scattergl\",\"marker\":{\"colorbar\":{\"outlinewidth\":0,\"ticks\":\"\"}}}],\"scatter3d\":[{\"type\":\"scatter3d\",\"line\":{\"colorbar\":{\"outlinewidth\":0,\"ticks\":\"\"}},\"marker\":{\"colorbar\":{\"outlinewidth\":0,\"ticks\":\"\"}}}],\"scattermapbox\":[{\"type\":\"scattermapbox\",\"marker\":{\"colorbar\":{\"outlinewidth\":0,\"ticks\":\"\"}}}],\"scatterternary\":[{\"type\":\"scatterternary\",\"marker\":{\"colorbar\":{\"outlinewidth\":0,\"ticks\":\"\"}}}],\"scattercarpet\":[{\"type\":\"scattercarpet\",\"marker\":{\"colorbar\":{\"outlinewidth\":0,\"ticks\":\"\"}}}],\"carpet\":[{\"aaxis\":{\"endlinecolor\":\"#2a3f5f\",\"gridcolor\":\"white\",\"linecolor\":\"white\",\"minorgridcolor\":\"white\",\"startlinecolor\":\"#2a3f5f\"},\"baxis\":{\"endlinecolor\":\"#2a3f5f\",\"gridcolor\":\"white\",\"linecolor\":\"white\",\"minorgridcolor\":\"white\",\"startlinecolor\":\"#2a3f5f\"},\"type\":\"carpet\"}],\"table\":[{\"cells\":{\"fill\":{\"color\":\"#EBF0F8\"},\"line\":{\"color\":\"white\"}},\"header\":{\"fill\":{\"color\":\"#C8D4E3\"},\"line\":{\"color\":\"white\"}},\"type\":\"table\"}],\"barpolar\":[{\"marker\":{\"line\":{\"color\":\"#E5ECF6\",\"width\":0.5},\"pattern\":{\"fillmode\":\"overlay\",\"size\":10,\"solidity\":0.2}},\"type\":\"barpolar\"}],\"pie\":[{\"automargin\":true,\"type\":\"pie\"}]},\"layout\":{\"autotypenumbers\":\"strict\",\"colorway\":[\"#636efa\",\"#EF553B\",\"#00cc96\",\"#ab63fa\",\"#FFA15A\",\"#19d3f3\",\"#FF6692\",\"#B6E880\",\"#FF97FF\",\"#FECB52\"],\"font\":{\"color\":\"#2a3f5f\"},\"hovermode\":\"closest\",\"hoverlabel\":{\"align\":\"left\"},\"paper_bgcolor\":\"white\",\"plot_bgcolor\":\"#E5ECF6\",\"polar\":{\"bgcolor\":\"#E5ECF6\",\"angularaxis\":{\"gridcolor\":\"white\",\"linecolor\":\"white\",\"ticks\":\"\"},\"radialaxis\":{\"gridcolor\":\"white\",\"linecolor\":\"white\",\"ticks\":\"\"}},\"ternary\":{\"bgcolor\":\"#E5ECF6\",\"aaxis\":{\"gridcolor\":\"white\",\"linecolor\":\"white\",\"ticks\":\"\"},\"baxis\":{\"gridcolor\":\"white\",\"linecolor\":\"white\",\"ticks\":\"\"},\"caxis\":{\"gridcolor\":\"white\",\"linecolor\":\"white\",\"ticks\":\"\"}},\"coloraxis\":{\"colorbar\":{\"outlinewidth\":0,\"ticks\":\"\"}},\"colorscale\":{\"sequential\":[[0.0,\"#0d0887\"],[0.1111111111111111,\"#46039f\"],[0.2222222222222222,\"#7201a8\"],[0.3333333333333333,\"#9c179e\"],[0.4444444444444444,\"#bd3786\"],[0.5555555555555556,\"#d8576b\"],[0.6666666666666666,\"#ed7953\"],[0.7777777777777778,\"#fb9f3a\"],[0.8888888888888888,\"#fdca26\"],[1.0,\"#f0f921\"]],\"sequentialminus\":[[0.0,\"#0d0887\"],[0.1111111111111111,\"#46039f\"],[0.2222222222222222,\"#7201a8\"],[0.3333333333333333,\"#9c179e\"],[0.4444444444444444,\"#bd3786\"],[0.5555555555555556,\"#d8576b\"],[0.6666666666666666,\"#ed7953\"],[0.7777777777777778,\"#fb9f3a\"],[0.8888888888888888,\"#fdca26\"],[1.0,\"#f0f921\"]],\"diverging\":[[0,\"#8e0152\"],[0.1,\"#c51b7d\"],[0.2,\"#de77ae\"],[0.3,\"#f1b6da\"],[0.4,\"#fde0ef\"],[0.5,\"#f7f7f7\"],[0.6,\"#e6f5d0\"],[0.7,\"#b8e186\"],[0.8,\"#7fbc41\"],[0.9,\"#4d9221\"],[1,\"#276419\"]]},\"xaxis\":{\"gridcolor\":\"white\",\"linecolor\":\"white\",\"ticks\":\"\",\"title\":{\"standoff\":15},\"zerolinecolor\":\"white\",\"automargin\":true,\"zerolinewidth\":2},\"yaxis\":{\"gridcolor\":\"white\",\"linecolor\":\"white\",\"ticks\":\"\",\"title\":{\"standoff\":15},\"zerolinecolor\":\"white\",\"automargin\":true,\"zerolinewidth\":2},\"scene\":{\"xaxis\":{\"backgroundcolor\":\"#E5ECF6\",\"gridcolor\":\"white\",\"linecolor\":\"white\",\"showbackground\":true,\"ticks\":\"\",\"zerolinecolor\":\"white\",\"gridwidth\":2},\"yaxis\":{\"backgroundcolor\":\"#E5ECF6\",\"gridcolor\":\"white\",\"linecolor\":\"white\",\"showbackground\":true,\"ticks\":\"\",\"zerolinecolor\":\"white\",\"gridwidth\":2},\"zaxis\":{\"backgroundcolor\":\"#E5ECF6\",\"gridcolor\":\"white\",\"linecolor\":\"white\",\"showbackground\":true,\"ticks\":\"\",\"zerolinecolor\":\"white\",\"gridwidth\":2}},\"shapedefaults\":{\"line\":{\"color\":\"#2a3f5f\"}},\"annotationdefaults\":{\"arrowcolor\":\"#2a3f5f\",\"arrowhead\":0,\"arrowwidth\":1},\"geo\":{\"bgcolor\":\"white\",\"landcolor\":\"#E5ECF6\",\"subunitcolor\":\"white\",\"showland\":true,\"showlakes\":true,\"lakecolor\":\"white\"},\"title\":{\"x\":0.05},\"mapbox\":{\"style\":\"light\"}}},\"xaxis\":{\"anchor\":\"y\",\"domain\":[0.0,1.0],\"title\":{\"text\":\"amount\"}},\"yaxis\":{\"anchor\":\"x\",\"domain\":[0.0,1.0],\"title\":{\"text\":\"page\"}},\"legend\":{\"tracegroupgap\":0},\"margin\":{\"t\":60}},                        {\"responsive\": true}                    ).then(function(){\n",
       "                            \n",
       "var gd = document.getElementById('1723fda4-00d4-4e00-b244-ca53851c309b');\n",
       "var x = new MutationObserver(function (mutations, observer) {{\n",
       "        var display = window.getComputedStyle(gd).display;\n",
       "        if (!display || display === 'none') {{\n",
       "            console.log([gd, 'removed!']);\n",
       "            Plotly.purge(gd);\n",
       "            observer.disconnect();\n",
       "        }}\n",
       "}});\n",
       "\n",
       "// Listen for the removal of the full notebook cells\n",
       "var notebookContainer = gd.closest('#notebook-container');\n",
       "if (notebookContainer) {{\n",
       "    x.observe(notebookContainer, {childList: true});\n",
       "}}\n",
       "\n",
       "// Listen for the clearing of the current output cell\n",
       "var outputEl = gd.closest('.output');\n",
       "if (outputEl) {{\n",
       "    x.observe(outputEl, {childList: true});\n",
       "}}\n",
       "\n",
       "                        })                };                });            </script>        </div>"
      ]
     },
     "metadata": {},
     "output_type": "display_data"
    }
   ],
   "source": [
    "# использую таблицу созданную в предыдущем задании, чтобы на ее основе построить воронку\n",
    "\n",
    "\n",
    "import plotly.express as px\n",
    "# page_views = df.groupby('EventName').agg({'DeviceIDHash': 'count'}).reset_index().sort_values(by='DeviceIDHash', ascending=False)\n",
    "data = dict(\n",
    "    page=page_views['EventName'],\n",
    "    amount=page_views['DeviceIDHash'])\n",
    "fig = px.funnel(data, x='amount', y='page')\n",
    "fig.show()"
   ]
  },
  {
   "cell_type": "markdown",
   "id": "2c77d89c-0e1f-4293-9332-a4a25d0df451",
   "metadata": {},
   "source": [
    "# * Постройте воронку из библиотеки PLotly (Funnel), которая будет описывать количество посещений, а также показывать Конверсию в переходы."
   ]
  },
  {
   "cell_type": "code",
   "execution_count": 35,
   "id": "3519c383-977e-4c9d-aa47-7c475f7d31e8",
   "metadata": {},
   "outputs": [],
   "source": [
    "# Насколько я понял, конверсия - это процент пользователей которые перешли на следующую страницу, то есть совершили следующий шаг в последовательности.\n",
    "# При окончании последовательности, в нашем случае это проходжение страницы PaymentScreenSuccessful, мы знаем точно, что юзер совершил покупку."
   ]
  },
  {
   "cell_type": "code",
   "execution_count": 36,
   "id": "6ef22c16-4007-4278-9bde-26669743bfb2",
   "metadata": {},
   "outputs": [
    {
     "data": {
      "application/vnd.plotly.v1+json": {
       "config": {
        "plotlyServerURL": "https://plot.ly"
       },
       "data": [
        {
         "textinfo": "value+percent initial",
         "textposition": "inside",
         "type": "funnel",
         "x": [
          119205,
          46825,
          42731,
          34313,
          1052
         ],
         "y": [
          "MainScreenAppear",
          "OffersScreenAppear",
          "CartScreenAppear",
          "PaymentScreenSuccessful",
          "Tutorial"
         ]
        }
       ],
       "layout": {
        "autosize": true,
        "template": {
         "data": {
          "bar": [
           {
            "error_x": {
             "color": "#2a3f5f"
            },
            "error_y": {
             "color": "#2a3f5f"
            },
            "marker": {
             "line": {
              "color": "#E5ECF6",
              "width": 0.5
             },
             "pattern": {
              "fillmode": "overlay",
              "size": 10,
              "solidity": 0.2
             }
            },
            "type": "bar"
           }
          ],
          "barpolar": [
           {
            "marker": {
             "line": {
              "color": "#E5ECF6",
              "width": 0.5
             },
             "pattern": {
              "fillmode": "overlay",
              "size": 10,
              "solidity": 0.2
             }
            },
            "type": "barpolar"
           }
          ],
          "carpet": [
           {
            "aaxis": {
             "endlinecolor": "#2a3f5f",
             "gridcolor": "white",
             "linecolor": "white",
             "minorgridcolor": "white",
             "startlinecolor": "#2a3f5f"
            },
            "baxis": {
             "endlinecolor": "#2a3f5f",
             "gridcolor": "white",
             "linecolor": "white",
             "minorgridcolor": "white",
             "startlinecolor": "#2a3f5f"
            },
            "type": "carpet"
           }
          ],
          "choropleth": [
           {
            "colorbar": {
             "outlinewidth": 0,
             "ticks": ""
            },
            "type": "choropleth"
           }
          ],
          "contour": [
           {
            "colorbar": {
             "outlinewidth": 0,
             "ticks": ""
            },
            "colorscale": [
             [
              0,
              "#0d0887"
             ],
             [
              0.1111111111111111,
              "#46039f"
             ],
             [
              0.2222222222222222,
              "#7201a8"
             ],
             [
              0.3333333333333333,
              "#9c179e"
             ],
             [
              0.4444444444444444,
              "#bd3786"
             ],
             [
              0.5555555555555556,
              "#d8576b"
             ],
             [
              0.6666666666666666,
              "#ed7953"
             ],
             [
              0.7777777777777778,
              "#fb9f3a"
             ],
             [
              0.8888888888888888,
              "#fdca26"
             ],
             [
              1,
              "#f0f921"
             ]
            ],
            "type": "contour"
           }
          ],
          "contourcarpet": [
           {
            "colorbar": {
             "outlinewidth": 0,
             "ticks": ""
            },
            "type": "contourcarpet"
           }
          ],
          "heatmap": [
           {
            "colorbar": {
             "outlinewidth": 0,
             "ticks": ""
            },
            "colorscale": [
             [
              0,
              "#0d0887"
             ],
             [
              0.1111111111111111,
              "#46039f"
             ],
             [
              0.2222222222222222,
              "#7201a8"
             ],
             [
              0.3333333333333333,
              "#9c179e"
             ],
             [
              0.4444444444444444,
              "#bd3786"
             ],
             [
              0.5555555555555556,
              "#d8576b"
             ],
             [
              0.6666666666666666,
              "#ed7953"
             ],
             [
              0.7777777777777778,
              "#fb9f3a"
             ],
             [
              0.8888888888888888,
              "#fdca26"
             ],
             [
              1,
              "#f0f921"
             ]
            ],
            "type": "heatmap"
           }
          ],
          "heatmapgl": [
           {
            "colorbar": {
             "outlinewidth": 0,
             "ticks": ""
            },
            "colorscale": [
             [
              0,
              "#0d0887"
             ],
             [
              0.1111111111111111,
              "#46039f"
             ],
             [
              0.2222222222222222,
              "#7201a8"
             ],
             [
              0.3333333333333333,
              "#9c179e"
             ],
             [
              0.4444444444444444,
              "#bd3786"
             ],
             [
              0.5555555555555556,
              "#d8576b"
             ],
             [
              0.6666666666666666,
              "#ed7953"
             ],
             [
              0.7777777777777778,
              "#fb9f3a"
             ],
             [
              0.8888888888888888,
              "#fdca26"
             ],
             [
              1,
              "#f0f921"
             ]
            ],
            "type": "heatmapgl"
           }
          ],
          "histogram": [
           {
            "marker": {
             "pattern": {
              "fillmode": "overlay",
              "size": 10,
              "solidity": 0.2
             }
            },
            "type": "histogram"
           }
          ],
          "histogram2d": [
           {
            "colorbar": {
             "outlinewidth": 0,
             "ticks": ""
            },
            "colorscale": [
             [
              0,
              "#0d0887"
             ],
             [
              0.1111111111111111,
              "#46039f"
             ],
             [
              0.2222222222222222,
              "#7201a8"
             ],
             [
              0.3333333333333333,
              "#9c179e"
             ],
             [
              0.4444444444444444,
              "#bd3786"
             ],
             [
              0.5555555555555556,
              "#d8576b"
             ],
             [
              0.6666666666666666,
              "#ed7953"
             ],
             [
              0.7777777777777778,
              "#fb9f3a"
             ],
             [
              0.8888888888888888,
              "#fdca26"
             ],
             [
              1,
              "#f0f921"
             ]
            ],
            "type": "histogram2d"
           }
          ],
          "histogram2dcontour": [
           {
            "colorbar": {
             "outlinewidth": 0,
             "ticks": ""
            },
            "colorscale": [
             [
              0,
              "#0d0887"
             ],
             [
              0.1111111111111111,
              "#46039f"
             ],
             [
              0.2222222222222222,
              "#7201a8"
             ],
             [
              0.3333333333333333,
              "#9c179e"
             ],
             [
              0.4444444444444444,
              "#bd3786"
             ],
             [
              0.5555555555555556,
              "#d8576b"
             ],
             [
              0.6666666666666666,
              "#ed7953"
             ],
             [
              0.7777777777777778,
              "#fb9f3a"
             ],
             [
              0.8888888888888888,
              "#fdca26"
             ],
             [
              1,
              "#f0f921"
             ]
            ],
            "type": "histogram2dcontour"
           }
          ],
          "mesh3d": [
           {
            "colorbar": {
             "outlinewidth": 0,
             "ticks": ""
            },
            "type": "mesh3d"
           }
          ],
          "parcoords": [
           {
            "line": {
             "colorbar": {
              "outlinewidth": 0,
              "ticks": ""
             }
            },
            "type": "parcoords"
           }
          ],
          "pie": [
           {
            "automargin": true,
            "type": "pie"
           }
          ],
          "scatter": [
           {
            "fillpattern": {
             "fillmode": "overlay",
             "size": 10,
             "solidity": 0.2
            },
            "type": "scatter"
           }
          ],
          "scatter3d": [
           {
            "line": {
             "colorbar": {
              "outlinewidth": 0,
              "ticks": ""
             }
            },
            "marker": {
             "colorbar": {
              "outlinewidth": 0,
              "ticks": ""
             }
            },
            "type": "scatter3d"
           }
          ],
          "scattercarpet": [
           {
            "marker": {
             "colorbar": {
              "outlinewidth": 0,
              "ticks": ""
             }
            },
            "type": "scattercarpet"
           }
          ],
          "scattergeo": [
           {
            "marker": {
             "colorbar": {
              "outlinewidth": 0,
              "ticks": ""
             }
            },
            "type": "scattergeo"
           }
          ],
          "scattergl": [
           {
            "marker": {
             "colorbar": {
              "outlinewidth": 0,
              "ticks": ""
             }
            },
            "type": "scattergl"
           }
          ],
          "scattermapbox": [
           {
            "marker": {
             "colorbar": {
              "outlinewidth": 0,
              "ticks": ""
             }
            },
            "type": "scattermapbox"
           }
          ],
          "scatterpolar": [
           {
            "marker": {
             "colorbar": {
              "outlinewidth": 0,
              "ticks": ""
             }
            },
            "type": "scatterpolar"
           }
          ],
          "scatterpolargl": [
           {
            "marker": {
             "colorbar": {
              "outlinewidth": 0,
              "ticks": ""
             }
            },
            "type": "scatterpolargl"
           }
          ],
          "scatterternary": [
           {
            "marker": {
             "colorbar": {
              "outlinewidth": 0,
              "ticks": ""
             }
            },
            "type": "scatterternary"
           }
          ],
          "surface": [
           {
            "colorbar": {
             "outlinewidth": 0,
             "ticks": ""
            },
            "colorscale": [
             [
              0,
              "#0d0887"
             ],
             [
              0.1111111111111111,
              "#46039f"
             ],
             [
              0.2222222222222222,
              "#7201a8"
             ],
             [
              0.3333333333333333,
              "#9c179e"
             ],
             [
              0.4444444444444444,
              "#bd3786"
             ],
             [
              0.5555555555555556,
              "#d8576b"
             ],
             [
              0.6666666666666666,
              "#ed7953"
             ],
             [
              0.7777777777777778,
              "#fb9f3a"
             ],
             [
              0.8888888888888888,
              "#fdca26"
             ],
             [
              1,
              "#f0f921"
             ]
            ],
            "type": "surface"
           }
          ],
          "table": [
           {
            "cells": {
             "fill": {
              "color": "#EBF0F8"
             },
             "line": {
              "color": "white"
             }
            },
            "header": {
             "fill": {
              "color": "#C8D4E3"
             },
             "line": {
              "color": "white"
             }
            },
            "type": "table"
           }
          ]
         },
         "layout": {
          "annotationdefaults": {
           "arrowcolor": "#2a3f5f",
           "arrowhead": 0,
           "arrowwidth": 1
          },
          "autotypenumbers": "strict",
          "coloraxis": {
           "colorbar": {
            "outlinewidth": 0,
            "ticks": ""
           }
          },
          "colorscale": {
           "diverging": [
            [
             0,
             "#8e0152"
            ],
            [
             0.1,
             "#c51b7d"
            ],
            [
             0.2,
             "#de77ae"
            ],
            [
             0.3,
             "#f1b6da"
            ],
            [
             0.4,
             "#fde0ef"
            ],
            [
             0.5,
             "#f7f7f7"
            ],
            [
             0.6,
             "#e6f5d0"
            ],
            [
             0.7,
             "#b8e186"
            ],
            [
             0.8,
             "#7fbc41"
            ],
            [
             0.9,
             "#4d9221"
            ],
            [
             1,
             "#276419"
            ]
           ],
           "sequential": [
            [
             0,
             "#0d0887"
            ],
            [
             0.1111111111111111,
             "#46039f"
            ],
            [
             0.2222222222222222,
             "#7201a8"
            ],
            [
             0.3333333333333333,
             "#9c179e"
            ],
            [
             0.4444444444444444,
             "#bd3786"
            ],
            [
             0.5555555555555556,
             "#d8576b"
            ],
            [
             0.6666666666666666,
             "#ed7953"
            ],
            [
             0.7777777777777778,
             "#fb9f3a"
            ],
            [
             0.8888888888888888,
             "#fdca26"
            ],
            [
             1,
             "#f0f921"
            ]
           ],
           "sequentialminus": [
            [
             0,
             "#0d0887"
            ],
            [
             0.1111111111111111,
             "#46039f"
            ],
            [
             0.2222222222222222,
             "#7201a8"
            ],
            [
             0.3333333333333333,
             "#9c179e"
            ],
            [
             0.4444444444444444,
             "#bd3786"
            ],
            [
             0.5555555555555556,
             "#d8576b"
            ],
            [
             0.6666666666666666,
             "#ed7953"
            ],
            [
             0.7777777777777778,
             "#fb9f3a"
            ],
            [
             0.8888888888888888,
             "#fdca26"
            ],
            [
             1,
             "#f0f921"
            ]
           ]
          },
          "colorway": [
           "#636efa",
           "#EF553B",
           "#00cc96",
           "#ab63fa",
           "#FFA15A",
           "#19d3f3",
           "#FF6692",
           "#B6E880",
           "#FF97FF",
           "#FECB52"
          ],
          "font": {
           "color": "#2a3f5f"
          },
          "geo": {
           "bgcolor": "white",
           "lakecolor": "white",
           "landcolor": "#E5ECF6",
           "showlakes": true,
           "showland": true,
           "subunitcolor": "white"
          },
          "hoverlabel": {
           "align": "left"
          },
          "hovermode": "closest",
          "mapbox": {
           "style": "light"
          },
          "paper_bgcolor": "white",
          "plot_bgcolor": "#E5ECF6",
          "polar": {
           "angularaxis": {
            "gridcolor": "white",
            "linecolor": "white",
            "ticks": ""
           },
           "bgcolor": "#E5ECF6",
           "radialaxis": {
            "gridcolor": "white",
            "linecolor": "white",
            "ticks": ""
           }
          },
          "scene": {
           "xaxis": {
            "backgroundcolor": "#E5ECF6",
            "gridcolor": "white",
            "gridwidth": 2,
            "linecolor": "white",
            "showbackground": true,
            "ticks": "",
            "zerolinecolor": "white"
           },
           "yaxis": {
            "backgroundcolor": "#E5ECF6",
            "gridcolor": "white",
            "gridwidth": 2,
            "linecolor": "white",
            "showbackground": true,
            "ticks": "",
            "zerolinecolor": "white"
           },
           "zaxis": {
            "backgroundcolor": "#E5ECF6",
            "gridcolor": "white",
            "gridwidth": 2,
            "linecolor": "white",
            "showbackground": true,
            "ticks": "",
            "zerolinecolor": "white"
           }
          },
          "shapedefaults": {
           "line": {
            "color": "#2a3f5f"
           }
          },
          "ternary": {
           "aaxis": {
            "gridcolor": "white",
            "linecolor": "white",
            "ticks": ""
           },
           "baxis": {
            "gridcolor": "white",
            "linecolor": "white",
            "ticks": ""
           },
           "bgcolor": "#E5ECF6",
           "caxis": {
            "gridcolor": "white",
            "linecolor": "white",
            "ticks": ""
           }
          },
          "title": {
           "x": 0.05
          },
          "xaxis": {
           "automargin": true,
           "gridcolor": "white",
           "linecolor": "white",
           "ticks": "",
           "title": {
            "standoff": 15
           },
           "zerolinecolor": "white",
           "zerolinewidth": 2
          },
          "yaxis": {
           "automargin": true,
           "gridcolor": "white",
           "linecolor": "white",
           "ticks": "",
           "title": {
            "standoff": 15
           },
           "zerolinecolor": "white",
           "zerolinewidth": 2
          }
         }
        },
        "xaxis": {
         "autorange": true,
         "range": [
          -66225,
          66225
         ],
         "type": "linear"
        },
        "yaxis": {
         "autorange": true,
         "range": [
          4.5,
          -0.5
         ],
         "type": "category"
        }
       }
      },
      "image/png": "[encoded data removed]",
      "text/html": [
       "<div>                            <div id=\"ec19bb46-8e0d-4004-a270-ca3c1a18982f\" class=\"plotly-graph-div\" style=\"height:525px; width:100%;\"></div>            <script type=\"text/javascript\">                require([\"plotly\"], function(Plotly) {                    window.PLOTLYENV=window.PLOTLYENV || {};                                    if (document.getElementById(\"ec19bb46-8e0d-4004-a270-ca3c1a18982f\")) {                    Plotly.newPlot(                        \"ec19bb46-8e0d-4004-a270-ca3c1a18982f\",                        [{\"textinfo\":\"value+percent initial\",\"textposition\":\"inside\",\"x\":[119205,46825,42731,34313,1052],\"y\":[\"MainScreenAppear\",\"OffersScreenAppear\",\"CartScreenAppear\",\"PaymentScreenSuccessful\",\"Tutorial\"],\"type\":\"funnel\"}],                        {\"template\":{\"data\":{\"histogram2dcontour\":[{\"type\":\"histogram2dcontour\",\"colorbar\":{\"outlinewidth\":0,\"ticks\":\"\"},\"colorscale\":[[0.0,\"#0d0887\"],[0.1111111111111111,\"#46039f\"],[0.2222222222222222,\"#7201a8\"],[0.3333333333333333,\"#9c179e\"],[0.4444444444444444,\"#bd3786\"],[0.5555555555555556,\"#d8576b\"],[0.6666666666666666,\"#ed7953\"],[0.7777777777777778,\"#fb9f3a\"],[0.8888888888888888,\"#fdca26\"],[1.0,\"#f0f921\"]]}],\"choropleth\":[{\"type\":\"choropleth\",\"colorbar\":{\"outlinewidth\":0,\"ticks\":\"\"}}],\"histogram2d\":[{\"type\":\"histogram2d\",\"colorbar\":{\"outlinewidth\":0,\"ticks\":\"\"},\"colorscale\":[[0.0,\"#0d0887\"],[0.1111111111111111,\"#46039f\"],[0.2222222222222222,\"#7201a8\"],[0.3333333333333333,\"#9c179e\"],[0.4444444444444444,\"#bd3786\"],[0.5555555555555556,\"#d8576b\"],[0.6666666666666666,\"#ed7953\"],[0.7777777777777778,\"#fb9f3a\"],[0.8888888888888888,\"#fdca26\"],[1.0,\"#f0f921\"]]}],\"heatmap\":[{\"type\":\"heatmap\",\"colorbar\":{\"outlinewidth\":0,\"ticks\":\"\"},\"colorscale\":[[0.0,\"#0d0887\"],[0.1111111111111111,\"#46039f\"],[0.2222222222222222,\"#7201a8\"],[0.3333333333333333,\"#9c179e\"],[0.4444444444444444,\"#bd3786\"],[0.5555555555555556,\"#d8576b\"],[0.6666666666666666,\"#ed7953\"],[0.7777777777777778,\"#fb9f3a\"],[0.8888888888888888,\"#fdca26\"],[1.0,\"#f0f921\"]]}],\"heatmapgl\":[{\"type\":\"heatmapgl\",\"colorbar\":{\"outlinewidth\":0,\"ticks\":\"\"},\"colorscale\":[[0.0,\"#0d0887\"],[0.1111111111111111,\"#46039f\"],[0.2222222222222222,\"#7201a8\"],[0.3333333333333333,\"#9c179e\"],[0.4444444444444444,\"#bd3786\"],[0.5555555555555556,\"#d8576b\"],[0.6666666666666666,\"#ed7953\"],[0.7777777777777778,\"#fb9f3a\"],[0.8888888888888888,\"#fdca26\"],[1.0,\"#f0f921\"]]}],\"contourcarpet\":[{\"type\":\"contourcarpet\",\"colorbar\":{\"outlinewidth\":0,\"ticks\":\"\"}}],\"contour\":[{\"type\":\"contour\",\"colorbar\":{\"outlinewidth\":0,\"ticks\":\"\"},\"colorscale\":[[0.0,\"#0d0887\"],[0.1111111111111111,\"#46039f\"],[0.2222222222222222,\"#7201a8\"],[0.3333333333333333,\"#9c179e\"],[0.4444444444444444,\"#bd3786\"],[0.5555555555555556,\"#d8576b\"],[0.6666666666666666,\"#ed7953\"],[0.7777777777777778,\"#fb9f3a\"],[0.8888888888888888,\"#fdca26\"],[1.0,\"#f0f921\"]]}],\"surface\":[{\"type\":\"surface\",\"colorbar\":{\"outlinewidth\":0,\"ticks\":\"\"},\"colorscale\":[[0.0,\"#0d0887\"],[0.1111111111111111,\"#46039f\"],[0.2222222222222222,\"#7201a8\"],[0.3333333333333333,\"#9c179e\"],[0.4444444444444444,\"#bd3786\"],[0.5555555555555556,\"#d8576b\"],[0.6666666666666666,\"#ed7953\"],[0.7777777777777778,\"#fb9f3a\"],[0.8888888888888888,\"#fdca26\"],[1.0,\"#f0f921\"]]}],\"mesh3d\":[{\"type\":\"mesh3d\",\"colorbar\":{\"outlinewidth\":0,\"ticks\":\"\"}}],\"scatter\":[{\"fillpattern\":{\"fillmode\":\"overlay\",\"size\":10,\"solidity\":0.2},\"type\":\"scatter\"}],\"parcoords\":[{\"type\":\"parcoords\",\"line\":{\"colorbar\":{\"outlinewidth\":0,\"ticks\":\"\"}}}],\"scatterpolargl\":[{\"type\":\"scatterpolargl\",\"marker\":{\"colorbar\":{\"outlinewidth\":0,\"ticks\":\"\"}}}],\"bar\":[{\"error_x\":{\"color\":\"#2a3f5f\"},\"error_y\":{\"color\":\"#2a3f5f\"},\"marker\":{\"line\":{\"color\":\"#E5ECF6\",\"width\":0.5},\"pattern\":{\"fillmode\":\"overlay\",\"size\":10,\"solidity\":0.2}},\"type\":\"bar\"}],\"scattergeo\":[{\"type\":\"scattergeo\",\"marker\":{\"colorbar\":{\"outlinewidth\":0,\"ticks\":\"\"}}}],\"scatterpolar\":[{\"type\":\"scatterpolar\",\"marker\":{\"colorbar\":{\"outlinewidth\":0,\"ticks\":\"\"}}}],\"histogram\":[{\"marker\":{\"pattern\":{\"fillmode\":\"overlay\",\"size\":10,\"solidity\":0.2}},\"type\":\"histogram\"}],\"scattergl\":[{\"type\":\"scattergl\",\"marker\":{\"colorbar\":{\"outlinewidth\":0,\"ticks\":\"\"}}}],\"scatter3d\":[{\"type\":\"scatter3d\",\"line\":{\"colorbar\":{\"outlinewidth\":0,\"ticks\":\"\"}},\"marker\":{\"colorbar\":{\"outlinewidth\":0,\"ticks\":\"\"}}}],\"scattermapbox\":[{\"type\":\"scattermapbox\",\"marker\":{\"colorbar\":{\"outlinewidth\":0,\"ticks\":\"\"}}}],\"scatterternary\":[{\"type\":\"scatterternary\",\"marker\":{\"colorbar\":{\"outlinewidth\":0,\"ticks\":\"\"}}}],\"scattercarpet\":[{\"type\":\"scattercarpet\",\"marker\":{\"colorbar\":{\"outlinewidth\":0,\"ticks\":\"\"}}}],\"carpet\":[{\"aaxis\":{\"endlinecolor\":\"#2a3f5f\",\"gridcolor\":\"white\",\"linecolor\":\"white\",\"minorgridcolor\":\"white\",\"startlinecolor\":\"#2a3f5f\"},\"baxis\":{\"endlinecolor\":\"#2a3f5f\",\"gridcolor\":\"white\",\"linecolor\":\"white\",\"minorgridcolor\":\"white\",\"startlinecolor\":\"#2a3f5f\"},\"type\":\"carpet\"}],\"table\":[{\"cells\":{\"fill\":{\"color\":\"#EBF0F8\"},\"line\":{\"color\":\"white\"}},\"header\":{\"fill\":{\"color\":\"#C8D4E3\"},\"line\":{\"color\":\"white\"}},\"type\":\"table\"}],\"barpolar\":[{\"marker\":{\"line\":{\"color\":\"#E5ECF6\",\"width\":0.5},\"pattern\":{\"fillmode\":\"overlay\",\"size\":10,\"solidity\":0.2}},\"type\":\"barpolar\"}],\"pie\":[{\"automargin\":true,\"type\":\"pie\"}]},\"layout\":{\"autotypenumbers\":\"strict\",\"colorway\":[\"#636efa\",\"#EF553B\",\"#00cc96\",\"#ab63fa\",\"#FFA15A\",\"#19d3f3\",\"#FF6692\",\"#B6E880\",\"#FF97FF\",\"#FECB52\"],\"font\":{\"color\":\"#2a3f5f\"},\"hovermode\":\"closest\",\"hoverlabel\":{\"align\":\"left\"},\"paper_bgcolor\":\"white\",\"plot_bgcolor\":\"#E5ECF6\",\"polar\":{\"bgcolor\":\"#E5ECF6\",\"angularaxis\":{\"gridcolor\":\"white\",\"linecolor\":\"white\",\"ticks\":\"\"},\"radialaxis\":{\"gridcolor\":\"white\",\"linecolor\":\"white\",\"ticks\":\"\"}},\"ternary\":{\"bgcolor\":\"#E5ECF6\",\"aaxis\":{\"gridcolor\":\"white\",\"linecolor\":\"white\",\"ticks\":\"\"},\"baxis\":{\"gridcolor\":\"white\",\"linecolor\":\"white\",\"ticks\":\"\"},\"caxis\":{\"gridcolor\":\"white\",\"linecolor\":\"white\",\"ticks\":\"\"}},\"coloraxis\":{\"colorbar\":{\"outlinewidth\":0,\"ticks\":\"\"}},\"colorscale\":{\"sequential\":[[0.0,\"#0d0887\"],[0.1111111111111111,\"#46039f\"],[0.2222222222222222,\"#7201a8\"],[0.3333333333333333,\"#9c179e\"],[0.4444444444444444,\"#bd3786\"],[0.5555555555555556,\"#d8576b\"],[0.6666666666666666,\"#ed7953\"],[0.7777777777777778,\"#fb9f3a\"],[0.8888888888888888,\"#fdca26\"],[1.0,\"#f0f921\"]],\"sequentialminus\":[[0.0,\"#0d0887\"],[0.1111111111111111,\"#46039f\"],[0.2222222222222222,\"#7201a8\"],[0.3333333333333333,\"#9c179e\"],[0.4444444444444444,\"#bd3786\"],[0.5555555555555556,\"#d8576b\"],[0.6666666666666666,\"#ed7953\"],[0.7777777777777778,\"#fb9f3a\"],[0.8888888888888888,\"#fdca26\"],[1.0,\"#f0f921\"]],\"diverging\":[[0,\"#8e0152\"],[0.1,\"#c51b7d\"],[0.2,\"#de77ae\"],[0.3,\"#f1b6da\"],[0.4,\"#fde0ef\"],[0.5,\"#f7f7f7\"],[0.6,\"#e6f5d0\"],[0.7,\"#b8e186\"],[0.8,\"#7fbc41\"],[0.9,\"#4d9221\"],[1,\"#276419\"]]},\"xaxis\":{\"gridcolor\":\"white\",\"linecolor\":\"white\",\"ticks\":\"\",\"title\":{\"standoff\":15},\"zerolinecolor\":\"white\",\"automargin\":true,\"zerolinewidth\":2},\"yaxis\":{\"gridcolor\":\"white\",\"linecolor\":\"white\",\"ticks\":\"\",\"title\":{\"standoff\":15},\"zerolinecolor\":\"white\",\"automargin\":true,\"zerolinewidth\":2},\"scene\":{\"xaxis\":{\"backgroundcolor\":\"#E5ECF6\",\"gridcolor\":\"white\",\"linecolor\":\"white\",\"showbackground\":true,\"ticks\":\"\",\"zerolinecolor\":\"white\",\"gridwidth\":2},\"yaxis\":{\"backgroundcolor\":\"#E5ECF6\",\"gridcolor\":\"white\",\"linecolor\":\"white\",\"showbackground\":true,\"ticks\":\"\",\"zerolinecolor\":\"white\",\"gridwidth\":2},\"zaxis\":{\"backgroundcolor\":\"#E5ECF6\",\"gridcolor\":\"white\",\"linecolor\":\"white\",\"showbackground\":true,\"ticks\":\"\",\"zerolinecolor\":\"white\",\"gridwidth\":2}},\"shapedefaults\":{\"line\":{\"color\":\"#2a3f5f\"}},\"annotationdefaults\":{\"arrowcolor\":\"#2a3f5f\",\"arrowhead\":0,\"arrowwidth\":1},\"geo\":{\"bgcolor\":\"white\",\"landcolor\":\"#E5ECF6\",\"subunitcolor\":\"white\",\"showland\":true,\"showlakes\":true,\"lakecolor\":\"white\"},\"title\":{\"x\":0.05},\"mapbox\":{\"style\":\"light\"}}}},                        {\"responsive\": true}                    ).then(function(){\n",
       "                            \n",
       "var gd = document.getElementById('ec19bb46-8e0d-4004-a270-ca3c1a18982f');\n",
       "var x = new MutationObserver(function (mutations, observer) {{\n",
       "        var display = window.getComputedStyle(gd).display;\n",
       "        if (!display || display === 'none') {{\n",
       "            console.log([gd, 'removed!']);\n",
       "            Plotly.purge(gd);\n",
       "            observer.disconnect();\n",
       "        }}\n",
       "}});\n",
       "\n",
       "// Listen for the removal of the full notebook cells\n",
       "var notebookContainer = gd.closest('#notebook-container');\n",
       "if (notebookContainer) {{\n",
       "    x.observe(notebookContainer, {childList: true});\n",
       "}}\n",
       "\n",
       "// Listen for the clearing of the current output cell\n",
       "var outputEl = gd.closest('.output');\n",
       "if (outputEl) {{\n",
       "    x.observe(outputEl, {childList: true});\n",
       "}}\n",
       "\n",
       "                        })                };                });            </script>        </div>"
      ]
     },
     "metadata": {},
     "output_type": "display_data"
    }
   ],
   "source": [
    "from plotly import graph_objects as go\n",
    "\n",
    "page_views2 = df.groupby('EventName').agg({'DeviceIDHash': 'count'}).reset_index().sort_values(by='DeviceIDHash', ascending=False)\n",
    "\n",
    "fig = go.Figure(go.Funnel(\n",
    "    y = page_views2['EventName'],\n",
    "    x = page_views2['DeviceIDHash'],\n",
    "    textposition = \"inside\",\n",
    "    textinfo = \"value+percent initial\")\n",
    "    )\n",
    "\n",
    "fig.show()\n",
    "# эта воронка, как и предыдущая, показывает нам что наибольшее число пользователей \"теряется\" сразу после посещения главной страницы.\n",
    "# что интересно, очень мало юзеров заходило на страницу Tutorial"
   ]
  },
  {
   "cell_type": "code",
   "execution_count": 43,
   "id": "34120ce9-5e3f-4403-abc6-6c4067462608",
   "metadata": {},
   "outputs": [
    {
     "data": {
      "text/plain": [
       "0          6909561520679493\n",
       "1          6922444491712477\n",
       "2          7702139951469979\n",
       "3          9841258664663090\n",
       "4         15708180189885246\n",
       "               ...         \n",
       "3542    9212961170535635779\n",
       "3543    9214668690707156694\n",
       "3544    9216369613838971606\n",
       "3545    9217594193087726423\n",
       "3546    9219463515465815368\n",
       "Length: 3547, dtype: int64"
      ]
     },
     "execution_count": 43,
     "metadata": {},
     "output_type": "execute_result"
    }
   ],
   "source": [
    "# прежде чем давать ответы, интересно было бы, более детально рассмотреть причину потери 61% процента посещений, после посещения главной страницы\n",
    "# первым делом я хотел бы найти ID пользователей которые совершили целевое действие, то есть совершили покупку на веб-сайте\n",
    "\n",
    "df_success = df[df['EventName'] == 'PaymentScreenSuccessful'].sort_values(by=['DeviceIDHash'])\n",
    "users_paid = df_success['DeviceIDHash'].unique().tolist() # получаем лист который содержит все ID покупателей которые совершили покупку\n",
    "users_paid_series = pd.Series(users_paid)\n",
    "users_paid_series"
   ]
  },
  {
   "cell_type": "code",
   "execution_count": 38,
   "id": "fdffe5d3-4996-4d4a-af7c-1d530ea7b41b",
   "metadata": {},
   "outputs": [
    {
     "data": {
      "text/plain": [
       "<BarContainer object of 3 artists>"
      ]
     },
     "execution_count": 38,
     "metadata": {},
     "output_type": "execute_result"
    },
    {
     "data": {
      "image/png": "[encoded data removed]",
      "text/plain": [
       "<Figure size 640x480 with 1 Axes>"
      ]
     },
     "metadata": {},
     "output_type": "display_data"
    }
   ],
   "source": [
    "# однако надо не забывать что у нас также есть группы - контрольная(х2) и экпериментальная\n",
    "contr_group246 = df_success[df_success['ExpId'] == 246]\n",
    "contr_group247 = df_success[df_success['ExpId'] == 247]\n",
    "exp_group248 = df_success[df_success['ExpId'] == 248]\n",
    "\n",
    "\n",
    "all_groups = [contr_group246, contr_group247, exp_group248]\n",
    "comparison = []\n",
    "\n",
    "# посмотрим в какой из групп больше людей купивших товар\n",
    "for group in all_groups:\n",
    "    comparison.append(group['DeviceIDHash'].nunique())\n",
    "\n",
    "\n",
    "names = ['246', '247', '248']\n",
    "comparison\n",
    "\n",
    "plt.bar(names, comparison, color='blue') # тут мы видим что больше всего людей в 246 группе"
   ]
  },
  {
   "cell_type": "code",
   "execution_count": 39,
   "id": "04093771-ca66-49db-9fda-8c9f7fd730ec",
   "metadata": {},
   "outputs": [
    {
     "data": {
      "text/plain": [
       "[1202, 1160, 1185]"
      ]
     },
     "execution_count": 39,
     "metadata": {},
     "output_type": "execute_result"
    }
   ],
   "source": [
    "comparison"
   ]
  },
  {
   "cell_type": "code",
   "execution_count": 40,
   "id": "fc529c1a-517b-40a6-8fdc-bc1907157599",
   "metadata": {},
   "outputs": [
    {
     "data": {
      "text/plain": [
       "['MainScreenAppear',\n",
       " 'PaymentScreenSuccessful',\n",
       " 'CartScreenAppear',\n",
       " 'MainScreenAppear',\n",
       " 'OffersScreenAppear']"
      ]
     },
     "execution_count": 40,
     "metadata": {},
     "output_type": "execute_result"
    }
   ],
   "source": [
    "test = df[df['DeviceIDHash'] == 6909561520679493].sort_values(by=['EventTimestamp'])\n",
    "\n",
    "list(test['EventName']) # таким образом я получаю путь одного юзера\n",
    "\n",
    "# проверив самого первого юзера в списке я был удивлен, так как не увидел той картины которой ожидал\n",
    "# в моем понимании должно было быть так:\n",
    "# MainScreenAppear => OffersScreenAppear => CartScreenAppear => PaymentScreenSuccessful\n",
    "\n",
    "# Вероятно, веб-сайт позволяет купить вещи/товар сразу на главной странице не кладя их перед этим в корзину.\n",
    "\n",
    "# Так же я предполагал что вещь лежала в корзине еще до этого (у нас выборка всего за два месяца), но для этого,\n",
    "# юзер должен был бы, скорее всего, перейти в корзину вторым шагом (MainScreenAppear => CartScreenAppear => PaymentScreenSuccessful)"
   ]
  },
  {
   "cell_type": "code",
   "execution_count": 55,
   "id": "f965dbce-6db5-4cf8-b1a5-2e6f2d2b6f5c",
   "metadata": {},
   "outputs": [
    {
     "data": {
      "text/plain": [
       "190"
      ]
     },
     "execution_count": 55,
     "metadata": {},
     "output_type": "execute_result"
    }
   ],
   "source": [
    "# попробую вывести первые четыре действия каждого юзера и понять путь который является самым популярным.\n",
    "# мой вариант решения сомнительный, но это лучшее что я пока смог придумать...\n",
    "\n",
    "result = []\n",
    "for user in users_paid_series:\n",
    "    test = df[df['DeviceIDHash'] == user].sort_values(by=['EventTimestamp'])\n",
    "    result.append(tuple(test['EventName'].head(4))) # первые четыре строки посещений клиента хранятся как кортеж в листе\n",
    "\n",
    "\n",
    "user_path = set(result) # и мы получаем лист содержащий в себе уникальные пути (первые четыре) по каждому юзеру\n",
    "path_count = len(user_path)\n",
    "path_count # целых 190 "
   ]
  },
  {
   "cell_type": "code",
   "execution_count": 56,
   "id": "2fc1a911-3f58-4782-a97f-6b59d0afa9ba",
   "metadata": {},
   "outputs": [
    {
     "data": {
      "text/plain": [
       "{('CartScreenAppear',\n",
       "  'CartScreenAppear',\n",
       "  'CartScreenAppear',\n",
       "  'MainScreenAppear'),\n",
       " ('CartScreenAppear',\n",
       "  'CartScreenAppear',\n",
       "  'CartScreenAppear',\n",
       "  'OffersScreenAppear'),\n",
       " ('CartScreenAppear',\n",
       "  'CartScreenAppear',\n",
       "  'CartScreenAppear',\n",
       "  'PaymentScreenSuccessful'),\n",
       " ('CartScreenAppear',\n",
       "  'CartScreenAppear',\n",
       "  'MainScreenAppear',\n",
       "  'CartScreenAppear'),\n",
       " ('CartScreenAppear',\n",
       "  'CartScreenAppear',\n",
       "  'MainScreenAppear',\n",
       "  'MainScreenAppear'),\n",
       " ('CartScreenAppear',\n",
       "  'CartScreenAppear',\n",
       "  'MainScreenAppear',\n",
       "  'OffersScreenAppear'),\n",
       " ('CartScreenAppear',\n",
       "  'CartScreenAppear',\n",
       "  'MainScreenAppear',\n",
       "  'PaymentScreenSuccessful'),\n",
       " ('CartScreenAppear', 'CartScreenAppear', 'MainScreenAppear', 'Tutorial'),\n",
       " ('CartScreenAppear',\n",
       "  'CartScreenAppear',\n",
       "  'OffersScreenAppear',\n",
       "  'CartScreenAppear'),\n",
       " ('CartScreenAppear',\n",
       "  'CartScreenAppear',\n",
       "  'OffersScreenAppear',\n",
       "  'MainScreenAppear'),\n",
       " ('CartScreenAppear',\n",
       "  'CartScreenAppear',\n",
       "  'PaymentScreenSuccessful',\n",
       "  'CartScreenAppear'),\n",
       " ('CartScreenAppear',\n",
       "  'CartScreenAppear',\n",
       "  'PaymentScreenSuccessful',\n",
       "  'MainScreenAppear'),\n",
       " ('CartScreenAppear',\n",
       "  'MainScreenAppear',\n",
       "  'CartScreenAppear',\n",
       "  'MainScreenAppear'),\n",
       " ('CartScreenAppear',\n",
       "  'MainScreenAppear',\n",
       "  'CartScreenAppear',\n",
       "  'OffersScreenAppear'),\n",
       " ('CartScreenAppear',\n",
       "  'MainScreenAppear',\n",
       "  'CartScreenAppear',\n",
       "  'PaymentScreenSuccessful'),\n",
       " ('CartScreenAppear',\n",
       "  'MainScreenAppear',\n",
       "  'MainScreenAppear',\n",
       "  'CartScreenAppear'),\n",
       " ('CartScreenAppear',\n",
       "  'MainScreenAppear',\n",
       "  'MainScreenAppear',\n",
       "  'MainScreenAppear'),\n",
       " ('CartScreenAppear',\n",
       "  'MainScreenAppear',\n",
       "  'MainScreenAppear',\n",
       "  'OffersScreenAppear'),\n",
       " ('CartScreenAppear',\n",
       "  'MainScreenAppear',\n",
       "  'MainScreenAppear',\n",
       "  'PaymentScreenSuccessful'),\n",
       " ('CartScreenAppear',\n",
       "  'MainScreenAppear',\n",
       "  'OffersScreenAppear',\n",
       "  'CartScreenAppear'),\n",
       " ('CartScreenAppear',\n",
       "  'MainScreenAppear',\n",
       "  'OffersScreenAppear',\n",
       "  'MainScreenAppear'),\n",
       " ('CartScreenAppear',\n",
       "  'MainScreenAppear',\n",
       "  'OffersScreenAppear',\n",
       "  'OffersScreenAppear'),\n",
       " ('CartScreenAppear',\n",
       "  'MainScreenAppear',\n",
       "  'OffersScreenAppear',\n",
       "  'PaymentScreenSuccessful'),\n",
       " ('CartScreenAppear',\n",
       "  'MainScreenAppear',\n",
       "  'PaymentScreenSuccessful',\n",
       "  'CartScreenAppear'),\n",
       " ('CartScreenAppear',\n",
       "  'MainScreenAppear',\n",
       "  'PaymentScreenSuccessful',\n",
       "  'MainScreenAppear'),\n",
       " ('CartScreenAppear',\n",
       "  'OffersScreenAppear',\n",
       "  'CartScreenAppear',\n",
       "  'PaymentScreenSuccessful'),\n",
       " ('CartScreenAppear',\n",
       "  'OffersScreenAppear',\n",
       "  'MainScreenAppear',\n",
       "  'CartScreenAppear'),\n",
       " ('CartScreenAppear',\n",
       "  'OffersScreenAppear',\n",
       "  'MainScreenAppear',\n",
       "  'PaymentScreenSuccessful'),\n",
       " ('CartScreenAppear',\n",
       "  'OffersScreenAppear',\n",
       "  'OffersScreenAppear',\n",
       "  'OffersScreenAppear'),\n",
       " ('CartScreenAppear',\n",
       "  'OffersScreenAppear',\n",
       "  'OffersScreenAppear',\n",
       "  'PaymentScreenSuccessful'),\n",
       " ('CartScreenAppear',\n",
       "  'OffersScreenAppear',\n",
       "  'PaymentScreenSuccessful',\n",
       "  'CartScreenAppear'),\n",
       " ('CartScreenAppear',\n",
       "  'OffersScreenAppear',\n",
       "  'PaymentScreenSuccessful',\n",
       "  'OffersScreenAppear'),\n",
       " ('CartScreenAppear',\n",
       "  'PaymentScreenSuccessful',\n",
       "  'CartScreenAppear',\n",
       "  'MainScreenAppear'),\n",
       " ('CartScreenAppear',\n",
       "  'PaymentScreenSuccessful',\n",
       "  'CartScreenAppear',\n",
       "  'OffersScreenAppear'),\n",
       " ('CartScreenAppear',\n",
       "  'PaymentScreenSuccessful',\n",
       "  'MainScreenAppear',\n",
       "  'CartScreenAppear'),\n",
       " ('CartScreenAppear',\n",
       "  'PaymentScreenSuccessful',\n",
       "  'MainScreenAppear',\n",
       "  'MainScreenAppear'),\n",
       " ('CartScreenAppear',\n",
       "  'PaymentScreenSuccessful',\n",
       "  'MainScreenAppear',\n",
       "  'OffersScreenAppear'),\n",
       " ('CartScreenAppear',\n",
       "  'PaymentScreenSuccessful',\n",
       "  'MainScreenAppear',\n",
       "  'PaymentScreenSuccessful'),\n",
       " ('CartScreenAppear',\n",
       "  'PaymentScreenSuccessful',\n",
       "  'OffersScreenAppear',\n",
       "  'CartScreenAppear'),\n",
       " ('CartScreenAppear',\n",
       "  'PaymentScreenSuccessful',\n",
       "  'OffersScreenAppear',\n",
       "  'MainScreenAppear'),\n",
       " ('CartScreenAppear',\n",
       "  'PaymentScreenSuccessful',\n",
       "  'OffersScreenAppear',\n",
       "  'OffersScreenAppear'),\n",
       " ('CartScreenAppear',\n",
       "  'PaymentScreenSuccessful',\n",
       "  'OffersScreenAppear',\n",
       "  'PaymentScreenSuccessful'),\n",
       " ('CartScreenAppear',\n",
       "  'PaymentScreenSuccessful',\n",
       "  'PaymentScreenSuccessful',\n",
       "  'CartScreenAppear'),\n",
       " ('CartScreenAppear', 'Tutorial', 'MainScreenAppear', 'MainScreenAppear'),\n",
       " ('MainScreenAppear',\n",
       "  'CartScreenAppear',\n",
       "  'CartScreenAppear',\n",
       "  'CartScreenAppear'),\n",
       " ('MainScreenAppear',\n",
       "  'CartScreenAppear',\n",
       "  'CartScreenAppear',\n",
       "  'MainScreenAppear'),\n",
       " ('MainScreenAppear',\n",
       "  'CartScreenAppear',\n",
       "  'CartScreenAppear',\n",
       "  'OffersScreenAppear'),\n",
       " ('MainScreenAppear',\n",
       "  'CartScreenAppear',\n",
       "  'CartScreenAppear',\n",
       "  'PaymentScreenSuccessful'),\n",
       " ('MainScreenAppear',\n",
       "  'CartScreenAppear',\n",
       "  'MainScreenAppear',\n",
       "  'CartScreenAppear'),\n",
       " ('MainScreenAppear',\n",
       "  'CartScreenAppear',\n",
       "  'MainScreenAppear',\n",
       "  'MainScreenAppear'),\n",
       " ('MainScreenAppear',\n",
       "  'CartScreenAppear',\n",
       "  'MainScreenAppear',\n",
       "  'OffersScreenAppear'),\n",
       " ('MainScreenAppear',\n",
       "  'CartScreenAppear',\n",
       "  'MainScreenAppear',\n",
       "  'PaymentScreenSuccessful'),\n",
       " ('MainScreenAppear',\n",
       "  'CartScreenAppear',\n",
       "  'OffersScreenAppear',\n",
       "  'CartScreenAppear'),\n",
       " ('MainScreenAppear',\n",
       "  'CartScreenAppear',\n",
       "  'OffersScreenAppear',\n",
       "  'MainScreenAppear'),\n",
       " ('MainScreenAppear',\n",
       "  'CartScreenAppear',\n",
       "  'OffersScreenAppear',\n",
       "  'PaymentScreenSuccessful'),\n",
       " ('MainScreenAppear',\n",
       "  'CartScreenAppear',\n",
       "  'PaymentScreenSuccessful',\n",
       "  'CartScreenAppear'),\n",
       " ('MainScreenAppear',\n",
       "  'CartScreenAppear',\n",
       "  'PaymentScreenSuccessful',\n",
       "  'MainScreenAppear'),\n",
       " ('MainScreenAppear',\n",
       "  'CartScreenAppear',\n",
       "  'PaymentScreenSuccessful',\n",
       "  'OffersScreenAppear'),\n",
       " ('MainScreenAppear',\n",
       "  'MainScreenAppear',\n",
       "  'CartScreenAppear',\n",
       "  'CartScreenAppear'),\n",
       " ('MainScreenAppear',\n",
       "  'MainScreenAppear',\n",
       "  'CartScreenAppear',\n",
       "  'MainScreenAppear'),\n",
       " ('MainScreenAppear',\n",
       "  'MainScreenAppear',\n",
       "  'CartScreenAppear',\n",
       "  'OffersScreenAppear'),\n",
       " ('MainScreenAppear',\n",
       "  'MainScreenAppear',\n",
       "  'CartScreenAppear',\n",
       "  'PaymentScreenSuccessful'),\n",
       " ('MainScreenAppear',\n",
       "  'MainScreenAppear',\n",
       "  'MainScreenAppear',\n",
       "  'CartScreenAppear'),\n",
       " ('MainScreenAppear',\n",
       "  'MainScreenAppear',\n",
       "  'MainScreenAppear',\n",
       "  'MainScreenAppear'),\n",
       " ('MainScreenAppear',\n",
       "  'MainScreenAppear',\n",
       "  'MainScreenAppear',\n",
       "  'OffersScreenAppear'),\n",
       " ('MainScreenAppear',\n",
       "  'MainScreenAppear',\n",
       "  'MainScreenAppear',\n",
       "  'PaymentScreenSuccessful'),\n",
       " ('MainScreenAppear',\n",
       "  'MainScreenAppear',\n",
       "  'OffersScreenAppear',\n",
       "  'CartScreenAppear'),\n",
       " ('MainScreenAppear',\n",
       "  'MainScreenAppear',\n",
       "  'OffersScreenAppear',\n",
       "  'MainScreenAppear'),\n",
       " ('MainScreenAppear',\n",
       "  'MainScreenAppear',\n",
       "  'OffersScreenAppear',\n",
       "  'OffersScreenAppear'),\n",
       " ('MainScreenAppear',\n",
       "  'MainScreenAppear',\n",
       "  'OffersScreenAppear',\n",
       "  'PaymentScreenSuccessful'),\n",
       " ('MainScreenAppear',\n",
       "  'MainScreenAppear',\n",
       "  'PaymentScreenSuccessful',\n",
       "  'CartScreenAppear'),\n",
       " ('MainScreenAppear',\n",
       "  'MainScreenAppear',\n",
       "  'PaymentScreenSuccessful',\n",
       "  'MainScreenAppear'),\n",
       " ('MainScreenAppear',\n",
       "  'MainScreenAppear',\n",
       "  'PaymentScreenSuccessful',\n",
       "  'OffersScreenAppear'),\n",
       " ('MainScreenAppear',\n",
       "  'OffersScreenAppear',\n",
       "  'CartScreenAppear',\n",
       "  'CartScreenAppear'),\n",
       " ('MainScreenAppear',\n",
       "  'OffersScreenAppear',\n",
       "  'CartScreenAppear',\n",
       "  'MainScreenAppear'),\n",
       " ('MainScreenAppear',\n",
       "  'OffersScreenAppear',\n",
       "  'CartScreenAppear',\n",
       "  'OffersScreenAppear'),\n",
       " ('MainScreenAppear',\n",
       "  'OffersScreenAppear',\n",
       "  'CartScreenAppear',\n",
       "  'PaymentScreenSuccessful'),\n",
       " ('MainScreenAppear', 'OffersScreenAppear', 'CartScreenAppear', 'Tutorial'),\n",
       " ('MainScreenAppear',\n",
       "  'OffersScreenAppear',\n",
       "  'MainScreenAppear',\n",
       "  'CartScreenAppear'),\n",
       " ('MainScreenAppear',\n",
       "  'OffersScreenAppear',\n",
       "  'MainScreenAppear',\n",
       "  'MainScreenAppear'),\n",
       " ('MainScreenAppear',\n",
       "  'OffersScreenAppear',\n",
       "  'MainScreenAppear',\n",
       "  'OffersScreenAppear'),\n",
       " ('MainScreenAppear',\n",
       "  'OffersScreenAppear',\n",
       "  'MainScreenAppear',\n",
       "  'PaymentScreenSuccessful'),\n",
       " ('MainScreenAppear',\n",
       "  'OffersScreenAppear',\n",
       "  'OffersScreenAppear',\n",
       "  'CartScreenAppear'),\n",
       " ('MainScreenAppear',\n",
       "  'OffersScreenAppear',\n",
       "  'OffersScreenAppear',\n",
       "  'MainScreenAppear'),\n",
       " ('MainScreenAppear',\n",
       "  'OffersScreenAppear',\n",
       "  'OffersScreenAppear',\n",
       "  'OffersScreenAppear'),\n",
       " ('MainScreenAppear',\n",
       "  'OffersScreenAppear',\n",
       "  'OffersScreenAppear',\n",
       "  'PaymentScreenSuccessful'),\n",
       " ('MainScreenAppear',\n",
       "  'OffersScreenAppear',\n",
       "  'PaymentScreenSuccessful',\n",
       "  'CartScreenAppear'),\n",
       " ('MainScreenAppear',\n",
       "  'PaymentScreenSuccessful',\n",
       "  'CartScreenAppear',\n",
       "  'CartScreenAppear'),\n",
       " ('MainScreenAppear',\n",
       "  'PaymentScreenSuccessful',\n",
       "  'CartScreenAppear',\n",
       "  'MainScreenAppear'),\n",
       " ('MainScreenAppear',\n",
       "  'PaymentScreenSuccessful',\n",
       "  'CartScreenAppear',\n",
       "  'OffersScreenAppear'),\n",
       " ('MainScreenAppear',\n",
       "  'PaymentScreenSuccessful',\n",
       "  'CartScreenAppear',\n",
       "  'PaymentScreenSuccessful'),\n",
       " ('MainScreenAppear',\n",
       "  'PaymentScreenSuccessful',\n",
       "  'MainScreenAppear',\n",
       "  'CartScreenAppear'),\n",
       " ('MainScreenAppear',\n",
       "  'PaymentScreenSuccessful',\n",
       "  'MainScreenAppear',\n",
       "  'MainScreenAppear'),\n",
       " ('MainScreenAppear',\n",
       "  'PaymentScreenSuccessful',\n",
       "  'MainScreenAppear',\n",
       "  'OffersScreenAppear'),\n",
       " ('MainScreenAppear',\n",
       "  'PaymentScreenSuccessful',\n",
       "  'MainScreenAppear',\n",
       "  'PaymentScreenSuccessful'),\n",
       " ('MainScreenAppear',\n",
       "  'PaymentScreenSuccessful',\n",
       "  'OffersScreenAppear',\n",
       "  'MainScreenAppear'),\n",
       " ('MainScreenAppear',\n",
       "  'PaymentScreenSuccessful',\n",
       "  'PaymentScreenSuccessful',\n",
       "  'PaymentScreenSuccessful'),\n",
       " ('MainScreenAppear', 'Tutorial', 'MainScreenAppear', 'CartScreenAppear'),\n",
       " ('MainScreenAppear', 'Tutorial', 'MainScreenAppear', 'MainScreenAppear'),\n",
       " ('MainScreenAppear', 'Tutorial', 'MainScreenAppear', 'OffersScreenAppear'),\n",
       " ('OffersScreenAppear',\n",
       "  'CartScreenAppear',\n",
       "  'CartScreenAppear',\n",
       "  'CartScreenAppear'),\n",
       " ('OffersScreenAppear',\n",
       "  'CartScreenAppear',\n",
       "  'CartScreenAppear',\n",
       "  'MainScreenAppear'),\n",
       " ('OffersScreenAppear',\n",
       "  'CartScreenAppear',\n",
       "  'CartScreenAppear',\n",
       "  'PaymentScreenSuccessful'),\n",
       " ('OffersScreenAppear',\n",
       "  'CartScreenAppear',\n",
       "  'MainScreenAppear',\n",
       "  'CartScreenAppear'),\n",
       " ('OffersScreenAppear',\n",
       "  'CartScreenAppear',\n",
       "  'MainScreenAppear',\n",
       "  'OffersScreenAppear'),\n",
       " ('OffersScreenAppear',\n",
       "  'CartScreenAppear',\n",
       "  'MainScreenAppear',\n",
       "  'PaymentScreenSuccessful'),\n",
       " ('OffersScreenAppear',\n",
       "  'CartScreenAppear',\n",
       "  'OffersScreenAppear',\n",
       "  'CartScreenAppear'),\n",
       " ('OffersScreenAppear',\n",
       "  'CartScreenAppear',\n",
       "  'OffersScreenAppear',\n",
       "  'OffersScreenAppear'),\n",
       " ('OffersScreenAppear',\n",
       "  'CartScreenAppear',\n",
       "  'OffersScreenAppear',\n",
       "  'PaymentScreenSuccessful'),\n",
       " ('OffersScreenAppear',\n",
       "  'CartScreenAppear',\n",
       "  'PaymentScreenSuccessful',\n",
       "  'CartScreenAppear'),\n",
       " ('OffersScreenAppear',\n",
       "  'CartScreenAppear',\n",
       "  'PaymentScreenSuccessful',\n",
       "  'MainScreenAppear'),\n",
       " ('OffersScreenAppear',\n",
       "  'CartScreenAppear',\n",
       "  'PaymentScreenSuccessful',\n",
       "  'OffersScreenAppear'),\n",
       " ('OffersScreenAppear',\n",
       "  'CartScreenAppear',\n",
       "  'PaymentScreenSuccessful',\n",
       "  'PaymentScreenSuccessful'),\n",
       " ('OffersScreenAppear',\n",
       "  'MainScreenAppear',\n",
       "  'CartScreenAppear',\n",
       "  'CartScreenAppear'),\n",
       " ('OffersScreenAppear',\n",
       "  'MainScreenAppear',\n",
       "  'CartScreenAppear',\n",
       "  'MainScreenAppear'),\n",
       " ('OffersScreenAppear',\n",
       "  'MainScreenAppear',\n",
       "  'CartScreenAppear',\n",
       "  'OffersScreenAppear'),\n",
       " ('OffersScreenAppear',\n",
       "  'MainScreenAppear',\n",
       "  'CartScreenAppear',\n",
       "  'PaymentScreenSuccessful'),\n",
       " ('OffersScreenAppear',\n",
       "  'MainScreenAppear',\n",
       "  'MainScreenAppear',\n",
       "  'CartScreenAppear'),\n",
       " ('OffersScreenAppear',\n",
       "  'MainScreenAppear',\n",
       "  'MainScreenAppear',\n",
       "  'MainScreenAppear'),\n",
       " ('OffersScreenAppear',\n",
       "  'MainScreenAppear',\n",
       "  'MainScreenAppear',\n",
       "  'OffersScreenAppear'),\n",
       " ('OffersScreenAppear',\n",
       "  'MainScreenAppear',\n",
       "  'MainScreenAppear',\n",
       "  'PaymentScreenSuccessful'),\n",
       " ('OffersScreenAppear',\n",
       "  'MainScreenAppear',\n",
       "  'OffersScreenAppear',\n",
       "  'CartScreenAppear'),\n",
       " ('OffersScreenAppear',\n",
       "  'MainScreenAppear',\n",
       "  'OffersScreenAppear',\n",
       "  'MainScreenAppear'),\n",
       " ('OffersScreenAppear',\n",
       "  'MainScreenAppear',\n",
       "  'OffersScreenAppear',\n",
       "  'OffersScreenAppear'),\n",
       " ('OffersScreenAppear',\n",
       "  'MainScreenAppear',\n",
       "  'OffersScreenAppear',\n",
       "  'PaymentScreenSuccessful'),\n",
       " ('OffersScreenAppear',\n",
       "  'MainScreenAppear',\n",
       "  'PaymentScreenSuccessful',\n",
       "  'CartScreenAppear'),\n",
       " ('OffersScreenAppear',\n",
       "  'MainScreenAppear',\n",
       "  'PaymentScreenSuccessful',\n",
       "  'MainScreenAppear'),\n",
       " ('OffersScreenAppear',\n",
       "  'MainScreenAppear',\n",
       "  'PaymentScreenSuccessful',\n",
       "  'OffersScreenAppear'),\n",
       " ('OffersScreenAppear',\n",
       "  'OffersScreenAppear',\n",
       "  'CartScreenAppear',\n",
       "  'PaymentScreenSuccessful'),\n",
       " ('OffersScreenAppear',\n",
       "  'OffersScreenAppear',\n",
       "  'MainScreenAppear',\n",
       "  'CartScreenAppear'),\n",
       " ('OffersScreenAppear',\n",
       "  'OffersScreenAppear',\n",
       "  'MainScreenAppear',\n",
       "  'MainScreenAppear'),\n",
       " ('OffersScreenAppear',\n",
       "  'OffersScreenAppear',\n",
       "  'MainScreenAppear',\n",
       "  'OffersScreenAppear'),\n",
       " ('OffersScreenAppear',\n",
       "  'OffersScreenAppear',\n",
       "  'MainScreenAppear',\n",
       "  'PaymentScreenSuccessful'),\n",
       " ('OffersScreenAppear',\n",
       "  'OffersScreenAppear',\n",
       "  'OffersScreenAppear',\n",
       "  'CartScreenAppear'),\n",
       " ('OffersScreenAppear',\n",
       "  'OffersScreenAppear',\n",
       "  'OffersScreenAppear',\n",
       "  'MainScreenAppear'),\n",
       " ('OffersScreenAppear',\n",
       "  'OffersScreenAppear',\n",
       "  'OffersScreenAppear',\n",
       "  'OffersScreenAppear'),\n",
       " ('OffersScreenAppear',\n",
       "  'OffersScreenAppear',\n",
       "  'OffersScreenAppear',\n",
       "  'PaymentScreenSuccessful'),\n",
       " ('OffersScreenAppear',\n",
       "  'OffersScreenAppear',\n",
       "  'PaymentScreenSuccessful',\n",
       "  'CartScreenAppear'),\n",
       " ('OffersScreenAppear',\n",
       "  'OffersScreenAppear',\n",
       "  'PaymentScreenSuccessful',\n",
       "  'OffersScreenAppear'),\n",
       " ('OffersScreenAppear', 'PaymentScreenSuccessful', 'CartScreenAppear'),\n",
       " ('OffersScreenAppear',\n",
       "  'PaymentScreenSuccessful',\n",
       "  'CartScreenAppear',\n",
       "  'CartScreenAppear'),\n",
       " ('OffersScreenAppear',\n",
       "  'PaymentScreenSuccessful',\n",
       "  'CartScreenAppear',\n",
       "  'MainScreenAppear'),\n",
       " ('OffersScreenAppear',\n",
       "  'PaymentScreenSuccessful',\n",
       "  'CartScreenAppear',\n",
       "  'OffersScreenAppear'),\n",
       " ('OffersScreenAppear',\n",
       "  'PaymentScreenSuccessful',\n",
       "  'CartScreenAppear',\n",
       "  'PaymentScreenSuccessful'),\n",
       " ('OffersScreenAppear', 'Tutorial', 'MainScreenAppear', 'OffersScreenAppear'),\n",
       " ('PaymentScreenSuccessful',\n",
       "  'CartScreenAppear',\n",
       "  'CartScreenAppear',\n",
       "  'MainScreenAppear'),\n",
       " ('PaymentScreenSuccessful',\n",
       "  'CartScreenAppear',\n",
       "  'CartScreenAppear',\n",
       "  'PaymentScreenSuccessful'),\n",
       " ('PaymentScreenSuccessful', 'CartScreenAppear', 'MainScreenAppear'),\n",
       " ('PaymentScreenSuccessful',\n",
       "  'CartScreenAppear',\n",
       "  'MainScreenAppear',\n",
       "  'CartScreenAppear'),\n",
       " ('PaymentScreenSuccessful',\n",
       "  'CartScreenAppear',\n",
       "  'MainScreenAppear',\n",
       "  'MainScreenAppear'),\n",
       " ('PaymentScreenSuccessful',\n",
       "  'CartScreenAppear',\n",
       "  'MainScreenAppear',\n",
       "  'OffersScreenAppear'),\n",
       " ('PaymentScreenSuccessful',\n",
       "  'CartScreenAppear',\n",
       "  'MainScreenAppear',\n",
       "  'PaymentScreenSuccessful'),\n",
       " ('PaymentScreenSuccessful', 'CartScreenAppear', 'OffersScreenAppear'),\n",
       " ('PaymentScreenSuccessful',\n",
       "  'CartScreenAppear',\n",
       "  'OffersScreenAppear',\n",
       "  'CartScreenAppear'),\n",
       " ('PaymentScreenSuccessful',\n",
       "  'CartScreenAppear',\n",
       "  'OffersScreenAppear',\n",
       "  'MainScreenAppear'),\n",
       " ('PaymentScreenSuccessful',\n",
       "  'CartScreenAppear',\n",
       "  'OffersScreenAppear',\n",
       "  'OffersScreenAppear'),\n",
       " ('PaymentScreenSuccessful',\n",
       "  'CartScreenAppear',\n",
       "  'OffersScreenAppear',\n",
       "  'PaymentScreenSuccessful'),\n",
       " ('PaymentScreenSuccessful',\n",
       "  'CartScreenAppear',\n",
       "  'PaymentScreenSuccessful',\n",
       "  'CartScreenAppear'),\n",
       " ('PaymentScreenSuccessful',\n",
       "  'CartScreenAppear',\n",
       "  'Tutorial',\n",
       "  'MainScreenAppear'),\n",
       " ('PaymentScreenSuccessful',\n",
       "  'MainScreenAppear',\n",
       "  'CartScreenAppear',\n",
       "  'MainScreenAppear'),\n",
       " ('PaymentScreenSuccessful', 'MainScreenAppear', 'OffersScreenAppear'),\n",
       " ('PaymentScreenSuccessful',\n",
       "  'MainScreenAppear',\n",
       "  'OffersScreenAppear',\n",
       "  'CartScreenAppear'),\n",
       " ('PaymentScreenSuccessful',\n",
       "  'MainScreenAppear',\n",
       "  'OffersScreenAppear',\n",
       "  'OffersScreenAppear'),\n",
       " ('PaymentScreenSuccessful',\n",
       "  'MainScreenAppear',\n",
       "  'OffersScreenAppear',\n",
       "  'PaymentScreenSuccessful'),\n",
       " ('PaymentScreenSuccessful',\n",
       "  'OffersScreenAppear',\n",
       "  'CartScreenAppear',\n",
       "  'MainScreenAppear'),\n",
       " ('PaymentScreenSuccessful',\n",
       "  'OffersScreenAppear',\n",
       "  'CartScreenAppear',\n",
       "  'OffersScreenAppear'),\n",
       " ('PaymentScreenSuccessful',\n",
       "  'OffersScreenAppear',\n",
       "  'CartScreenAppear',\n",
       "  'PaymentScreenSuccessful'),\n",
       " ('PaymentScreenSuccessful',\n",
       "  'OffersScreenAppear',\n",
       "  'MainScreenAppear',\n",
       "  'PaymentScreenSuccessful'),\n",
       " ('PaymentScreenSuccessful',\n",
       "  'PaymentScreenSuccessful',\n",
       "  'CartScreenAppear',\n",
       "  'OffersScreenAppear'),\n",
       " ('Tutorial', 'MainScreenAppear', 'CartScreenAppear', 'CartScreenAppear'),\n",
       " ('Tutorial', 'MainScreenAppear', 'CartScreenAppear', 'MainScreenAppear'),\n",
       " ('Tutorial', 'MainScreenAppear', 'CartScreenAppear', 'OffersScreenAppear'),\n",
       " ('Tutorial',\n",
       "  'MainScreenAppear',\n",
       "  'CartScreenAppear',\n",
       "  'PaymentScreenSuccessful'),\n",
       " ('Tutorial', 'MainScreenAppear', 'MainScreenAppear', 'CartScreenAppear'),\n",
       " ('Tutorial', 'MainScreenAppear', 'MainScreenAppear', 'MainScreenAppear'),\n",
       " ('Tutorial', 'MainScreenAppear', 'MainScreenAppear', 'OffersScreenAppear'),\n",
       " ('Tutorial',\n",
       "  'MainScreenAppear',\n",
       "  'MainScreenAppear',\n",
       "  'PaymentScreenSuccessful'),\n",
       " ('Tutorial', 'MainScreenAppear', 'OffersScreenAppear', 'CartScreenAppear'),\n",
       " ('Tutorial', 'MainScreenAppear', 'OffersScreenAppear', 'MainScreenAppear'),\n",
       " ('Tutorial', 'MainScreenAppear', 'OffersScreenAppear', 'OffersScreenAppear'),\n",
       " ('Tutorial',\n",
       "  'MainScreenAppear',\n",
       "  'OffersScreenAppear',\n",
       "  'PaymentScreenSuccessful'),\n",
       " ('Tutorial',\n",
       "  'MainScreenAppear',\n",
       "  'PaymentScreenSuccessful',\n",
       "  'CartScreenAppear'),\n",
       " ('Tutorial',\n",
       "  'MainScreenAppear',\n",
       "  'PaymentScreenSuccessful',\n",
       "  'MainScreenAppear'),\n",
       " ('Tutorial', 'MainScreenAppear', 'Tutorial', 'MainScreenAppear'),\n",
       " ('Tutorial', 'Tutorial', 'MainScreenAppear', 'CartScreenAppear'),\n",
       " ('Tutorial', 'Tutorial', 'MainScreenAppear', 'MainScreenAppear'),\n",
       " ('Tutorial', 'Tutorial', 'MainScreenAppear', 'OffersScreenAppear'),\n",
       " ('Tutorial', 'Tutorial', 'MainScreenAppear', 'PaymentScreenSuccessful'),\n",
       " ('Tutorial', 'Tutorial', 'Tutorial', 'MainScreenAppear'),\n",
       " ('Tutorial', 'Tutorial', 'Tutorial', 'Tutorial')}"
      ]
     },
     "execution_count": 56,
     "metadata": {},
     "output_type": "execute_result"
    }
   ],
   "source": [
    "user_path\n",
    "\n",
    "# смотря на этот результат, я думаю что ориентироваться на него будет неправильно,\n",
    "# так как у нас данные только за пару месяцев, скорее всего многие пользователи совершили какие либо\n",
    "# действия еще до того как был сгенерировал этот лог и данные в него (наш лог) не попали."
   ]
  },
  {
   "cell_type": "code",
   "execution_count": 63,
   "id": "7c70a8c9-a60c-44ba-b5f9-f3910047ca34",
   "metadata": {},
   "outputs": [
    {
     "name": "stdout",
     "output_type": "stream",
     "text": [
      "104\n"
     ]
    }
   ],
   "source": [
    "x = []\n",
    "for i in user_path:\n",
    "    if (('MainScreenAppear' or 'CartScreenAppear' or 'OffersScreenAppear') and 'PaymentScreenSuccessful') in i:\n",
    "        x.append(i)\n",
    "\n",
    "print(len(x))"
   ]
  },
  {
   "cell_type": "code",
   "execution_count": 64,
   "id": "6dc115e3-6429-482e-881f-f946b194c205",
   "metadata": {},
   "outputs": [
    {
     "data": {
      "text/plain": [
       "[('MainScreenAppear',\n",
       "  'PaymentScreenSuccessful',\n",
       "  'OffersScreenAppear',\n",
       "  'MainScreenAppear'),\n",
       " ('PaymentScreenSuccessful',\n",
       "  'CartScreenAppear',\n",
       "  'PaymentScreenSuccessful',\n",
       "  'CartScreenAppear'),\n",
       " ('MainScreenAppear',\n",
       "  'PaymentScreenSuccessful',\n",
       "  'MainScreenAppear',\n",
       "  'OffersScreenAppear'),\n",
       " ('MainScreenAppear',\n",
       "  'OffersScreenAppear',\n",
       "  'MainScreenAppear',\n",
       "  'PaymentScreenSuccessful'),\n",
       " ('CartScreenAppear',\n",
       "  'MainScreenAppear',\n",
       "  'CartScreenAppear',\n",
       "  'PaymentScreenSuccessful'),\n",
       " ('MainScreenAppear',\n",
       "  'MainScreenAppear',\n",
       "  'MainScreenAppear',\n",
       "  'PaymentScreenSuccessful'),\n",
       " ('PaymentScreenSuccessful',\n",
       "  'CartScreenAppear',\n",
       "  'CartScreenAppear',\n",
       "  'MainScreenAppear'),\n",
       " ('PaymentScreenSuccessful', 'CartScreenAppear', 'OffersScreenAppear'),\n",
       " ('CartScreenAppear',\n",
       "  'PaymentScreenSuccessful',\n",
       "  'MainScreenAppear',\n",
       "  'PaymentScreenSuccessful'),\n",
       " ('Tutorial',\n",
       "  'MainScreenAppear',\n",
       "  'PaymentScreenSuccessful',\n",
       "  'MainScreenAppear'),\n",
       " ('OffersScreenAppear',\n",
       "  'CartScreenAppear',\n",
       "  'PaymentScreenSuccessful',\n",
       "  'PaymentScreenSuccessful'),\n",
       " ('MainScreenAppear',\n",
       "  'MainScreenAppear',\n",
       "  'PaymentScreenSuccessful',\n",
       "  'OffersScreenAppear'),\n",
       " ('Tutorial',\n",
       "  'MainScreenAppear',\n",
       "  'OffersScreenAppear',\n",
       "  'PaymentScreenSuccessful'),\n",
       " ('PaymentScreenSuccessful',\n",
       "  'OffersScreenAppear',\n",
       "  'CartScreenAppear',\n",
       "  'PaymentScreenSuccessful'),\n",
       " ('CartScreenAppear',\n",
       "  'CartScreenAppear',\n",
       "  'PaymentScreenSuccessful',\n",
       "  'CartScreenAppear'),\n",
       " ('PaymentScreenSuccessful', 'CartScreenAppear', 'MainScreenAppear'),\n",
       " ('MainScreenAppear',\n",
       "  'PaymentScreenSuccessful',\n",
       "  'PaymentScreenSuccessful',\n",
       "  'PaymentScreenSuccessful'),\n",
       " ('CartScreenAppear',\n",
       "  'PaymentScreenSuccessful',\n",
       "  'OffersScreenAppear',\n",
       "  'OffersScreenAppear'),\n",
       " ('PaymentScreenSuccessful', 'MainScreenAppear', 'OffersScreenAppear'),\n",
       " ('MainScreenAppear',\n",
       "  'CartScreenAppear',\n",
       "  'PaymentScreenSuccessful',\n",
       "  'CartScreenAppear'),\n",
       " ('CartScreenAppear',\n",
       "  'PaymentScreenSuccessful',\n",
       "  'OffersScreenAppear',\n",
       "  'MainScreenAppear'),\n",
       " ('OffersScreenAppear',\n",
       "  'PaymentScreenSuccessful',\n",
       "  'CartScreenAppear',\n",
       "  'OffersScreenAppear'),\n",
       " ('Tutorial',\n",
       "  'MainScreenAppear',\n",
       "  'CartScreenAppear',\n",
       "  'PaymentScreenSuccessful'),\n",
       " ('PaymentScreenSuccessful',\n",
       "  'OffersScreenAppear',\n",
       "  'MainScreenAppear',\n",
       "  'PaymentScreenSuccessful'),\n",
       " ('CartScreenAppear',\n",
       "  'OffersScreenAppear',\n",
       "  'PaymentScreenSuccessful',\n",
       "  'CartScreenAppear'),\n",
       " ('CartScreenAppear',\n",
       "  'MainScreenAppear',\n",
       "  'PaymentScreenSuccessful',\n",
       "  'CartScreenAppear'),\n",
       " ('CartScreenAppear',\n",
       "  'PaymentScreenSuccessful',\n",
       "  'MainScreenAppear',\n",
       "  'MainScreenAppear'),\n",
       " ('MainScreenAppear',\n",
       "  'PaymentScreenSuccessful',\n",
       "  'MainScreenAppear',\n",
       "  'CartScreenAppear'),\n",
       " ('OffersScreenAppear',\n",
       "  'PaymentScreenSuccessful',\n",
       "  'CartScreenAppear',\n",
       "  'MainScreenAppear'),\n",
       " ('CartScreenAppear',\n",
       "  'PaymentScreenSuccessful',\n",
       "  'CartScreenAppear',\n",
       "  'OffersScreenAppear'),\n",
       " ('OffersScreenAppear',\n",
       "  'CartScreenAppear',\n",
       "  'PaymentScreenSuccessful',\n",
       "  'MainScreenAppear'),\n",
       " ('PaymentScreenSuccessful',\n",
       "  'CartScreenAppear',\n",
       "  'OffersScreenAppear',\n",
       "  'PaymentScreenSuccessful'),\n",
       " ('PaymentScreenSuccessful',\n",
       "  'CartScreenAppear',\n",
       "  'OffersScreenAppear',\n",
       "  'CartScreenAppear'),\n",
       " ('OffersScreenAppear',\n",
       "  'CartScreenAppear',\n",
       "  'OffersScreenAppear',\n",
       "  'PaymentScreenSuccessful'),\n",
       " ('MainScreenAppear',\n",
       "  'MainScreenAppear',\n",
       "  'PaymentScreenSuccessful',\n",
       "  'CartScreenAppear'),\n",
       " ('CartScreenAppear',\n",
       "  'PaymentScreenSuccessful',\n",
       "  'PaymentScreenSuccessful',\n",
       "  'CartScreenAppear'),\n",
       " ('MainScreenAppear',\n",
       "  'OffersScreenAppear',\n",
       "  'PaymentScreenSuccessful',\n",
       "  'CartScreenAppear'),\n",
       " ('CartScreenAppear',\n",
       "  'PaymentScreenSuccessful',\n",
       "  'CartScreenAppear',\n",
       "  'MainScreenAppear'),\n",
       " ('MainScreenAppear',\n",
       "  'PaymentScreenSuccessful',\n",
       "  'CartScreenAppear',\n",
       "  'CartScreenAppear'),\n",
       " ('PaymentScreenSuccessful',\n",
       "  'CartScreenAppear',\n",
       "  'MainScreenAppear',\n",
       "  'CartScreenAppear'),\n",
       " ('OffersScreenAppear',\n",
       "  'CartScreenAppear',\n",
       "  'MainScreenAppear',\n",
       "  'PaymentScreenSuccessful'),\n",
       " ('PaymentScreenSuccessful',\n",
       "  'CartScreenAppear',\n",
       "  'Tutorial',\n",
       "  'MainScreenAppear'),\n",
       " ('PaymentScreenSuccessful',\n",
       "  'MainScreenAppear',\n",
       "  'OffersScreenAppear',\n",
       "  'CartScreenAppear'),\n",
       " ('CartScreenAppear',\n",
       "  'PaymentScreenSuccessful',\n",
       "  'MainScreenAppear',\n",
       "  'OffersScreenAppear'),\n",
       " ('PaymentScreenSuccessful',\n",
       "  'CartScreenAppear',\n",
       "  'CartScreenAppear',\n",
       "  'PaymentScreenSuccessful'),\n",
       " ('OffersScreenAppear',\n",
       "  'CartScreenAppear',\n",
       "  'PaymentScreenSuccessful',\n",
       "  'OffersScreenAppear'),\n",
       " ('OffersScreenAppear',\n",
       "  'CartScreenAppear',\n",
       "  'CartScreenAppear',\n",
       "  'PaymentScreenSuccessful'),\n",
       " ('OffersScreenAppear',\n",
       "  'OffersScreenAppear',\n",
       "  'OffersScreenAppear',\n",
       "  'PaymentScreenSuccessful'),\n",
       " ('Tutorial',\n",
       "  'MainScreenAppear',\n",
       "  'PaymentScreenSuccessful',\n",
       "  'CartScreenAppear'),\n",
       " ('OffersScreenAppear',\n",
       "  'PaymentScreenSuccessful',\n",
       "  'CartScreenAppear',\n",
       "  'CartScreenAppear'),\n",
       " ('OffersScreenAppear',\n",
       "  'MainScreenAppear',\n",
       "  'OffersScreenAppear',\n",
       "  'PaymentScreenSuccessful'),\n",
       " ('PaymentScreenSuccessful',\n",
       "  'OffersScreenAppear',\n",
       "  'CartScreenAppear',\n",
       "  'OffersScreenAppear'),\n",
       " ('MainScreenAppear',\n",
       "  'PaymentScreenSuccessful',\n",
       "  'MainScreenAppear',\n",
       "  'PaymentScreenSuccessful'),\n",
       " ('OffersScreenAppear', 'PaymentScreenSuccessful', 'CartScreenAppear'),\n",
       " ('OffersScreenAppear',\n",
       "  'OffersScreenAppear',\n",
       "  'MainScreenAppear',\n",
       "  'PaymentScreenSuccessful'),\n",
       " ('CartScreenAppear',\n",
       "  'CartScreenAppear',\n",
       "  'CartScreenAppear',\n",
       "  'PaymentScreenSuccessful'),\n",
       " ('OffersScreenAppear',\n",
       "  'MainScreenAppear',\n",
       "  'MainScreenAppear',\n",
       "  'PaymentScreenSuccessful'),\n",
       " ('PaymentScreenSuccessful',\n",
       "  'OffersScreenAppear',\n",
       "  'CartScreenAppear',\n",
       "  'MainScreenAppear'),\n",
       " ('OffersScreenAppear',\n",
       "  'OffersScreenAppear',\n",
       "  'PaymentScreenSuccessful',\n",
       "  'OffersScreenAppear'),\n",
       " ('Tutorial', 'Tutorial', 'MainScreenAppear', 'PaymentScreenSuccessful'),\n",
       " ('OffersScreenAppear',\n",
       "  'MainScreenAppear',\n",
       "  'PaymentScreenSuccessful',\n",
       "  'OffersScreenAppear'),\n",
       " ('MainScreenAppear',\n",
       "  'CartScreenAppear',\n",
       "  'PaymentScreenSuccessful',\n",
       "  'OffersScreenAppear'),\n",
       " ('MainScreenAppear',\n",
       "  'PaymentScreenSuccessful',\n",
       "  'CartScreenAppear',\n",
       "  'PaymentScreenSuccessful'),\n",
       " ('PaymentScreenSuccessful',\n",
       "  'CartScreenAppear',\n",
       "  'MainScreenAppear',\n",
       "  'PaymentScreenSuccessful'),\n",
       " ('MainScreenAppear',\n",
       "  'OffersScreenAppear',\n",
       "  'OffersScreenAppear',\n",
       "  'PaymentScreenSuccessful'),\n",
       " ('PaymentScreenSuccessful',\n",
       "  'PaymentScreenSuccessful',\n",
       "  'CartScreenAppear',\n",
       "  'OffersScreenAppear'),\n",
       " ('MainScreenAppear',\n",
       "  'MainScreenAppear',\n",
       "  'OffersScreenAppear',\n",
       "  'PaymentScreenSuccessful'),\n",
       " ('CartScreenAppear',\n",
       "  'OffersScreenAppear',\n",
       "  'MainScreenAppear',\n",
       "  'PaymentScreenSuccessful'),\n",
       " ('OffersScreenAppear',\n",
       "  'OffersScreenAppear',\n",
       "  'CartScreenAppear',\n",
       "  'PaymentScreenSuccessful'),\n",
       " ('OffersScreenAppear',\n",
       "  'MainScreenAppear',\n",
       "  'CartScreenAppear',\n",
       "  'PaymentScreenSuccessful'),\n",
       " ('CartScreenAppear',\n",
       "  'PaymentScreenSuccessful',\n",
       "  'OffersScreenAppear',\n",
       "  'CartScreenAppear'),\n",
       " ('CartScreenAppear',\n",
       "  'OffersScreenAppear',\n",
       "  'PaymentScreenSuccessful',\n",
       "  'OffersScreenAppear'),\n",
       " ('OffersScreenAppear',\n",
       "  'MainScreenAppear',\n",
       "  'PaymentScreenSuccessful',\n",
       "  'MainScreenAppear'),\n",
       " ('MainScreenAppear',\n",
       "  'CartScreenAppear',\n",
       "  'PaymentScreenSuccessful',\n",
       "  'MainScreenAppear'),\n",
       " ('PaymentScreenSuccessful',\n",
       "  'MainScreenAppear',\n",
       "  'OffersScreenAppear',\n",
       "  'PaymentScreenSuccessful'),\n",
       " ('MainScreenAppear',\n",
       "  'CartScreenAppear',\n",
       "  'OffersScreenAppear',\n",
       "  'PaymentScreenSuccessful'),\n",
       " ('PaymentScreenSuccessful',\n",
       "  'CartScreenAppear',\n",
       "  'OffersScreenAppear',\n",
       "  'OffersScreenAppear'),\n",
       " ('CartScreenAppear',\n",
       "  'CartScreenAppear',\n",
       "  'MainScreenAppear',\n",
       "  'PaymentScreenSuccessful'),\n",
       " ('OffersScreenAppear',\n",
       "  'PaymentScreenSuccessful',\n",
       "  'CartScreenAppear',\n",
       "  'PaymentScreenSuccessful'),\n",
       " ('CartScreenAppear',\n",
       "  'OffersScreenAppear',\n",
       "  'CartScreenAppear',\n",
       "  'PaymentScreenSuccessful'),\n",
       " ('CartScreenAppear',\n",
       "  'PaymentScreenSuccessful',\n",
       "  'MainScreenAppear',\n",
       "  'CartScreenAppear'),\n",
       " ('OffersScreenAppear',\n",
       "  'CartScreenAppear',\n",
       "  'PaymentScreenSuccessful',\n",
       "  'CartScreenAppear'),\n",
       " ('CartScreenAppear',\n",
       "  'MainScreenAppear',\n",
       "  'PaymentScreenSuccessful',\n",
       "  'MainScreenAppear'),\n",
       " ('CartScreenAppear',\n",
       "  'OffersScreenAppear',\n",
       "  'OffersScreenAppear',\n",
       "  'PaymentScreenSuccessful'),\n",
       " ('MainScreenAppear',\n",
       "  'PaymentScreenSuccessful',\n",
       "  'MainScreenAppear',\n",
       "  'MainScreenAppear'),\n",
       " ('MainScreenAppear',\n",
       "  'CartScreenAppear',\n",
       "  'MainScreenAppear',\n",
       "  'PaymentScreenSuccessful'),\n",
       " ('MainScreenAppear',\n",
       "  'PaymentScreenSuccessful',\n",
       "  'CartScreenAppear',\n",
       "  'OffersScreenAppear'),\n",
       " ('MainScreenAppear',\n",
       "  'OffersScreenAppear',\n",
       "  'CartScreenAppear',\n",
       "  'PaymentScreenSuccessful'),\n",
       " ('CartScreenAppear',\n",
       "  'MainScreenAppear',\n",
       "  'OffersScreenAppear',\n",
       "  'PaymentScreenSuccessful'),\n",
       " ('PaymentScreenSuccessful',\n",
       "  'CartScreenAppear',\n",
       "  'MainScreenAppear',\n",
       "  'OffersScreenAppear'),\n",
       " ('PaymentScreenSuccessful',\n",
       "  'CartScreenAppear',\n",
       "  'OffersScreenAppear',\n",
       "  'MainScreenAppear'),\n",
       " ('MainScreenAppear',\n",
       "  'MainScreenAppear',\n",
       "  'CartScreenAppear',\n",
       "  'PaymentScreenSuccessful'),\n",
       " ('Tutorial',\n",
       "  'MainScreenAppear',\n",
       "  'MainScreenAppear',\n",
       "  'PaymentScreenSuccessful'),\n",
       " ('MainScreenAppear',\n",
       "  'MainScreenAppear',\n",
       "  'PaymentScreenSuccessful',\n",
       "  'MainScreenAppear'),\n",
       " ('CartScreenAppear',\n",
       "  'CartScreenAppear',\n",
       "  'PaymentScreenSuccessful',\n",
       "  'MainScreenAppear'),\n",
       " ('PaymentScreenSuccessful',\n",
       "  'MainScreenAppear',\n",
       "  'OffersScreenAppear',\n",
       "  'OffersScreenAppear'),\n",
       " ('CartScreenAppear',\n",
       "  'MainScreenAppear',\n",
       "  'MainScreenAppear',\n",
       "  'PaymentScreenSuccessful'),\n",
       " ('MainScreenAppear',\n",
       "  'PaymentScreenSuccessful',\n",
       "  'CartScreenAppear',\n",
       "  'MainScreenAppear'),\n",
       " ('MainScreenAppear',\n",
       "  'CartScreenAppear',\n",
       "  'CartScreenAppear',\n",
       "  'PaymentScreenSuccessful'),\n",
       " ('PaymentScreenSuccessful',\n",
       "  'CartScreenAppear',\n",
       "  'MainScreenAppear',\n",
       "  'MainScreenAppear'),\n",
       " ('OffersScreenAppear',\n",
       "  'OffersScreenAppear',\n",
       "  'PaymentScreenSuccessful',\n",
       "  'CartScreenAppear'),\n",
       " ('OffersScreenAppear',\n",
       "  'MainScreenAppear',\n",
       "  'PaymentScreenSuccessful',\n",
       "  'CartScreenAppear'),\n",
       " ('PaymentScreenSuccessful',\n",
       "  'MainScreenAppear',\n",
       "  'CartScreenAppear',\n",
       "  'MainScreenAppear'),\n",
       " ('CartScreenAppear',\n",
       "  'PaymentScreenSuccessful',\n",
       "  'OffersScreenAppear',\n",
       "  'PaymentScreenSuccessful')]"
      ]
     },
     "execution_count": 64,
     "metadata": {},
     "output_type": "execute_result"
    }
   ],
   "source": [
    "x"
   ]
  },
  {
   "cell_type": "markdown",
   "id": "5f5d2e47-7d83-45d1-90fb-a24f2b18a67e",
   "metadata": {},
   "source": [
    "# Выводы"
   ]
  },
  {
   "cell_type": "markdown",
   "id": "da98028a-c3f8-42ef-848b-ca4e2f25803c",
   "metadata": {},
   "source": [
    "1. Сам не совсем понимаю чего я пытался получить в конце, но все же я думаю веб-сайт позволяет провести покупку с главного экрана обходя корзину.\n",
    "2. Вероятно проблема в дизайне и функционале главной страницы, возможно она непонятна пользователям, а также судя по тому что посещений страницы\n",
    "   Tutorial очень мало, скорее всего эта страница где-то спрятана и только отчаянные ее в итоге находят.\n",
    "3. Также, думаю будет замечательно оптимизировать ведение логов для того чтобы все покупки проходили через корзину, тогда не будет сомненй в достверности\n",
    "   построенной воронки. Сейчас я той воронке не очень доверяю так как мы видим что пользователи могут взять и купить товар просто зайдя на главную\n",
    "   страницу"
   ]
  },
  {
   "cell_type": "code",
   "execution_count": null,
   "id": "ac337149-aa88-49ad-824a-92a606a4759b",
   "metadata": {},
   "outputs": [],
   "source": []
  }
 ],
 "metadata": {
  "kernelspec": {
   "display_name": "Python 3 (ipykernel)",
   "language": "python",
   "name": "python3"
  },
  "language_info": {
   "codemirror_mode": {
    "name": "ipython",
    "version": 3
   },
   "file_extension": ".py",
   "mimetype": "text/x-python",
   "name": "python",
   "nbconvert_exporter": "python",
   "pygments_lexer": "ipython3",
   "version": "3.11.5"
  }
 },
 "nbformat": 4,
 "nbformat_minor": 5
}
