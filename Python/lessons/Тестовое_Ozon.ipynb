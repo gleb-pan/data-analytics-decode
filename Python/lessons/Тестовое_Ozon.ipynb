{
 "cells": [
  {
   "cell_type": "markdown",
   "metadata": {
    "id": "L3VRxBZnAKBV"
   },
   "source": [
    "# Тестовое в OZON"
   ]
  },
  {
   "cell_type": "markdown",
   "metadata": {
    "id": "SWI-FAdCAKjs"
   },
   "source": [
    "## Задание 1\n",
    "\n",
    "Для выполнения этого задания требуется сгенерировать `DataFrame` с синтетическими данными. `DataFrame` должен состоять из `10000` строк и `5` колонок. Каждую из колонок мы предлагаем тебе создать и наполнить следующим образом:\n",
    "\n",
    "* 1-я колонка – `user_id` – идентификатор пользователя. Длина `user_id` должна равняться 15-ти символам. Идентификатор состоит из случайной комбинации следующих символов: `\"1234567890abcdefghijk\"`. Для каждой строки в `DataFrame` значение `user_id` формируются случайным образом.\n",
    "\n",
    "* 2-я колонка – `order_number` – номер заказа. Столбец необходимо заполнить случайными значениями в диапазоне от `1` до `10`.\n",
    "\n",
    "* 3-я колонка – `click2delivery` – время, прошедшее с момента оформления заказа до вручения клиенту. Столбец необходимо заполнить случайными значениями из нормального распределения со средним `1440` и стандартным отклонением `200`.\n",
    "\n",
    "* 4-я колонка – `order_items_sum` – общая стоимость заказа. Значения для этого столбца необходимо взять из экспоненциального распределения с параметром `λ = 1`, смещённого на `+1`.\n",
    "\n",
    "* 5-я колонка – `retention` – день жизни покупателя, в который он совершил заказ. Необходимо сгенерировать значения `1, 2, 3, 4, 5` с вероятностями `0.35, 0.25, 0.2, 0.15` и `0.05` соответственно.\n",
    "\n",
    "В случае, если в колонке `user_id` встречаются дублирующиеся значения, оставь только первое из них."
   ]
  },
  {
   "cell_type": "code",
   "execution_count": 1,
   "metadata": {
    "id": "GGG6plnA_ApA"
   },
   "outputs": [
    {
     "name": "stdout",
     "output_type": "stream",
     "text": [
      "Requirement already satisfied: pandas in c:\\users\\gleb\\anaconda3\\envs\\da_decode\\lib\\site-packages (2.1.2)\n",
      "Requirement already satisfied: numpy<2,>=1.23.2 in c:\\users\\gleb\\anaconda3\\envs\\da_decode\\lib\\site-packages (from pandas) (1.26.1)\n",
      "Requirement already satisfied: python-dateutil>=2.8.2 in c:\\users\\gleb\\anaconda3\\envs\\da_decode\\lib\\site-packages (from pandas) (2.8.2)\n",
      "Requirement already satisfied: pytz>=2020.1 in c:\\users\\gleb\\anaconda3\\envs\\da_decode\\lib\\site-packages (from pandas) (2023.3.post1)\n",
      "Requirement already satisfied: tzdata>=2022.1 in c:\\users\\gleb\\anaconda3\\envs\\da_decode\\lib\\site-packages (from pandas) (2023.3)\n",
      "Requirement already satisfied: six>=1.5 in c:\\users\\gleb\\anaconda3\\envs\\da_decode\\lib\\site-packages (from python-dateutil>=2.8.2->pandas) (1.16.0)\n"
     ]
    }
   ],
   "source": [
    "!pip install pandas"
   ]
  },
  {
   "cell_type": "code",
   "execution_count": 2,
   "metadata": {
    "id": "jRXgdCUQ0xDi"
   },
   "outputs": [
    {
     "name": "stdout",
     "output_type": "stream",
     "text": [
      "Requirement already satisfied: numpy in c:\\users\\gleb\\anaconda3\\envs\\da_decode\\lib\\site-packages (1.26.1)\n"
     ]
    }
   ],
   "source": [
    "!pip install numpy"
   ]
  },
  {
   "cell_type": "code",
   "execution_count": 3,
   "metadata": {
    "colab": {
     "base_uri": "https://localhost:8080/",
     "height": 206
    },
    "id": "f0L3AtZ-0zhN",
    "outputId": "ab2fd456-5eea-4d82-ffb0-d1f1f422ad6e"
   },
   "outputs": [
    {
     "data": {
      "text/html": [
       "<div>\n",
       "<style scoped>\n",
       "    .dataframe tbody tr th:only-of-type {\n",
       "        vertical-align: middle;\n",
       "    }\n",
       "\n",
       "    .dataframe tbody tr th {\n",
       "        vertical-align: top;\n",
       "    }\n",
       "\n",
       "    .dataframe thead th {\n",
       "        text-align: right;\n",
       "    }\n",
       "</style>\n",
       "<table border=\"1\" class=\"dataframe\">\n",
       "  <thead>\n",
       "    <tr style=\"text-align: right;\">\n",
       "      <th></th>\n",
       "      <th>user_id</th>\n",
       "      <th>order_number</th>\n",
       "      <th>click2delivery</th>\n",
       "      <th>order_items_sum</th>\n",
       "      <th>retention</th>\n",
       "    </tr>\n",
       "  </thead>\n",
       "  <tbody>\n",
       "    <tr>\n",
       "      <th>0</th>\n",
       "      <td>k4198854h3id213</td>\n",
       "      <td>7</td>\n",
       "      <td>1198.160258</td>\n",
       "      <td>1.010227</td>\n",
       "      <td>1</td>\n",
       "    </tr>\n",
       "    <tr>\n",
       "      <th>1</th>\n",
       "      <td>78gj1h7khd8ei91</td>\n",
       "      <td>4</td>\n",
       "      <td>1451.348337</td>\n",
       "      <td>2.189504</td>\n",
       "      <td>1</td>\n",
       "    </tr>\n",
       "    <tr>\n",
       "      <th>2</th>\n",
       "      <td>6da957a43c4bbj9</td>\n",
       "      <td>8</td>\n",
       "      <td>1462.691208</td>\n",
       "      <td>1.968382</td>\n",
       "      <td>1</td>\n",
       "    </tr>\n",
       "    <tr>\n",
       "      <th>3</th>\n",
       "      <td>2eh4c3h0kjbi732</td>\n",
       "      <td>5</td>\n",
       "      <td>1477.167526</td>\n",
       "      <td>2.035588</td>\n",
       "      <td>2</td>\n",
       "    </tr>\n",
       "    <tr>\n",
       "      <th>4</th>\n",
       "      <td>80384c9ekb6bb79</td>\n",
       "      <td>7</td>\n",
       "      <td>1623.974303</td>\n",
       "      <td>1.469017</td>\n",
       "      <td>2</td>\n",
       "    </tr>\n",
       "  </tbody>\n",
       "</table>\n",
       "</div>"
      ],
      "text/plain": [
       "           user_id  order_number  click2delivery  order_items_sum  retention\n",
       "0  k4198854h3id213             7     1198.160258         1.010227          1\n",
       "1  78gj1h7khd8ei91             4     1451.348337         2.189504          1\n",
       "2  6da957a43c4bbj9             8     1462.691208         1.968382          1\n",
       "3  2eh4c3h0kjbi732             5     1477.167526         2.035588          2\n",
       "4  80384c9ekb6bb79             7     1623.974303         1.469017          2"
      ]
     },
     "execution_count": 3,
     "metadata": {},
     "output_type": "execute_result"
    }
   ],
   "source": [
    "import pandas as pd\n",
    "import numpy as np\n",
    "import random\n",
    "\n",
    "np.random.seed(42)\n",
    "random.seed(42)\n",
    "\n",
    "def generate_user_id():\n",
    "  characters = \"1234567890abcdefghijk\"\n",
    "  return ''.join(random.choice(characters) for _ in range(15))\n",
    "\n",
    "def generate_df(n):\n",
    "  data = {\n",
    "      'user_id': [generate_user_id() for _ in range(n)],\n",
    "      'order_number': np.random.randint(1, 11, size=n),\n",
    "      'click2delivery': np.random.normal(1440, 200, size=n),\n",
    "      'order_items_sum': np.random.exponential(1, size=n) + 1,\n",
    "      'retention': np.random.choice([1, 2, 3, 4, 5], size=n, p=[0.35, 0.25, 0.2, 0.15, 0.05])\n",
    "  }\n",
    "  df = pd.DataFrame(data)\n",
    "  return df\n",
    "\n",
    "df = pd.DataFrame()\n",
    "n = 10_000\n",
    "\n",
    "while n:\n",
    "  new_df = generate_df(n)\n",
    "  df = pd.concat([df, new_df])\n",
    "  df = df.drop_duplicates(subset='user_id', keep='first')\n",
    "  n = 10_000 - len(df)\n",
    "\n",
    "df.head()"
   ]
  },
  {
   "cell_type": "code",
   "execution_count": 4,
   "metadata": {
    "colab": {
     "base_uri": "https://localhost:8080/"
    },
    "id": "ovVh4lig3Bmo",
    "outputId": "0ccf7bb0-7dbf-4de5-c01b-be93875f84de"
   },
   "outputs": [
    {
     "data": {
      "text/plain": [
       "10000"
      ]
     },
     "execution_count": 4,
     "metadata": {},
     "output_type": "execute_result"
    }
   ],
   "source": [
    "len(df)"
   ]
  },
  {
   "cell_type": "markdown",
   "metadata": {
    "id": "aluOEkKhAxMN"
   },
   "source": [
    "## Задание 2\n",
    "\n",
    "Для всех строк исходного датасета, сгруппированных по номеру заказа, посчитать среднее значение времени доставки по группе. Результат необходимо добавить в новый столбец датафрейма."
   ]
  },
  {
   "cell_type": "code",
   "execution_count": 5,
   "metadata": {
    "id": "ikQQtj0jDeeS"
   },
   "outputs": [],
   "source": [
    "orders = (\n",
    "    df\n",
    "    .groupby('order_number')['click2delivery']\n",
    "    .agg(mean_time='mean')\n",
    "    .reset_index()\n",
    ")"
   ]
  },
  {
   "cell_type": "code",
   "execution_count": 6,
   "metadata": {
    "colab": {
     "base_uri": "https://localhost:8080/",
     "height": 363
    },
    "id": "aYHwGKjv5wD3",
    "outputId": "7367cdf5-bb94-4f85-c88f-9d659aadc373"
   },
   "outputs": [
    {
     "data": {
      "text/html": [
       "<div>\n",
       "<style scoped>\n",
       "    .dataframe tbody tr th:only-of-type {\n",
       "        vertical-align: middle;\n",
       "    }\n",
       "\n",
       "    .dataframe tbody tr th {\n",
       "        vertical-align: top;\n",
       "    }\n",
       "\n",
       "    .dataframe thead th {\n",
       "        text-align: right;\n",
       "    }\n",
       "</style>\n",
       "<table border=\"1\" class=\"dataframe\">\n",
       "  <thead>\n",
       "    <tr style=\"text-align: right;\">\n",
       "      <th></th>\n",
       "      <th>order_number</th>\n",
       "      <th>mean_time</th>\n",
       "    </tr>\n",
       "  </thead>\n",
       "  <tbody>\n",
       "    <tr>\n",
       "      <th>0</th>\n",
       "      <td>1</td>\n",
       "      <td>1443.937094</td>\n",
       "    </tr>\n",
       "    <tr>\n",
       "      <th>1</th>\n",
       "      <td>2</td>\n",
       "      <td>1442.508835</td>\n",
       "    </tr>\n",
       "    <tr>\n",
       "      <th>2</th>\n",
       "      <td>3</td>\n",
       "      <td>1435.860172</td>\n",
       "    </tr>\n",
       "    <tr>\n",
       "      <th>3</th>\n",
       "      <td>4</td>\n",
       "      <td>1444.343693</td>\n",
       "    </tr>\n",
       "    <tr>\n",
       "      <th>4</th>\n",
       "      <td>5</td>\n",
       "      <td>1441.499895</td>\n",
       "    </tr>\n",
       "    <tr>\n",
       "      <th>5</th>\n",
       "      <td>6</td>\n",
       "      <td>1442.861916</td>\n",
       "    </tr>\n",
       "    <tr>\n",
       "      <th>6</th>\n",
       "      <td>7</td>\n",
       "      <td>1439.866081</td>\n",
       "    </tr>\n",
       "    <tr>\n",
       "      <th>7</th>\n",
       "      <td>8</td>\n",
       "      <td>1443.426737</td>\n",
       "    </tr>\n",
       "    <tr>\n",
       "      <th>8</th>\n",
       "      <td>9</td>\n",
       "      <td>1431.180554</td>\n",
       "    </tr>\n",
       "    <tr>\n",
       "      <th>9</th>\n",
       "      <td>10</td>\n",
       "      <td>1444.398974</td>\n",
       "    </tr>\n",
       "  </tbody>\n",
       "</table>\n",
       "</div>"
      ],
      "text/plain": [
       "   order_number    mean_time\n",
       "0             1  1443.937094\n",
       "1             2  1442.508835\n",
       "2             3  1435.860172\n",
       "3             4  1444.343693\n",
       "4             5  1441.499895\n",
       "5             6  1442.861916\n",
       "6             7  1439.866081\n",
       "7             8  1443.426737\n",
       "8             9  1431.180554\n",
       "9            10  1444.398974"
      ]
     },
     "execution_count": 6,
     "metadata": {},
     "output_type": "execute_result"
    }
   ],
   "source": [
    "orders"
   ]
  },
  {
   "cell_type": "code",
   "execution_count": 7,
   "metadata": {
    "id": "oAwMdM4f6JDe"
   },
   "outputs": [],
   "source": [
    "df = df.merge(orders, how='inner', left_on='order_number', right_on='order_number')"
   ]
  },
  {
   "cell_type": "code",
   "execution_count": 8,
   "metadata": {
    "colab": {
     "base_uri": "https://localhost:8080/",
     "height": 206
    },
    "id": "tB2_f1CZ5wK-",
    "outputId": "811c97cd-1d37-4a67-b3f5-b398dec4ec1c"
   },
   "outputs": [
    {
     "data": {
      "text/html": [
       "<div>\n",
       "<style scoped>\n",
       "    .dataframe tbody tr th:only-of-type {\n",
       "        vertical-align: middle;\n",
       "    }\n",
       "\n",
       "    .dataframe tbody tr th {\n",
       "        vertical-align: top;\n",
       "    }\n",
       "\n",
       "    .dataframe thead th {\n",
       "        text-align: right;\n",
       "    }\n",
       "</style>\n",
       "<table border=\"1\" class=\"dataframe\">\n",
       "  <thead>\n",
       "    <tr style=\"text-align: right;\">\n",
       "      <th></th>\n",
       "      <th>user_id</th>\n",
       "      <th>order_number</th>\n",
       "      <th>click2delivery</th>\n",
       "      <th>order_items_sum</th>\n",
       "      <th>retention</th>\n",
       "      <th>mean_time</th>\n",
       "    </tr>\n",
       "  </thead>\n",
       "  <tbody>\n",
       "    <tr>\n",
       "      <th>0</th>\n",
       "      <td>k4198854h3id213</td>\n",
       "      <td>7</td>\n",
       "      <td>1198.160258</td>\n",
       "      <td>1.010227</td>\n",
       "      <td>1</td>\n",
       "      <td>1439.866081</td>\n",
       "    </tr>\n",
       "    <tr>\n",
       "      <th>1</th>\n",
       "      <td>80384c9ekb6bb79</td>\n",
       "      <td>7</td>\n",
       "      <td>1623.974303</td>\n",
       "      <td>1.469017</td>\n",
       "      <td>2</td>\n",
       "      <td>1439.866081</td>\n",
       "    </tr>\n",
       "    <tr>\n",
       "      <th>2</th>\n",
       "      <td>e5958hh9idicb85</td>\n",
       "      <td>7</td>\n",
       "      <td>1316.771308</td>\n",
       "      <td>2.666632</td>\n",
       "      <td>1</td>\n",
       "      <td>1439.866081</td>\n",
       "    </tr>\n",
       "    <tr>\n",
       "      <th>3</th>\n",
       "      <td>hdj5866d16ad896</td>\n",
       "      <td>7</td>\n",
       "      <td>1277.894274</td>\n",
       "      <td>1.457489</td>\n",
       "      <td>5</td>\n",
       "      <td>1439.866081</td>\n",
       "    </tr>\n",
       "    <tr>\n",
       "      <th>4</th>\n",
       "      <td>1007dijkaeee7gf</td>\n",
       "      <td>7</td>\n",
       "      <td>1192.082397</td>\n",
       "      <td>1.650405</td>\n",
       "      <td>5</td>\n",
       "      <td>1439.866081</td>\n",
       "    </tr>\n",
       "  </tbody>\n",
       "</table>\n",
       "</div>"
      ],
      "text/plain": [
       "           user_id  order_number  click2delivery  order_items_sum  retention  \\\n",
       "0  k4198854h3id213             7     1198.160258         1.010227          1   \n",
       "1  80384c9ekb6bb79             7     1623.974303         1.469017          2   \n",
       "2  e5958hh9idicb85             7     1316.771308         2.666632          1   \n",
       "3  hdj5866d16ad896             7     1277.894274         1.457489          5   \n",
       "4  1007dijkaeee7gf             7     1192.082397         1.650405          5   \n",
       "\n",
       "     mean_time  \n",
       "0  1439.866081  \n",
       "1  1439.866081  \n",
       "2  1439.866081  \n",
       "3  1439.866081  \n",
       "4  1439.866081  "
      ]
     },
     "execution_count": 8,
     "metadata": {},
     "output_type": "execute_result"
    }
   ],
   "source": [
    "df.head()"
   ]
  },
  {
   "cell_type": "markdown",
   "metadata": {
    "id": "FeorZxdOGr3i"
   },
   "source": [
    "## Задание 3\n",
    "\n",
    "Отдельной колонкой добавить значения последовательности, начинающейся с `0` и `1`, где каждый следующий элемент является суммой двух предыдущих, умноженных на `0.5`."
   ]
  },
  {
   "cell_type": "code",
   "execution_count": 9,
   "metadata": {
    "id": "4D-kZlxdG1e6"
   },
   "outputs": [],
   "source": [
    "arr = [0, 1]\n",
    "\n",
    "while len(arr) < 10_000:\n",
    "  arr.append(sum(arr[-2:]) * 0.5)"
   ]
  },
  {
   "cell_type": "code",
   "execution_count": 10,
   "metadata": {
    "colab": {
     "base_uri": "https://localhost:8080/"
    },
    "id": "qYIkGK4E7Kbm",
    "outputId": "8f59f443-be95-421f-f171-9ed965a9ddb4"
   },
   "outputs": [
    {
     "data": {
      "text/plain": [
       "10000"
      ]
     },
     "execution_count": 10,
     "metadata": {},
     "output_type": "execute_result"
    }
   ],
   "source": [
    "len(arr)"
   ]
  },
  {
   "cell_type": "code",
   "execution_count": 11,
   "metadata": {
    "id": "H45q-7DS7Kms"
   },
   "outputs": [],
   "source": [
    "df['seq'] = arr"
   ]
  },
  {
   "cell_type": "code",
   "execution_count": 12,
   "metadata": {
    "colab": {
     "base_uri": "https://localhost:8080/",
     "height": 676
    },
    "id": "RO_6Xhy_7yXN",
    "outputId": "7b2a2ffc-8691-44f9-8186-7b4ca24b84c1"
   },
   "outputs": [
    {
     "data": {
      "text/html": [
       "<div>\n",
       "<style scoped>\n",
       "    .dataframe tbody tr th:only-of-type {\n",
       "        vertical-align: middle;\n",
       "    }\n",
       "\n",
       "    .dataframe tbody tr th {\n",
       "        vertical-align: top;\n",
       "    }\n",
       "\n",
       "    .dataframe thead th {\n",
       "        text-align: right;\n",
       "    }\n",
       "</style>\n",
       "<table border=\"1\" class=\"dataframe\">\n",
       "  <thead>\n",
       "    <tr style=\"text-align: right;\">\n",
       "      <th></th>\n",
       "      <th>user_id</th>\n",
       "      <th>order_number</th>\n",
       "      <th>click2delivery</th>\n",
       "      <th>order_items_sum</th>\n",
       "      <th>retention</th>\n",
       "      <th>mean_time</th>\n",
       "      <th>seq</th>\n",
       "    </tr>\n",
       "  </thead>\n",
       "  <tbody>\n",
       "    <tr>\n",
       "      <th>0</th>\n",
       "      <td>k4198854h3id213</td>\n",
       "      <td>7</td>\n",
       "      <td>1198.160258</td>\n",
       "      <td>1.010227</td>\n",
       "      <td>1</td>\n",
       "      <td>1439.866081</td>\n",
       "      <td>0.000000</td>\n",
       "    </tr>\n",
       "    <tr>\n",
       "      <th>1</th>\n",
       "      <td>80384c9ekb6bb79</td>\n",
       "      <td>7</td>\n",
       "      <td>1623.974303</td>\n",
       "      <td>1.469017</td>\n",
       "      <td>2</td>\n",
       "      <td>1439.866081</td>\n",
       "      <td>1.000000</td>\n",
       "    </tr>\n",
       "    <tr>\n",
       "      <th>2</th>\n",
       "      <td>e5958hh9idicb85</td>\n",
       "      <td>7</td>\n",
       "      <td>1316.771308</td>\n",
       "      <td>2.666632</td>\n",
       "      <td>1</td>\n",
       "      <td>1439.866081</td>\n",
       "      <td>0.500000</td>\n",
       "    </tr>\n",
       "    <tr>\n",
       "      <th>3</th>\n",
       "      <td>hdj5866d16ad896</td>\n",
       "      <td>7</td>\n",
       "      <td>1277.894274</td>\n",
       "      <td>1.457489</td>\n",
       "      <td>5</td>\n",
       "      <td>1439.866081</td>\n",
       "      <td>0.750000</td>\n",
       "    </tr>\n",
       "    <tr>\n",
       "      <th>4</th>\n",
       "      <td>1007dijkaeee7gf</td>\n",
       "      <td>7</td>\n",
       "      <td>1192.082397</td>\n",
       "      <td>1.650405</td>\n",
       "      <td>5</td>\n",
       "      <td>1439.866081</td>\n",
       "      <td>0.625000</td>\n",
       "    </tr>\n",
       "    <tr>\n",
       "      <th>5</th>\n",
       "      <td>14d86ge2h84e5eg</td>\n",
       "      <td>7</td>\n",
       "      <td>1583.268016</td>\n",
       "      <td>1.740325</td>\n",
       "      <td>5</td>\n",
       "      <td>1439.866081</td>\n",
       "      <td>0.687500</td>\n",
       "    </tr>\n",
       "    <tr>\n",
       "      <th>6</th>\n",
       "      <td>db3gka1df4dbke5</td>\n",
       "      <td>7</td>\n",
       "      <td>1336.630623</td>\n",
       "      <td>1.329700</td>\n",
       "      <td>4</td>\n",
       "      <td>1439.866081</td>\n",
       "      <td>0.656250</td>\n",
       "    </tr>\n",
       "    <tr>\n",
       "      <th>7</th>\n",
       "      <td>4e4k5f0g9dff8eh</td>\n",
       "      <td>7</td>\n",
       "      <td>1353.540964</td>\n",
       "      <td>1.115808</td>\n",
       "      <td>1</td>\n",
       "      <td>1439.866081</td>\n",
       "      <td>0.671875</td>\n",
       "    </tr>\n",
       "    <tr>\n",
       "      <th>8</th>\n",
       "      <td>k20e2ib530ad675</td>\n",
       "      <td>7</td>\n",
       "      <td>1043.607103</td>\n",
       "      <td>5.182626</td>\n",
       "      <td>1</td>\n",
       "      <td>1439.866081</td>\n",
       "      <td>0.664062</td>\n",
       "    </tr>\n",
       "    <tr>\n",
       "      <th>9</th>\n",
       "      <td>da9b5f3333d4b5h</td>\n",
       "      <td>7</td>\n",
       "      <td>1663.778920</td>\n",
       "      <td>2.442582</td>\n",
       "      <td>2</td>\n",
       "      <td>1439.866081</td>\n",
       "      <td>0.667969</td>\n",
       "    </tr>\n",
       "    <tr>\n",
       "      <th>10</th>\n",
       "      <td>hjjkh1j91690ab1</td>\n",
       "      <td>7</td>\n",
       "      <td>1659.696975</td>\n",
       "      <td>5.051859</td>\n",
       "      <td>4</td>\n",
       "      <td>1439.866081</td>\n",
       "      <td>0.666016</td>\n",
       "    </tr>\n",
       "    <tr>\n",
       "      <th>11</th>\n",
       "      <td>41fd65ch8ghb3c2</td>\n",
       "      <td>7</td>\n",
       "      <td>1851.562235</td>\n",
       "      <td>3.257244</td>\n",
       "      <td>1</td>\n",
       "      <td>1439.866081</td>\n",
       "      <td>0.666992</td>\n",
       "    </tr>\n",
       "    <tr>\n",
       "      <th>12</th>\n",
       "      <td>d1e3aidickd04c1</td>\n",
       "      <td>7</td>\n",
       "      <td>1152.317767</td>\n",
       "      <td>1.820845</td>\n",
       "      <td>1</td>\n",
       "      <td>1439.866081</td>\n",
       "      <td>0.666504</td>\n",
       "    </tr>\n",
       "    <tr>\n",
       "      <th>13</th>\n",
       "      <td>f7biee0cggd67j5</td>\n",
       "      <td>7</td>\n",
       "      <td>1601.852940</td>\n",
       "      <td>1.268464</td>\n",
       "      <td>4</td>\n",
       "      <td>1439.866081</td>\n",
       "      <td>0.666748</td>\n",
       "    </tr>\n",
       "    <tr>\n",
       "      <th>14</th>\n",
       "      <td>92kfbh4g40369eg</td>\n",
       "      <td>7</td>\n",
       "      <td>1463.366035</td>\n",
       "      <td>3.679167</td>\n",
       "      <td>2</td>\n",
       "      <td>1439.866081</td>\n",
       "      <td>0.666626</td>\n",
       "    </tr>\n",
       "    <tr>\n",
       "      <th>15</th>\n",
       "      <td>i850d1jb8id63gb</td>\n",
       "      <td>7</td>\n",
       "      <td>1277.197866</td>\n",
       "      <td>1.108944</td>\n",
       "      <td>3</td>\n",
       "      <td>1439.866081</td>\n",
       "      <td>0.666687</td>\n",
       "    </tr>\n",
       "    <tr>\n",
       "      <th>16</th>\n",
       "      <td>bdceca6ffbg93d3</td>\n",
       "      <td>7</td>\n",
       "      <td>1423.549260</td>\n",
       "      <td>1.456256</td>\n",
       "      <td>1</td>\n",
       "      <td>1439.866081</td>\n",
       "      <td>0.666656</td>\n",
       "    </tr>\n",
       "    <tr>\n",
       "      <th>17</th>\n",
       "      <td>dj6h0a43a00ejd6</td>\n",
       "      <td>7</td>\n",
       "      <td>1501.290173</td>\n",
       "      <td>1.604532</td>\n",
       "      <td>3</td>\n",
       "      <td>1439.866081</td>\n",
       "      <td>0.666672</td>\n",
       "    </tr>\n",
       "    <tr>\n",
       "      <th>18</th>\n",
       "      <td>615je2538kbbci2</td>\n",
       "      <td>7</td>\n",
       "      <td>1476.397977</td>\n",
       "      <td>3.767052</td>\n",
       "      <td>1</td>\n",
       "      <td>1439.866081</td>\n",
       "      <td>0.666664</td>\n",
       "    </tr>\n",
       "    <tr>\n",
       "      <th>19</th>\n",
       "      <td>7idjk1fkh0k0f8c</td>\n",
       "      <td>7</td>\n",
       "      <td>1394.183794</td>\n",
       "      <td>3.050175</td>\n",
       "      <td>4</td>\n",
       "      <td>1439.866081</td>\n",
       "      <td>0.666668</td>\n",
       "    </tr>\n",
       "  </tbody>\n",
       "</table>\n",
       "</div>"
      ],
      "text/plain": [
       "            user_id  order_number  click2delivery  order_items_sum  retention  \\\n",
       "0   k4198854h3id213             7     1198.160258         1.010227          1   \n",
       "1   80384c9ekb6bb79             7     1623.974303         1.469017          2   \n",
       "2   e5958hh9idicb85             7     1316.771308         2.666632          1   \n",
       "3   hdj5866d16ad896             7     1277.894274         1.457489          5   \n",
       "4   1007dijkaeee7gf             7     1192.082397         1.650405          5   \n",
       "5   14d86ge2h84e5eg             7     1583.268016         1.740325          5   \n",
       "6   db3gka1df4dbke5             7     1336.630623         1.329700          4   \n",
       "7   4e4k5f0g9dff8eh             7     1353.540964         1.115808          1   \n",
       "8   k20e2ib530ad675             7     1043.607103         5.182626          1   \n",
       "9   da9b5f3333d4b5h             7     1663.778920         2.442582          2   \n",
       "10  hjjkh1j91690ab1             7     1659.696975         5.051859          4   \n",
       "11  41fd65ch8ghb3c2             7     1851.562235         3.257244          1   \n",
       "12  d1e3aidickd04c1             7     1152.317767         1.820845          1   \n",
       "13  f7biee0cggd67j5             7     1601.852940         1.268464          4   \n",
       "14  92kfbh4g40369eg             7     1463.366035         3.679167          2   \n",
       "15  i850d1jb8id63gb             7     1277.197866         1.108944          3   \n",
       "16  bdceca6ffbg93d3             7     1423.549260         1.456256          1   \n",
       "17  dj6h0a43a00ejd6             7     1501.290173         1.604532          3   \n",
       "18  615je2538kbbci2             7     1476.397977         3.767052          1   \n",
       "19  7idjk1fkh0k0f8c             7     1394.183794         3.050175          4   \n",
       "\n",
       "      mean_time       seq  \n",
       "0   1439.866081  0.000000  \n",
       "1   1439.866081  1.000000  \n",
       "2   1439.866081  0.500000  \n",
       "3   1439.866081  0.750000  \n",
       "4   1439.866081  0.625000  \n",
       "5   1439.866081  0.687500  \n",
       "6   1439.866081  0.656250  \n",
       "7   1439.866081  0.671875  \n",
       "8   1439.866081  0.664062  \n",
       "9   1439.866081  0.667969  \n",
       "10  1439.866081  0.666016  \n",
       "11  1439.866081  0.666992  \n",
       "12  1439.866081  0.666504  \n",
       "13  1439.866081  0.666748  \n",
       "14  1439.866081  0.666626  \n",
       "15  1439.866081  0.666687  \n",
       "16  1439.866081  0.666656  \n",
       "17  1439.866081  0.666672  \n",
       "18  1439.866081  0.666664  \n",
       "19  1439.866081  0.666668  "
      ]
     },
     "execution_count": 12,
     "metadata": {},
     "output_type": "execute_result"
    }
   ],
   "source": [
    "df.head(20)"
   ]
  },
  {
   "cell_type": "markdown",
   "metadata": {
    "id": "5vlr4cy9MZcn"
   },
   "source": [
    "## Задание 4\n",
    "\n",
    "Напиши функцию, которая принимает на вход значение `user_id` и возвращает строку следующего вида: все буквы в той последовательности, в которой они встречаются в `user_id`, затем квадрат числа, полученного из всех цифр в `user_id` в той последовательности, в которой они встречаются в `user_id`.\n",
    "\n",
    "Добавь результат применения этой функции к `user_id` в новый столбец. Использование циклов вне функции запрещено."
   ]
  },
  {
   "cell_type": "code",
   "execution_count": 13,
   "metadata": {
    "id": "93LQRrvHMmHY"
   },
   "outputs": [],
   "source": [
    "def process_user_id(user_id):\n",
    "  letters = ''.join(filter(str.isalpha, user_id))\n",
    "  digits = ''.join(filter(str.isdigit, user_id))\n",
    "\n",
    "  return f'{letters}{int(digits) ** 2}'\n",
    "\n",
    "df['transformed_user_id'] = df['user_id'].apply(process_user_id)"
   ]
  },
  {
   "cell_type": "code",
   "execution_count": 14,
   "metadata": {
    "colab": {
     "base_uri": "https://localhost:8080/",
     "height": 35
    },
    "id": "-XDjsabu8jD9",
    "outputId": "fedac0d7-dd03-4423-9c46-4dddb4e2da92"
   },
   "outputs": [
    {
     "data": {
      "text/plain": [
       "'idjkfkhkfc5042136064'"
      ]
     },
     "execution_count": 14,
     "metadata": {},
     "output_type": "execute_result"
    }
   ],
   "source": [
    "process_user_id('7idjk1fkh0k0f8c')"
   ]
  },
  {
   "cell_type": "code",
   "execution_count": 15,
   "metadata": {
    "colab": {
     "base_uri": "https://localhost:8080/"
    },
    "id": "4QV_7r3x8jP0",
    "outputId": "73dd02b4-3395-4702-80a2-77d68891f2b6"
   },
   "outputs": [
    {
     "data": {
      "text/plain": [
       "5042136064"
      ]
     },
     "execution_count": 15,
     "metadata": {},
     "output_type": "execute_result"
    }
   ],
   "source": [
    "71008**2"
   ]
  },
  {
   "cell_type": "code",
   "execution_count": 16,
   "metadata": {
    "colab": {
     "base_uri": "https://localhost:8080/",
     "height": 226
    },
    "id": "UID8MJwE9sV6",
    "outputId": "9887b741-ba5a-417d-cbee-85f76315cd69"
   },
   "outputs": [
    {
     "data": {
      "text/html": [
       "<div>\n",
       "<style scoped>\n",
       "    .dataframe tbody tr th:only-of-type {\n",
       "        vertical-align: middle;\n",
       "    }\n",
       "\n",
       "    .dataframe tbody tr th {\n",
       "        vertical-align: top;\n",
       "    }\n",
       "\n",
       "    .dataframe thead th {\n",
       "        text-align: right;\n",
       "    }\n",
       "</style>\n",
       "<table border=\"1\" class=\"dataframe\">\n",
       "  <thead>\n",
       "    <tr style=\"text-align: right;\">\n",
       "      <th></th>\n",
       "      <th>user_id</th>\n",
       "      <th>order_number</th>\n",
       "      <th>click2delivery</th>\n",
       "      <th>order_items_sum</th>\n",
       "      <th>retention</th>\n",
       "      <th>mean_time</th>\n",
       "      <th>seq</th>\n",
       "      <th>transformed_user_id</th>\n",
       "    </tr>\n",
       "  </thead>\n",
       "  <tbody>\n",
       "    <tr>\n",
       "      <th>0</th>\n",
       "      <td>k4198854h3id213</td>\n",
       "      <td>7</td>\n",
       "      <td>1198.160258</td>\n",
       "      <td>1.010227</td>\n",
       "      <td>1</td>\n",
       "      <td>1439.866081</td>\n",
       "      <td>0.000</td>\n",
       "      <td>khid1763037761149968363369</td>\n",
       "    </tr>\n",
       "    <tr>\n",
       "      <th>1</th>\n",
       "      <td>80384c9ekb6bb79</td>\n",
       "      <td>7</td>\n",
       "      <td>1623.974303</td>\n",
       "      <td>1.469017</td>\n",
       "      <td>2</td>\n",
       "      <td>1439.866081</td>\n",
       "      <td>1.000</td>\n",
       "      <td>cekbbb646174306428403041</td>\n",
       "    </tr>\n",
       "    <tr>\n",
       "      <th>2</th>\n",
       "      <td>e5958hh9idicb85</td>\n",
       "      <td>7</td>\n",
       "      <td>1316.771308</td>\n",
       "      <td>2.666632</td>\n",
       "      <td>1</td>\n",
       "      <td>1439.866081</td>\n",
       "      <td>0.500</td>\n",
       "      <td>ehhidicb35509502230225</td>\n",
       "    </tr>\n",
       "    <tr>\n",
       "      <th>3</th>\n",
       "      <td>hdj5866d16ad896</td>\n",
       "      <td>7</td>\n",
       "      <td>1277.894274</td>\n",
       "      <td>1.457489</td>\n",
       "      <td>5</td>\n",
       "      <td>1439.866081</td>\n",
       "      <td>0.750</td>\n",
       "      <td>hdjdad344119382672674816</td>\n",
       "    </tr>\n",
       "    <tr>\n",
       "      <th>4</th>\n",
       "      <td>1007dijkaeee7gf</td>\n",
       "      <td>7</td>\n",
       "      <td>1192.082397</td>\n",
       "      <td>1.650405</td>\n",
       "      <td>5</td>\n",
       "      <td>1439.866081</td>\n",
       "      <td>0.625</td>\n",
       "      <td>dijkaeeegf101545929</td>\n",
       "    </tr>\n",
       "  </tbody>\n",
       "</table>\n",
       "</div>"
      ],
      "text/plain": [
       "           user_id  order_number  click2delivery  order_items_sum  retention  \\\n",
       "0  k4198854h3id213             7     1198.160258         1.010227          1   \n",
       "1  80384c9ekb6bb79             7     1623.974303         1.469017          2   \n",
       "2  e5958hh9idicb85             7     1316.771308         2.666632          1   \n",
       "3  hdj5866d16ad896             7     1277.894274         1.457489          5   \n",
       "4  1007dijkaeee7gf             7     1192.082397         1.650405          5   \n",
       "\n",
       "     mean_time    seq         transformed_user_id  \n",
       "0  1439.866081  0.000  khid1763037761149968363369  \n",
       "1  1439.866081  1.000    cekbbb646174306428403041  \n",
       "2  1439.866081  0.500      ehhidicb35509502230225  \n",
       "3  1439.866081  0.750    hdjdad344119382672674816  \n",
       "4  1439.866081  0.625         dijkaeeegf101545929  "
      ]
     },
     "execution_count": 16,
     "metadata": {},
     "output_type": "execute_result"
    }
   ],
   "source": [
    "df.head()"
   ]
  },
  {
   "cell_type": "markdown",
   "metadata": {
    "id": "obyPUOsBM_So"
   },
   "source": [
    "## Задание 5\n",
    "\n",
    "Вычисли моду, медиану, среднее, дисперсию и стандартное отклонение для столбцов\n",
    "`click2delivery`, `order_items_sum` и `retention`. Построй гистограммы распределения значений в столбцах."
   ]
  },
  {
   "cell_type": "code",
   "execution_count": 17,
   "metadata": {
    "id": "6kgLDPs2JDX6"
   },
   "outputs": [],
   "source": [
    "rounded_df = df.copy()\n",
    "\n",
    "rounded_df[['click2delivery', 'order_items_sum', 'retention']] = rounded_df[['click2delivery', 'order_items_sum', 'retention']].astype(int)"
   ]
  },
  {
   "cell_type": "code",
   "execution_count": 18,
   "metadata": {
    "colab": {
     "base_uri": "https://localhost:8080/",
     "height": 226
    },
    "id": "OzUx_J-VJhDo",
    "outputId": "87209716-3470-4679-be37-f8aea4dc7ac8"
   },
   "outputs": [
    {
     "data": {
      "text/html": [
       "<div>\n",
       "<style scoped>\n",
       "    .dataframe tbody tr th:only-of-type {\n",
       "        vertical-align: middle;\n",
       "    }\n",
       "\n",
       "    .dataframe tbody tr th {\n",
       "        vertical-align: top;\n",
       "    }\n",
       "\n",
       "    .dataframe thead th {\n",
       "        text-align: right;\n",
       "    }\n",
       "</style>\n",
       "<table border=\"1\" class=\"dataframe\">\n",
       "  <thead>\n",
       "    <tr style=\"text-align: right;\">\n",
       "      <th></th>\n",
       "      <th>user_id</th>\n",
       "      <th>order_number</th>\n",
       "      <th>click2delivery</th>\n",
       "      <th>order_items_sum</th>\n",
       "      <th>retention</th>\n",
       "      <th>mean_time</th>\n",
       "      <th>seq</th>\n",
       "      <th>transformed_user_id</th>\n",
       "    </tr>\n",
       "  </thead>\n",
       "  <tbody>\n",
       "    <tr>\n",
       "      <th>0</th>\n",
       "      <td>k4198854h3id213</td>\n",
       "      <td>7</td>\n",
       "      <td>1198</td>\n",
       "      <td>1</td>\n",
       "      <td>1</td>\n",
       "      <td>1439.866081</td>\n",
       "      <td>0.000</td>\n",
       "      <td>khid1763037761149968363369</td>\n",
       "    </tr>\n",
       "    <tr>\n",
       "      <th>1</th>\n",
       "      <td>80384c9ekb6bb79</td>\n",
       "      <td>7</td>\n",
       "      <td>1623</td>\n",
       "      <td>1</td>\n",
       "      <td>2</td>\n",
       "      <td>1439.866081</td>\n",
       "      <td>1.000</td>\n",
       "      <td>cekbbb646174306428403041</td>\n",
       "    </tr>\n",
       "    <tr>\n",
       "      <th>2</th>\n",
       "      <td>e5958hh9idicb85</td>\n",
       "      <td>7</td>\n",
       "      <td>1316</td>\n",
       "      <td>2</td>\n",
       "      <td>1</td>\n",
       "      <td>1439.866081</td>\n",
       "      <td>0.500</td>\n",
       "      <td>ehhidicb35509502230225</td>\n",
       "    </tr>\n",
       "    <tr>\n",
       "      <th>3</th>\n",
       "      <td>hdj5866d16ad896</td>\n",
       "      <td>7</td>\n",
       "      <td>1277</td>\n",
       "      <td>1</td>\n",
       "      <td>5</td>\n",
       "      <td>1439.866081</td>\n",
       "      <td>0.750</td>\n",
       "      <td>hdjdad344119382672674816</td>\n",
       "    </tr>\n",
       "    <tr>\n",
       "      <th>4</th>\n",
       "      <td>1007dijkaeee7gf</td>\n",
       "      <td>7</td>\n",
       "      <td>1192</td>\n",
       "      <td>1</td>\n",
       "      <td>5</td>\n",
       "      <td>1439.866081</td>\n",
       "      <td>0.625</td>\n",
       "      <td>dijkaeeegf101545929</td>\n",
       "    </tr>\n",
       "  </tbody>\n",
       "</table>\n",
       "</div>"
      ],
      "text/plain": [
       "           user_id  order_number  click2delivery  order_items_sum  retention  \\\n",
       "0  k4198854h3id213             7            1198                1          1   \n",
       "1  80384c9ekb6bb79             7            1623                1          2   \n",
       "2  e5958hh9idicb85             7            1316                2          1   \n",
       "3  hdj5866d16ad896             7            1277                1          5   \n",
       "4  1007dijkaeee7gf             7            1192                1          5   \n",
       "\n",
       "     mean_time    seq         transformed_user_id  \n",
       "0  1439.866081  0.000  khid1763037761149968363369  \n",
       "1  1439.866081  1.000    cekbbb646174306428403041  \n",
       "2  1439.866081  0.500      ehhidicb35509502230225  \n",
       "3  1439.866081  0.750    hdjdad344119382672674816  \n",
       "4  1439.866081  0.625         dijkaeeegf101545929  "
      ]
     },
     "execution_count": 18,
     "metadata": {},
     "output_type": "execute_result"
    }
   ],
   "source": [
    "rounded_df.head()"
   ]
  },
  {
   "cell_type": "code",
   "execution_count": 19,
   "metadata": {
    "id": "uwoVwg8sJo84"
   },
   "outputs": [
    {
     "data": {
      "text/html": [
       "<div>\n",
       "<style scoped>\n",
       "    .dataframe tbody tr th:only-of-type {\n",
       "        vertical-align: middle;\n",
       "    }\n",
       "\n",
       "    .dataframe tbody tr th {\n",
       "        vertical-align: top;\n",
       "    }\n",
       "\n",
       "    .dataframe thead th {\n",
       "        text-align: right;\n",
       "    }\n",
       "</style>\n",
       "<table border=\"1\" class=\"dataframe\">\n",
       "  <thead>\n",
       "    <tr style=\"text-align: right;\">\n",
       "      <th></th>\n",
       "      <th>user_id</th>\n",
       "      <th>order_number</th>\n",
       "      <th>click2delivery</th>\n",
       "      <th>order_items_sum</th>\n",
       "      <th>retention</th>\n",
       "      <th>mean_time</th>\n",
       "      <th>seq</th>\n",
       "      <th>transformed_user_id</th>\n",
       "    </tr>\n",
       "  </thead>\n",
       "  <tbody>\n",
       "    <tr>\n",
       "      <th>0</th>\n",
       "      <td>000c5f937jf0dcj</td>\n",
       "      <td>1.0</td>\n",
       "      <td>1446.0</td>\n",
       "      <td>1.0</td>\n",
       "      <td>1.0</td>\n",
       "      <td>1443.937094</td>\n",
       "      <td>0.666667</td>\n",
       "      <td>a4555635351150657468770216001</td>\n",
       "    </tr>\n",
       "    <tr>\n",
       "      <th>1</th>\n",
       "      <td>0011j28e550e605</td>\n",
       "      <td>NaN</td>\n",
       "      <td>NaN</td>\n",
       "      <td>NaN</td>\n",
       "      <td>NaN</td>\n",
       "      <td>NaN</td>\n",
       "      <td>NaN</td>\n",
       "      <td>aaaafgkkd191080014129</td>\n",
       "    </tr>\n",
       "    <tr>\n",
       "      <th>2</th>\n",
       "      <td>001eeh342jdbjh0</td>\n",
       "      <td>NaN</td>\n",
       "      <td>NaN</td>\n",
       "      <td>NaN</td>\n",
       "      <td>NaN</td>\n",
       "      <td>NaN</td>\n",
       "      <td>NaN</td>\n",
       "      <td>aaadgjieek67305616</td>\n",
       "    </tr>\n",
       "    <tr>\n",
       "      <th>3</th>\n",
       "      <td>002340762a9gg18</td>\n",
       "      <td>NaN</td>\n",
       "      <td>NaN</td>\n",
       "      <td>NaN</td>\n",
       "      <td>NaN</td>\n",
       "      <td>NaN</td>\n",
       "      <td>NaN</td>\n",
       "      <td>aaaeiahc29287395239089</td>\n",
       "    </tr>\n",
       "    <tr>\n",
       "      <th>4</th>\n",
       "      <td>002ihf94g5d4jjg</td>\n",
       "      <td>NaN</td>\n",
       "      <td>NaN</td>\n",
       "      <td>NaN</td>\n",
       "      <td>NaN</td>\n",
       "      <td>NaN</td>\n",
       "      <td>NaN</td>\n",
       "      <td>aaafgkchhk555592041</td>\n",
       "    </tr>\n",
       "    <tr>\n",
       "      <th>...</th>\n",
       "      <td>...</td>\n",
       "      <td>...</td>\n",
       "      <td>...</td>\n",
       "      <td>...</td>\n",
       "      <td>...</td>\n",
       "      <td>...</td>\n",
       "      <td>...</td>\n",
       "      <td>...</td>\n",
       "    </tr>\n",
       "    <tr>\n",
       "      <th>9995</th>\n",
       "      <td>kkd25df302c51jc</td>\n",
       "      <td>NaN</td>\n",
       "      <td>NaN</td>\n",
       "      <td>NaN</td>\n",
       "      <td>NaN</td>\n",
       "      <td>NaN</td>\n",
       "      <td>NaN</td>\n",
       "      <td>kkji389901566032163791204</td>\n",
       "    </tr>\n",
       "    <tr>\n",
       "      <th>9996</th>\n",
       "      <td>kkd78c1d3138673</td>\n",
       "      <td>NaN</td>\n",
       "      <td>NaN</td>\n",
       "      <td>NaN</td>\n",
       "      <td>NaN</td>\n",
       "      <td>NaN</td>\n",
       "      <td>NaN</td>\n",
       "      <td>kkjihfg1511497251124441</td>\n",
       "    </tr>\n",
       "    <tr>\n",
       "      <th>9997</th>\n",
       "      <td>kkhbjag2375c90f</td>\n",
       "      <td>NaN</td>\n",
       "      <td>NaN</td>\n",
       "      <td>NaN</td>\n",
       "      <td>NaN</td>\n",
       "      <td>NaN</td>\n",
       "      <td>NaN</td>\n",
       "      <td>kkjiib835436244519396</td>\n",
       "    </tr>\n",
       "    <tr>\n",
       "      <th>9998</th>\n",
       "      <td>kki4gb187c9ei1f</td>\n",
       "      <td>NaN</td>\n",
       "      <td>NaN</td>\n",
       "      <td>NaN</td>\n",
       "      <td>NaN</td>\n",
       "      <td>NaN</td>\n",
       "      <td>NaN</td>\n",
       "      <td>kkkacig7691063735664100</td>\n",
       "    </tr>\n",
       "    <tr>\n",
       "      <th>9999</th>\n",
       "      <td>kkidgkkh0bfh83e</td>\n",
       "      <td>NaN</td>\n",
       "      <td>NaN</td>\n",
       "      <td>NaN</td>\n",
       "      <td>NaN</td>\n",
       "      <td>NaN</td>\n",
       "      <td>NaN</td>\n",
       "      <td>kkkcddkej268763236</td>\n",
       "    </tr>\n",
       "  </tbody>\n",
       "</table>\n",
       "<p>10000 rows × 8 columns</p>\n",
       "</div>"
      ],
      "text/plain": [
       "              user_id  order_number  click2delivery  order_items_sum  \\\n",
       "0     000c5f937jf0dcj           1.0          1446.0              1.0   \n",
       "1     0011j28e550e605           NaN             NaN              NaN   \n",
       "2     001eeh342jdbjh0           NaN             NaN              NaN   \n",
       "3     002340762a9gg18           NaN             NaN              NaN   \n",
       "4     002ihf94g5d4jjg           NaN             NaN              NaN   \n",
       "...               ...           ...             ...              ...   \n",
       "9995  kkd25df302c51jc           NaN             NaN              NaN   \n",
       "9996  kkd78c1d3138673           NaN             NaN              NaN   \n",
       "9997  kkhbjag2375c90f           NaN             NaN              NaN   \n",
       "9998  kki4gb187c9ei1f           NaN             NaN              NaN   \n",
       "9999  kkidgkkh0bfh83e           NaN             NaN              NaN   \n",
       "\n",
       "      retention    mean_time       seq            transformed_user_id  \n",
       "0           1.0  1443.937094  0.666667  a4555635351150657468770216001  \n",
       "1           NaN          NaN       NaN          aaaafgkkd191080014129  \n",
       "2           NaN          NaN       NaN             aaadgjieek67305616  \n",
       "3           NaN          NaN       NaN         aaaeiahc29287395239089  \n",
       "4           NaN          NaN       NaN            aaafgkchhk555592041  \n",
       "...         ...          ...       ...                            ...  \n",
       "9995        NaN          NaN       NaN      kkji389901566032163791204  \n",
       "9996        NaN          NaN       NaN        kkjihfg1511497251124441  \n",
       "9997        NaN          NaN       NaN          kkjiib835436244519396  \n",
       "9998        NaN          NaN       NaN        kkkacig7691063735664100  \n",
       "9999        NaN          NaN       NaN             kkkcddkej268763236  \n",
       "\n",
       "[10000 rows x 8 columns]"
      ]
     },
     "execution_count": 19,
     "metadata": {},
     "output_type": "execute_result"
    }
   ],
   "source": [
    "rounded_df.mode()"
   ]
  },
  {
   "cell_type": "code",
   "execution_count": 20,
   "metadata": {
    "colab": {
     "base_uri": "https://localhost:8080/",
     "height": 174
    },
    "id": "6mN_uIMLP2U2",
    "outputId": "c0f28110-4ba8-4b97-ad53-7b7310a1cbe5"
   },
   "outputs": [
    {
     "data": {
      "text/html": [
       "<div>\n",
       "<style scoped>\n",
       "    .dataframe tbody tr th:only-of-type {\n",
       "        vertical-align: middle;\n",
       "    }\n",
       "\n",
       "    .dataframe tbody tr th {\n",
       "        vertical-align: top;\n",
       "    }\n",
       "\n",
       "    .dataframe thead th {\n",
       "        text-align: right;\n",
       "    }\n",
       "</style>\n",
       "<table border=\"1\" class=\"dataframe\">\n",
       "  <thead>\n",
       "    <tr style=\"text-align: right;\">\n",
       "      <th></th>\n",
       "      <th>click2delivery</th>\n",
       "      <th>order_items_sum</th>\n",
       "      <th>retention</th>\n",
       "    </tr>\n",
       "  </thead>\n",
       "  <tbody>\n",
       "    <tr>\n",
       "      <th>mean</th>\n",
       "      <td>1441.003580</td>\n",
       "      <td>1.997569</td>\n",
       "      <td>2.294100</td>\n",
       "    </tr>\n",
       "    <tr>\n",
       "      <th>50%</th>\n",
       "      <td>1440.085797</td>\n",
       "      <td>1.698760</td>\n",
       "      <td>2.000000</td>\n",
       "    </tr>\n",
       "    <tr>\n",
       "      <th>std</th>\n",
       "      <td>201.296013</td>\n",
       "      <td>0.997145</td>\n",
       "      <td>1.231973</td>\n",
       "    </tr>\n",
       "    <tr>\n",
       "      <th>mode</th>\n",
       "      <td>1446.000000</td>\n",
       "      <td>1.000000</td>\n",
       "      <td>1.000000</td>\n",
       "    </tr>\n",
       "  </tbody>\n",
       "</table>\n",
       "</div>"
      ],
      "text/plain": [
       "      click2delivery  order_items_sum  retention\n",
       "mean     1441.003580         1.997569   2.294100\n",
       "50%      1440.085797         1.698760   2.000000\n",
       "std       201.296013         0.997145   1.231973\n",
       "mode     1446.000000         1.000000   1.000000"
      ]
     },
     "execution_count": 20,
     "metadata": {},
     "output_type": "execute_result"
    }
   ],
   "source": [
    "modes = (\n",
    "    rounded_df[['click2delivery', 'order_items_sum', 'retention']]\n",
    "    .mode()\n",
    "    .head(1)\n",
    "    .set_index(pd.Index(['mode']))\n",
    ")\n",
    "\n",
    "describe_df = (\n",
    "    df[['click2delivery', 'order_items_sum', 'retention']]\n",
    "    .describe()\n",
    "    .loc[['mean', '50%', 'std']]\n",
    ")\n",
    "\n",
    "pd.concat([describe_df, modes])"
   ]
  },
  {
   "cell_type": "code",
   "execution_count": 21,
   "metadata": {
    "colab": {
     "base_uri": "https://localhost:8080/",
     "height": 80
    },
    "id": "aaSFHs0tJxms",
    "outputId": "29587277-c651-4681-ce85-850802c9e4a0"
   },
   "outputs": [
    {
     "data": {
      "text/html": [
       "<div>\n",
       "<style scoped>\n",
       "    .dataframe tbody tr th:only-of-type {\n",
       "        vertical-align: middle;\n",
       "    }\n",
       "\n",
       "    .dataframe tbody tr th {\n",
       "        vertical-align: top;\n",
       "    }\n",
       "\n",
       "    .dataframe thead th {\n",
       "        text-align: right;\n",
       "    }\n",
       "</style>\n",
       "<table border=\"1\" class=\"dataframe\">\n",
       "  <thead>\n",
       "    <tr style=\"text-align: right;\">\n",
       "      <th></th>\n",
       "      <th>click2delivery</th>\n",
       "      <th>order_items_sum</th>\n",
       "      <th>retention</th>\n",
       "    </tr>\n",
       "  </thead>\n",
       "  <tbody>\n",
       "    <tr>\n",
       "      <th>mode</th>\n",
       "      <td>1446</td>\n",
       "      <td>1</td>\n",
       "      <td>1</td>\n",
       "    </tr>\n",
       "  </tbody>\n",
       "</table>\n",
       "</div>"
      ],
      "text/plain": [
       "      click2delivery  order_items_sum  retention\n",
       "mode            1446                1          1"
      ]
     },
     "execution_count": 21,
     "metadata": {},
     "output_type": "execute_result"
    }
   ],
   "source": [
    "modes"
   ]
  },
  {
   "cell_type": "code",
   "execution_count": 22,
   "metadata": {
    "id": "ldpCsJ06KYL5"
   },
   "outputs": [
    {
     "name": "stdout",
     "output_type": "stream",
     "text": [
      "Requirement already satisfied: seaborn in c:\\users\\gleb\\anaconda3\\envs\\da_decode\\lib\\site-packages (0.13.0)\n",
      "Requirement already satisfied: numpy!=1.24.0,>=1.20 in c:\\users\\gleb\\anaconda3\\envs\\da_decode\\lib\\site-packages (from seaborn) (1.26.1)\n",
      "Requirement already satisfied: pandas>=1.2 in c:\\users\\gleb\\anaconda3\\envs\\da_decode\\lib\\site-packages (from seaborn) (2.1.2)\n",
      "Requirement already satisfied: matplotlib!=3.6.1,>=3.3 in c:\\users\\gleb\\anaconda3\\envs\\da_decode\\lib\\site-packages (from seaborn) (3.8.0)\n",
      "Requirement already satisfied: contourpy>=1.0.1 in c:\\users\\gleb\\anaconda3\\envs\\da_decode\\lib\\site-packages (from matplotlib!=3.6.1,>=3.3->seaborn) (1.1.1)\n",
      "Requirement already satisfied: cycler>=0.10 in c:\\users\\gleb\\anaconda3\\envs\\da_decode\\lib\\site-packages (from matplotlib!=3.6.1,>=3.3->seaborn) (0.12.1)\n",
      "Requirement already satisfied: fonttools>=4.22.0 in c:\\users\\gleb\\anaconda3\\envs\\da_decode\\lib\\site-packages (from matplotlib!=3.6.1,>=3.3->seaborn) (4.43.1)\n",
      "Requirement already satisfied: kiwisolver>=1.0.1 in c:\\users\\gleb\\anaconda3\\envs\\da_decode\\lib\\site-packages (from matplotlib!=3.6.1,>=3.3->seaborn) (1.4.5)\n",
      "Requirement already satisfied: packaging>=20.0 in c:\\users\\gleb\\anaconda3\\envs\\da_decode\\lib\\site-packages (from matplotlib!=3.6.1,>=3.3->seaborn) (23.1)\n",
      "Requirement already satisfied: pillow>=6.2.0 in c:\\users\\gleb\\anaconda3\\envs\\da_decode\\lib\\site-packages (from matplotlib!=3.6.1,>=3.3->seaborn) (10.1.0)\n",
      "Requirement already satisfied: pyparsing>=2.3.1 in c:\\users\\gleb\\anaconda3\\envs\\da_decode\\lib\\site-packages (from matplotlib!=3.6.1,>=3.3->seaborn) (3.1.1)\n",
      "Requirement already satisfied: python-dateutil>=2.7 in c:\\users\\gleb\\anaconda3\\envs\\da_decode\\lib\\site-packages (from matplotlib!=3.6.1,>=3.3->seaborn) (2.8.2)\n",
      "Requirement already satisfied: pytz>=2020.1 in c:\\users\\gleb\\anaconda3\\envs\\da_decode\\lib\\site-packages (from pandas>=1.2->seaborn) (2023.3.post1)\n",
      "Requirement already satisfied: tzdata>=2022.1 in c:\\users\\gleb\\anaconda3\\envs\\da_decode\\lib\\site-packages (from pandas>=1.2->seaborn) (2023.3)\n",
      "Requirement already satisfied: six>=1.5 in c:\\users\\gleb\\anaconda3\\envs\\da_decode\\lib\\site-packages (from python-dateutil>=2.7->matplotlib!=3.6.1,>=3.3->seaborn) (1.16.0)\n"
     ]
    }
   ],
   "source": [
    "!pip install seaborn"
   ]
  },
  {
   "cell_type": "code",
   "execution_count": 23,
   "metadata": {
    "id": "nQpVRb6TKauK"
   },
   "outputs": [],
   "source": [
    "import seaborn as sns"
   ]
  },
  {
   "cell_type": "code",
   "execution_count": 24,
   "metadata": {
    "colab": {
     "base_uri": "https://localhost:8080/",
     "height": 430
    },
    "id": "PuSBOGLRK17h",
    "outputId": "59d8789c-0509-403a-b4dc-3fe486804de5"
   },
   "outputs": [
    {
     "data": {
      "image/png": "[encoded data removed]",
      "text/plain": [
       "<Figure size 640x480 with 1 Axes>"
      ]
     },
     "metadata": {},
     "output_type": "display_data"
    }
   ],
   "source": [
    "sns.violinplot(df['click2delivery']);"
   ]
  },
  {
   "cell_type": "code",
   "execution_count": 25,
   "metadata": {
    "colab": {
     "base_uri": "https://localhost:8080/",
     "height": 449
    },
    "id": "G5ncPRcHKdsB",
    "outputId": "368aab9a-401d-45d7-8fc3-13202a29d635"
   },
   "outputs": [
    {
     "data": {
      "image/png": "[encoded data removed]",
      "text/plain": [
       "<Figure size 640x480 with 1 Axes>"
      ]
     },
     "metadata": {},
     "output_type": "display_data"
    }
   ],
   "source": [
    "sns.histplot(df['click2delivery']);"
   ]
  },
  {
   "cell_type": "code",
   "execution_count": 26,
   "metadata": {
    "colab": {
     "base_uri": "https://localhost:8080/",
     "height": 450
    },
    "id": "Y7zwQ56JKduV",
    "outputId": "97d2a1a5-e6bc-4cca-85cd-9c8b97115028"
   },
   "outputs": [
    {
     "data": {
      "image/png": "[encoded data removed]",
      "text/plain": [
       "<Figure size 640x480 with 1 Axes>"
      ]
     },
     "metadata": {},
     "output_type": "display_data"
    }
   ],
   "source": [
    "sns.histplot(df['order_items_sum']);"
   ]
  },
  {
   "cell_type": "code",
   "execution_count": 27,
   "metadata": {
    "colab": {
     "base_uri": "https://localhost:8080/",
     "height": 449
    },
    "id": "LtLA9iZjKvch",
    "outputId": "470dd3c6-42fe-4e69-985e-9d30c09096c4"
   },
   "outputs": [
    {
     "data": {
      "image/png": "[encoded data removed]",
      "text/plain": [
       "<Figure size 640x480 with 1 Axes>"
      ]
     },
     "metadata": {},
     "output_type": "display_data"
    }
   ],
   "source": [
    "sns.histplot(df['retention']);"
   ]
  },
  {
   "cell_type": "code",
   "execution_count": 28,
   "metadata": {
    "colab": {
     "base_uri": "https://localhost:8080/",
     "height": 775
    },
    "id": "Cj2VYxjEKdwt",
    "outputId": "8b313d13-15da-4735-832c-1176027eb4e6"
   },
   "outputs": [
    {
     "data": {
      "text/plain": [
       "<seaborn.axisgrid.PairGrid at 0x22172717c10>"
      ]
     },
     "execution_count": 28,
     "metadata": {},
     "output_type": "execute_result"
    },
    {
     "data": {
      "image/png": "[encoded data removed]",
      "text/plain": [
       "<Figure size 750x750 with 9 Axes>"
      ]
     },
     "metadata": {},
     "output_type": "display_data"
    }
   ],
   "source": [
    "sns.pairplot(df[['click2delivery', 'order_items_sum', 'retention']], corner=True)"
   ]
  },
  {
   "cell_type": "markdown",
   "metadata": {
    "id": "ifuB3KT8UBzn"
   },
   "source": [
    "## Задание 6\n",
    "\n",
    "Построй график, который наиболее полно, на твой взгляд, описывает зависимость времени доставки заказа от его номера. Обоснуй, почему ты так считаешь?"
   ]
  },
  {
   "cell_type": "code",
   "execution_count": 29,
   "metadata": {
    "colab": {
     "base_uri": "https://localhost:8080/",
     "height": 226
    },
    "id": "G1VISOmaUKfF",
    "outputId": "28561b13-33a2-4753-cbfd-8935a920f53c"
   },
   "outputs": [
    {
     "data": {
      "text/html": [
       "<div>\n",
       "<style scoped>\n",
       "    .dataframe tbody tr th:only-of-type {\n",
       "        vertical-align: middle;\n",
       "    }\n",
       "\n",
       "    .dataframe tbody tr th {\n",
       "        vertical-align: top;\n",
       "    }\n",
       "\n",
       "    .dataframe thead th {\n",
       "        text-align: right;\n",
       "    }\n",
       "</style>\n",
       "<table border=\"1\" class=\"dataframe\">\n",
       "  <thead>\n",
       "    <tr style=\"text-align: right;\">\n",
       "      <th></th>\n",
       "      <th>user_id</th>\n",
       "      <th>order_number</th>\n",
       "      <th>click2delivery</th>\n",
       "      <th>order_items_sum</th>\n",
       "      <th>retention</th>\n",
       "      <th>mean_time</th>\n",
       "      <th>seq</th>\n",
       "      <th>transformed_user_id</th>\n",
       "    </tr>\n",
       "  </thead>\n",
       "  <tbody>\n",
       "    <tr>\n",
       "      <th>0</th>\n",
       "      <td>k4198854h3id213</td>\n",
       "      <td>7</td>\n",
       "      <td>1198.160258</td>\n",
       "      <td>1.010227</td>\n",
       "      <td>1</td>\n",
       "      <td>1439.866081</td>\n",
       "      <td>0.000</td>\n",
       "      <td>khid1763037761149968363369</td>\n",
       "    </tr>\n",
       "    <tr>\n",
       "      <th>1</th>\n",
       "      <td>80384c9ekb6bb79</td>\n",
       "      <td>7</td>\n",
       "      <td>1623.974303</td>\n",
       "      <td>1.469017</td>\n",
       "      <td>2</td>\n",
       "      <td>1439.866081</td>\n",
       "      <td>1.000</td>\n",
       "      <td>cekbbb646174306428403041</td>\n",
       "    </tr>\n",
       "    <tr>\n",
       "      <th>2</th>\n",
       "      <td>e5958hh9idicb85</td>\n",
       "      <td>7</td>\n",
       "      <td>1316.771308</td>\n",
       "      <td>2.666632</td>\n",
       "      <td>1</td>\n",
       "      <td>1439.866081</td>\n",
       "      <td>0.500</td>\n",
       "      <td>ehhidicb35509502230225</td>\n",
       "    </tr>\n",
       "    <tr>\n",
       "      <th>3</th>\n",
       "      <td>hdj5866d16ad896</td>\n",
       "      <td>7</td>\n",
       "      <td>1277.894274</td>\n",
       "      <td>1.457489</td>\n",
       "      <td>5</td>\n",
       "      <td>1439.866081</td>\n",
       "      <td>0.750</td>\n",
       "      <td>hdjdad344119382672674816</td>\n",
       "    </tr>\n",
       "    <tr>\n",
       "      <th>4</th>\n",
       "      <td>1007dijkaeee7gf</td>\n",
       "      <td>7</td>\n",
       "      <td>1192.082397</td>\n",
       "      <td>1.650405</td>\n",
       "      <td>5</td>\n",
       "      <td>1439.866081</td>\n",
       "      <td>0.625</td>\n",
       "      <td>dijkaeeegf101545929</td>\n",
       "    </tr>\n",
       "  </tbody>\n",
       "</table>\n",
       "</div>"
      ],
      "text/plain": [
       "           user_id  order_number  click2delivery  order_items_sum  retention  \\\n",
       "0  k4198854h3id213             7     1198.160258         1.010227          1   \n",
       "1  80384c9ekb6bb79             7     1623.974303         1.469017          2   \n",
       "2  e5958hh9idicb85             7     1316.771308         2.666632          1   \n",
       "3  hdj5866d16ad896             7     1277.894274         1.457489          5   \n",
       "4  1007dijkaeee7gf             7     1192.082397         1.650405          5   \n",
       "\n",
       "     mean_time    seq         transformed_user_id  \n",
       "0  1439.866081  0.000  khid1763037761149968363369  \n",
       "1  1439.866081  1.000    cekbbb646174306428403041  \n",
       "2  1439.866081  0.500      ehhidicb35509502230225  \n",
       "3  1439.866081  0.750    hdjdad344119382672674816  \n",
       "4  1439.866081  0.625         dijkaeeegf101545929  "
      ]
     },
     "execution_count": 29,
     "metadata": {},
     "output_type": "execute_result"
    }
   ],
   "source": [
    "df.head()"
   ]
  },
  {
   "cell_type": "code",
   "execution_count": 30,
   "metadata": {
    "colab": {
     "base_uri": "https://localhost:8080/",
     "height": 530
    },
    "id": "7wWfMva6L9Ho",
    "outputId": "bc1e1f84-26b5-4eb0-9d42-f32e965b0c72"
   },
   "outputs": [
    {
     "data": {
      "text/plain": [
       "<seaborn.axisgrid.PairGrid at 0x22172724090>"
      ]
     },
     "execution_count": 30,
     "metadata": {},
     "output_type": "execute_result"
    },
    {
     "data": {
      "image/png": "[encoded data removed]",
      "text/plain": [
       "<Figure size 500x500 with 6 Axes>"
      ]
     },
     "metadata": {},
     "output_type": "display_data"
    }
   ],
   "source": [
    "sns.pairplot(df[['click2delivery', 'order_number']])"
   ]
  },
  {
   "cell_type": "code",
   "execution_count": 31,
   "metadata": {
    "colab": {
     "base_uri": "https://localhost:8080/",
     "height": 467
    },
    "id": "wNbEvAKpMkTZ",
    "outputId": "b51598f0-662b-4eb5-f5cd-dc229bbc7146"
   },
   "outputs": [
    {
     "data": {
      "image/png": "[encoded data removed]",
      "text/plain": [
       "<Figure size 640x480 with 1 Axes>"
      ]
     },
     "metadata": {},
     "output_type": "display_data"
    }
   ],
   "source": [
    "sns.boxplot(data=df[['click2delivery', 'order_number']], x='order_number', y='click2delivery');"
   ]
  },
  {
   "cell_type": "code",
   "execution_count": 32,
   "metadata": {
    "colab": {
     "base_uri": "https://localhost:8080/",
     "height": 450
    },
    "id": "7al2YgktM_G5",
    "outputId": "99593e39-1476-4655-ab1f-81cb2840d86d"
   },
   "outputs": [
    {
     "data": {
      "image/png": "[encoded data removed]",
      "text/plain": [
       "<Figure size 640x480 with 1 Axes>"
      ]
     },
     "metadata": {},
     "output_type": "display_data"
    }
   ],
   "source": [
    "sns.violinplot(data=df[['click2delivery', 'order_number']], x='order_number', y='click2delivery');"
   ]
  }
 ],
 "metadata": {
  "colab": {
   "provenance": []
  },
  "kernelspec": {
   "display_name": "Python 3 (ipykernel)",
   "language": "python",
   "name": "python3"
  },
  "language_info": {
   "codemirror_mode": {
    "name": "ipython",
    "version": 3
   },
   "file_extension": ".py",
   "mimetype": "text/x-python",
   "name": "python",
   "nbconvert_exporter": "python",
   "pygments_lexer": "ipython3",
   "version": "3.11.5"
  }
 },
 "nbformat": 4,
 "nbformat_minor": 4
}
