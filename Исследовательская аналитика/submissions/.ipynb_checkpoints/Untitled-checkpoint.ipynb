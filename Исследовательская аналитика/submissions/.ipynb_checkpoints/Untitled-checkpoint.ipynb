{
 "cells": [
  {
   "cell_type": "markdown",
   "id": "04409875-7d8f-4f5a-a518-e45fa46a6e69",
   "metadata": {},
   "source": [
    "# Churn (отток)\n",
    "is the amount of users that have stopped using the service that business is providing.\n",
    "is the metric that measures the amount of users or customers the have stopped using the service in the particular timeframe.\n",
    "\n",
    "Churn is calculated like:\n",
    "Churn = (amount of churned customers / amount of users at the start of a period) * 100"
   ]
  },
  {
   "cell_type": "code",
   "execution_count": 4,
   "id": "45b7935b-768c-4b19-88b1-d323b0e76c3e",
   "metadata": {},
   "outputs": [
    {
     "name": "stdout",
     "output_type": "stream",
     "text": [
      "<class 'pandas.core.frame.DataFrame'>\n",
      "RangeIndex: 400 entries, 0 to 399\n",
      "Data columns (total 3 columns):\n",
      " #   Column        Non-Null Count  Dtype         \n",
      "---  ------        --------------  -----         \n",
      " 0   Дата          400 non-null    datetime64[ns]\n",
      " 1   Пользователь  400 non-null    object        \n",
      " 2   Активность    400 non-null    int64         \n",
      "dtypes: datetime64[ns](1), int64(1), object(1)\n",
      "memory usage: 9.5+ KB\n"
     ]
    }
   ],
   "source": [
    "import pandas as pd\n",
    "\n",
    "df = pd.read_csv('../datasets/data_churn.csv')\n",
    "df.drop('Unnamed: 0', axis=1, inplace=True)\n",
    "df['Дата'] = pd.to_datetime(df['Дата'])\n",
    "df.info()"
   ]
  },
  {
   "cell_type": "code",
   "execution_count": null,
   "id": "4f24034c-b4da-4c47-bf0f-635db496857b",
   "metadata": {},
   "outputs": [],
   "source": []
  }
 ],
 "metadata": {
  "kernelspec": {
   "display_name": "Python 3 (ipykernel)",
   "language": "python",
   "name": "python3"
  },
  "language_info": {
   "codemirror_mode": {
    "name": "ipython",
    "version": 3
   },
   "file_extension": ".py",
   "mimetype": "text/x-python",
   "name": "python",
   "nbconvert_exporter": "python",
   "pygments_lexer": "ipython3",
   "version": "3.11.5"
  }
 },
 "nbformat": 4,
 "nbformat_minor": 5
}
