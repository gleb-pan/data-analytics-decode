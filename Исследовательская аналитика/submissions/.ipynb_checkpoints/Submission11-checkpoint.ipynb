{
 "cells": [
  {
   "cell_type": "markdown",
   "id": "fcbd93cd-dec0-44b1-aa63-30eab5d15624",
   "metadata": {},
   "source": [
    "# Customer Lifetime and Customer Lifetime Value (CLTV)"
   ]
  },
  {
   "cell_type": "markdown",
   "id": "7da76ab2-2d91-47a9-8255-7b5f1fab96d3",
   "metadata": {},
   "source": [
    "This two concepts are related to each other but there are some differences that make them distinct.\n",
    "\n",
    "### Customer Lifetime (or Customer Lifetime Span)\n",
    "- refers to the duration time the customer continues to engage or transact with business.\n",
    "- it represents the length of time from the first customer's interraction with the business to the last one.\n",
    "- formula: Customer_Lifetime = (last_purchase_date - first_purchase_date)\n",
    "\n",
    "### CLTV (Customer Lifetime Value)\n",
    "- is a metric that represents the total financial value that customer brings to the company over the entire relationship with the bussiness.\n",
    "- it takes into account not only the duration of customer's relationship with the company but also the monetary value of their specific transactions during that time.\n",
    "- formula:\n",
    "  CLTV = ((Average_Purchase_Value * Purchase_Frequency) / Churn Rate) * Profit Margin\n",
    "\n",
    "  Where:\n",
    "  \n",
    "          Average_Purchase_Value = Total_Revenue / Total_Number_of_Orders\n",
    "          \n",
    "          Purchase_Frequency = Total_Number_of_Orders / Total_Number_of_Customers\n",
    "          \n",
    "          Churn_Rate = 1 / Average_Customer_Lifespan\n",
    "          \n",
    "          Profit_Margin = Net profit from a customer's purchase\n",
    "  "
   ]
  },
  {
   "cell_type": "code",
   "execution_count": 1,
   "id": "0aa35794-bfbe-4e0c-90d9-7804b6e4f252",
   "metadata": {},
   "outputs": [
    {
     "name": "stdout",
     "output_type": "stream",
     "text": [
      "Customer Lifetime Value (CLTV): 16.0\n"
     ]
    }
   ],
   "source": [
    "# example of the calculation customer CLTV\n",
    "\n",
    "import pandas as pd\n",
    "data = {\n",
    "    'customer_id': [1, 2, 3, 4, 5],\n",
    "    'order_date': ['2023-01-01', '2023-02-01', '2023-03-01', '2023-04-01', '2023-05-01'],\n",
    "    'revenue': [100, 150, 200, 250, 300]\n",
    "}\n",
    "\n",
    "df = pd.DataFrame(data)\n",
    "df['order_date'] = pd.to_datetime(df['order_date'])\n",
    "\n",
    "# Calculate Time Frame\n",
    "time_frame = (df['order_date'].max() - df['order_date'].min()).days / 30\n",
    "\n",
    "# Calculate Revenue per Customer\n",
    "revenue_per_customer = df.groupby('customer_id')['revenue'].sum()\n",
    "\n",
    "# Calculate Average Purchase Frequency Rate\n",
    "purchase_frequency = len(df) / len(df['customer_id'].unique())\n",
    "\n",
    "# Calculate Average Purchase Value\n",
    "average_purchase_value = df['revenue'].mean()\n",
    "\n",
    "# Calculate Average Customer Lifespan\n",
    "average_lifespan = time_frame / len(df['customer_id'].unique())\n",
    "\n",
    "# Calculate CLTV\n",
    "churn_rate = 1 / average_lifespan  # Assuming constant churn rate\n",
    "profit_margin = 0.1  # Assuming 10% profit margin\n",
    "cltv = ((average_purchase_value * purchase_frequency) / churn_rate) * profit_margin\n",
    "\n",
    "print(\"Customer Lifetime Value (CLTV):\", cltv)"
   ]
  },
  {
   "cell_type": "code",
   "execution_count": 2,
   "id": "98b19437-321e-49d8-b4c6-3db1000f105f",
   "metadata": {},
   "outputs": [
    {
     "name": "stdout",
     "output_type": "stream",
     "text": [
      "Customer Lifetime Span:\n",
      "customer_id\n",
      "1    0.0\n",
      "2    0.0\n",
      "3    0.0\n",
      "4    0.0\n",
      "5    0.0\n",
      "Name: order_date, dtype: float64\n"
     ]
    }
   ],
   "source": [
    "# example of the calculation customer Lifetime Span\n",
    "data = {\n",
    "    'customer_id': [1, 2, 3, 4, 5],\n",
    "    'order_date': ['2023-01-01', '2023-02-01', '2023-03-01', '2023-04-01', '2023-05-01'],\n",
    "    'revenue': [100, 150, 200, 250, 300]\n",
    "}\n",
    "\n",
    "df = pd.DataFrame(data)\n",
    "df['order_date'] = pd.to_datetime(df['order_date'])\n",
    "\n",
    "# Calculate Customer Lifetime Span\n",
    "customer_lifetime_span = df.groupby('customer_id')['order_date'].apply(lambda x: (x.max() - x.min()).days / 30)\n",
    "\n",
    "print(\"Customer Lifetime Span:\")\n",
    "print(customer_lifetime_span)"
   ]
  },
  {
   "cell_type": "code",
   "execution_count": 3,
   "id": "cef06cae-f1e7-4f30-b9ce-62ed0fe050a5",
   "metadata": {},
   "outputs": [
    {
     "name": "stdout",
     "output_type": "stream",
     "text": [
      "<class 'pandas.core.frame.DataFrame'>\n",
      "RangeIndex: 100 entries, 0 to 99\n",
      "Data columns (total 5 columns):\n",
      " #   Column                          Non-Null Count  Dtype         \n",
      "---  ------                          --------------  -----         \n",
      " 0   Пользователь                    100 non-null    object        \n",
      " 1   Дата покупки                    100 non-null    datetime64[ns]\n",
      " 2   Сумма покупки                   100 non-null    int64         \n",
      " 3   Категория продукта              100 non-null    object        \n",
      " 4   Время с момента первой покупки  100 non-null    int64         \n",
      "dtypes: datetime64[ns](1), int64(2), object(2)\n",
      "memory usage: 4.0+ KB\n"
     ]
    }
   ],
   "source": [
    "import pandas as pd\n",
    "\n",
    "df = pd.read_csv('../datasets/data_lifetime_CLTV.csv')\n",
    "df.drop('Unnamed: 0', axis=1, inplace=True)\n",
    "df['Дата покупки'] = pd.to_datetime(df['Дата покупки'])\n",
    "df.info()"
   ]
  },
  {
   "cell_type": "code",
   "execution_count": 4,
   "id": "3d3b8cf8-2e67-4f1c-93d9-b8afe4941563",
   "metadata": {},
   "outputs": [
    {
     "data": {
      "text/html": [
       "<div>\n",
       "<style scoped>\n",
       "    .dataframe tbody tr th:only-of-type {\n",
       "        vertical-align: middle;\n",
       "    }\n",
       "\n",
       "    .dataframe tbody tr th {\n",
       "        vertical-align: top;\n",
       "    }\n",
       "\n",
       "    .dataframe thead th {\n",
       "        text-align: right;\n",
       "    }\n",
       "</style>\n",
       "<table border=\"1\" class=\"dataframe\">\n",
       "  <thead>\n",
       "    <tr style=\"text-align: right;\">\n",
       "      <th></th>\n",
       "      <th>Пользователь</th>\n",
       "      <th>Дата покупки</th>\n",
       "      <th>Сумма покупки</th>\n",
       "      <th>Категория продукта</th>\n",
       "      <th>Время с момента первой покупки</th>\n",
       "    </tr>\n",
       "  </thead>\n",
       "  <tbody>\n",
       "    <tr>\n",
       "      <th>0</th>\n",
       "      <td>User1</td>\n",
       "      <td>2023-02-04</td>\n",
       "      <td>63</td>\n",
       "      <td>Home</td>\n",
       "      <td>25</td>\n",
       "    </tr>\n",
       "    <tr>\n",
       "      <th>1</th>\n",
       "      <td>User1</td>\n",
       "      <td>2023-01-18</td>\n",
       "      <td>149</td>\n",
       "      <td>Electronics</td>\n",
       "      <td>8</td>\n",
       "    </tr>\n",
       "    <tr>\n",
       "      <th>2</th>\n",
       "      <td>User1</td>\n",
       "      <td>2023-01-25</td>\n",
       "      <td>106</td>\n",
       "      <td>Home</td>\n",
       "      <td>15</td>\n",
       "    </tr>\n",
       "    <tr>\n",
       "      <th>3</th>\n",
       "      <td>User1</td>\n",
       "      <td>2023-01-30</td>\n",
       "      <td>193</td>\n",
       "      <td>Electronics</td>\n",
       "      <td>20</td>\n",
       "    </tr>\n",
       "    <tr>\n",
       "      <th>4</th>\n",
       "      <td>User1</td>\n",
       "      <td>2023-01-11</td>\n",
       "      <td>166</td>\n",
       "      <td>Clothing</td>\n",
       "      <td>1</td>\n",
       "    </tr>\n",
       "    <tr>\n",
       "      <th>...</th>\n",
       "      <td>...</td>\n",
       "      <td>...</td>\n",
       "      <td>...</td>\n",
       "      <td>...</td>\n",
       "      <td>...</td>\n",
       "    </tr>\n",
       "    <tr>\n",
       "      <th>95</th>\n",
       "      <td>User20</td>\n",
       "      <td>2023-01-15</td>\n",
       "      <td>48</td>\n",
       "      <td>Books</td>\n",
       "      <td>12</td>\n",
       "    </tr>\n",
       "    <tr>\n",
       "      <th>96</th>\n",
       "      <td>User20</td>\n",
       "      <td>2023-01-22</td>\n",
       "      <td>198</td>\n",
       "      <td>Home</td>\n",
       "      <td>19</td>\n",
       "    </tr>\n",
       "    <tr>\n",
       "      <th>97</th>\n",
       "      <td>User20</td>\n",
       "      <td>2023-01-25</td>\n",
       "      <td>44</td>\n",
       "      <td>Clothing</td>\n",
       "      <td>22</td>\n",
       "    </tr>\n",
       "    <tr>\n",
       "      <th>98</th>\n",
       "      <td>User20</td>\n",
       "      <td>2023-01-11</td>\n",
       "      <td>169</td>\n",
       "      <td>Home</td>\n",
       "      <td>8</td>\n",
       "    </tr>\n",
       "    <tr>\n",
       "      <th>99</th>\n",
       "      <td>User20</td>\n",
       "      <td>2023-01-27</td>\n",
       "      <td>106</td>\n",
       "      <td>Clothing</td>\n",
       "      <td>24</td>\n",
       "    </tr>\n",
       "  </tbody>\n",
       "</table>\n",
       "<p>100 rows × 5 columns</p>\n",
       "</div>"
      ],
      "text/plain": [
       "   Пользователь Дата покупки  Сумма покупки Категория продукта  \\\n",
       "0         User1   2023-02-04             63               Home   \n",
       "1         User1   2023-01-18            149        Electronics   \n",
       "2         User1   2023-01-25            106               Home   \n",
       "3         User1   2023-01-30            193        Electronics   \n",
       "4         User1   2023-01-11            166           Clothing   \n",
       "..          ...          ...            ...                ...   \n",
       "95       User20   2023-01-15             48              Books   \n",
       "96       User20   2023-01-22            198               Home   \n",
       "97       User20   2023-01-25             44           Clothing   \n",
       "98       User20   2023-01-11            169               Home   \n",
       "99       User20   2023-01-27            106           Clothing   \n",
       "\n",
       "    Время с момента первой покупки  \n",
       "0                               25  \n",
       "1                                8  \n",
       "2                               15  \n",
       "3                               20  \n",
       "4                                1  \n",
       "..                             ...  \n",
       "95                              12  \n",
       "96                              19  \n",
       "97                              22  \n",
       "98                               8  \n",
       "99                              24  \n",
       "\n",
       "[100 rows x 5 columns]"
      ]
     },
     "execution_count": 4,
     "metadata": {},
     "output_type": "execute_result"
    }
   ],
   "source": [
    "df"
   ]
  },
  {
   "cell_type": "code",
   "execution_count": 22,
   "id": "f997d5ac-1517-4027-a66a-d282e896c362",
   "metadata": {},
   "outputs": [
    {
     "name": "stdout",
     "output_type": "stream",
     "text": [
      "CLTV = 10563.86 $\n",
      "Mean customer lifetime span: 19.3\n"
     ]
    }
   ],
   "source": [
    "# chat-gpt порекомендовал мне следующую формулу, которой я буду придерживаться\n",
    "# cltv = average_purchase_value * purchase_frequency * average_customer_lifespan\n",
    "# а по Lifetime я нашел следующую формулу: Customer_Lifetime = (last_purchase_date - first_purchase_date)\n",
    "\n",
    "# Lifetime for each customer\n",
    "last_purchase = df.groupby('Пользователь')['Дата покупки'].max()\n",
    "first_purchase = df.groupby('Пользователь')['Дата покупки'].min()\n",
    "customer_lifetime_span = (last_purchase - first_purchase).dt.days\n",
    "\n",
    "# Average Customer Lifetime Span\n",
    "avg_customer_lifetime_span = customer_lifetime_span.mean() # = 19.3\n",
    "\n",
    "# Average Purchase Value\n",
    "avg_purchase_value = df['Сумма покупки'].mean() # = 109.47\n",
    "\n",
    "# Purchase frequency\n",
    "purchase_freq = len(df) / len(df['Пользователь'].unique()) # = 5.0\n",
    "\n",
    "cltv = avg_purchase_value * purchase_freq * avg_customer_lifetime_span\n",
    "\n",
    "print(f\"CLTV = {round(cltv, 2)} $\\nMean customer lifetime span: {avg_customer_lifetime_span}\")"
   ]
  },
  {
   "cell_type": "code",
   "execution_count": 23,
   "id": "4d379903-b7b2-44fe-b117-96ef2a9c2a14",
   "metadata": {},
   "outputs": [
    {
     "name": "stdout",
     "output_type": "stream",
     "text": [
      "   Пользователь  Дата покупки\n",
      "5        User14            27\n",
      "9        User18            27\n",
      "11        User2            25\n",
      "7        User16            25\n",
      "0         User1            24\n",
      "3        User12            23\n",
      "8        User17            23\n",
      "17        User7            22\n",
      "15        User5            21\n",
      "1        User10            19\n",
      "16        User6            18\n",
      "19        User9            17\n",
      "2        User11            17\n",
      "12       User20            16\n",
      "4        User13            16\n",
      "14        User4            15\n",
      "13        User3            14\n",
      "18        User8            13\n",
      "10       User19            13\n",
      "6        User15            11\n"
     ]
    }
   ],
   "source": [
    "# Customer Lifetime Span\n",
    "print(customer_lifetime_span.reset_index().sort_values(by='Дата покупки', ascending=False))"
   ]
  },
  {
   "cell_type": "code",
   "execution_count": null,
   "id": "d330185e-5eda-43f7-993d-8e3e739b6149",
   "metadata": {},
   "outputs": [],
   "source": []
  }
 ],
 "metadata": {
  "kernelspec": {
   "display_name": "Python 3 (ipykernel)",
   "language": "python",
   "name": "python3"
  },
  "language_info": {
   "codemirror_mode": {
    "name": "ipython",
    "version": 3
   },
   "file_extension": ".py",
   "mimetype": "text/x-python",
   "name": "python",
   "nbconvert_exporter": "python",
   "pygments_lexer": "ipython3",
   "version": "3.11.5"
  }
 },
 "nbformat": 4,
 "nbformat_minor": 5
}
