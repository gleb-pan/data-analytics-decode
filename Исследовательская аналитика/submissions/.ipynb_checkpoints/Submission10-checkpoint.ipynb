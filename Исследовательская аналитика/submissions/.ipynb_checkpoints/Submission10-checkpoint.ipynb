{
 "cells": [
  {
   "cell_type": "code",
   "execution_count": 5,
   "id": "fd7122e3-d1af-4e77-b57d-88cc2b813424",
   "metadata": {},
   "outputs": [
    {
     "name": "stdout",
     "output_type": "stream",
     "text": [
      "<class 'pandas.core.frame.DataFrame'>\n",
      "RangeIndex: 6 entries, 0 to 5\n",
      "Data columns (total 5 columns):\n",
      " #   Column        Non-Null Count  Dtype \n",
      "---  ------        --------------  ----- \n",
      " 0   Дата          6 non-null      object\n",
      " 1   Пользователь  6 non-null      object\n",
      " 2   Посещения     6 non-null      int64 \n",
      " 3   Регистрации   6 non-null      int64 \n",
      " 4   Покупки       6 non-null      int64 \n",
      "dtypes: int64(3), object(2)\n",
      "memory usage: 372.0+ bytes\n"
     ]
    }
   ],
   "source": [
    "import pandas as pd\n",
    "\n",
    "df = pd.read_csv('../datasets/data.csv')\n",
    "df.drop('Unnamed: 0', axis=1, inplace=True)\n",
    "df.info()"
   ]
  },
  {
   "cell_type": "code",
   "execution_count": 6,
   "id": "86ac17d2-6ad0-416c-9044-9319fc5d49e7",
   "metadata": {},
   "outputs": [
    {
     "data": {
      "text/html": [
       "<div>\n",
       "<style scoped>\n",
       "    .dataframe tbody tr th:only-of-type {\n",
       "        vertical-align: middle;\n",
       "    }\n",
       "\n",
       "    .dataframe tbody tr th {\n",
       "        vertical-align: top;\n",
       "    }\n",
       "\n",
       "    .dataframe thead th {\n",
       "        text-align: right;\n",
       "    }\n",
       "</style>\n",
       "<table border=\"1\" class=\"dataframe\">\n",
       "  <thead>\n",
       "    <tr style=\"text-align: right;\">\n",
       "      <th></th>\n",
       "      <th>Дата</th>\n",
       "      <th>Пользователь</th>\n",
       "      <th>Посещения</th>\n",
       "      <th>Регистрации</th>\n",
       "      <th>Покупки</th>\n",
       "    </tr>\n",
       "  </thead>\n",
       "  <tbody>\n",
       "    <tr>\n",
       "      <th>0</th>\n",
       "      <td>2023-01-01</td>\n",
       "      <td>User1</td>\n",
       "      <td>1</td>\n",
       "      <td>0</td>\n",
       "      <td>0</td>\n",
       "    </tr>\n",
       "    <tr>\n",
       "      <th>1</th>\n",
       "      <td>2023-01-01</td>\n",
       "      <td>User2</td>\n",
       "      <td>1</td>\n",
       "      <td>1</td>\n",
       "      <td>0</td>\n",
       "    </tr>\n",
       "    <tr>\n",
       "      <th>2</th>\n",
       "      <td>2023-01-02</td>\n",
       "      <td>User1</td>\n",
       "      <td>1</td>\n",
       "      <td>0</td>\n",
       "      <td>0</td>\n",
       "    </tr>\n",
       "    <tr>\n",
       "      <th>3</th>\n",
       "      <td>2023-01-02</td>\n",
       "      <td>User3</td>\n",
       "      <td>1</td>\n",
       "      <td>0</td>\n",
       "      <td>1</td>\n",
       "    </tr>\n",
       "    <tr>\n",
       "      <th>4</th>\n",
       "      <td>2023-01-03</td>\n",
       "      <td>User2</td>\n",
       "      <td>1</td>\n",
       "      <td>0</td>\n",
       "      <td>0</td>\n",
       "    </tr>\n",
       "    <tr>\n",
       "      <th>5</th>\n",
       "      <td>2023-01-03</td>\n",
       "      <td>User4</td>\n",
       "      <td>1</td>\n",
       "      <td>1</td>\n",
       "      <td>1</td>\n",
       "    </tr>\n",
       "  </tbody>\n",
       "</table>\n",
       "</div>"
      ],
      "text/plain": [
       "         Дата Пользователь  Посещения  Регистрации  Покупки\n",
       "0  2023-01-01        User1          1            0        0\n",
       "1  2023-01-01        User2          1            1        0\n",
       "2  2023-01-02        User1          1            0        0\n",
       "3  2023-01-02        User3          1            0        1\n",
       "4  2023-01-03        User2          1            0        0\n",
       "5  2023-01-03        User4          1            1        1"
      ]
     },
     "execution_count": 6,
     "metadata": {},
     "output_type": "execute_result"
    }
   ],
   "source": [
    "df"
   ]
  },
  {
   "cell_type": "code",
   "execution_count": 16,
   "id": "309250a1-cd6d-43b0-897a-88c6b9c0a452",
   "metadata": {},
   "outputs": [
    {
     "name": "stdout",
     "output_type": "stream",
     "text": [
      "Конверсия по регистрации пользователей: 50.0 %\n",
      "Конверсия по покупкам пользователей: 50.0 %\n"
     ]
    }
   ],
   "source": [
    "# создаю переменные\n",
    "total_users = df['Пользователь'].nunique()\n",
    "users_signed_up = df[df['Регистрации'] == 1]['Пользователь'].nunique()\n",
    "users_purchased = df[df['Покупки'] == 1]['Пользователь'].nunique()\n",
    "\n",
    "# конверсия по регистрации\n",
    "reg_conversion = (users_signed_up/total_users) * 100\n",
    "print(f\"Конверсия по регистрации пользователей: {reg_conversion} %\")\n",
    "\n",
    "# конверсия по покупкам\n",
    "purchase_conversion = (users_purchased/total_users) * 100\n",
    "print(f\"Конверсия по покупкам пользователей: {purchase_conversion} %\")"
   ]
  },
  {
   "cell_type": "code",
   "execution_count": null,
   "id": "6b26d68d-6f71-45d9-95a7-8f9865a14309",
   "metadata": {},
   "outputs": [],
   "source": []
  }
 ],
 "metadata": {
  "kernelspec": {
   "display_name": "Python 3 (ipykernel)",
   "language": "python",
   "name": "python3"
  },
  "language_info": {
   "codemirror_mode": {
    "name": "ipython",
    "version": 3
   },
   "file_extension": ".py",
   "mimetype": "text/x-python",
   "name": "python",
   "nbconvert_exporter": "python",
   "pygments_lexer": "ipython3",
   "version": "3.11.5"
  }
 },
 "nbformat": 4,
 "nbformat_minor": 5
}
