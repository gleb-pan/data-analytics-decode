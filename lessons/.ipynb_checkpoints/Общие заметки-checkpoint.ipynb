{
 "cells": [
  {
   "cell_type": "markdown",
   "id": "e3aaa6d6-259f-403d-9e2c-20484f8c542f",
   "metadata": {},
   "source": [
    "# Общие заметки"
   ]
  },
  {
   "cell_type": "markdown",
   "id": "49cc905e-bb71-4c64-9765-b75f345ea018",
   "metadata": {
    "jp-MarkdownHeadingCollapsed": true
   },
   "source": [
    "### Дубликаты могут быть разные.\n",
    "\n",
    "Метод .drop_duplicates() - удаляет из таблицы идентичные строки (100% соответсвие между строками).\n",
    "Но не удаляет в случае если все ячейки в строках идентичны кроме одной.\n",
    "В основном так происходит со стоболцом \"Время\"\n",
    "\n",
    "\n",
    "Чтобы избавиться от дубликатов по значениям ячеек в стоблце нужно использльзовать аргумент subset метода drop_duplicates:\n",
    "### .drop_duplicates(subset = 'Название стобца')"
   ]
  },
  {
   "cell_type": "markdown",
   "id": "1d29f1e2-fcb6-4ec4-b85f-ddca8faa9268",
   "metadata": {},
   "source": [
    "## Практическая работа с данными"
   ]
  },
  {
   "cell_type": "code",
   "execution_count": null,
   "id": "286ec4b2-8016-42d7-80d6-051ca4b37ef4",
   "metadata": {},
   "outputs": [],
   "source": [
    "# to rename a column name\n",
    "df.rename({'last_name':'future_name'}, axis=1) # column with name 'last_name' will be renamed to 'future_name'"
   ]
  },
  {
   "cell_type": "code",
   "execution_count": null,
   "id": "b298d7f0-f820-4f39-9ac2-d89d40d9da19",
   "metadata": {},
   "outputs": [],
   "source": [
    "# to replace a value of the cell in column\n",
    "# let's assume that we have numbers 3 and 7 in different rows with column name 'city_code'\n",
    "# we need to change the number 3 to 'Atyrau' and 7 to 'Almaty'\n",
    "df['city_code'].replace({3: 'Atyrau', 7: 'Almaty'})"
   ]
  },
  {
   "cell_type": "code",
   "execution_count": null,
   "id": "1aa85e4f-efdf-4b0d-8fa2-ce0541bfdb55",
   "metadata": {},
   "outputs": [],
   "source": [
    "# to delete a column\n",
    "df.drop('city_code', axis=0) # 1-for columns, 0-for rows"
   ]
  },
  {
   "cell_type": "code",
   "execution_count": null,
   "id": "d1033093-9353-4675-9b66-be3a4e080348",
   "metadata": {},
   "outputs": [],
   "source": [
    "# to delete a row\n",
    "row_index = 5\n",
    "df.drop(row_index) # drops row with 5th index"
   ]
  }
 ],
 "metadata": {
  "kernelspec": {
   "display_name": "Python 3 (ipykernel)",
   "language": "python",
   "name": "python3"
  },
  "language_info": {
   "codemirror_mode": {
    "name": "ipython",
    "version": 3
   },
   "file_extension": ".py",
   "mimetype": "text/x-python",
   "name": "python",
   "nbconvert_exporter": "python",
   "pygments_lexer": "ipython3",
   "version": "3.11.5"
  }
 },
 "nbformat": 4,
 "nbformat_minor": 5
}
