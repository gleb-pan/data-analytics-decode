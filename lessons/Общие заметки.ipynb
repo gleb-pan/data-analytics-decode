{
 "cells": [
  {
   "cell_type": "markdown",
   "id": "e3aaa6d6-259f-403d-9e2c-20484f8c542f",
   "metadata": {},
   "source": [
    "# Общие заметки"
   ]
  },
  {
   "cell_type": "markdown",
   "id": "49cc905e-bb71-4c64-9765-b75f345ea018",
   "metadata": {},
   "source": [
    "### Дубликаты могут быть разные.\n",
    "\n",
    "Метод .drop_duplicates() - удаляет из таблицы идентичные строки (100% соответсвие между строками).\n",
    "Но не удаляет в случае если все ячейки в строках идентичны кроме одной.\n",
    "В основном так происходит со стоболцом \"Время\"\n",
    "\n",
    "\n",
    "Чтобы избавиться от дубликатов по значениям ячеек в стоблце нужно использльзовать аргумент subset метода drop_duplicates:\n",
    "### .drop_duplicates(subset = 'Название стобца')"
   ]
  },
  {
   "cell_type": "code",
   "execution_count": null,
   "id": "8697fdde-ab0a-4fac-9d52-e692d99627b6",
   "metadata": {},
   "outputs": [],
   "source": []
  },
  {
   "cell_type": "code",
   "execution_count": null,
   "id": "286ec4b2-8016-42d7-80d6-051ca4b37ef4",
   "metadata": {},
   "outputs": [],
   "source": []
  }
 ],
 "metadata": {
  "kernelspec": {
   "display_name": "Python 3 (ipykernel)",
   "language": "python",
   "name": "python3"
  },
  "language_info": {
   "codemirror_mode": {
    "name": "ipython",
    "version": 3
   },
   "file_extension": ".py",
   "mimetype": "text/x-python",
   "name": "python",
   "nbconvert_exporter": "python",
   "pygments_lexer": "ipython3",
   "version": "3.11.5"
  }
 },
 "nbformat": 4,
 "nbformat_minor": 5
}
