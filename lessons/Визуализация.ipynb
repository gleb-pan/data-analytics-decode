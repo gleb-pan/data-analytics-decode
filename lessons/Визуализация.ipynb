{
 "cells": [
  {
   "cell_type": "markdown",
   "id": "d86ad316-be08-4615-9521-111a7a16929e",
   "metadata": {},
   "source": [
    "## Библиотеки: matplotlib, seaborn, funnel\n",
    "\n",
    "Displot - distribution plot. (Показывает сколько значений имеется в ваших данных)\n",
    "\n",
    "Box plot - помагает найти аномалии (найти выбросы). Делит на квартилии. Усы (по краям) - макс и мин значение данных\n",
    "\n",
    "Pie Chart - процентное соотношение (деление на доли)\n",
    "\n",
    "Heatmap - карта корреляций. связь между скалярными значениями. взаимосвязь. бывает позитивная и негативная\n"
   ]
  },
  {
   "cell_type": "code",
   "execution_count": null,
   "id": "2a844ac9-ec16-4533-ac79-cf261447592b",
   "metadata": {},
   "outputs": [],
   "source": []
  }
 ],
 "metadata": {
  "kernelspec": {
   "display_name": "Python 3 (ipykernel)",
   "language": "python",
   "name": "python3"
  },
  "language_info": {
   "codemirror_mode": {
    "name": "ipython",
    "version": 3
   },
   "file_extension": ".py",
   "mimetype": "text/x-python",
   "name": "python",
   "nbconvert_exporter": "python",
   "pygments_lexer": "ipython3",
   "version": "3.11.5"
  }
 },
 "nbformat": 4,
 "nbformat_minor": 5
}
