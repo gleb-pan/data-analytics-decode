{
 "cells": [
  {
   "cell_type": "markdown",
   "id": "43036f07-f9e1-4850-83d0-4d4bac366ae9",
   "metadata": {},
   "source": [
    "# Мини проект"
   ]
  },
  {
   "cell_type": "code",
   "execution_count": 84,
   "id": "68d25942-99cc-494c-a169-7b0abad48ea7",
   "metadata": {},
   "outputs": [
    {
     "name": "stdout",
     "output_type": "stream",
     "text": [
      "<class 'pandas.core.frame.DataFrame'>\n",
      "RangeIndex: 244126 entries, 0 to 244125\n",
      "Data columns (total 4 columns):\n",
      " #   Column          Non-Null Count   Dtype \n",
      "---  ------          --------------   ----- \n",
      " 0   EventName       244126 non-null  object\n",
      " 1   DeviceIDHash    244126 non-null  int64 \n",
      " 2   EventTimestamp  244126 non-null  int64 \n",
      " 3   ExpId           244126 non-null  int64 \n",
      "dtypes: int64(3), object(1)\n",
      "memory usage: 7.5+ MB\n"
     ]
    }
   ],
   "source": [
    "# для начала пойму что это за датасет и предобработаю его при необходимости.\n",
    "\n",
    "import pandas as pd\n",
    "\n",
    "try:    \n",
    "    df = pd.read_csv('../datasets/logs_exp.csv', sep='\\t')\n",
    "except:\n",
    "    print('Dataset not found.')\n",
    "    \n",
    "df.info() \n",
    "\n",
    "# вижу что датасет полностью наполнен"
   ]
  },
  {
   "cell_type": "code",
   "execution_count": 85,
   "id": "accec06d-bf95-4753-8b48-f7955f4e065f",
   "metadata": {},
   "outputs": [
    {
     "data": {
      "text/html": [
       "<div>\n",
       "<style scoped>\n",
       "    .dataframe tbody tr th:only-of-type {\n",
       "        vertical-align: middle;\n",
       "    }\n",
       "\n",
       "    .dataframe tbody tr th {\n",
       "        vertical-align: top;\n",
       "    }\n",
       "\n",
       "    .dataframe thead th {\n",
       "        text-align: right;\n",
       "    }\n",
       "</style>\n",
       "<table border=\"1\" class=\"dataframe\">\n",
       "  <thead>\n",
       "    <tr style=\"text-align: right;\">\n",
       "      <th></th>\n",
       "      <th>EventName</th>\n",
       "      <th>DeviceIDHash</th>\n",
       "      <th>EventTimestamp</th>\n",
       "      <th>ExpId</th>\n",
       "    </tr>\n",
       "  </thead>\n",
       "  <tbody>\n",
       "    <tr>\n",
       "      <th>0</th>\n",
       "      <td>MainScreenAppear</td>\n",
       "      <td>4575588528974610257</td>\n",
       "      <td>1564029816</td>\n",
       "      <td>246</td>\n",
       "    </tr>\n",
       "    <tr>\n",
       "      <th>1</th>\n",
       "      <td>MainScreenAppear</td>\n",
       "      <td>7416695313311560658</td>\n",
       "      <td>1564053102</td>\n",
       "      <td>246</td>\n",
       "    </tr>\n",
       "    <tr>\n",
       "      <th>2</th>\n",
       "      <td>PaymentScreenSuccessful</td>\n",
       "      <td>3518123091307005509</td>\n",
       "      <td>1564054127</td>\n",
       "      <td>248</td>\n",
       "    </tr>\n",
       "    <tr>\n",
       "      <th>3</th>\n",
       "      <td>CartScreenAppear</td>\n",
       "      <td>3518123091307005509</td>\n",
       "      <td>1564054127</td>\n",
       "      <td>248</td>\n",
       "    </tr>\n",
       "    <tr>\n",
       "      <th>4</th>\n",
       "      <td>PaymentScreenSuccessful</td>\n",
       "      <td>6217807653094995999</td>\n",
       "      <td>1564055322</td>\n",
       "      <td>248</td>\n",
       "    </tr>\n",
       "    <tr>\n",
       "      <th>...</th>\n",
       "      <td>...</td>\n",
       "      <td>...</td>\n",
       "      <td>...</td>\n",
       "      <td>...</td>\n",
       "    </tr>\n",
       "    <tr>\n",
       "      <th>244121</th>\n",
       "      <td>MainScreenAppear</td>\n",
       "      <td>4599628364049201812</td>\n",
       "      <td>1565212345</td>\n",
       "      <td>247</td>\n",
       "    </tr>\n",
       "    <tr>\n",
       "      <th>244122</th>\n",
       "      <td>MainScreenAppear</td>\n",
       "      <td>5849806612437486590</td>\n",
       "      <td>1565212439</td>\n",
       "      <td>246</td>\n",
       "    </tr>\n",
       "    <tr>\n",
       "      <th>244123</th>\n",
       "      <td>MainScreenAppear</td>\n",
       "      <td>5746969938801999050</td>\n",
       "      <td>1565212483</td>\n",
       "      <td>246</td>\n",
       "    </tr>\n",
       "    <tr>\n",
       "      <th>244124</th>\n",
       "      <td>MainScreenAppear</td>\n",
       "      <td>5746969938801999050</td>\n",
       "      <td>1565212498</td>\n",
       "      <td>246</td>\n",
       "    </tr>\n",
       "    <tr>\n",
       "      <th>244125</th>\n",
       "      <td>OffersScreenAppear</td>\n",
       "      <td>5746969938801999050</td>\n",
       "      <td>1565212517</td>\n",
       "      <td>246</td>\n",
       "    </tr>\n",
       "  </tbody>\n",
       "</table>\n",
       "<p>244126 rows × 4 columns</p>\n",
       "</div>"
      ],
      "text/plain": [
       "                      EventName         DeviceIDHash  EventTimestamp  ExpId\n",
       "0              MainScreenAppear  4575588528974610257      1564029816    246\n",
       "1              MainScreenAppear  7416695313311560658      1564053102    246\n",
       "2       PaymentScreenSuccessful  3518123091307005509      1564054127    248\n",
       "3              CartScreenAppear  3518123091307005509      1564054127    248\n",
       "4       PaymentScreenSuccessful  6217807653094995999      1564055322    248\n",
       "...                         ...                  ...             ...    ...\n",
       "244121         MainScreenAppear  4599628364049201812      1565212345    247\n",
       "244122         MainScreenAppear  5849806612437486590      1565212439    246\n",
       "244123         MainScreenAppear  5746969938801999050      1565212483    246\n",
       "244124         MainScreenAppear  5746969938801999050      1565212498    246\n",
       "244125       OffersScreenAppear  5746969938801999050      1565212517    246\n",
       "\n",
       "[244126 rows x 4 columns]"
      ]
     },
     "execution_count": 85,
     "metadata": {},
     "output_type": "execute_result"
    }
   ],
   "source": [
    "df"
   ]
  },
  {
   "cell_type": "markdown",
   "id": "36b77905-054a-40f0-b8e0-25e1ab6a612a",
   "metadata": {},
   "source": [
    "- EventName — название события;\r\n",
    "- DeviceIDHash — уникальный идентификатор пользователя;\r\n",
    "- EventTimestamp — время события;\r\n",
    "- ExpId — номер эксперимента: 246 и 247 — контрольные группы, а 248 — экспериментальная."
   ]
  },
  {
   "cell_type": "markdown",
   "id": "4e515228-b95f-4fb7-8130-2b93690bd973",
   "metadata": {},
   "source": [
    "- Исходя из описания к заданию, все ясно с назначением колонн\n",
    "- Единственное для удобства, я бы преобразовал колонну EventTimestamp из unix формата в обычный."
   ]
  },
  {
   "cell_type": "code",
   "execution_count": 86,
   "id": "ca5bf685-bd55-4cd0-88e8-42660cb19fbc",
   "metadata": {},
   "outputs": [
    {
     "data": {
      "text/html": [
       "<div>\n",
       "<style scoped>\n",
       "    .dataframe tbody tr th:only-of-type {\n",
       "        vertical-align: middle;\n",
       "    }\n",
       "\n",
       "    .dataframe tbody tr th {\n",
       "        vertical-align: top;\n",
       "    }\n",
       "\n",
       "    .dataframe thead th {\n",
       "        text-align: right;\n",
       "    }\n",
       "</style>\n",
       "<table border=\"1\" class=\"dataframe\">\n",
       "  <thead>\n",
       "    <tr style=\"text-align: right;\">\n",
       "      <th></th>\n",
       "      <th>EventName</th>\n",
       "      <th>DeviceIDHash</th>\n",
       "      <th>EventTimestamp</th>\n",
       "      <th>ExpId</th>\n",
       "      <th>TimestampForHuman</th>\n",
       "    </tr>\n",
       "  </thead>\n",
       "  <tbody>\n",
       "    <tr>\n",
       "      <th>0</th>\n",
       "      <td>MainScreenAppear</td>\n",
       "      <td>4575588528974610257</td>\n",
       "      <td>1564029816</td>\n",
       "      <td>246</td>\n",
       "      <td>2019-07-25 04:43:36</td>\n",
       "    </tr>\n",
       "    <tr>\n",
       "      <th>1</th>\n",
       "      <td>MainScreenAppear</td>\n",
       "      <td>7416695313311560658</td>\n",
       "      <td>1564053102</td>\n",
       "      <td>246</td>\n",
       "      <td>2019-07-25 11:11:42</td>\n",
       "    </tr>\n",
       "    <tr>\n",
       "      <th>2</th>\n",
       "      <td>PaymentScreenSuccessful</td>\n",
       "      <td>3518123091307005509</td>\n",
       "      <td>1564054127</td>\n",
       "      <td>248</td>\n",
       "      <td>2019-07-25 11:28:47</td>\n",
       "    </tr>\n",
       "    <tr>\n",
       "      <th>3</th>\n",
       "      <td>CartScreenAppear</td>\n",
       "      <td>3518123091307005509</td>\n",
       "      <td>1564054127</td>\n",
       "      <td>248</td>\n",
       "      <td>2019-07-25 11:28:47</td>\n",
       "    </tr>\n",
       "    <tr>\n",
       "      <th>4</th>\n",
       "      <td>PaymentScreenSuccessful</td>\n",
       "      <td>6217807653094995999</td>\n",
       "      <td>1564055322</td>\n",
       "      <td>248</td>\n",
       "      <td>2019-07-25 11:48:42</td>\n",
       "    </tr>\n",
       "    <tr>\n",
       "      <th>...</th>\n",
       "      <td>...</td>\n",
       "      <td>...</td>\n",
       "      <td>...</td>\n",
       "      <td>...</td>\n",
       "      <td>...</td>\n",
       "    </tr>\n",
       "    <tr>\n",
       "      <th>244121</th>\n",
       "      <td>MainScreenAppear</td>\n",
       "      <td>4599628364049201812</td>\n",
       "      <td>1565212345</td>\n",
       "      <td>247</td>\n",
       "      <td>2019-08-07 21:12:25</td>\n",
       "    </tr>\n",
       "    <tr>\n",
       "      <th>244122</th>\n",
       "      <td>MainScreenAppear</td>\n",
       "      <td>5849806612437486590</td>\n",
       "      <td>1565212439</td>\n",
       "      <td>246</td>\n",
       "      <td>2019-08-07 21:13:59</td>\n",
       "    </tr>\n",
       "    <tr>\n",
       "      <th>244123</th>\n",
       "      <td>MainScreenAppear</td>\n",
       "      <td>5746969938801999050</td>\n",
       "      <td>1565212483</td>\n",
       "      <td>246</td>\n",
       "      <td>2019-08-07 21:14:43</td>\n",
       "    </tr>\n",
       "    <tr>\n",
       "      <th>244124</th>\n",
       "      <td>MainScreenAppear</td>\n",
       "      <td>5746969938801999050</td>\n",
       "      <td>1565212498</td>\n",
       "      <td>246</td>\n",
       "      <td>2019-08-07 21:14:58</td>\n",
       "    </tr>\n",
       "    <tr>\n",
       "      <th>244125</th>\n",
       "      <td>OffersScreenAppear</td>\n",
       "      <td>5746969938801999050</td>\n",
       "      <td>1565212517</td>\n",
       "      <td>246</td>\n",
       "      <td>2019-08-07 21:15:17</td>\n",
       "    </tr>\n",
       "  </tbody>\n",
       "</table>\n",
       "<p>244126 rows × 5 columns</p>\n",
       "</div>"
      ],
      "text/plain": [
       "                      EventName         DeviceIDHash  EventTimestamp  ExpId  \\\n",
       "0              MainScreenAppear  4575588528974610257      1564029816    246   \n",
       "1              MainScreenAppear  7416695313311560658      1564053102    246   \n",
       "2       PaymentScreenSuccessful  3518123091307005509      1564054127    248   \n",
       "3              CartScreenAppear  3518123091307005509      1564054127    248   \n",
       "4       PaymentScreenSuccessful  6217807653094995999      1564055322    248   \n",
       "...                         ...                  ...             ...    ...   \n",
       "244121         MainScreenAppear  4599628364049201812      1565212345    247   \n",
       "244122         MainScreenAppear  5849806612437486590      1565212439    246   \n",
       "244123         MainScreenAppear  5746969938801999050      1565212483    246   \n",
       "244124         MainScreenAppear  5746969938801999050      1565212498    246   \n",
       "244125       OffersScreenAppear  5746969938801999050      1565212517    246   \n",
       "\n",
       "         TimestampForHuman  \n",
       "0      2019-07-25 04:43:36  \n",
       "1      2019-07-25 11:11:42  \n",
       "2      2019-07-25 11:28:47  \n",
       "3      2019-07-25 11:28:47  \n",
       "4      2019-07-25 11:48:42  \n",
       "...                    ...  \n",
       "244121 2019-08-07 21:12:25  \n",
       "244122 2019-08-07 21:13:59  \n",
       "244123 2019-08-07 21:14:43  \n",
       "244124 2019-08-07 21:14:58  \n",
       "244125 2019-08-07 21:15:17  \n",
       "\n",
       "[244126 rows x 5 columns]"
      ]
     },
     "execution_count": 86,
     "metadata": {},
     "output_type": "execute_result"
    }
   ],
   "source": [
    "df['TimestampForHuman'] = pd.to_datetime(df['EventTimestamp'], unit='s') # конвертируем колонну EventTimestamp и добавляем ее как новый столбец\n",
    "df.drop_duplicates() # удалим дублирующиеся записи если они есть\n",
    "df"
   ]
  },
  {
   "cell_type": "code",
   "execution_count": 87,
   "id": "e1f70f68-ff8c-48e9-b091-ad3e722aeed5",
   "metadata": {},
   "outputs": [
    {
     "data": {
      "text/plain": [
       "array(['MainScreenAppear', 'PaymentScreenSuccessful', 'CartScreenAppear',\n",
       "       'OffersScreenAppear', 'Tutorial'], dtype=object)"
      ]
     },
     "execution_count": 87,
     "metadata": {},
     "output_type": "execute_result"
    }
   ],
   "source": [
    "# Колонна EventName описывает что именно произошло в то или иное время. Я бы хотел понять какие уникальные записи имеются в этой колонне.\n",
    "event_names = df['EventName'].unique()\n",
    "event_names"
   ]
  },
  {
   "cell_type": "markdown",
   "id": "77c146f2-fdd7-4338-a8c7-003cef65b6a1",
   "metadata": {},
   "source": [
    "Я понял значения колонны EventName следующим образом:\n",
    "- MainScreenAppear - юзер зашел на главную страницу.\n",
    "- PaymentScreenSuccessful - юзер был перенаправлен на страницу сообщающей об успешном проведении оплаты.\n",
    "- CartScreenAppear - юзер перешел в корзину с товарами.\n",
    "- OffersScreenAppear - юзер перешел на страницу с предложениями.\n",
    "- Tutorial - страница с описанием веб-сайта (как им пользоваться)."
   ]
  },
  {
   "cell_type": "code",
   "execution_count": 88,
   "id": "f6f870a2-1d4f-4ee9-a511-f83c24b37b50",
   "metadata": {},
   "outputs": [
    {
     "data": {
      "text/plain": [
       "7551"
      ]
     },
     "execution_count": 88,
     "metadata": {},
     "output_type": "execute_result"
    }
   ],
   "source": [
    "# Посчитав уникальные DeviceIDHash мы можем понять сколько человек заходило на веб-сайт за определенный период времени.\n",
    "users_count = df['DeviceIDHash'].nunique()\n",
    "users_count"
   ]
  },
  {
   "cell_type": "code",
   "execution_count": 89,
   "id": "96a978d7-30f6-4c0d-b247-4a0aa4959304",
   "metadata": {},
   "outputs": [
    {
     "data": {
      "text/plain": [
       "[1564029816, 1565212517]"
      ]
     },
     "execution_count": 89,
     "metadata": {},
     "output_type": "execute_result"
    }
   ],
   "source": [
    "# было бы также полезно понять за какой период времени у нас данные\n",
    "time_range = []\n",
    "\n",
    "val = df['EventTimestamp'].min()\n",
    "time_range.append(val)\n",
    "\n",
    "val = df['EventTimestamp'].max()\n",
    "time_range.append(val)\n",
    "\n",
    "time_range\n",
    "# получается что у нас данные с 25 Июля 2019 по 7 Августа 2019"
   ]
  },
  {
   "cell_type": "code",
   "execution_count": 90,
   "id": "1f0bc881-6e3a-4604-988a-43bd23e4a2f8",
   "metadata": {},
   "outputs": [
    {
     "data": {
      "text/plain": [
       "([<matplotlib.patches.Wedge at 0x26ef1ed2010>,\n",
       "  <matplotlib.patches.Wedge at 0x26ef24c60d0>,\n",
       "  <matplotlib.patches.Wedge at 0x26ef24beed0>,\n",
       "  <matplotlib.patches.Wedge at 0x26ef24c7f50>,\n",
       "  <matplotlib.patches.Wedge at 0x26ef24d1090>],\n",
       " [Text(0.937837964489716, 0.5748564623989074, 'CartScreenAppear'),\n",
       "  Text(-0.9612047954577926, 0.5348694618212403, 'MainScreenAppear'),\n",
       "  Text(0.06377775262884826, -1.0981495336563294, 'OffersScreenAppear'),\n",
       "  Text(0.9814014128092663, -0.49684128948385164, 'PaymentScreenSuccessful'),\n",
       "  Text(1.0998992015312186, -0.014891154118739727, 'Tutorial')],\n",
       " [Text(0.5115479806307541, 0.313558070399404, '17.5%'),\n",
       "  Text(-0.5242935247951596, 0.29174697917522197, '48.8%'),\n",
       "  Text(0.03478786507028086, -0.5989906547216342, '19.2%'),\n",
       "  Text(0.535309861532327, -0.2710043397184645, '14.1%'),\n",
       "  Text(0.5999450190170282, -0.008122447701130759, '0.4%')])"
      ]
     },
     "execution_count": 90,
     "metadata": {},
     "output_type": "execute_result"
    },
    {
     "data": {
      "image/png": "[encoded data removed]",
      "text/plain": [
       "<Figure size 640x480 with 1 Axes>"
      ]
     },
     "metadata": {},
     "output_type": "display_data"
    }
   ],
   "source": [
    "# Было бы интересно построить пай-чарт, чтобы понять какие из страниц веб-сайта являются самыми популярными среди пользователей.\n",
    "import matplotlib.pyplot as plt\n",
    "\n",
    "pie = df.groupby('EventName').agg({'DeviceIDHash':'count'}).reset_index()\n",
    "\n",
    "sizes = pie['DeviceIDHash']\n",
    "labels = pie['EventName']\n",
    "\n",
    "plt.pie(sizes, labels=labels, autopct='%1.1f%%')"
   ]
  },
  {
   "cell_type": "markdown",
   "id": "a649f009-f6b4-4828-a5da-a07039b80528",
   "metadata": {},
   "source": [
    "- Как мы видим, большинство пользователей (48,8%) просто заходят на главную страницу.\n",
    "- 19,2% заходят на страницу с предожениями\n",
    "- 17,5% переходят в корзину\n",
    "- ### 14,1% совершают покупки\n",
    "- и 0,4% переходят на страницу с описанием веб-сайта."
   ]
  },
  {
   "cell_type": "code",
   "execution_count": 91,
   "id": "548c75b5-dc6c-4222-a802-ad4363c7053e",
   "metadata": {},
   "outputs": [
    {
     "data": {
      "text/html": [
       "<div>\n",
       "<style scoped>\n",
       "    .dataframe tbody tr th:only-of-type {\n",
       "        vertical-align: middle;\n",
       "    }\n",
       "\n",
       "    .dataframe tbody tr th {\n",
       "        vertical-align: top;\n",
       "    }\n",
       "\n",
       "    .dataframe thead th {\n",
       "        text-align: right;\n",
       "    }\n",
       "</style>\n",
       "<table border=\"1\" class=\"dataframe\">\n",
       "  <thead>\n",
       "    <tr style=\"text-align: right;\">\n",
       "      <th></th>\n",
       "      <th>EventName</th>\n",
       "      <th>DeviceIDHash</th>\n",
       "    </tr>\n",
       "  </thead>\n",
       "  <tbody>\n",
       "    <tr>\n",
       "      <th>0</th>\n",
       "      <td>CartScreenAppear</td>\n",
       "      <td>42731</td>\n",
       "    </tr>\n",
       "    <tr>\n",
       "      <th>1</th>\n",
       "      <td>MainScreenAppear</td>\n",
       "      <td>119205</td>\n",
       "    </tr>\n",
       "    <tr>\n",
       "      <th>2</th>\n",
       "      <td>OffersScreenAppear</td>\n",
       "      <td>46825</td>\n",
       "    </tr>\n",
       "    <tr>\n",
       "      <th>3</th>\n",
       "      <td>PaymentScreenSuccessful</td>\n",
       "      <td>34313</td>\n",
       "    </tr>\n",
       "    <tr>\n",
       "      <th>4</th>\n",
       "      <td>Tutorial</td>\n",
       "      <td>1052</td>\n",
       "    </tr>\n",
       "  </tbody>\n",
       "</table>\n",
       "</div>"
      ],
      "text/plain": [
       "                 EventName  DeviceIDHash\n",
       "0         CartScreenAppear         42731\n",
       "1         MainScreenAppear        119205\n",
       "2       OffersScreenAppear         46825\n",
       "3  PaymentScreenSuccessful         34313\n",
       "4                 Tutorial          1052"
      ]
     },
     "execution_count": 91,
     "metadata": {},
     "output_type": "execute_result"
    }
   ],
   "source": [
    "pie"
   ]
  },
  {
   "cell_type": "markdown",
   "id": "e17ea85f-6b7f-4eac-b927-53229d97a4fb",
   "metadata": {},
   "source": [
    "# Посчитайте количество девайсов, сгруппированных по группам (ExpId)"
   ]
  },
  {
   "cell_type": "code",
   "execution_count": 92,
   "id": "2567cebe-4f29-403a-9738-185d33c5a521",
   "metadata": {},
   "outputs": [
    {
     "data": {
      "text/html": [
       "<div>\n",
       "<style scoped>\n",
       "    .dataframe tbody tr th:only-of-type {\n",
       "        vertical-align: middle;\n",
       "    }\n",
       "\n",
       "    .dataframe tbody tr th {\n",
       "        vertical-align: top;\n",
       "    }\n",
       "\n",
       "    .dataframe thead th {\n",
       "        text-align: right;\n",
       "    }\n",
       "</style>\n",
       "<table border=\"1\" class=\"dataframe\">\n",
       "  <thead>\n",
       "    <tr style=\"text-align: right;\">\n",
       "      <th></th>\n",
       "      <th>ExpId</th>\n",
       "      <th>DeviceIDHash</th>\n",
       "    </tr>\n",
       "  </thead>\n",
       "  <tbody>\n",
       "    <tr>\n",
       "      <th>0</th>\n",
       "      <td>246</td>\n",
       "      <td>2489</td>\n",
       "    </tr>\n",
       "    <tr>\n",
       "      <th>1</th>\n",
       "      <td>247</td>\n",
       "      <td>2520</td>\n",
       "    </tr>\n",
       "    <tr>\n",
       "      <th>2</th>\n",
       "      <td>248</td>\n",
       "      <td>2542</td>\n",
       "    </tr>\n",
       "  </tbody>\n",
       "</table>\n",
       "</div>"
      ],
      "text/plain": [
       "   ExpId  DeviceIDHash\n",
       "0    246          2489\n",
       "1    247          2520\n",
       "2    248          2542"
      ]
     },
     "execution_count": 92,
     "metadata": {},
     "output_type": "execute_result"
    }
   ],
   "source": [
    "# считаем количество уникальных значений DeviceIDHash, тем самым получаем количество девайсов.\n",
    "devices = df.groupby('ExpId').agg({'DeviceIDHash': 'nunique'}).reset_index()\n",
    "devices"
   ]
  },
  {
   "cell_type": "code",
   "execution_count": 93,
   "id": "661dc35e-355e-4297-abb5-adafb984d351",
   "metadata": {},
   "outputs": [
    {
     "data": {
      "text/plain": [
       "7551"
      ]
     },
     "execution_count": 93,
     "metadata": {},
     "output_type": "execute_result"
    }
   ],
   "source": [
    "# чтобы проверить себя, сложу все получившиеся значения. Должно получиться 7551 (рассчитал ранее)\n",
    "devices['DeviceIDHash'].sum()"
   ]
  },
  {
   "cell_type": "markdown",
   "id": "c6a921ee-4a4a-4e58-b5fb-4a37202c4120",
   "metadata": {},
   "source": [
    "# Посчитайте количество посещений, сгруппированных по группам (ExpId)"
   ]
  },
  {
   "cell_type": "code",
   "execution_count": 94,
   "id": "ebfe6b2c-ce7c-44a1-9c1f-2de30f1c67e4",
   "metadata": {},
   "outputs": [
    {
     "data": {
      "text/html": [
       "<div>\n",
       "<style scoped>\n",
       "    .dataframe tbody tr th:only-of-type {\n",
       "        vertical-align: middle;\n",
       "    }\n",
       "\n",
       "    .dataframe tbody tr th {\n",
       "        vertical-align: top;\n",
       "    }\n",
       "\n",
       "    .dataframe thead th {\n",
       "        text-align: right;\n",
       "    }\n",
       "</style>\n",
       "<table border=\"1\" class=\"dataframe\">\n",
       "  <thead>\n",
       "    <tr style=\"text-align: right;\">\n",
       "      <th></th>\n",
       "      <th>ExpId</th>\n",
       "      <th>Visited</th>\n",
       "    </tr>\n",
       "  </thead>\n",
       "  <tbody>\n",
       "    <tr>\n",
       "      <th>0</th>\n",
       "      <td>246</td>\n",
       "      <td>80304</td>\n",
       "    </tr>\n",
       "    <tr>\n",
       "      <th>1</th>\n",
       "      <td>247</td>\n",
       "      <td>78075</td>\n",
       "    </tr>\n",
       "    <tr>\n",
       "      <th>2</th>\n",
       "      <td>248</td>\n",
       "      <td>85747</td>\n",
       "    </tr>\n",
       "  </tbody>\n",
       "</table>\n",
       "</div>"
      ],
      "text/plain": [
       "   ExpId  Visited\n",
       "0    246    80304\n",
       "1    247    78075\n",
       "2    248    85747"
      ]
     },
     "execution_count": 94,
     "metadata": {},
     "output_type": "execute_result"
    }
   ],
   "source": [
    "# каждая строка это посщение той или иной cтраницы\n",
    "# поэтому в данном случае нам нужно считать каждую строку, независимо от колонны\n",
    "sessions = df.groupby('ExpId').agg({'DeviceIDHash': 'count'}).reset_index()\n",
    "sessions.rename(columns={'DeviceIDHash': 'Visited'}, inplace=True) # переименуем стоблец с цифрами для удобства\n",
    "sessions"
   ]
  },
  {
   "cell_type": "markdown",
   "id": "3765a234-05f0-49a4-b702-bf7a36fbf38b",
   "metadata": {},
   "source": [
    "# Посчитайте количество посещений в каждую страницу"
   ]
  },
  {
   "cell_type": "code",
   "execution_count": 95,
   "id": "db0826c8-2c75-4be3-8778-7e6d66682c42",
   "metadata": {},
   "outputs": [
    {
     "data": {
      "text/html": [
       "<div>\n",
       "<style scoped>\n",
       "    .dataframe tbody tr th:only-of-type {\n",
       "        vertical-align: middle;\n",
       "    }\n",
       "\n",
       "    .dataframe tbody tr th {\n",
       "        vertical-align: top;\n",
       "    }\n",
       "\n",
       "    .dataframe thead th {\n",
       "        text-align: right;\n",
       "    }\n",
       "</style>\n",
       "<table border=\"1\" class=\"dataframe\">\n",
       "  <thead>\n",
       "    <tr style=\"text-align: right;\">\n",
       "      <th></th>\n",
       "      <th>EventName</th>\n",
       "      <th>DeviceIDHash</th>\n",
       "    </tr>\n",
       "  </thead>\n",
       "  <tbody>\n",
       "    <tr>\n",
       "      <th>1</th>\n",
       "      <td>MainScreenAppear</td>\n",
       "      <td>119205</td>\n",
       "    </tr>\n",
       "    <tr>\n",
       "      <th>2</th>\n",
       "      <td>OffersScreenAppear</td>\n",
       "      <td>46825</td>\n",
       "    </tr>\n",
       "    <tr>\n",
       "      <th>0</th>\n",
       "      <td>CartScreenAppear</td>\n",
       "      <td>42731</td>\n",
       "    </tr>\n",
       "    <tr>\n",
       "      <th>3</th>\n",
       "      <td>PaymentScreenSuccessful</td>\n",
       "      <td>34313</td>\n",
       "    </tr>\n",
       "    <tr>\n",
       "      <th>4</th>\n",
       "      <td>Tutorial</td>\n",
       "      <td>1052</td>\n",
       "    </tr>\n",
       "  </tbody>\n",
       "</table>\n",
       "</div>"
      ],
      "text/plain": [
       "                 EventName  DeviceIDHash\n",
       "1         MainScreenAppear        119205\n",
       "2       OffersScreenAppear         46825\n",
       "0         CartScreenAppear         42731\n",
       "3  PaymentScreenSuccessful         34313\n",
       "4                 Tutorial          1052"
      ]
     },
     "execution_count": 95,
     "metadata": {},
     "output_type": "execute_result"
    }
   ],
   "source": [
    "# то же самое я делал когда рисовал пай-чарт\n",
    "page_views = df.groupby('EventName').agg({'DeviceIDHash': 'count'}).reset_index().sort_values(by='DeviceIDHash', ascending=False)\n",
    "page_views"
   ]
  },
  {
   "cell_type": "markdown",
   "id": "3626838f-892f-4389-896d-c0a26e19fc48",
   "metadata": {},
   "source": [
    "# Постройте воронку из библиотеки Plotly (Funnel), которая будет описывать количество посещений в каждую таблицу"
   ]
  },
  {
   "cell_type": "code",
   "execution_count": 96,
   "id": "fc4ecfcf-5e3d-4f0e-bac7-8a4e2851928a",
   "metadata": {},
   "outputs": [
    {
     "data": {
      "application/vnd.plotly.v1+json": {
       "config": {
        "plotlyServerURL": "https://plot.ly"
       },
       "data": [
        {
         "hovertemplate": "amount=%{x}<br>page=%{y}<extra></extra>",
         "legendgroup": "",
         "marker": {
          "color": "#636efa"
         },
         "name": "",
         "orientation": "h",
         "showlegend": false,
         "type": "funnel",
         "x": [
          119205,
          46825,
          42731,
          34313,
          1052
         ],
         "xaxis": "x",
         "y": [
          "MainScreenAppear",
          "OffersScreenAppear",
          "CartScreenAppear",
          "PaymentScreenSuccessful",
          "Tutorial"
         ],
         "yaxis": "y"
        }
       ],
       "layout": {
        "autosize": true,
        "legend": {
         "tracegroupgap": 0
        },
        "margin": {
         "t": 60
        },
        "template": {
         "data": {
          "bar": [
           {
            "error_x": {
             "color": "#2a3f5f"
            },
            "error_y": {
             "color": "#2a3f5f"
            },
            "marker": {
             "line": {
              "color": "#E5ECF6",
              "width": 0.5
             },
             "pattern": {
              "fillmode": "overlay",
              "size": 10,
              "solidity": 0.2
             }
            },
            "type": "bar"
           }
          ],
          "barpolar": [
           {
            "marker": {
             "line": {
              "color": "#E5ECF6",
              "width": 0.5
             },
             "pattern": {
              "fillmode": "overlay",
              "size": 10,
              "solidity": 0.2
             }
            },
            "type": "barpolar"
           }
          ],
          "carpet": [
           {
            "aaxis": {
             "endlinecolor": "#2a3f5f",
             "gridcolor": "white",
             "linecolor": "white",
             "minorgridcolor": "white",
             "startlinecolor": "#2a3f5f"
            },
            "baxis": {
             "endlinecolor": "#2a3f5f",
             "gridcolor": "white",
             "linecolor": "white",
             "minorgridcolor": "white",
             "startlinecolor": "#2a3f5f"
            },
            "type": "carpet"
           }
          ],
          "choropleth": [
           {
            "colorbar": {
             "outlinewidth": 0,
             "ticks": ""
            },
            "type": "choropleth"
           }
          ],
          "contour": [
           {
            "colorbar": {
             "outlinewidth": 0,
             "ticks": ""
            },
            "colorscale": [
             [
              0,
              "#0d0887"
             ],
             [
              0.1111111111111111,
              "#46039f"
             ],
             [
              0.2222222222222222,
              "#7201a8"
             ],
             [
              0.3333333333333333,
              "#9c179e"
             ],
             [
              0.4444444444444444,
              "#bd3786"
             ],
             [
              0.5555555555555556,
              "#d8576b"
             ],
             [
              0.6666666666666666,
              "#ed7953"
             ],
             [
              0.7777777777777778,
              "#fb9f3a"
             ],
             [
              0.8888888888888888,
              "#fdca26"
             ],
             [
              1,
              "#f0f921"
             ]
            ],
            "type": "contour"
           }
          ],
          "contourcarpet": [
           {
            "colorbar": {
             "outlinewidth": 0,
             "ticks": ""
            },
            "type": "contourcarpet"
           }
          ],
          "heatmap": [
           {
            "colorbar": {
             "outlinewidth": 0,
             "ticks": ""
            },
            "colorscale": [
             [
              0,
              "#0d0887"
             ],
             [
              0.1111111111111111,
              "#46039f"
             ],
             [
              0.2222222222222222,
              "#7201a8"
             ],
             [
              0.3333333333333333,
              "#9c179e"
             ],
             [
              0.4444444444444444,
              "#bd3786"
             ],
             [
              0.5555555555555556,
              "#d8576b"
             ],
             [
              0.6666666666666666,
              "#ed7953"
             ],
             [
              0.7777777777777778,
              "#fb9f3a"
             ],
             [
              0.8888888888888888,
              "#fdca26"
             ],
             [
              1,
              "#f0f921"
             ]
            ],
            "type": "heatmap"
           }
          ],
          "heatmapgl": [
           {
            "colorbar": {
             "outlinewidth": 0,
             "ticks": ""
            },
            "colorscale": [
             [
              0,
              "#0d0887"
             ],
             [
              0.1111111111111111,
              "#46039f"
             ],
             [
              0.2222222222222222,
              "#7201a8"
             ],
             [
              0.3333333333333333,
              "#9c179e"
             ],
             [
              0.4444444444444444,
              "#bd3786"
             ],
             [
              0.5555555555555556,
              "#d8576b"
             ],
             [
              0.6666666666666666,
              "#ed7953"
             ],
             [
              0.7777777777777778,
              "#fb9f3a"
             ],
             [
              0.8888888888888888,
              "#fdca26"
             ],
             [
              1,
              "#f0f921"
             ]
            ],
            "type": "heatmapgl"
           }
          ],
          "histogram": [
           {
            "marker": {
             "pattern": {
              "fillmode": "overlay",
              "size": 10,
              "solidity": 0.2
             }
            },
            "type": "histogram"
           }
          ],
          "histogram2d": [
           {
            "colorbar": {
             "outlinewidth": 0,
             "ticks": ""
            },
            "colorscale": [
             [
              0,
              "#0d0887"
             ],
             [
              0.1111111111111111,
              "#46039f"
             ],
             [
              0.2222222222222222,
              "#7201a8"
             ],
             [
              0.3333333333333333,
              "#9c179e"
             ],
             [
              0.4444444444444444,
              "#bd3786"
             ],
             [
              0.5555555555555556,
              "#d8576b"
             ],
             [
              0.6666666666666666,
              "#ed7953"
             ],
             [
              0.7777777777777778,
              "#fb9f3a"
             ],
             [
              0.8888888888888888,
              "#fdca26"
             ],
             [
              1,
              "#f0f921"
             ]
            ],
            "type": "histogram2d"
           }
          ],
          "histogram2dcontour": [
           {
            "colorbar": {
             "outlinewidth": 0,
             "ticks": ""
            },
            "colorscale": [
             [
              0,
              "#0d0887"
             ],
             [
              0.1111111111111111,
              "#46039f"
             ],
             [
              0.2222222222222222,
              "#7201a8"
             ],
             [
              0.3333333333333333,
              "#9c179e"
             ],
             [
              0.4444444444444444,
              "#bd3786"
             ],
             [
              0.5555555555555556,
              "#d8576b"
             ],
             [
              0.6666666666666666,
              "#ed7953"
             ],
             [
              0.7777777777777778,
              "#fb9f3a"
             ],
             [
              0.8888888888888888,
              "#fdca26"
             ],
             [
              1,
              "#f0f921"
             ]
            ],
            "type": "histogram2dcontour"
           }
          ],
          "mesh3d": [
           {
            "colorbar": {
             "outlinewidth": 0,
             "ticks": ""
            },
            "type": "mesh3d"
           }
          ],
          "parcoords": [
           {
            "line": {
             "colorbar": {
              "outlinewidth": 0,
              "ticks": ""
             }
            },
            "type": "parcoords"
           }
          ],
          "pie": [
           {
            "automargin": true,
            "type": "pie"
           }
          ],
          "scatter": [
           {
            "fillpattern": {
             "fillmode": "overlay",
             "size": 10,
             "solidity": 0.2
            },
            "type": "scatter"
           }
          ],
          "scatter3d": [
           {
            "line": {
             "colorbar": {
              "outlinewidth": 0,
              "ticks": ""
             }
            },
            "marker": {
             "colorbar": {
              "outlinewidth": 0,
              "ticks": ""
             }
            },
            "type": "scatter3d"
           }
          ],
          "scattercarpet": [
           {
            "marker": {
             "colorbar": {
              "outlinewidth": 0,
              "ticks": ""
             }
            },
            "type": "scattercarpet"
           }
          ],
          "scattergeo": [
           {
            "marker": {
             "colorbar": {
              "outlinewidth": 0,
              "ticks": ""
             }
            },
            "type": "scattergeo"
           }
          ],
          "scattergl": [
           {
            "marker": {
             "colorbar": {
              "outlinewidth": 0,
              "ticks": ""
             }
            },
            "type": "scattergl"
           }
          ],
          "scattermapbox": [
           {
            "marker": {
             "colorbar": {
              "outlinewidth": 0,
              "ticks": ""
             }
            },
            "type": "scattermapbox"
           }
          ],
          "scatterpolar": [
           {
            "marker": {
             "colorbar": {
              "outlinewidth": 0,
              "ticks": ""
             }
            },
            "type": "scatterpolar"
           }
          ],
          "scatterpolargl": [
           {
            "marker": {
             "colorbar": {
              "outlinewidth": 0,
              "ticks": ""
             }
            },
            "type": "scatterpolargl"
           }
          ],
          "scatterternary": [
           {
            "marker": {
             "colorbar": {
              "outlinewidth": 0,
              "ticks": ""
             }
            },
            "type": "scatterternary"
           }
          ],
          "surface": [
           {
            "colorbar": {
             "outlinewidth": 0,
             "ticks": ""
            },
            "colorscale": [
             [
              0,
              "#0d0887"
             ],
             [
              0.1111111111111111,
              "#46039f"
             ],
             [
              0.2222222222222222,
              "#7201a8"
             ],
             [
              0.3333333333333333,
              "#9c179e"
             ],
             [
              0.4444444444444444,
              "#bd3786"
             ],
             [
              0.5555555555555556,
              "#d8576b"
             ],
             [
              0.6666666666666666,
              "#ed7953"
             ],
             [
              0.7777777777777778,
              "#fb9f3a"
             ],
             [
              0.8888888888888888,
              "#fdca26"
             ],
             [
              1,
              "#f0f921"
             ]
            ],
            "type": "surface"
           }
          ],
          "table": [
           {
            "cells": {
             "fill": {
              "color": "#EBF0F8"
             },
             "line": {
              "color": "white"
             }
            },
            "header": {
             "fill": {
              "color": "#C8D4E3"
             },
             "line": {
              "color": "white"
             }
            },
            "type": "table"
           }
          ]
         },
         "layout": {
          "annotationdefaults": {
           "arrowcolor": "#2a3f5f",
           "arrowhead": 0,
           "arrowwidth": 1
          },
          "autotypenumbers": "strict",
          "coloraxis": {
           "colorbar": {
            "outlinewidth": 0,
            "ticks": ""
           }
          },
          "colorscale": {
           "diverging": [
            [
             0,
             "#8e0152"
            ],
            [
             0.1,
             "#c51b7d"
            ],
            [
             0.2,
             "#de77ae"
            ],
            [
             0.3,
             "#f1b6da"
            ],
            [
             0.4,
             "#fde0ef"
            ],
            [
             0.5,
             "#f7f7f7"
            ],
            [
             0.6,
             "#e6f5d0"
            ],
            [
             0.7,
             "#b8e186"
            ],
            [
             0.8,
             "#7fbc41"
            ],
            [
             0.9,
             "#4d9221"
            ],
            [
             1,
             "#276419"
            ]
           ],
           "sequential": [
            [
             0,
             "#0d0887"
            ],
            [
             0.1111111111111111,
             "#46039f"
            ],
            [
             0.2222222222222222,
             "#7201a8"
            ],
            [
             0.3333333333333333,
             "#9c179e"
            ],
            [
             0.4444444444444444,
             "#bd3786"
            ],
            [
             0.5555555555555556,
             "#d8576b"
            ],
            [
             0.6666666666666666,
             "#ed7953"
            ],
            [
             0.7777777777777778,
             "#fb9f3a"
            ],
            [
             0.8888888888888888,
             "#fdca26"
            ],
            [
             1,
             "#f0f921"
            ]
           ],
           "sequentialminus": [
            [
             0,
             "#0d0887"
            ],
            [
             0.1111111111111111,
             "#46039f"
            ],
            [
             0.2222222222222222,
             "#7201a8"
            ],
            [
             0.3333333333333333,
             "#9c179e"
            ],
            [
             0.4444444444444444,
             "#bd3786"
            ],
            [
             0.5555555555555556,
             "#d8576b"
            ],
            [
             0.6666666666666666,
             "#ed7953"
            ],
            [
             0.7777777777777778,
             "#fb9f3a"
            ],
            [
             0.8888888888888888,
             "#fdca26"
            ],
            [
             1,
             "#f0f921"
            ]
           ]
          },
          "colorway": [
           "#636efa",
           "#EF553B",
           "#00cc96",
           "#ab63fa",
           "#FFA15A",
           "#19d3f3",
           "#FF6692",
           "#B6E880",
           "#FF97FF",
           "#FECB52"
          ],
          "font": {
           "color": "#2a3f5f"
          },
          "geo": {
           "bgcolor": "white",
           "lakecolor": "white",
           "landcolor": "#E5ECF6",
           "showlakes": true,
           "showland": true,
           "subunitcolor": "white"
          },
          "hoverlabel": {
           "align": "left"
          },
          "hovermode": "closest",
          "mapbox": {
           "style": "light"
          },
          "paper_bgcolor": "white",
          "plot_bgcolor": "#E5ECF6",
          "polar": {
           "angularaxis": {
            "gridcolor": "white",
            "linecolor": "white",
            "ticks": ""
           },
           "bgcolor": "#E5ECF6",
           "radialaxis": {
            "gridcolor": "white",
            "linecolor": "white",
            "ticks": ""
           }
          },
          "scene": {
           "xaxis": {
            "backgroundcolor": "#E5ECF6",
            "gridcolor": "white",
            "gridwidth": 2,
            "linecolor": "white",
            "showbackground": true,
            "ticks": "",
            "zerolinecolor": "white"
           },
           "yaxis": {
            "backgroundcolor": "#E5ECF6",
            "gridcolor": "white",
            "gridwidth": 2,
            "linecolor": "white",
            "showbackground": true,
            "ticks": "",
            "zerolinecolor": "white"
           },
           "zaxis": {
            "backgroundcolor": "#E5ECF6",
            "gridcolor": "white",
            "gridwidth": 2,
            "linecolor": "white",
            "showbackground": true,
            "ticks": "",
            "zerolinecolor": "white"
           }
          },
          "shapedefaults": {
           "line": {
            "color": "#2a3f5f"
           }
          },
          "ternary": {
           "aaxis": {
            "gridcolor": "white",
            "linecolor": "white",
            "ticks": ""
           },
           "baxis": {
            "gridcolor": "white",
            "linecolor": "white",
            "ticks": ""
           },
           "bgcolor": "#E5ECF6",
           "caxis": {
            "gridcolor": "white",
            "linecolor": "white",
            "ticks": ""
           }
          },
          "title": {
           "x": 0.05
          },
          "xaxis": {
           "automargin": true,
           "gridcolor": "white",
           "linecolor": "white",
           "ticks": "",
           "title": {
            "standoff": 15
           },
           "zerolinecolor": "white",
           "zerolinewidth": 2
          },
          "yaxis": {
           "automargin": true,
           "gridcolor": "white",
           "linecolor": "white",
           "ticks": "",
           "title": {
            "standoff": 15
           },
           "zerolinecolor": "white",
           "zerolinewidth": 2
          }
         }
        },
        "xaxis": {
         "anchor": "y",
         "autorange": true,
         "domain": [
          0,
          1
         ],
         "range": [
          -66225,
          66225
         ],
         "title": {
          "text": "amount"
         },
         "type": "linear"
        },
        "yaxis": {
         "anchor": "x",
         "autorange": true,
         "domain": [
          0,
          1
         ],
         "range": [
          4.5,
          -0.5
         ],
         "title": {
          "text": "page"
         },
         "type": "category"
        }
       }
      },
      "image/png": "[encoded data removed]",
      "text/html": [
       "<div>                            <div id=\"45de6dc6-12bb-48b9-9774-d0111f77e055\" class=\"plotly-graph-div\" style=\"height:525px; width:100%;\"></div>            <script type=\"text/javascript\">                require([\"plotly\"], function(Plotly) {                    window.PLOTLYENV=window.PLOTLYENV || {};                                    if (document.getElementById(\"45de6dc6-12bb-48b9-9774-d0111f77e055\")) {                    Plotly.newPlot(                        \"45de6dc6-12bb-48b9-9774-d0111f77e055\",                        [{\"hovertemplate\":\"amount=%{x}\\u003cbr\\u003epage=%{y}\\u003cextra\\u003e\\u003c\\u002fextra\\u003e\",\"legendgroup\":\"\",\"marker\":{\"color\":\"#636efa\"},\"name\":\"\",\"orientation\":\"h\",\"showlegend\":false,\"x\":[119205,46825,42731,34313,1052],\"xaxis\":\"x\",\"y\":[\"MainScreenAppear\",\"OffersScreenAppear\",\"CartScreenAppear\",\"PaymentScreenSuccessful\",\"Tutorial\"],\"yaxis\":\"y\",\"type\":\"funnel\"}],                        {\"template\":{\"data\":{\"histogram2dcontour\":[{\"type\":\"histogram2dcontour\",\"colorbar\":{\"outlinewidth\":0,\"ticks\":\"\"},\"colorscale\":[[0.0,\"#0d0887\"],[0.1111111111111111,\"#46039f\"],[0.2222222222222222,\"#7201a8\"],[0.3333333333333333,\"#9c179e\"],[0.4444444444444444,\"#bd3786\"],[0.5555555555555556,\"#d8576b\"],[0.6666666666666666,\"#ed7953\"],[0.7777777777777778,\"#fb9f3a\"],[0.8888888888888888,\"#fdca26\"],[1.0,\"#f0f921\"]]}],\"choropleth\":[{\"type\":\"choropleth\",\"colorbar\":{\"outlinewidth\":0,\"ticks\":\"\"}}],\"histogram2d\":[{\"type\":\"histogram2d\",\"colorbar\":{\"outlinewidth\":0,\"ticks\":\"\"},\"colorscale\":[[0.0,\"#0d0887\"],[0.1111111111111111,\"#46039f\"],[0.2222222222222222,\"#7201a8\"],[0.3333333333333333,\"#9c179e\"],[0.4444444444444444,\"#bd3786\"],[0.5555555555555556,\"#d8576b\"],[0.6666666666666666,\"#ed7953\"],[0.7777777777777778,\"#fb9f3a\"],[0.8888888888888888,\"#fdca26\"],[1.0,\"#f0f921\"]]}],\"heatmap\":[{\"type\":\"heatmap\",\"colorbar\":{\"outlinewidth\":0,\"ticks\":\"\"},\"colorscale\":[[0.0,\"#0d0887\"],[0.1111111111111111,\"#46039f\"],[0.2222222222222222,\"#7201a8\"],[0.3333333333333333,\"#9c179e\"],[0.4444444444444444,\"#bd3786\"],[0.5555555555555556,\"#d8576b\"],[0.6666666666666666,\"#ed7953\"],[0.7777777777777778,\"#fb9f3a\"],[0.8888888888888888,\"#fdca26\"],[1.0,\"#f0f921\"]]}],\"heatmapgl\":[{\"type\":\"heatmapgl\",\"colorbar\":{\"outlinewidth\":0,\"ticks\":\"\"},\"colorscale\":[[0.0,\"#0d0887\"],[0.1111111111111111,\"#46039f\"],[0.2222222222222222,\"#7201a8\"],[0.3333333333333333,\"#9c179e\"],[0.4444444444444444,\"#bd3786\"],[0.5555555555555556,\"#d8576b\"],[0.6666666666666666,\"#ed7953\"],[0.7777777777777778,\"#fb9f3a\"],[0.8888888888888888,\"#fdca26\"],[1.0,\"#f0f921\"]]}],\"contourcarpet\":[{\"type\":\"contourcarpet\",\"colorbar\":{\"outlinewidth\":0,\"ticks\":\"\"}}],\"contour\":[{\"type\":\"contour\",\"colorbar\":{\"outlinewidth\":0,\"ticks\":\"\"},\"colorscale\":[[0.0,\"#0d0887\"],[0.1111111111111111,\"#46039f\"],[0.2222222222222222,\"#7201a8\"],[0.3333333333333333,\"#9c179e\"],[0.4444444444444444,\"#bd3786\"],[0.5555555555555556,\"#d8576b\"],[0.6666666666666666,\"#ed7953\"],[0.7777777777777778,\"#fb9f3a\"],[0.8888888888888888,\"#fdca26\"],[1.0,\"#f0f921\"]]}],\"surface\":[{\"type\":\"surface\",\"colorbar\":{\"outlinewidth\":0,\"ticks\":\"\"},\"colorscale\":[[0.0,\"#0d0887\"],[0.1111111111111111,\"#46039f\"],[0.2222222222222222,\"#7201a8\"],[0.3333333333333333,\"#9c179e\"],[0.4444444444444444,\"#bd3786\"],[0.5555555555555556,\"#d8576b\"],[0.6666666666666666,\"#ed7953\"],[0.7777777777777778,\"#fb9f3a\"],[0.8888888888888888,\"#fdca26\"],[1.0,\"#f0f921\"]]}],\"mesh3d\":[{\"type\":\"mesh3d\",\"colorbar\":{\"outlinewidth\":0,\"ticks\":\"\"}}],\"scatter\":[{\"fillpattern\":{\"fillmode\":\"overlay\",\"size\":10,\"solidity\":0.2},\"type\":\"scatter\"}],\"parcoords\":[{\"type\":\"parcoords\",\"line\":{\"colorbar\":{\"outlinewidth\":0,\"ticks\":\"\"}}}],\"scatterpolargl\":[{\"type\":\"scatterpolargl\",\"marker\":{\"colorbar\":{\"outlinewidth\":0,\"ticks\":\"\"}}}],\"bar\":[{\"error_x\":{\"color\":\"#2a3f5f\"},\"error_y\":{\"color\":\"#2a3f5f\"},\"marker\":{\"line\":{\"color\":\"#E5ECF6\",\"width\":0.5},\"pattern\":{\"fillmode\":\"overlay\",\"size\":10,\"solidity\":0.2}},\"type\":\"bar\"}],\"scattergeo\":[{\"type\":\"scattergeo\",\"marker\":{\"colorbar\":{\"outlinewidth\":0,\"ticks\":\"\"}}}],\"scatterpolar\":[{\"type\":\"scatterpolar\",\"marker\":{\"colorbar\":{\"outlinewidth\":0,\"ticks\":\"\"}}}],\"histogram\":[{\"marker\":{\"pattern\":{\"fillmode\":\"overlay\",\"size\":10,\"solidity\":0.2}},\"type\":\"histogram\"}],\"scattergl\":[{\"type\":\"scattergl\",\"marker\":{\"colorbar\":{\"outlinewidth\":0,\"ticks\":\"\"}}}],\"scatter3d\":[{\"type\":\"scatter3d\",\"line\":{\"colorbar\":{\"outlinewidth\":0,\"ticks\":\"\"}},\"marker\":{\"colorbar\":{\"outlinewidth\":0,\"ticks\":\"\"}}}],\"scattermapbox\":[{\"type\":\"scattermapbox\",\"marker\":{\"colorbar\":{\"outlinewidth\":0,\"ticks\":\"\"}}}],\"scatterternary\":[{\"type\":\"scatterternary\",\"marker\":{\"colorbar\":{\"outlinewidth\":0,\"ticks\":\"\"}}}],\"scattercarpet\":[{\"type\":\"scattercarpet\",\"marker\":{\"colorbar\":{\"outlinewidth\":0,\"ticks\":\"\"}}}],\"carpet\":[{\"aaxis\":{\"endlinecolor\":\"#2a3f5f\",\"gridcolor\":\"white\",\"linecolor\":\"white\",\"minorgridcolor\":\"white\",\"startlinecolor\":\"#2a3f5f\"},\"baxis\":{\"endlinecolor\":\"#2a3f5f\",\"gridcolor\":\"white\",\"linecolor\":\"white\",\"minorgridcolor\":\"white\",\"startlinecolor\":\"#2a3f5f\"},\"type\":\"carpet\"}],\"table\":[{\"cells\":{\"fill\":{\"color\":\"#EBF0F8\"},\"line\":{\"color\":\"white\"}},\"header\":{\"fill\":{\"color\":\"#C8D4E3\"},\"line\":{\"color\":\"white\"}},\"type\":\"table\"}],\"barpolar\":[{\"marker\":{\"line\":{\"color\":\"#E5ECF6\",\"width\":0.5},\"pattern\":{\"fillmode\":\"overlay\",\"size\":10,\"solidity\":0.2}},\"type\":\"barpolar\"}],\"pie\":[{\"automargin\":true,\"type\":\"pie\"}]},\"layout\":{\"autotypenumbers\":\"strict\",\"colorway\":[\"#636efa\",\"#EF553B\",\"#00cc96\",\"#ab63fa\",\"#FFA15A\",\"#19d3f3\",\"#FF6692\",\"#B6E880\",\"#FF97FF\",\"#FECB52\"],\"font\":{\"color\":\"#2a3f5f\"},\"hovermode\":\"closest\",\"hoverlabel\":{\"align\":\"left\"},\"paper_bgcolor\":\"white\",\"plot_bgcolor\":\"#E5ECF6\",\"polar\":{\"bgcolor\":\"#E5ECF6\",\"angularaxis\":{\"gridcolor\":\"white\",\"linecolor\":\"white\",\"ticks\":\"\"},\"radialaxis\":{\"gridcolor\":\"white\",\"linecolor\":\"white\",\"ticks\":\"\"}},\"ternary\":{\"bgcolor\":\"#E5ECF6\",\"aaxis\":{\"gridcolor\":\"white\",\"linecolor\":\"white\",\"ticks\":\"\"},\"baxis\":{\"gridcolor\":\"white\",\"linecolor\":\"white\",\"ticks\":\"\"},\"caxis\":{\"gridcolor\":\"white\",\"linecolor\":\"white\",\"ticks\":\"\"}},\"coloraxis\":{\"colorbar\":{\"outlinewidth\":0,\"ticks\":\"\"}},\"colorscale\":{\"sequential\":[[0.0,\"#0d0887\"],[0.1111111111111111,\"#46039f\"],[0.2222222222222222,\"#7201a8\"],[0.3333333333333333,\"#9c179e\"],[0.4444444444444444,\"#bd3786\"],[0.5555555555555556,\"#d8576b\"],[0.6666666666666666,\"#ed7953\"],[0.7777777777777778,\"#fb9f3a\"],[0.8888888888888888,\"#fdca26\"],[1.0,\"#f0f921\"]],\"sequentialminus\":[[0.0,\"#0d0887\"],[0.1111111111111111,\"#46039f\"],[0.2222222222222222,\"#7201a8\"],[0.3333333333333333,\"#9c179e\"],[0.4444444444444444,\"#bd3786\"],[0.5555555555555556,\"#d8576b\"],[0.6666666666666666,\"#ed7953\"],[0.7777777777777778,\"#fb9f3a\"],[0.8888888888888888,\"#fdca26\"],[1.0,\"#f0f921\"]],\"diverging\":[[0,\"#8e0152\"],[0.1,\"#c51b7d\"],[0.2,\"#de77ae\"],[0.3,\"#f1b6da\"],[0.4,\"#fde0ef\"],[0.5,\"#f7f7f7\"],[0.6,\"#e6f5d0\"],[0.7,\"#b8e186\"],[0.8,\"#7fbc41\"],[0.9,\"#4d9221\"],[1,\"#276419\"]]},\"xaxis\":{\"gridcolor\":\"white\",\"linecolor\":\"white\",\"ticks\":\"\",\"title\":{\"standoff\":15},\"zerolinecolor\":\"white\",\"automargin\":true,\"zerolinewidth\":2},\"yaxis\":{\"gridcolor\":\"white\",\"linecolor\":\"white\",\"ticks\":\"\",\"title\":{\"standoff\":15},\"zerolinecolor\":\"white\",\"automargin\":true,\"zerolinewidth\":2},\"scene\":{\"xaxis\":{\"backgroundcolor\":\"#E5ECF6\",\"gridcolor\":\"white\",\"linecolor\":\"white\",\"showbackground\":true,\"ticks\":\"\",\"zerolinecolor\":\"white\",\"gridwidth\":2},\"yaxis\":{\"backgroundcolor\":\"#E5ECF6\",\"gridcolor\":\"white\",\"linecolor\":\"white\",\"showbackground\":true,\"ticks\":\"\",\"zerolinecolor\":\"white\",\"gridwidth\":2},\"zaxis\":{\"backgroundcolor\":\"#E5ECF6\",\"gridcolor\":\"white\",\"linecolor\":\"white\",\"showbackground\":true,\"ticks\":\"\",\"zerolinecolor\":\"white\",\"gridwidth\":2}},\"shapedefaults\":{\"line\":{\"color\":\"#2a3f5f\"}},\"annotationdefaults\":{\"arrowcolor\":\"#2a3f5f\",\"arrowhead\":0,\"arrowwidth\":1},\"geo\":{\"bgcolor\":\"white\",\"landcolor\":\"#E5ECF6\",\"subunitcolor\":\"white\",\"showland\":true,\"showlakes\":true,\"lakecolor\":\"white\"},\"title\":{\"x\":0.05},\"mapbox\":{\"style\":\"light\"}}},\"xaxis\":{\"anchor\":\"y\",\"domain\":[0.0,1.0],\"title\":{\"text\":\"amount\"}},\"yaxis\":{\"anchor\":\"x\",\"domain\":[0.0,1.0],\"title\":{\"text\":\"page\"}},\"legend\":{\"tracegroupgap\":0},\"margin\":{\"t\":60}},                        {\"responsive\": true}                    ).then(function(){\n",
       "                            \n",
       "var gd = document.getElementById('45de6dc6-12bb-48b9-9774-d0111f77e055');\n",
       "var x = new MutationObserver(function (mutations, observer) {{\n",
       "        var display = window.getComputedStyle(gd).display;\n",
       "        if (!display || display === 'none') {{\n",
       "            console.log([gd, 'removed!']);\n",
       "            Plotly.purge(gd);\n",
       "            observer.disconnect();\n",
       "        }}\n",
       "}});\n",
       "\n",
       "// Listen for the removal of the full notebook cells\n",
       "var notebookContainer = gd.closest('#notebook-container');\n",
       "if (notebookContainer) {{\n",
       "    x.observe(notebookContainer, {childList: true});\n",
       "}}\n",
       "\n",
       "// Listen for the clearing of the current output cell\n",
       "var outputEl = gd.closest('.output');\n",
       "if (outputEl) {{\n",
       "    x.observe(outputEl, {childList: true});\n",
       "}}\n",
       "\n",
       "                        })                };                });            </script>        </div>"
      ]
     },
     "metadata": {},
     "output_type": "display_data"
    }
   ],
   "source": [
    "# использую таблицу созданную в предыдущем задании, чтобы на ее основе построить воронку\n",
    "\n",
    "\n",
    "import plotly.express as px\n",
    "# page_views = df.groupby('EventName').agg({'DeviceIDHash': 'count'}).reset_index().sort_values(by='DeviceIDHash', ascending=False)\n",
    "data = dict(\n",
    "    page=page_views['EventName'],\n",
    "    amount=page_views['DeviceIDHash'])\n",
    "fig = px.funnel(data, x='amount', y='page')\n",
    "fig.show()"
   ]
  },
  {
   "cell_type": "markdown",
   "id": "2c77d89c-0e1f-4293-9332-a4a25d0df451",
   "metadata": {},
   "source": [
    "# * Постройте воронку из библиотеки PLotly (Funnel), которая будет описывать количество посещений, а также показывать Конверсию в переходы."
   ]
  },
  {
   "cell_type": "code",
   "execution_count": 97,
   "id": "3519c383-977e-4c9d-aa47-7c475f7d31e8",
   "metadata": {},
   "outputs": [],
   "source": [
    "# Насколько я понял, конверсия - это процент пользователей которые перешли на следующую страницу, то есть совершили следующий шаг в последовательности.\n",
    "# При окончании последовательности, в нашем случае это проходжение страницы PaymentScreenSuccessful, мы знаем точно, что юзер совершил покупку."
   ]
  },
  {
   "cell_type": "code",
   "execution_count": 98,
   "id": "6ef22c16-4007-4278-9bde-26669743bfb2",
   "metadata": {},
   "outputs": [
    {
     "data": {
      "application/vnd.plotly.v1+json": {
       "config": {
        "plotlyServerURL": "https://plot.ly"
       },
       "data": [
        {
         "textinfo": "value+percent initial",
         "textposition": "inside",
         "type": "funnel",
         "x": [
          119205,
          46825,
          42731,
          34313,
          1052
         ],
         "y": [
          "MainScreenAppear",
          "OffersScreenAppear",
          "CartScreenAppear",
          "PaymentScreenSuccessful",
          "Tutorial"
         ]
        }
       ],
       "layout": {
        "autosize": true,
        "template": {
         "data": {
          "bar": [
           {
            "error_x": {
             "color": "#2a3f5f"
            },
            "error_y": {
             "color": "#2a3f5f"
            },
            "marker": {
             "line": {
              "color": "#E5ECF6",
              "width": 0.5
             },
             "pattern": {
              "fillmode": "overlay",
              "size": 10,
              "solidity": 0.2
             }
            },
            "type": "bar"
           }
          ],
          "barpolar": [
           {
            "marker": {
             "line": {
              "color": "#E5ECF6",
              "width": 0.5
             },
             "pattern": {
              "fillmode": "overlay",
              "size": 10,
              "solidity": 0.2
             }
            },
            "type": "barpolar"
           }
          ],
          "carpet": [
           {
            "aaxis": {
             "endlinecolor": "#2a3f5f",
             "gridcolor": "white",
             "linecolor": "white",
             "minorgridcolor": "white",
             "startlinecolor": "#2a3f5f"
            },
            "baxis": {
             "endlinecolor": "#2a3f5f",
             "gridcolor": "white",
             "linecolor": "white",
             "minorgridcolor": "white",
             "startlinecolor": "#2a3f5f"
            },
            "type": "carpet"
           }
          ],
          "choropleth": [
           {
            "colorbar": {
             "outlinewidth": 0,
             "ticks": ""
            },
            "type": "choropleth"
           }
          ],
          "contour": [
           {
            "colorbar": {
             "outlinewidth": 0,
             "ticks": ""
            },
            "colorscale": [
             [
              0,
              "#0d0887"
             ],
             [
              0.1111111111111111,
              "#46039f"
             ],
             [
              0.2222222222222222,
              "#7201a8"
             ],
             [
              0.3333333333333333,
              "#9c179e"
             ],
             [
              0.4444444444444444,
              "#bd3786"
             ],
             [
              0.5555555555555556,
              "#d8576b"
             ],
             [
              0.6666666666666666,
              "#ed7953"
             ],
             [
              0.7777777777777778,
              "#fb9f3a"
             ],
             [
              0.8888888888888888,
              "#fdca26"
             ],
             [
              1,
              "#f0f921"
             ]
            ],
            "type": "contour"
           }
          ],
          "contourcarpet": [
           {
            "colorbar": {
             "outlinewidth": 0,
             "ticks": ""
            },
            "type": "contourcarpet"
           }
          ],
          "heatmap": [
           {
            "colorbar": {
             "outlinewidth": 0,
             "ticks": ""
            },
            "colorscale": [
             [
              0,
              "#0d0887"
             ],
             [
              0.1111111111111111,
              "#46039f"
             ],
             [
              0.2222222222222222,
              "#7201a8"
             ],
             [
              0.3333333333333333,
              "#9c179e"
             ],
             [
              0.4444444444444444,
              "#bd3786"
             ],
             [
              0.5555555555555556,
              "#d8576b"
             ],
             [
              0.6666666666666666,
              "#ed7953"
             ],
             [
              0.7777777777777778,
              "#fb9f3a"
             ],
             [
              0.8888888888888888,
              "#fdca26"
             ],
             [
              1,
              "#f0f921"
             ]
            ],
            "type": "heatmap"
           }
          ],
          "heatmapgl": [
           {
            "colorbar": {
             "outlinewidth": 0,
             "ticks": ""
            },
            "colorscale": [
             [
              0,
              "#0d0887"
             ],
             [
              0.1111111111111111,
              "#46039f"
             ],
             [
              0.2222222222222222,
              "#7201a8"
             ],
             [
              0.3333333333333333,
              "#9c179e"
             ],
             [
              0.4444444444444444,
              "#bd3786"
             ],
             [
              0.5555555555555556,
              "#d8576b"
             ],
             [
              0.6666666666666666,
              "#ed7953"
             ],
             [
              0.7777777777777778,
              "#fb9f3a"
             ],
             [
              0.8888888888888888,
              "#fdca26"
             ],
             [
              1,
              "#f0f921"
             ]
            ],
            "type": "heatmapgl"
           }
          ],
          "histogram": [
           {
            "marker": {
             "pattern": {
              "fillmode": "overlay",
              "size": 10,
              "solidity": 0.2
             }
            },
            "type": "histogram"
           }
          ],
          "histogram2d": [
           {
            "colorbar": {
             "outlinewidth": 0,
             "ticks": ""
            },
            "colorscale": [
             [
              0,
              "#0d0887"
             ],
             [
              0.1111111111111111,
              "#46039f"
             ],
             [
              0.2222222222222222,
              "#7201a8"
             ],
             [
              0.3333333333333333,
              "#9c179e"
             ],
             [
              0.4444444444444444,
              "#bd3786"
             ],
             [
              0.5555555555555556,
              "#d8576b"
             ],
             [
              0.6666666666666666,
              "#ed7953"
             ],
             [
              0.7777777777777778,
              "#fb9f3a"
             ],
             [
              0.8888888888888888,
              "#fdca26"
             ],
             [
              1,
              "#f0f921"
             ]
            ],
            "type": "histogram2d"
           }
          ],
          "histogram2dcontour": [
           {
            "colorbar": {
             "outlinewidth": 0,
             "ticks": ""
            },
            "colorscale": [
             [
              0,
              "#0d0887"
             ],
             [
              0.1111111111111111,
              "#46039f"
             ],
             [
              0.2222222222222222,
              "#7201a8"
             ],
             [
              0.3333333333333333,
              "#9c179e"
             ],
             [
              0.4444444444444444,
              "#bd3786"
             ],
             [
              0.5555555555555556,
              "#d8576b"
             ],
             [
              0.6666666666666666,
              "#ed7953"
             ],
             [
              0.7777777777777778,
              "#fb9f3a"
             ],
             [
              0.8888888888888888,
              "#fdca26"
             ],
             [
              1,
              "#f0f921"
             ]
            ],
            "type": "histogram2dcontour"
           }
          ],
          "mesh3d": [
           {
            "colorbar": {
             "outlinewidth": 0,
             "ticks": ""
            },
            "type": "mesh3d"
           }
          ],
          "parcoords": [
           {
            "line": {
             "colorbar": {
              "outlinewidth": 0,
              "ticks": ""
             }
            },
            "type": "parcoords"
           }
          ],
          "pie": [
           {
            "automargin": true,
            "type": "pie"
           }
          ],
          "scatter": [
           {
            "fillpattern": {
             "fillmode": "overlay",
             "size": 10,
             "solidity": 0.2
            },
            "type": "scatter"
           }
          ],
          "scatter3d": [
           {
            "line": {
             "colorbar": {
              "outlinewidth": 0,
              "ticks": ""
             }
            },
            "marker": {
             "colorbar": {
              "outlinewidth": 0,
              "ticks": ""
             }
            },
            "type": "scatter3d"
           }
          ],
          "scattercarpet": [
           {
            "marker": {
             "colorbar": {
              "outlinewidth": 0,
              "ticks": ""
             }
            },
            "type": "scattercarpet"
           }
          ],
          "scattergeo": [
           {
            "marker": {
             "colorbar": {
              "outlinewidth": 0,
              "ticks": ""
             }
            },
            "type": "scattergeo"
           }
          ],
          "scattergl": [
           {
            "marker": {
             "colorbar": {
              "outlinewidth": 0,
              "ticks": ""
             }
            },
            "type": "scattergl"
           }
          ],
          "scattermapbox": [
           {
            "marker": {
             "colorbar": {
              "outlinewidth": 0,
              "ticks": ""
             }
            },
            "type": "scattermapbox"
           }
          ],
          "scatterpolar": [
           {
            "marker": {
             "colorbar": {
              "outlinewidth": 0,
              "ticks": ""
             }
            },
            "type": "scatterpolar"
           }
          ],
          "scatterpolargl": [
           {
            "marker": {
             "colorbar": {
              "outlinewidth": 0,
              "ticks": ""
             }
            },
            "type": "scatterpolargl"
           }
          ],
          "scatterternary": [
           {
            "marker": {
             "colorbar": {
              "outlinewidth": 0,
              "ticks": ""
             }
            },
            "type": "scatterternary"
           }
          ],
          "surface": [
           {
            "colorbar": {
             "outlinewidth": 0,
             "ticks": ""
            },
            "colorscale": [
             [
              0,
              "#0d0887"
             ],
             [
              0.1111111111111111,
              "#46039f"
             ],
             [
              0.2222222222222222,
              "#7201a8"
             ],
             [
              0.3333333333333333,
              "#9c179e"
             ],
             [
              0.4444444444444444,
              "#bd3786"
             ],
             [
              0.5555555555555556,
              "#d8576b"
             ],
             [
              0.6666666666666666,
              "#ed7953"
             ],
             [
              0.7777777777777778,
              "#fb9f3a"
             ],
             [
              0.8888888888888888,
              "#fdca26"
             ],
             [
              1,
              "#f0f921"
             ]
            ],
            "type": "surface"
           }
          ],
          "table": [
           {
            "cells": {
             "fill": {
              "color": "#EBF0F8"
             },
             "line": {
              "color": "white"
             }
            },
            "header": {
             "fill": {
              "color": "#C8D4E3"
             },
             "line": {
              "color": "white"
             }
            },
            "type": "table"
           }
          ]
         },
         "layout": {
          "annotationdefaults": {
           "arrowcolor": "#2a3f5f",
           "arrowhead": 0,
           "arrowwidth": 1
          },
          "autotypenumbers": "strict",
          "coloraxis": {
           "colorbar": {
            "outlinewidth": 0,
            "ticks": ""
           }
          },
          "colorscale": {
           "diverging": [
            [
             0,
             "#8e0152"
            ],
            [
             0.1,
             "#c51b7d"
            ],
            [
             0.2,
             "#de77ae"
            ],
            [
             0.3,
             "#f1b6da"
            ],
            [
             0.4,
             "#fde0ef"
            ],
            [
             0.5,
             "#f7f7f7"
            ],
            [
             0.6,
             "#e6f5d0"
            ],
            [
             0.7,
             "#b8e186"
            ],
            [
             0.8,
             "#7fbc41"
            ],
            [
             0.9,
             "#4d9221"
            ],
            [
             1,
             "#276419"
            ]
           ],
           "sequential": [
            [
             0,
             "#0d0887"
            ],
            [
             0.1111111111111111,
             "#46039f"
            ],
            [
             0.2222222222222222,
             "#7201a8"
            ],
            [
             0.3333333333333333,
             "#9c179e"
            ],
            [
             0.4444444444444444,
             "#bd3786"
            ],
            [
             0.5555555555555556,
             "#d8576b"
            ],
            [
             0.6666666666666666,
             "#ed7953"
            ],
            [
             0.7777777777777778,
             "#fb9f3a"
            ],
            [
             0.8888888888888888,
             "#fdca26"
            ],
            [
             1,
             "#f0f921"
            ]
           ],
           "sequentialminus": [
            [
             0,
             "#0d0887"
            ],
            [
             0.1111111111111111,
             "#46039f"
            ],
            [
             0.2222222222222222,
             "#7201a8"
            ],
            [
             0.3333333333333333,
             "#9c179e"
            ],
            [
             0.4444444444444444,
             "#bd3786"
            ],
            [
             0.5555555555555556,
             "#d8576b"
            ],
            [
             0.6666666666666666,
             "#ed7953"
            ],
            [
             0.7777777777777778,
             "#fb9f3a"
            ],
            [
             0.8888888888888888,
             "#fdca26"
            ],
            [
             1,
             "#f0f921"
            ]
           ]
          },
          "colorway": [
           "#636efa",
           "#EF553B",
           "#00cc96",
           "#ab63fa",
           "#FFA15A",
           "#19d3f3",
           "#FF6692",
           "#B6E880",
           "#FF97FF",
           "#FECB52"
          ],
          "font": {
           "color": "#2a3f5f"
          },
          "geo": {
           "bgcolor": "white",
           "lakecolor": "white",
           "landcolor": "#E5ECF6",
           "showlakes": true,
           "showland": true,
           "subunitcolor": "white"
          },
          "hoverlabel": {
           "align": "left"
          },
          "hovermode": "closest",
          "mapbox": {
           "style": "light"
          },
          "paper_bgcolor": "white",
          "plot_bgcolor": "#E5ECF6",
          "polar": {
           "angularaxis": {
            "gridcolor": "white",
            "linecolor": "white",
            "ticks": ""
           },
           "bgcolor": "#E5ECF6",
           "radialaxis": {
            "gridcolor": "white",
            "linecolor": "white",
            "ticks": ""
           }
          },
          "scene": {
           "xaxis": {
            "backgroundcolor": "#E5ECF6",
            "gridcolor": "white",
            "gridwidth": 2,
            "linecolor": "white",
            "showbackground": true,
            "ticks": "",
            "zerolinecolor": "white"
           },
           "yaxis": {
            "backgroundcolor": "#E5ECF6",
            "gridcolor": "white",
            "gridwidth": 2,
            "linecolor": "white",
            "showbackground": true,
            "ticks": "",
            "zerolinecolor": "white"
           },
           "zaxis": {
            "backgroundcolor": "#E5ECF6",
            "gridcolor": "white",
            "gridwidth": 2,
            "linecolor": "white",
            "showbackground": true,
            "ticks": "",
            "zerolinecolor": "white"
           }
          },
          "shapedefaults": {
           "line": {
            "color": "#2a3f5f"
           }
          },
          "ternary": {
           "aaxis": {
            "gridcolor": "white",
            "linecolor": "white",
            "ticks": ""
           },
           "baxis": {
            "gridcolor": "white",
            "linecolor": "white",
            "ticks": ""
           },
           "bgcolor": "#E5ECF6",
           "caxis": {
            "gridcolor": "white",
            "linecolor": "white",
            "ticks": ""
           }
          },
          "title": {
           "x": 0.05
          },
          "xaxis": {
           "automargin": true,
           "gridcolor": "white",
           "linecolor": "white",
           "ticks": "",
           "title": {
            "standoff": 15
           },
           "zerolinecolor": "white",
           "zerolinewidth": 2
          },
          "yaxis": {
           "automargin": true,
           "gridcolor": "white",
           "linecolor": "white",
           "ticks": "",
           "title": {
            "standoff": 15
           },
           "zerolinecolor": "white",
           "zerolinewidth": 2
          }
         }
        },
        "xaxis": {
         "autorange": true,
         "range": [
          -66225,
          66225
         ],
         "type": "linear"
        },
        "yaxis": {
         "autorange": true,
         "range": [
          4.5,
          -0.5
         ],
         "type": "category"
        }
       }
      },
      "image/png": "[encoded data removed]",
      "text/html": [
       "<div>                            <div id=\"8ff704c7-8dee-4eb2-9757-f259b6ddfc48\" class=\"plotly-graph-div\" style=\"height:525px; width:100%;\"></div>            <script type=\"text/javascript\">                require([\"plotly\"], function(Plotly) {                    window.PLOTLYENV=window.PLOTLYENV || {};                                    if (document.getElementById(\"8ff704c7-8dee-4eb2-9757-f259b6ddfc48\")) {                    Plotly.newPlot(                        \"8ff704c7-8dee-4eb2-9757-f259b6ddfc48\",                        [{\"textinfo\":\"value+percent initial\",\"textposition\":\"inside\",\"x\":[119205,46825,42731,34313,1052],\"y\":[\"MainScreenAppear\",\"OffersScreenAppear\",\"CartScreenAppear\",\"PaymentScreenSuccessful\",\"Tutorial\"],\"type\":\"funnel\"}],                        {\"template\":{\"data\":{\"histogram2dcontour\":[{\"type\":\"histogram2dcontour\",\"colorbar\":{\"outlinewidth\":0,\"ticks\":\"\"},\"colorscale\":[[0.0,\"#0d0887\"],[0.1111111111111111,\"#46039f\"],[0.2222222222222222,\"#7201a8\"],[0.3333333333333333,\"#9c179e\"],[0.4444444444444444,\"#bd3786\"],[0.5555555555555556,\"#d8576b\"],[0.6666666666666666,\"#ed7953\"],[0.7777777777777778,\"#fb9f3a\"],[0.8888888888888888,\"#fdca26\"],[1.0,\"#f0f921\"]]}],\"choropleth\":[{\"type\":\"choropleth\",\"colorbar\":{\"outlinewidth\":0,\"ticks\":\"\"}}],\"histogram2d\":[{\"type\":\"histogram2d\",\"colorbar\":{\"outlinewidth\":0,\"ticks\":\"\"},\"colorscale\":[[0.0,\"#0d0887\"],[0.1111111111111111,\"#46039f\"],[0.2222222222222222,\"#7201a8\"],[0.3333333333333333,\"#9c179e\"],[0.4444444444444444,\"#bd3786\"],[0.5555555555555556,\"#d8576b\"],[0.6666666666666666,\"#ed7953\"],[0.7777777777777778,\"#fb9f3a\"],[0.8888888888888888,\"#fdca26\"],[1.0,\"#f0f921\"]]}],\"heatmap\":[{\"type\":\"heatmap\",\"colorbar\":{\"outlinewidth\":0,\"ticks\":\"\"},\"colorscale\":[[0.0,\"#0d0887\"],[0.1111111111111111,\"#46039f\"],[0.2222222222222222,\"#7201a8\"],[0.3333333333333333,\"#9c179e\"],[0.4444444444444444,\"#bd3786\"],[0.5555555555555556,\"#d8576b\"],[0.6666666666666666,\"#ed7953\"],[0.7777777777777778,\"#fb9f3a\"],[0.8888888888888888,\"#fdca26\"],[1.0,\"#f0f921\"]]}],\"heatmapgl\":[{\"type\":\"heatmapgl\",\"colorbar\":{\"outlinewidth\":0,\"ticks\":\"\"},\"colorscale\":[[0.0,\"#0d0887\"],[0.1111111111111111,\"#46039f\"],[0.2222222222222222,\"#7201a8\"],[0.3333333333333333,\"#9c179e\"],[0.4444444444444444,\"#bd3786\"],[0.5555555555555556,\"#d8576b\"],[0.6666666666666666,\"#ed7953\"],[0.7777777777777778,\"#fb9f3a\"],[0.8888888888888888,\"#fdca26\"],[1.0,\"#f0f921\"]]}],\"contourcarpet\":[{\"type\":\"contourcarpet\",\"colorbar\":{\"outlinewidth\":0,\"ticks\":\"\"}}],\"contour\":[{\"type\":\"contour\",\"colorbar\":{\"outlinewidth\":0,\"ticks\":\"\"},\"colorscale\":[[0.0,\"#0d0887\"],[0.1111111111111111,\"#46039f\"],[0.2222222222222222,\"#7201a8\"],[0.3333333333333333,\"#9c179e\"],[0.4444444444444444,\"#bd3786\"],[0.5555555555555556,\"#d8576b\"],[0.6666666666666666,\"#ed7953\"],[0.7777777777777778,\"#fb9f3a\"],[0.8888888888888888,\"#fdca26\"],[1.0,\"#f0f921\"]]}],\"surface\":[{\"type\":\"surface\",\"colorbar\":{\"outlinewidth\":0,\"ticks\":\"\"},\"colorscale\":[[0.0,\"#0d0887\"],[0.1111111111111111,\"#46039f\"],[0.2222222222222222,\"#7201a8\"],[0.3333333333333333,\"#9c179e\"],[0.4444444444444444,\"#bd3786\"],[0.5555555555555556,\"#d8576b\"],[0.6666666666666666,\"#ed7953\"],[0.7777777777777778,\"#fb9f3a\"],[0.8888888888888888,\"#fdca26\"],[1.0,\"#f0f921\"]]}],\"mesh3d\":[{\"type\":\"mesh3d\",\"colorbar\":{\"outlinewidth\":0,\"ticks\":\"\"}}],\"scatter\":[{\"fillpattern\":{\"fillmode\":\"overlay\",\"size\":10,\"solidity\":0.2},\"type\":\"scatter\"}],\"parcoords\":[{\"type\":\"parcoords\",\"line\":{\"colorbar\":{\"outlinewidth\":0,\"ticks\":\"\"}}}],\"scatterpolargl\":[{\"type\":\"scatterpolargl\",\"marker\":{\"colorbar\":{\"outlinewidth\":0,\"ticks\":\"\"}}}],\"bar\":[{\"error_x\":{\"color\":\"#2a3f5f\"},\"error_y\":{\"color\":\"#2a3f5f\"},\"marker\":{\"line\":{\"color\":\"#E5ECF6\",\"width\":0.5},\"pattern\":{\"fillmode\":\"overlay\",\"size\":10,\"solidity\":0.2}},\"type\":\"bar\"}],\"scattergeo\":[{\"type\":\"scattergeo\",\"marker\":{\"colorbar\":{\"outlinewidth\":0,\"ticks\":\"\"}}}],\"scatterpolar\":[{\"type\":\"scatterpolar\",\"marker\":{\"colorbar\":{\"outlinewidth\":0,\"ticks\":\"\"}}}],\"histogram\":[{\"marker\":{\"pattern\":{\"fillmode\":\"overlay\",\"size\":10,\"solidity\":0.2}},\"type\":\"histogram\"}],\"scattergl\":[{\"type\":\"scattergl\",\"marker\":{\"colorbar\":{\"outlinewidth\":0,\"ticks\":\"\"}}}],\"scatter3d\":[{\"type\":\"scatter3d\",\"line\":{\"colorbar\":{\"outlinewidth\":0,\"ticks\":\"\"}},\"marker\":{\"colorbar\":{\"outlinewidth\":0,\"ticks\":\"\"}}}],\"scattermapbox\":[{\"type\":\"scattermapbox\",\"marker\":{\"colorbar\":{\"outlinewidth\":0,\"ticks\":\"\"}}}],\"scatterternary\":[{\"type\":\"scatterternary\",\"marker\":{\"colorbar\":{\"outlinewidth\":0,\"ticks\":\"\"}}}],\"scattercarpet\":[{\"type\":\"scattercarpet\",\"marker\":{\"colorbar\":{\"outlinewidth\":0,\"ticks\":\"\"}}}],\"carpet\":[{\"aaxis\":{\"endlinecolor\":\"#2a3f5f\",\"gridcolor\":\"white\",\"linecolor\":\"white\",\"minorgridcolor\":\"white\",\"startlinecolor\":\"#2a3f5f\"},\"baxis\":{\"endlinecolor\":\"#2a3f5f\",\"gridcolor\":\"white\",\"linecolor\":\"white\",\"minorgridcolor\":\"white\",\"startlinecolor\":\"#2a3f5f\"},\"type\":\"carpet\"}],\"table\":[{\"cells\":{\"fill\":{\"color\":\"#EBF0F8\"},\"line\":{\"color\":\"white\"}},\"header\":{\"fill\":{\"color\":\"#C8D4E3\"},\"line\":{\"color\":\"white\"}},\"type\":\"table\"}],\"barpolar\":[{\"marker\":{\"line\":{\"color\":\"#E5ECF6\",\"width\":0.5},\"pattern\":{\"fillmode\":\"overlay\",\"size\":10,\"solidity\":0.2}},\"type\":\"barpolar\"}],\"pie\":[{\"automargin\":true,\"type\":\"pie\"}]},\"layout\":{\"autotypenumbers\":\"strict\",\"colorway\":[\"#636efa\",\"#EF553B\",\"#00cc96\",\"#ab63fa\",\"#FFA15A\",\"#19d3f3\",\"#FF6692\",\"#B6E880\",\"#FF97FF\",\"#FECB52\"],\"font\":{\"color\":\"#2a3f5f\"},\"hovermode\":\"closest\",\"hoverlabel\":{\"align\":\"left\"},\"paper_bgcolor\":\"white\",\"plot_bgcolor\":\"#E5ECF6\",\"polar\":{\"bgcolor\":\"#E5ECF6\",\"angularaxis\":{\"gridcolor\":\"white\",\"linecolor\":\"white\",\"ticks\":\"\"},\"radialaxis\":{\"gridcolor\":\"white\",\"linecolor\":\"white\",\"ticks\":\"\"}},\"ternary\":{\"bgcolor\":\"#E5ECF6\",\"aaxis\":{\"gridcolor\":\"white\",\"linecolor\":\"white\",\"ticks\":\"\"},\"baxis\":{\"gridcolor\":\"white\",\"linecolor\":\"white\",\"ticks\":\"\"},\"caxis\":{\"gridcolor\":\"white\",\"linecolor\":\"white\",\"ticks\":\"\"}},\"coloraxis\":{\"colorbar\":{\"outlinewidth\":0,\"ticks\":\"\"}},\"colorscale\":{\"sequential\":[[0.0,\"#0d0887\"],[0.1111111111111111,\"#46039f\"],[0.2222222222222222,\"#7201a8\"],[0.3333333333333333,\"#9c179e\"],[0.4444444444444444,\"#bd3786\"],[0.5555555555555556,\"#d8576b\"],[0.6666666666666666,\"#ed7953\"],[0.7777777777777778,\"#fb9f3a\"],[0.8888888888888888,\"#fdca26\"],[1.0,\"#f0f921\"]],\"sequentialminus\":[[0.0,\"#0d0887\"],[0.1111111111111111,\"#46039f\"],[0.2222222222222222,\"#7201a8\"],[0.3333333333333333,\"#9c179e\"],[0.4444444444444444,\"#bd3786\"],[0.5555555555555556,\"#d8576b\"],[0.6666666666666666,\"#ed7953\"],[0.7777777777777778,\"#fb9f3a\"],[0.8888888888888888,\"#fdca26\"],[1.0,\"#f0f921\"]],\"diverging\":[[0,\"#8e0152\"],[0.1,\"#c51b7d\"],[0.2,\"#de77ae\"],[0.3,\"#f1b6da\"],[0.4,\"#fde0ef\"],[0.5,\"#f7f7f7\"],[0.6,\"#e6f5d0\"],[0.7,\"#b8e186\"],[0.8,\"#7fbc41\"],[0.9,\"#4d9221\"],[1,\"#276419\"]]},\"xaxis\":{\"gridcolor\":\"white\",\"linecolor\":\"white\",\"ticks\":\"\",\"title\":{\"standoff\":15},\"zerolinecolor\":\"white\",\"automargin\":true,\"zerolinewidth\":2},\"yaxis\":{\"gridcolor\":\"white\",\"linecolor\":\"white\",\"ticks\":\"\",\"title\":{\"standoff\":15},\"zerolinecolor\":\"white\",\"automargin\":true,\"zerolinewidth\":2},\"scene\":{\"xaxis\":{\"backgroundcolor\":\"#E5ECF6\",\"gridcolor\":\"white\",\"linecolor\":\"white\",\"showbackground\":true,\"ticks\":\"\",\"zerolinecolor\":\"white\",\"gridwidth\":2},\"yaxis\":{\"backgroundcolor\":\"#E5ECF6\",\"gridcolor\":\"white\",\"linecolor\":\"white\",\"showbackground\":true,\"ticks\":\"\",\"zerolinecolor\":\"white\",\"gridwidth\":2},\"zaxis\":{\"backgroundcolor\":\"#E5ECF6\",\"gridcolor\":\"white\",\"linecolor\":\"white\",\"showbackground\":true,\"ticks\":\"\",\"zerolinecolor\":\"white\",\"gridwidth\":2}},\"shapedefaults\":{\"line\":{\"color\":\"#2a3f5f\"}},\"annotationdefaults\":{\"arrowcolor\":\"#2a3f5f\",\"arrowhead\":0,\"arrowwidth\":1},\"geo\":{\"bgcolor\":\"white\",\"landcolor\":\"#E5ECF6\",\"subunitcolor\":\"white\",\"showland\":true,\"showlakes\":true,\"lakecolor\":\"white\"},\"title\":{\"x\":0.05},\"mapbox\":{\"style\":\"light\"}}}},                        {\"responsive\": true}                    ).then(function(){\n",
       "                            \n",
       "var gd = document.getElementById('8ff704c7-8dee-4eb2-9757-f259b6ddfc48');\n",
       "var x = new MutationObserver(function (mutations, observer) {{\n",
       "        var display = window.getComputedStyle(gd).display;\n",
       "        if (!display || display === 'none') {{\n",
       "            console.log([gd, 'removed!']);\n",
       "            Plotly.purge(gd);\n",
       "            observer.disconnect();\n",
       "        }}\n",
       "}});\n",
       "\n",
       "// Listen for the removal of the full notebook cells\n",
       "var notebookContainer = gd.closest('#notebook-container');\n",
       "if (notebookContainer) {{\n",
       "    x.observe(notebookContainer, {childList: true});\n",
       "}}\n",
       "\n",
       "// Listen for the clearing of the current output cell\n",
       "var outputEl = gd.closest('.output');\n",
       "if (outputEl) {{\n",
       "    x.observe(outputEl, {childList: true});\n",
       "}}\n",
       "\n",
       "                        })                };                });            </script>        </div>"
      ]
     },
     "metadata": {},
     "output_type": "display_data"
    }
   ],
   "source": [
    "from plotly import graph_objects as go\n",
    "\n",
    "fig = go.Figure(go.Funnel(\n",
    "    y = page_views['EventName'],\n",
    "    x = page_views['DeviceIDHash'],\n",
    "    textposition = \"inside\",\n",
    "    textinfo = \"value+percent initial\")\n",
    "    )\n",
    "\n",
    "fig.show()\n",
    "# эта воронка, как и предыдущая, показывает нам что наибольшее число пользователей \"теряется\" сразу после посещения главной страницы.\n",
    "# что интересно, очень мало юзеров заходило на страницу Tutorial"
   ]
  },
  {
   "cell_type": "code",
   "execution_count": 99,
   "id": "34120ce9-5e3f-4403-abc6-6c4067462608",
   "metadata": {},
   "outputs": [
    {
     "data": {
      "text/plain": [
       "[6909561520679493,\n",
       " 6922444491712477,\n",
       " 7702139951469979,\n",
       " 9841258664663090,\n",
       " 15708180189885246,\n",
       " 18658818197810381,\n",
       " 20795828045873027,\n",
       " 28534696657485531,\n",
       " 29094035245869447,\n",
       " 31467376676344061,\n",
       " 33381960957324102,\n",
       " 33589551945846495,\n",
       " 34565258828294726,\n",
       " 38461249625575645,\n",
       " 40352430792344971,\n",
       " 46236857309457992,\n",
       " 50002244844355989,\n",
       " 50955739939045762,\n",
       " 54903596035630984,\n",
       " 61976594028147959,\n",
       " 62853461369047667,\n",
       " 67153306548697605,\n",
       " 74158328448226259,\n",
       " 74248254043264762,\n",
       " 76430713684339660,\n",
       " 77364241990273403,\n",
       " 78033526859485994,\n",
       " 80189413012306034,\n",
       " 80337800659956110,\n",
       " 84107839139059565,\n",
       " 89078601045475920,\n",
       " 89892936241398759,\n",
       " 91292479590032512,\n",
       " 94452812501143599,\n",
       " 97337799800097594,\n",
       " 97680762694751109,\n",
       " 98792428456080413,\n",
       " 98833552209755665,\n",
       " 104193994866123657,\n",
       " 104485797972356373,\n",
       " 105264533697038706,\n",
       " 105663051436100766,\n",
       " 106256020648490230,\n",
       " 111394506613435756,\n",
       " 115925259125407295,\n",
       " 116454972706892511,\n",
       " 116683309485180923,\n",
       " 120492535353891409,\n",
       " 131998561967975839,\n",
       " 133486548927612375,\n",
       " 143620929482190027,\n",
       " 144079460786161839,\n",
       " 147514000526855717,\n",
       " 150074479798481573,\n",
       " 150202042664383428,\n",
       " 162645619827335196,\n",
       " 163121945562643970,\n",
       " 166254878560341468,\n",
       " 170708003193483797,\n",
       " 175525166103203661,\n",
       " 177067410456006215,\n",
       " 183963844301624746,\n",
       " 184193698153715681,\n",
       " 184441571956328947,\n",
       " 184986614767762738,\n",
       " 190110018219332894,\n",
       " 190868717251929100,\n",
       " 192302375505725739,\n",
       " 195951501653378850,\n",
       " 197027893265565660,\n",
       " 197989147574718053,\n",
       " 203838813641156129,\n",
       " 205293431553451771,\n",
       " 205567504954789840,\n",
       " 213304105190027677,\n",
       " 214508220474797491,\n",
       " 214833159572200320,\n",
       " 214966247576341063,\n",
       " 217208764195819861,\n",
       " 221369323743553992,\n",
       " 223230608818939965,\n",
       " 225770609346549096,\n",
       " 230300846880828486,\n",
       " 239143341246126460,\n",
       " 239795526067822384,\n",
       " 240593900528114714,\n",
       " 240611722706801399,\n",
       " 246861536070424367,\n",
       " 247222490636896931,\n",
       " 250419112136655315,\n",
       " 250471674354738369,\n",
       " 251445273536807541,\n",
       " 261817378841141406,\n",
       " 263550556164486172,\n",
       " 268585722414641802,\n",
       " 275440394790903451,\n",
       " 277030241701459672,\n",
       " 280811293609485122,\n",
       " 284324717439504162,\n",
       " 287780407015302486,\n",
       " 287920515800375800,\n",
       " 288947541653489764,\n",
       " 292563824900182495,\n",
       " 294839098209826717,\n",
       " 296264410218333921,\n",
       " 299409047914517767,\n",
       " 305594859284003311,\n",
       " 308814012283390853,\n",
       " 308940995223272529,\n",
       " 309239975113384919,\n",
       " 310148124240837799,\n",
       " 312486663571881457,\n",
       " 318711972404169579,\n",
       " 324283554346932086,\n",
       " 328146365833208502,\n",
       " 332529825412858125,\n",
       " 337425910074931856,\n",
       " 339011216121211457,\n",
       " 341779376849070941,\n",
       " 342904511578898557,\n",
       " 346062195302431477,\n",
       " 347565592835531810,\n",
       " 350294727339902264,\n",
       " 352491885041565500,\n",
       " 355651113645516604,\n",
       " 366093607806007780,\n",
       " 375578807808788687,\n",
       " 377428696293052237,\n",
       " 378761015309962378,\n",
       " 384642128335787102,\n",
       " 387505098052759672,\n",
       " 388887996611251404,\n",
       " 389304912443612075,\n",
       " 392983545126872939,\n",
       " 393496016969278608,\n",
       " 396921694825627632,\n",
       " 402711886080464802,\n",
       " 412148353968086386,\n",
       " 413212779751960561,\n",
       " 415393140403992081,\n",
       " 416639792074367534,\n",
       " 417948724994764160,\n",
       " 421141476413294399,\n",
       " 422635451750847294,\n",
       " 424826562612017366,\n",
       " 425021480554875577,\n",
       " 425978131644402469,\n",
       " 433700751848178337,\n",
       " 436215067153454698,\n",
       " 437568118164804119,\n",
       " 438481114985016111,\n",
       " 438566018419758396,\n",
       " 443148007654269818,\n",
       " 443561935427724017,\n",
       " 445844399501235732,\n",
       " 448322291576601609,\n",
       " 448788733913496064,\n",
       " 454250973653182779,\n",
       " 455677984811026467,\n",
       " 458487662063790033,\n",
       " 459177279692283865,\n",
       " 459886157894104336,\n",
       " 475531262913647325,\n",
       " 476033501585084130,\n",
       " 476424975512809779,\n",
       " 476584551711843059,\n",
       " 479693951018977200,\n",
       " 483756982373773158,\n",
       " 486216658560945106,\n",
       " 486667209462063493,\n",
       " 489834326588358430,\n",
       " 493356215672971026,\n",
       " 505279609846563452,\n",
       " 506182542843205637,\n",
       " 506939552142820526,\n",
       " 510614291722862198,\n",
       " 510822730682036735,\n",
       " 511628697250857491,\n",
       " 514170527547247208,\n",
       " 515870279844015150,\n",
       " 516286012667372837,\n",
       " 517336701210514234,\n",
       " 518297313815559468,\n",
       " 518781617060869985,\n",
       " 519684206898074804,\n",
       " 522395114081801453,\n",
       " 533356125006419558,\n",
       " 535314069218841090,\n",
       " 536441237704204521,\n",
       " 538346255722523869,\n",
       " 557622585227857656,\n",
       " 559149934052182668,\n",
       " 560756757965927510,\n",
       " 563085480423143527,\n",
       " 573618694510478945,\n",
       " 574416400670910133,\n",
       " 574633461585252750,\n",
       " 577366859850288734,\n",
       " 577703227672734143,\n",
       " 582080824660341934,\n",
       " 582264770456673374,\n",
       " 585098019789447946,\n",
       " 586060169430842855,\n",
       " 587620534214129365,\n",
       " 587791531296987944,\n",
       " 592473404082706242,\n",
       " 596291940449176127,\n",
       " 596478621289313372,\n",
       " 604405025443423456,\n",
       " 606384316716209982,\n",
       " 607175642098607257,\n",
       " 611684106050815719,\n",
       " 611952873954295141,\n",
       " 613609446617362840,\n",
       " 617758068537391848,\n",
       " 623940637775064759,\n",
       " 624637828747274142,\n",
       " 625266944125093211,\n",
       " 626934752699266183,\n",
       " 628176113031132868,\n",
       " 632597714144669827,\n",
       " 634894491679664239,\n",
       " 635177399987844002,\n",
       " 635537478147222712,\n",
       " 635884774859272132,\n",
       " 636437379427729086,\n",
       " 638598994881293831,\n",
       " 639821247288632678,\n",
       " 642060392952940184,\n",
       " 643792675919090543,\n",
       " 643875569133265334,\n",
       " 643999646798750504,\n",
       " 644893164412162167,\n",
       " 646027458777469832,\n",
       " 652742507219479167,\n",
       " 653322154533311661,\n",
       " 655561191595997473,\n",
       " 657584471520000070,\n",
       " 659853161237392009,\n",
       " 660538535646496924,\n",
       " 663316212994735390,\n",
       " 663948373672770349,\n",
       " 671922718563083939,\n",
       " 674541835027541643,\n",
       " 676216329641097226,\n",
       " 676328004435207817,\n",
       " 689154991320046746,\n",
       " 689942998779770777,\n",
       " 698985403284064229,\n",
       " 708497300280429181,\n",
       " 711644713914320692,\n",
       " 719912814612086941,\n",
       " 724444571498081470,\n",
       " 728850948727363423,\n",
       " 729399783976269550,\n",
       " 730864889612327407,\n",
       " 733544924898733660,\n",
       " 733563556336010524,\n",
       " 734373520188777489,\n",
       " 736519707444721968,\n",
       " 739045881004858643,\n",
       " 741217858549528863,\n",
       " 741876852529996627,\n",
       " 742351075583407193,\n",
       " 742580055368777840,\n",
       " 744631185401435026,\n",
       " 745032079672450813,\n",
       " 745058342738416458,\n",
       " 746235405686708560,\n",
       " 747706080571680169,\n",
       " 749860108599908868,\n",
       " 750314308970627725,\n",
       " 751178805257777979,\n",
       " 758386700064827224,\n",
       " 763741027144828289,\n",
       " 769261358925388390,\n",
       " 772204008534156278,\n",
       " 776222275221644469,\n",
       " 780170411326456210,\n",
       " 780798538749079517,\n",
       " 784865651125640705,\n",
       " 785031302717006261,\n",
       " 787019918811618763,\n",
       " 789235048114585398,\n",
       " 790376913952472135,\n",
       " 793451998969083373,\n",
       " 797066677504151142,\n",
       " 799277696315768273,\n",
       " 804046242161846710,\n",
       " 807429246431725796,\n",
       " 807603497748593718,\n",
       " 809934975781585929,\n",
       " 811507570420376917,\n",
       " 812639327606983316,\n",
       " 812786274676882524,\n",
       " 813201901330563996,\n",
       " 822842730112374811,\n",
       " 825006107583541767,\n",
       " 826116614116942159,\n",
       " 826328741041532622,\n",
       " 832195127918352542,\n",
       " 833730447250684550,\n",
       " 837505346045732408,\n",
       " 841520216843624205,\n",
       " 848778170725230748,\n",
       " 851675016121268378,\n",
       " 853327678806295016,\n",
       " 858152710887668387,\n",
       " 863114068617027014,\n",
       " 863855012668260540,\n",
       " 865006356323074101,\n",
       " 867736847519709439,\n",
       " 871780189849907585,\n",
       " 873298347764140009,\n",
       " 877237221943547371,\n",
       " 877451560995731305,\n",
       " 878772402151705011,\n",
       " 886220658245446441,\n",
       " 888617422919024415,\n",
       " 892548152334080223,\n",
       " 899066960484600191,\n",
       " 901910488586804919,\n",
       " 904032418100428779,\n",
       " 907516373885804773,\n",
       " 907772333940219148,\n",
       " 909836633434978322,\n",
       " 911796750869959017,\n",
       " 916102094044081613,\n",
       " 916952800053611952,\n",
       " 918198944254710216,\n",
       " 921723546943290607,\n",
       " 921969518449407481,\n",
       " 924963933564253034,\n",
       " 928893924262115877,\n",
       " 929369325017621780,\n",
       " 931629233214288775,\n",
       " 933014534298828939,\n",
       " 935788065062565859,\n",
       " 936034487122562642,\n",
       " 941603036904761274,\n",
       " 941985263376238712,\n",
       " 943476888243120350,\n",
       " 944989533256675646,\n",
       " 947285836468357499,\n",
       " 947773872779189288,\n",
       " 950552557353772637,\n",
       " 951001704752844842,\n",
       " 955444249670387244,\n",
       " 956091201869133924,\n",
       " 957126200348560045,\n",
       " 958080336978586278,\n",
       " 967080911133369983,\n",
       " 971715444044470678,\n",
       " 971943055766250703,\n",
       " 972102914695797995,\n",
       " 972892296456783714,\n",
       " 974103175361161346,\n",
       " 975074959546731393,\n",
       " 987410625331031689,\n",
       " 987620840339193594,\n",
       " 989941576106336127,\n",
       " 991695701146865602,\n",
       " 992129977226956838,\n",
       " 1008242126838007188,\n",
       " 1009503747199967885,\n",
       " 1009745980451513098,\n",
       " 1011982461038688201,\n",
       " 1014298780707644648,\n",
       " 1023888966242147776,\n",
       " 1025423183050919111,\n",
       " 1025737506158455281,\n",
       " 1035766790164458922,\n",
       " 1038180862674591265,\n",
       " 1040098378511430877,\n",
       " 1040973814610602555,\n",
       " 1046044714483470353,\n",
       " 1048614620543768551,\n",
       " 1051093549596532640,\n",
       " 1052317782824159991,\n",
       " 1052687497762731441,\n",
       " 1053328048197999395,\n",
       " 1055544042902443290,\n",
       " 1056436874470887468,\n",
       " 1057369804972986385,\n",
       " 1058749873628393721,\n",
       " 1060243128490081633,\n",
       " 1064069332576331836,\n",
       " 1066075817123227424,\n",
       " 1066982802038964480,\n",
       " 1069864342136599505,\n",
       " 1072339430403396440,\n",
       " 1072623712787612806,\n",
       " 1074933668878523996,\n",
       " 1077593630253788811,\n",
       " 1079536207678891526,\n",
       " 1081412553827861688,\n",
       " 1090182846018955678,\n",
       " 1095077258947795533,\n",
       " 1097802266486449090,\n",
       " 1100007125648169445,\n",
       " 1100162414441257562,\n",
       " 1101645954553149863,\n",
       " 1102753053006816397,\n",
       " 1106519599757697788,\n",
       " 1107223517880227250,\n",
       " 1108663333845026293,\n",
       " 1112382418078709481,\n",
       " 1113177574547813281,\n",
       " 1118091390289781828,\n",
       " 1118952406011435924,\n",
       " 1119518190440550684,\n",
       " 1130403566368923172,\n",
       " 1141383275979951947,\n",
       " 1144480815354973580,\n",
       " 1144951999511701317,\n",
       " 1152127394159350271,\n",
       " 1152409031019339050,\n",
       " 1158644344098364192,\n",
       " 1159921881538419246,\n",
       " 1160702068791178277,\n",
       " 1169546061413244004,\n",
       " 1177697527804061945,\n",
       " 1178783426466674982,\n",
       " 1182707666768064498,\n",
       " 1187041256848640451,\n",
       " 1189296733004917712,\n",
       " 1195023622010323163,\n",
       " 1199460720826649005,\n",
       " 1202921123440807590,\n",
       " 1204123877694591231,\n",
       " 1206422050321685600,\n",
       " 1207382579049962237,\n",
       " 1207837762538981961,\n",
       " 1207877788215001499,\n",
       " 1211886626193804462,\n",
       " 1213258276951402448,\n",
       " 1217537191439577589,\n",
       " 1221007179696451995,\n",
       " 1222997944595573335,\n",
       " 1225815103909106345,\n",
       " 1228115547394833641,\n",
       " 1228484548691249079,\n",
       " 1231635805325933211,\n",
       " 1232437856944117939,\n",
       " 1232481244696430727,\n",
       " 1238160369518841701,\n",
       " 1238265952410714334,\n",
       " 1239454820626819999,\n",
       " 1248249470389899675,\n",
       " 1256042479757208235,\n",
       " 1261105026187061983,\n",
       " 1261399151511703593,\n",
       " 1264818160595599518,\n",
       " 1266450414894434600,\n",
       " 1268583788296581467,\n",
       " 1271415979784080033,\n",
       " 1272738991114787291,\n",
       " 1290489534311228669,\n",
       " 1292886313621658737,\n",
       " 1302351908905417113,\n",
       " 1308887670530165381,\n",
       " 1309234519709630135,\n",
       " 1311997058388379041,\n",
       " 1322113289042721668,\n",
       " 1322285628161096009,\n",
       " 1322790631631885232,\n",
       " 1335983822544135331,\n",
       " 1338953183523390189,\n",
       " 1345527608530707571,\n",
       " 1351752194597049836,\n",
       " 1354605003380583701,\n",
       " 1355715204364424908,\n",
       " 1356580254729538621,\n",
       " 1358649625332045145,\n",
       " 1359027616650871133,\n",
       " 1359329337915319993,\n",
       " 1362092663681182910,\n",
       " 1365609442365145542,\n",
       " 1368271836044625883,\n",
       " 1370441043190409812,\n",
       " 1371406570013207353,\n",
       " 1373199082330812873,\n",
       " 1375557487947093308,\n",
       " 1379176160808388540,\n",
       " 1387165560212667162,\n",
       " 1388226860960866025,\n",
       " 1390156457112470704,\n",
       " 1392555893172405118,\n",
       " 1396719119655715558,\n",
       " 1397725489131598078,\n",
       " 1403708630247052988,\n",
       " 1406753793485315697,\n",
       " 1407232096472976945,\n",
       " 1411471843730263943,\n",
       " 1414294169776581033,\n",
       " 1414328272851633705,\n",
       " 1416492074606677372,\n",
       " 1431362592250025125,\n",
       " 1434659102910304056,\n",
       " 1441117496118578337,\n",
       " 1441736948778210919,\n",
       " 1442018651382992011,\n",
       " 1443741804222120191,\n",
       " 1444843324636696479,\n",
       " 1446068587914200066,\n",
       " 1448741017727972417,\n",
       " 1449633191757318122,\n",
       " 1454529872430936947,\n",
       " 1454822051163253822,\n",
       " 1454965035125997138,\n",
       " 1455187099949917856,\n",
       " 1455213478214584142,\n",
       " 1456479928857490458,\n",
       " 1466061772566240876,\n",
       " 1468191787737818720,\n",
       " 1469446514770057243,\n",
       " 1469821186825308546,\n",
       " 1473682137093955213,\n",
       " 1473954866633667764,\n",
       " 1474201854412785922,\n",
       " 1474593463039600047,\n",
       " 1475124027795911379,\n",
       " 1476066297440857030,\n",
       " 1476908355386805706,\n",
       " 1479224128115420988,\n",
       " 1480693827871957415,\n",
       " 1484685787874408311,\n",
       " 1492262579192542642,\n",
       " 1493051727801961177,\n",
       " 1496571865153692716,\n",
       " 1501007085405726211,\n",
       " 1501430434311491538,\n",
       " 1501727889531277921,\n",
       " 1501908752948001879,\n",
       " 1504903826987063971,\n",
       " 1507659253521619510,\n",
       " 1508773472583232214,\n",
       " 1510163124034142560,\n",
       " 1518481827927168526,\n",
       " 1519011043792703795,\n",
       " 1521378294033734650,\n",
       " 1524322915255226164,\n",
       " 1526073585896640732,\n",
       " 1529531054838639703,\n",
       " 1531140320345322600,\n",
       " 1531475045777130682,\n",
       " 1534897513443407739,\n",
       " 1534901408177518994,\n",
       " 1535041857858656812,\n",
       " 1535501606752467083,\n",
       " 1536833952192676536,\n",
       " 1540015202514387306,\n",
       " 1543782744527242949,\n",
       " 1553654098241439838,\n",
       " 1554936183138139546,\n",
       " 1555813447550520162,\n",
       " 1557012912696730038,\n",
       " 1559671681759212771,\n",
       " 1561787847019044127,\n",
       " 1563373457684592643,\n",
       " 1563535537480178995,\n",
       " 1565499982670692159,\n",
       " 1565685220683527046,\n",
       " 1566802255817691325,\n",
       " 1568403033187645799,\n",
       " 1576055881633157090,\n",
       " 1582018592022318519,\n",
       " 1591209869024092929,\n",
       " 1595946620173408318,\n",
       " 1599168619326322310,\n",
       " 1601876840816097347,\n",
       " 1602535389316247105,\n",
       " 1604220726746226764,\n",
       " 1610218390832883410,\n",
       " 1610362432939813744,\n",
       " 1611262618582916959,\n",
       " 1611861954612203856,\n",
       " 1613072755151753662,\n",
       " 1615677818169862243,\n",
       " 1616803311525067351,\n",
       " 1618772384609580447,\n",
       " 1619361091930126221,\n",
       " 1621833291968293229,\n",
       " 1623784750227488837,\n",
       " 1628019886295458256,\n",
       " 1628715182618939169,\n",
       " 1630601299114293624,\n",
       " 1631833249019071459,\n",
       " 1632051821177645319,\n",
       " 1637183525585696535,\n",
       " 1640129893004506946,\n",
       " 1642029086328604249,\n",
       " 1642722399435105759,\n",
       " 1643808378620267871,\n",
       " 1644732023483566914,\n",
       " 1647818052607402649,\n",
       " 1648876560815812786,\n",
       " 1656055605943893565,\n",
       " 1656078556871492704,\n",
       " 1658156975354500220,\n",
       " 1668858317673232796,\n",
       " 1670211418297317122,\n",
       " 1670499237495260603,\n",
       " 1675308806875779310,\n",
       " 1678763369581379849,\n",
       " 1682156648113370447,\n",
       " 1683981161505856484,\n",
       " 1685496134763216440,\n",
       " 1686873404534186653,\n",
       " 1687153802640716164,\n",
       " 1687651407248698196,\n",
       " 1694940645335807244,\n",
       " 1698187457296539356,\n",
       " 1705097928192746012,\n",
       " 1706269721136453681,\n",
       " 1710404069179158243,\n",
       " 1713241506527703337,\n",
       " 1714515157391002636,\n",
       " 1715800039370609036,\n",
       " 1716601367479950608,\n",
       " 1721101105509587254,\n",
       " 1729553690289446391,\n",
       " 1734671744408559964,\n",
       " 1735196676161779146,\n",
       " 1736444126983851292,\n",
       " 1736545474780860299,\n",
       " 1738435974743300014,\n",
       " 1741446486041421775,\n",
       " 1743071356190500664,\n",
       " 1745446394613787600,\n",
       " 1747576499340150987,\n",
       " 1747803444455964951,\n",
       " 1749173518120284110,\n",
       " 1750006600386297037,\n",
       " 1754140665440434215,\n",
       " 1754654117621140625,\n",
       " 1763234204193593145,\n",
       " 1767034088261127594,\n",
       " 1774581805650606374,\n",
       " 1779793606763825829,\n",
       " 1784088129523134891,\n",
       " 1795464997517048969,\n",
       " 1797898851854660526,\n",
       " 1800462567619643092,\n",
       " 1802961404368128531,\n",
       " 1803879332490491518,\n",
       " 1805098991791945017,\n",
       " 1807104407388801321,\n",
       " 1809219422299373751,\n",
       " 1810633770387825573,\n",
       " 1812626851305418770,\n",
       " 1816193964766086568,\n",
       " 1818888580792312774,\n",
       " 1828527697663147220,\n",
       " 1830789464385859932,\n",
       " 1832951734389458979,\n",
       " 1836871388568984876,\n",
       " 1845310753671913142,\n",
       " 1849861588997534748,\n",
       " 1850981295691852772,\n",
       " 1854318592074461786,\n",
       " 1855746631299986520,\n",
       " 1856531388880557078,\n",
       " 1857022941517449964,\n",
       " 1857029223517498437,\n",
       " 1858635686255490606,\n",
       " 1859538515480149604,\n",
       " 1863365070801940763,\n",
       " 1864330314524351514,\n",
       " 1865447896590702806,\n",
       " 1866081895270239546,\n",
       " 1871891495778470680,\n",
       " 1872850747466641334,\n",
       " 1872978591788881482,\n",
       " 1873541273545252114,\n",
       " 1875967519037312308,\n",
       " 1877880950237790633,\n",
       " 1877984802247612189,\n",
       " 1878105091481906390,\n",
       " 1879130487676858089,\n",
       " 1880319123864140842,\n",
       " 1884616937397676465,\n",
       " 1888138255084738292,\n",
       " 1889828697752518631,\n",
       " 1889918809089911653,\n",
       " 1891735264651988282,\n",
       " 1897094419292783753,\n",
       " 1897865515518262253,\n",
       " 1898517369961979007,\n",
       " 1902634890028391543,\n",
       " 1902925674038850665,\n",
       " 1905072405092749922,\n",
       " 1907586036520479237,\n",
       " 1911082884367119715,\n",
       " 1913449904137403859,\n",
       " 1919610389675188301,\n",
       " 1921021973150069353,\n",
       " 1922717626667551198,\n",
       " 1925633498102429867,\n",
       " 1926043475802601010,\n",
       " 1927996291419766725,\n",
       " 1933076016955568016,\n",
       " 1933287761200795966,\n",
       " 1934820574417048407,\n",
       " 1935659778645847803,\n",
       " 1935778368501008203,\n",
       " 1938488839518559523,\n",
       " 1941104928179008131,\n",
       " 1944990916476916648,\n",
       " 1945666456608727300,\n",
       " 1951441553891314815,\n",
       " 1956551427043455812,\n",
       " 1957650533066668907,\n",
       " 1958789019407924063,\n",
       " 1965300836143337995,\n",
       " 1968327796343926941,\n",
       " 1975349697076725883,\n",
       " 1976146152726687326,\n",
       " 1976242610478736343,\n",
       " 1984254026148347245,\n",
       " 1984269889792951499,\n",
       " 1985890394105980442,\n",
       " 1986496473823929466,\n",
       " 1988932585166904055,\n",
       " 1989685320445148348,\n",
       " 1996068171375943064,\n",
       " 1996352594780507884,\n",
       " 2000598507466078035,\n",
       " 2008760054465306014,\n",
       " 2011152258955517776,\n",
       " 2013880302311166256,\n",
       " 2017226781360785791,\n",
       " 2024274277554107641,\n",
       " 2026121482797429263,\n",
       " 2029140728621466572,\n",
       " 2030898211630954288,\n",
       " 2035071734801401616,\n",
       " 2039373999036196932,\n",
       " 2039478756045134013,\n",
       " 2044057913112891169,\n",
       " 2045565577415967787,\n",
       " 2045616237532505490,\n",
       " 2046817531179798625,\n",
       " 2052882131127416048,\n",
       " 2055810009195309331,\n",
       " 2056649048651349082,\n",
       " 2057639815592073423,\n",
       " 2062591486080809778,\n",
       " 2068919224473899095,\n",
       " 2080457149997549644,\n",
       " 2080812545087605893,\n",
       " 2083934669020211807,\n",
       " 2084505247163688767,\n",
       " 2086644870413294187,\n",
       " 2087172343110799386,\n",
       " 2088030388420733246,\n",
       " 2088404636236716254,\n",
       " 2094113625255209985,\n",
       " 2095513126738999163,\n",
       " 2095595416126811454,\n",
       " 2101829520420509964,\n",
       " 2108190255648110546,\n",
       " 2117439964384153973,\n",
       " 2117598218279335528,\n",
       " 2120170977547791070,\n",
       " 2120429420701316021,\n",
       " 2121174247160023476,\n",
       " 2121296282688649274,\n",
       " 2131179201240516914,\n",
       " 2144391735501062779,\n",
       " 2147812610911632982,\n",
       " 2148039596707398365,\n",
       " 2153509548926072107,\n",
       " 2153819773841336009,\n",
       " 2154133037313861585,\n",
       " 2157460938665527156,\n",
       " 2158185118578389474,\n",
       " 2158697942336348976,\n",
       " 2159386245289833896,\n",
       " 2161145992201706665,\n",
       " 2164199148956551614,\n",
       " 2178857088968433184,\n",
       " 2180779893563165231,\n",
       " 2187914245613435519,\n",
       " 2190812432090601645,\n",
       " 2200289368837376669,\n",
       " 2201216441003038354,\n",
       " 2204195013513295394,\n",
       " 2207627660352986049,\n",
       " 2219997555848510194,\n",
       " 2236228032346548199,\n",
       " 2238430701269950372,\n",
       " 2248928225535788401,\n",
       " 2252923612776743772,\n",
       " 2254073990000595291,\n",
       " 2254821219381623694,\n",
       " 2254831023563140137,\n",
       " 2256353318851497275,\n",
       " 2262977605516551586,\n",
       " 2265504054110070262,\n",
       " 2275805034230537582,\n",
       " 2284289858459382161,\n",
       " 2285920690243309957,\n",
       " 2286563893048866304,\n",
       " 2291084285826904421,\n",
       " 2300264632290823791,\n",
       " 2300274679097142648,\n",
       " 2300292234025330845,\n",
       " 2301060972568831429,\n",
       " 2305368696305623130,\n",
       " 2305766456715991733,\n",
       " 2306417705332152830,\n",
       " 2310567447000311087,\n",
       " 2317120910450320490,\n",
       " 2326645966387673457,\n",
       " 2326817540007131335,\n",
       " 2333464128290604559,\n",
       " 2335509695522126029,\n",
       " 2337495991989165165,\n",
       " 2338032035929711810,\n",
       " 2339185552301026694,\n",
       " 2340633777188128260,\n",
       " 2344453455548761290,\n",
       " 2347871715004116621,\n",
       " 2353744443347071709,\n",
       " 2354910922862011510,\n",
       " 2355491049732163119,\n",
       " 2356440602824110086,\n",
       " 2360577233406158763,\n",
       " 2361418256366891962,\n",
       " 2361509105282687484,\n",
       " 2366013795926058368,\n",
       " 2370096028522541720,\n",
       " 2372212476992240858,\n",
       " 2377873061110757618,\n",
       " 2380401036382252064,\n",
       " 2380442836973681463,\n",
       " 2382232476374805470,\n",
       " 2382591782303281935,\n",
       " 2384589459867179844,\n",
       " 2390375804834306115,\n",
       " 2391591272127366891,\n",
       " 2392795841124810082,\n",
       " 2396595853709741935,\n",
       " 2401361659688185199,\n",
       " 2403355073043923533,\n",
       " 2405626918155135838,\n",
       " 2405654768956009727,\n",
       " 2413191300976302222,\n",
       " 2421500667737362153,\n",
       " 2425272123794509715,\n",
       " 2425296948347235627,\n",
       " 2426669476115918968,\n",
       " 2427083753790244053,\n",
       " 2430234623646236843,\n",
       " 2431247070435249376,\n",
       " 2431455045762717569,\n",
       " 2431596991529743727,\n",
       " 2433579795068677370,\n",
       " 2435066505702064487,\n",
       " 2435832032468382623,\n",
       " 2438520924615884865,\n",
       " 2449529403513183576,\n",
       " 2449861889676075616,\n",
       " 2456052565047493876,\n",
       " 2457989834692826118,\n",
       " 2458857792132229602,\n",
       " 2460448352470841440,\n",
       " 2463304402161747792,\n",
       " 2467093885390623962,\n",
       " 2467833017081929342,\n",
       " 2471781721863721876,\n",
       " 2475505403190905570,\n",
       " 2483929801155612873,\n",
       " 2485641541735752193,\n",
       " 2487220710747924077,\n",
       " 2491871998651924489,\n",
       " 2492913765151634239,\n",
       " 2494678898873829695,\n",
       " 2496601839890650140,\n",
       " 2496839711239211376,\n",
       " 2499595637264270094,\n",
       " 2500124605531025107,\n",
       " 2500402034241492000,\n",
       " 2501093202068068035,\n",
       " 2504464050730025625,\n",
       " 2506750296491161223,\n",
       " 2510723444654196062,\n",
       " 2511459110918898549,\n",
       " 2516735914917326476,\n",
       " 2519424594649461711,\n",
       " 2520797580915790298,\n",
       " 2530172488730286316,\n",
       " 2535613564546551531,\n",
       " 2539937091785075696,\n",
       " 2540662527663401258,\n",
       " 2543103303547526061,\n",
       " 2543666244929500915,\n",
       " 2543916046456558866,\n",
       " 2543937136671167176,\n",
       " 2546485934419825851,\n",
       " 2552343246908171981,\n",
       " 2553585984152619113,\n",
       " 2555214839587509656,\n",
       " 2558632398835985763,\n",
       " 2563919866671202083,\n",
       " 2564122324798868152,\n",
       " 2570971451355530886,\n",
       " 2571057252346605950,\n",
       " 2575393697599976818,\n",
       " 2580223756192068322,\n",
       " 2581922244654274386,\n",
       " 2582232171350774107,\n",
       " 2584566661494152413,\n",
       " 2588300576254511728,\n",
       " 2588348489601237674,\n",
       " 2590691682508707697,\n",
       " 2597036213925102497,\n",
       " 2599114877401808773,\n",
       " 2601680786771671473,\n",
       " 2602421655779348355,\n",
       " 2603950510588405341,\n",
       " 2606689079105970779,\n",
       " 2615169553543420887,\n",
       " 2617792273981256435,\n",
       " 2618950329613124052,\n",
       " 2620148715430047574,\n",
       " 2620843593472870864,\n",
       " 2631876180975097434,\n",
       " 2634996631528805404,\n",
       " 2635463436298899479,\n",
       " 2640074586197465474,\n",
       " 2640177033729351241,\n",
       " 2643655375495121379,\n",
       " 2647410918015511224,\n",
       " 2648023356960898137,\n",
       " 2648901857674049202,\n",
       " 2649362513110678126,\n",
       " 2655003569661492360,\n",
       " 2656704080941585379,\n",
       " 2658624974683477729,\n",
       " 2659616611828697302,\n",
       " 2660477336221595957,\n",
       " 2663398978989834735,\n",
       " 2663665921489997727,\n",
       " 2664251778992193918,\n",
       " 2666089332487652109,\n",
       " 2667995139428472523,\n",
       " 2674429336791405101,\n",
       " 2675455403240375807,\n",
       " 2678113669749783289,\n",
       " 2679061120940208321,\n",
       " 2681334307804895649,\n",
       " 2682464059584798653,\n",
       " 2689128589457413224,\n",
       " 2689720183399040395,\n",
       " 2690337287291543497,\n",
       " 2690995637980366717,\n",
       " 2691443360718010605,\n",
       " 2693646626070181699,\n",
       " 2699157127198196365,\n",
       " 2699816327607603753,\n",
       " 2701142504341341650,\n",
       " 2702313608280400792,\n",
       " 2706335667397018846,\n",
       " 2709220656435554465,\n",
       " 2711030859193999485,\n",
       " 2711431397924822327,\n",
       " 2712061542806877388,\n",
       " 2712290788139738557,\n",
       " 2720867538193589743,\n",
       " 2727041889075403728,\n",
       " 2730869064219188185,\n",
       " 2730883616852266630,\n",
       " 2739385149518596169,\n",
       " 2744770617800463907,\n",
       " 2745896723470964940,\n",
       " 2747519232871077339,\n",
       " 2747842226053192632,\n",
       " 2748779138544700166,\n",
       " 2754977819347976900,\n",
       " 2759677406968983745,\n",
       " 2763491862885268884,\n",
       " 2765395199519028613,\n",
       " 2765616896142164090,\n",
       " 2765695236497056545,\n",
       " 2768580714092136945,\n",
       " 2771357171640132487,\n",
       " 2772044537339378962,\n",
       " 2777506549243243686,\n",
       " 2778817089349171533,\n",
       " 2783380201734445914,\n",
       " 2784928666669179848,\n",
       " 2785300585388283683,\n",
       " 2785869854396882528,\n",
       " 2789530716385408791,\n",
       " 2789808063375807388,\n",
       " 2789907876391868796,\n",
       " 2793988848638831992,\n",
       " 2794662296073118329,\n",
       " ...]"
      ]
     },
     "execution_count": 99,
     "metadata": {},
     "output_type": "execute_result"
    }
   ],
   "source": [
    "# прежде чем давать ответы, интересно было бы, более детально рассмотреть причину потери 61% процента посещений, после посещения главной страницы\n",
    "# первым делом я хотел бы найти ID пользователей которые совершили целевое действие, то есть совершили покупку на веб-сайте\n",
    "\n",
    "df_success = df[df['EventName'] == 'PaymentScreenSuccessful'].sort_values(by=['DeviceIDHash'])\n",
    "df_success['DeviceIDHash'].unique().tolist() # получаем лист который содержит все ID покупателей которые совершили покупку"
   ]
  },
  {
   "cell_type": "code",
   "execution_count": 100,
   "id": "fdffe5d3-4996-4d4a-af7c-1d530ea7b41b",
   "metadata": {},
   "outputs": [],
   "source": [
    "# однако надо не забывать что у нас также есть группы - контрольная(х2) и экпериментальная\n",
    "contr_group246 = df_success[df_success['ExpId'] == 246]\n",
    "contr_group247 = df_success[df_success['ExpId'] == 247]\n",
    "exp_group248 = df_success[df_success['ExpId'] == 248]"
   ]
  },
  {
   "cell_type": "code",
   "execution_count": 101,
   "id": "fc529c1a-517b-40a6-8fdc-bc1907157599",
   "metadata": {},
   "outputs": [
    {
     "data": {
      "text/html": [
       "<div>\n",
       "<style scoped>\n",
       "    .dataframe tbody tr th:only-of-type {\n",
       "        vertical-align: middle;\n",
       "    }\n",
       "\n",
       "    .dataframe tbody tr th {\n",
       "        vertical-align: top;\n",
       "    }\n",
       "\n",
       "    .dataframe thead th {\n",
       "        text-align: right;\n",
       "    }\n",
       "</style>\n",
       "<table border=\"1\" class=\"dataframe\">\n",
       "  <thead>\n",
       "    <tr style=\"text-align: right;\">\n",
       "      <th></th>\n",
       "      <th>EventName</th>\n",
       "      <th>DeviceIDHash</th>\n",
       "      <th>EventTimestamp</th>\n",
       "      <th>ExpId</th>\n",
       "      <th>TimestampForHuman</th>\n",
       "    </tr>\n",
       "  </thead>\n",
       "  <tbody>\n",
       "    <tr>\n",
       "      <th>209196</th>\n",
       "      <td>MainScreenAppear</td>\n",
       "      <td>6909561520679493</td>\n",
       "      <td>1565117574</td>\n",
       "      <td>247</td>\n",
       "      <td>2019-08-06 18:52:54</td>\n",
       "    </tr>\n",
       "    <tr>\n",
       "      <th>209199</th>\n",
       "      <td>PaymentScreenSuccessful</td>\n",
       "      <td>6909561520679493</td>\n",
       "      <td>1565117578</td>\n",
       "      <td>247</td>\n",
       "      <td>2019-08-06 18:52:58</td>\n",
       "    </tr>\n",
       "    <tr>\n",
       "      <th>209200</th>\n",
       "      <td>CartScreenAppear</td>\n",
       "      <td>6909561520679493</td>\n",
       "      <td>1565117578</td>\n",
       "      <td>247</td>\n",
       "      <td>2019-08-06 18:52:58</td>\n",
       "    </tr>\n",
       "    <tr>\n",
       "      <th>209201</th>\n",
       "      <td>MainScreenAppear</td>\n",
       "      <td>6909561520679493</td>\n",
       "      <td>1565117578</td>\n",
       "      <td>247</td>\n",
       "      <td>2019-08-06 18:52:58</td>\n",
       "    </tr>\n",
       "    <tr>\n",
       "      <th>209210</th>\n",
       "      <td>OffersScreenAppear</td>\n",
       "      <td>6909561520679493</td>\n",
       "      <td>1565117584</td>\n",
       "      <td>247</td>\n",
       "      <td>2019-08-06 18:53:04</td>\n",
       "    </tr>\n",
       "  </tbody>\n",
       "</table>\n",
       "</div>"
      ],
      "text/plain": [
       "                      EventName      DeviceIDHash  EventTimestamp  ExpId  \\\n",
       "209196         MainScreenAppear  6909561520679493      1565117574    247   \n",
       "209199  PaymentScreenSuccessful  6909561520679493      1565117578    247   \n",
       "209200         CartScreenAppear  6909561520679493      1565117578    247   \n",
       "209201         MainScreenAppear  6909561520679493      1565117578    247   \n",
       "209210       OffersScreenAppear  6909561520679493      1565117584    247   \n",
       "\n",
       "         TimestampForHuman  \n",
       "209196 2019-08-06 18:52:54  \n",
       "209199 2019-08-06 18:52:58  \n",
       "209200 2019-08-06 18:52:58  \n",
       "209201 2019-08-06 18:52:58  \n",
       "209210 2019-08-06 18:53:04  "
      ]
     },
     "execution_count": 101,
     "metadata": {},
     "output_type": "execute_result"
    }
   ],
   "source": [
    "df[df['DeviceIDHash'] == 6909561520679493].sort_values(by=['EventTimestamp'])\n",
    "# проверив самого первого юзера в списке я был удивлен, так как не увидел той картины которой ожидал\n",
    "# в моем понимании должно было быть примерно так:\n",
    "# MainScreenAppear => OffersScreenAppear => CartScreenAppear => PaymentScreenSuccessful\n",
    "\n",
    "# Вероятно, веб-сайт позволяет купить вещи/товар сразу на главной странице не кладя их перед этим в корзину."
   ]
  },
  {
   "cell_type": "code",
   "execution_count": 109,
   "id": "467bf14d-7f71-47cd-b8b0-3081cefb50c6",
   "metadata": {},
   "outputs": [
    {
     "data": {
      "image/png": "[encoded data removed]",
      "text/plain": [
       "<Figure size 1200x600 with 1 Axes>"
      ]
     },
     "metadata": {},
     "output_type": "display_data"
    }
   ],
   "source": [
    "import matplotlib.pyplot as plt\n",
    "import pandas as pd\n",
    "import numpy as np\n",
    "\n",
    "# Построение диаграммы\n",
    "plt.figure(figsize=(12, 6))\n",
    "for group_id, group_data in df_success.groupby('ExpId'):\n",
    "    plt.scatter(group_data['TimestampForHuman'], group_data['DeviceIDHash'], label=f'Group {group_id}', s=10, alpha=0.1)\n",
    "\n",
    "# Настройка внешнего вида графика\n",
    "plt.title('Event Sequence Chart for Different User Groups')\n",
    "plt.xlabel('Timestamp')\n",
    "plt.ylabel('User ID')\n",
    "plt.yticks(user_ids)\n",
    "plt.legend()\n",
    "plt.grid(True)\n",
    "\n",
    "# Отображение графика\n",
    "plt.show()"
   ]
  },
  {
   "cell_type": "code",
   "execution_count": 103,
   "id": "819082af-9bcd-4dc2-80b8-af218f3d3c78",
   "metadata": {},
   "outputs": [
    {
     "data": {
      "text/html": [
       "<div>\n",
       "<style scoped>\n",
       "    .dataframe tbody tr th:only-of-type {\n",
       "        vertical-align: middle;\n",
       "    }\n",
       "\n",
       "    .dataframe tbody tr th {\n",
       "        vertical-align: top;\n",
       "    }\n",
       "\n",
       "    .dataframe thead th {\n",
       "        text-align: right;\n",
       "    }\n",
       "</style>\n",
       "<table border=\"1\" class=\"dataframe\">\n",
       "  <thead>\n",
       "    <tr style=\"text-align: right;\">\n",
       "      <th></th>\n",
       "      <th>EventName</th>\n",
       "      <th>DeviceIDHash</th>\n",
       "      <th>EventTimestamp</th>\n",
       "      <th>ExpId</th>\n",
       "      <th>TimestampForHuman</th>\n",
       "    </tr>\n",
       "  </thead>\n",
       "  <tbody>\n",
       "    <tr>\n",
       "      <th>0</th>\n",
       "      <td>MainScreenAppear</td>\n",
       "      <td>4575588528974610257</td>\n",
       "      <td>1564029816</td>\n",
       "      <td>246</td>\n",
       "      <td>2019-07-25 04:43:36</td>\n",
       "    </tr>\n",
       "    <tr>\n",
       "      <th>1</th>\n",
       "      <td>MainScreenAppear</td>\n",
       "      <td>7416695313311560658</td>\n",
       "      <td>1564053102</td>\n",
       "      <td>246</td>\n",
       "      <td>2019-07-25 11:11:42</td>\n",
       "    </tr>\n",
       "    <tr>\n",
       "      <th>2</th>\n",
       "      <td>PaymentScreenSuccessful</td>\n",
       "      <td>3518123091307005509</td>\n",
       "      <td>1564054127</td>\n",
       "      <td>248</td>\n",
       "      <td>2019-07-25 11:28:47</td>\n",
       "    </tr>\n",
       "    <tr>\n",
       "      <th>3</th>\n",
       "      <td>CartScreenAppear</td>\n",
       "      <td>3518123091307005509</td>\n",
       "      <td>1564054127</td>\n",
       "      <td>248</td>\n",
       "      <td>2019-07-25 11:28:47</td>\n",
       "    </tr>\n",
       "    <tr>\n",
       "      <th>4</th>\n",
       "      <td>PaymentScreenSuccessful</td>\n",
       "      <td>6217807653094995999</td>\n",
       "      <td>1564055322</td>\n",
       "      <td>248</td>\n",
       "      <td>2019-07-25 11:48:42</td>\n",
       "    </tr>\n",
       "    <tr>\n",
       "      <th>...</th>\n",
       "      <td>...</td>\n",
       "      <td>...</td>\n",
       "      <td>...</td>\n",
       "      <td>...</td>\n",
       "      <td>...</td>\n",
       "    </tr>\n",
       "    <tr>\n",
       "      <th>244121</th>\n",
       "      <td>MainScreenAppear</td>\n",
       "      <td>4599628364049201812</td>\n",
       "      <td>1565212345</td>\n",
       "      <td>247</td>\n",
       "      <td>2019-08-07 21:12:25</td>\n",
       "    </tr>\n",
       "    <tr>\n",
       "      <th>244122</th>\n",
       "      <td>MainScreenAppear</td>\n",
       "      <td>5849806612437486590</td>\n",
       "      <td>1565212439</td>\n",
       "      <td>246</td>\n",
       "      <td>2019-08-07 21:13:59</td>\n",
       "    </tr>\n",
       "    <tr>\n",
       "      <th>244123</th>\n",
       "      <td>MainScreenAppear</td>\n",
       "      <td>5746969938801999050</td>\n",
       "      <td>1565212483</td>\n",
       "      <td>246</td>\n",
       "      <td>2019-08-07 21:14:43</td>\n",
       "    </tr>\n",
       "    <tr>\n",
       "      <th>244124</th>\n",
       "      <td>MainScreenAppear</td>\n",
       "      <td>5746969938801999050</td>\n",
       "      <td>1565212498</td>\n",
       "      <td>246</td>\n",
       "      <td>2019-08-07 21:14:58</td>\n",
       "    </tr>\n",
       "    <tr>\n",
       "      <th>244125</th>\n",
       "      <td>OffersScreenAppear</td>\n",
       "      <td>5746969938801999050</td>\n",
       "      <td>1565212517</td>\n",
       "      <td>246</td>\n",
       "      <td>2019-08-07 21:15:17</td>\n",
       "    </tr>\n",
       "  </tbody>\n",
       "</table>\n",
       "<p>244126 rows × 5 columns</p>\n",
       "</div>"
      ],
      "text/plain": [
       "                      EventName         DeviceIDHash  EventTimestamp  ExpId  \\\n",
       "0              MainScreenAppear  4575588528974610257      1564029816    246   \n",
       "1              MainScreenAppear  7416695313311560658      1564053102    246   \n",
       "2       PaymentScreenSuccessful  3518123091307005509      1564054127    248   \n",
       "3              CartScreenAppear  3518123091307005509      1564054127    248   \n",
       "4       PaymentScreenSuccessful  6217807653094995999      1564055322    248   \n",
       "...                         ...                  ...             ...    ...   \n",
       "244121         MainScreenAppear  4599628364049201812      1565212345    247   \n",
       "244122         MainScreenAppear  5849806612437486590      1565212439    246   \n",
       "244123         MainScreenAppear  5746969938801999050      1565212483    246   \n",
       "244124         MainScreenAppear  5746969938801999050      1565212498    246   \n",
       "244125       OffersScreenAppear  5746969938801999050      1565212517    246   \n",
       "\n",
       "         TimestampForHuman  \n",
       "0      2019-07-25 04:43:36  \n",
       "1      2019-07-25 11:11:42  \n",
       "2      2019-07-25 11:28:47  \n",
       "3      2019-07-25 11:28:47  \n",
       "4      2019-07-25 11:48:42  \n",
       "...                    ...  \n",
       "244121 2019-08-07 21:12:25  \n",
       "244122 2019-08-07 21:13:59  \n",
       "244123 2019-08-07 21:14:43  \n",
       "244124 2019-08-07 21:14:58  \n",
       "244125 2019-08-07 21:15:17  \n",
       "\n",
       "[244126 rows x 5 columns]"
      ]
     },
     "execution_count": 103,
     "metadata": {},
     "output_type": "execute_result"
    }
   ],
   "source": [
    "df"
   ]
  },
  {
   "cell_type": "markdown",
   "id": "5f5d2e47-7d83-45d1-90fb-a24f2b18a67e",
   "metadata": {},
   "source": [
    "# Выводы"
   ]
  },
  {
   "cell_type": "markdown",
   "id": "f97d3d9b-0bba-4acc-8bbf-f536b6a23cd7",
   "metadata": {},
   "source": []
  }
 ],
 "metadata": {
  "kernelspec": {
   "display_name": "Python 3 (ipykernel)",
   "language": "python",
   "name": "python3"
  },
  "language_info": {
   "codemirror_mode": {
    "name": "ipython",
    "version": 3
   },
   "file_extension": ".py",
   "mimetype": "text/x-python",
   "name": "python",
   "nbconvert_exporter": "python",
   "pygments_lexer": "ipython3",
   "version": "3.11.5"
  }
 },
 "nbformat": 4,
 "nbformat_minor": 5
}
