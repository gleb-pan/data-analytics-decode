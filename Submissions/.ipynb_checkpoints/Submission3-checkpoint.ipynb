{
 "cells": [
  {
   "cell_type": "code",
   "execution_count": 1,
   "id": "df4925f3-254f-4ef3-98e1-d1274fb08c93",
   "metadata": {},
   "outputs": [],
   "source": [
    "import pandas as pd\n",
    "df = pd.read_csv('../datasets/данные для домашнего задания.csv', sep='\\t')\n",
    "df_prev = pd.read_csv('../datasets/real_estate_data.csv', sep='\\t')"
   ]
  },
  {
   "cell_type": "code",
   "execution_count": 2,
   "id": "4a9e1c7f-d65f-4152-8b99-1928cb4a0144",
   "metadata": {},
   "outputs": [
    {
     "data": {
      "text/plain": [
       "True"
      ]
     },
     "execution_count": 2,
     "metadata": {},
     "output_type": "execute_result"
    }
   ],
   "source": [
    "df.equals(df_prev) # проверим не отличается ли наш датасет от датасета из предыдущих уроков\n",
    "# как мы видим они идентичны."
   ]
  },
  {
   "cell_type": "code",
   "execution_count": 3,
   "id": "54468781-dae7-4608-aaea-5ef3c5ca1d3d",
   "metadata": {
    "scrolled": true
   },
   "outputs": [
    {
     "name": "stdout",
     "output_type": "stream",
     "text": [
      "<class 'pandas.core.frame.DataFrame'>\n",
      "RangeIndex: 23699 entries, 0 to 23698\n",
      "Data columns (total 22 columns):\n",
      " #   Column                Non-Null Count  Dtype  \n",
      "---  ------                --------------  -----  \n",
      " 0   total_images          23699 non-null  int64  \n",
      " 1   last_price            23699 non-null  float64\n",
      " 2   total_area            23699 non-null  float64\n",
      " 3   first_day_exposition  23699 non-null  object \n",
      " 4   rooms                 23699 non-null  int64  \n",
      " 5   ceiling_height        14504 non-null  float64\n",
      " 6   floors_total          23613 non-null  float64\n",
      " 7   living_area           21796 non-null  float64\n",
      " 8   floor                 23699 non-null  int64  \n",
      " 9   is_apartment          2775 non-null   object \n",
      " 10  studio                23699 non-null  bool   \n",
      " 11  open_plan             23699 non-null  bool   \n",
      " 12  kitchen_area          21421 non-null  float64\n",
      " 13  balcony               12180 non-null  float64\n",
      " 14  locality_name         23650 non-null  object \n",
      " 15  airports_nearest      18157 non-null  float64\n",
      " 16  cityCenters_nearest   18180 non-null  float64\n",
      " 17  parks_around3000      18181 non-null  float64\n",
      " 18  parks_nearest         8079 non-null   float64\n",
      " 19  ponds_around3000      18181 non-null  float64\n",
      " 20  ponds_nearest         9110 non-null   float64\n",
      " 21  days_exposition       20518 non-null  float64\n",
      "dtypes: bool(2), float64(14), int64(3), object(3)\n",
      "memory usage: 3.7+ MB\n"
     ]
    }
   ],
   "source": [
    "df.info()"
   ]
  },
  {
   "cell_type": "code",
   "execution_count": 4,
   "id": "304b0082-6f5a-4705-8590-f687c16a7d04",
   "metadata": {
    "scrolled": true
   },
   "outputs": [
    {
     "name": "stdout",
     "output_type": "stream",
     "text": [
      "<class 'pandas.core.frame.DataFrame'>\n",
      "RangeIndex: 23699 entries, 0 to 23698\n",
      "Data columns (total 22 columns):\n",
      " #   Column                Non-Null Count  Dtype  \n",
      "---  ------                --------------  -----  \n",
      " 0   total_images          23699 non-null  int64  \n",
      " 1   last_price            23699 non-null  float64\n",
      " 2   total_area            23699 non-null  float64\n",
      " 3   first_day_exposition  23699 non-null  object \n",
      " 4   rooms                 23699 non-null  int64  \n",
      " 5   ceiling_height        14504 non-null  float64\n",
      " 6   floors_total          23613 non-null  float64\n",
      " 7   living_area           21796 non-null  float64\n",
      " 8   floor                 23699 non-null  int64  \n",
      " 9   is_apartment          2775 non-null   object \n",
      " 10  studio                23699 non-null  bool   \n",
      " 11  open_plan             23699 non-null  bool   \n",
      " 12  kitchen_area          21421 non-null  float64\n",
      " 13  balcony               12180 non-null  float64\n",
      " 14  locality_name         23650 non-null  object \n",
      " 15  airports_nearest      18157 non-null  float64\n",
      " 16  cityCenters_nearest   18180 non-null  float64\n",
      " 17  parks_around3000      18181 non-null  float64\n",
      " 18  parks_nearest         8079 non-null   float64\n",
      " 19  ponds_around3000      18181 non-null  float64\n",
      " 20  ponds_nearest         9110 non-null   float64\n",
      " 21  days_exposition       20518 non-null  float64\n",
      "dtypes: bool(2), float64(14), int64(3), object(3)\n",
      "memory usage: 3.7+ MB\n"
     ]
    }
   ],
   "source": [
    "df_prev.info()"
   ]
  },
  {
   "cell_type": "code",
   "execution_count": 5,
   "id": "935e96e3-b145-41b7-aa7a-45a31ebe8d7d",
   "metadata": {},
   "outputs": [
    {
     "data": {
      "text/plain": [
       "array([False])"
      ]
     },
     "execution_count": 5,
     "metadata": {},
     "output_type": "execute_result"
    }
   ],
   "source": [
    "df.duplicated().unique() # дубликатов так же нет\n",
    "# df[df.duplicated()]"
   ]
  },
  {
   "cell_type": "markdown",
   "id": "31c4d428-57a3-45e1-a680-92e751e95206",
   "metadata": {},
   "source": [
    "## Исходя из пунктов задания, мы будем работать с какими то конкретными столбцами\n",
    "\n",
    "А именно:\n",
    "области - locality_name (не полный)\n",
    "\n",
    "любой полностью заполненный столбец, например total_images\n",
    "\n",
    "цена - total_price (полный)\n",
    "\n",
    "кол-во комнат - rooms (полный)\n",
    "\n",
    "высота потолков - ceiling_height (не полный)\n",
    "\n",
    "продолжительность продажи - days_exposition (не полный)"
   ]
  },
  {
   "cell_type": "markdown",
   "id": "068b4a70-67e7-4ed4-b0d5-1d1e3780115b",
   "metadata": {},
   "source": [
    "Теперь нужно заполнить пустые значения для того чтобы было удобно работать с этими данными."
   ]
  },
  {
   "cell_type": "code",
   "execution_count": 6,
   "id": "3342223f-d20e-4c2f-96a4-a1fb291d0216",
   "metadata": {},
   "outputs": [
    {
     "name": "stdout",
     "output_type": "stream",
     "text": [
      "       total_images  last_price  total_area first_day_exposition  rooms  \\\n",
      "1097              3   8600000.0       81.70  2016-04-15T00:00:00      3   \n",
      "2033              6   5398000.0       80.00  2017-05-30T00:00:00      3   \n",
      "2603             20   3351765.0       42.70  2015-09-20T00:00:00      1   \n",
      "2632              2   5130593.0       62.40  2015-10-11T00:00:00      2   \n",
      "3574             10   4200000.0       46.50  2016-05-28T00:00:00      2   \n",
      "4151             17  17600000.0       89.50  2014-12-09T00:00:00      2   \n",
      "4189              7   9200000.0       80.00  2015-12-10T00:00:00      3   \n",
      "4670              1   5500000.0       83.00  2015-08-14T00:00:00      3   \n",
      "5343             19  13540000.0       85.50  2016-01-20T00:00:00      3   \n",
      "5707              7   3700000.0       30.00  2016-04-29T00:00:00      1   \n",
      "6765             20   4895892.0       60.70  2015-03-12T00:00:00      2   \n",
      "7114              5   4250000.0       56.00  2016-03-16T00:00:00      3   \n",
      "7330              8   5100000.0       63.00  2015-01-27T00:00:00      3   \n",
      "7600              8   6800000.0       70.00  2016-01-31T00:00:00      3   \n",
      "8568             10  16000000.0      155.00  2016-05-09T00:00:00      3   \n",
      "8986             10   4850000.0      103.10  2018-07-10T00:00:00      3   \n",
      "9821             13   8000000.0       94.50  2015-01-21T00:00:00      4   \n",
      "10122             5   8200000.0       83.00  2015-06-24T00:00:00      4   \n",
      "11248            12   6300000.0       63.10  2015-01-16T00:00:00      4   \n",
      "12879            12   4400000.0       39.20  2016-04-26T00:00:00      1   \n",
      "12936             6   6800000.0       73.00  2015-11-01T00:00:00      3   \n",
      "13223             1   2919911.0       29.40  2015-03-12T00:00:00      1   \n",
      "13690             7   3500000.0       71.00  2016-06-23T00:00:00      3   \n",
      "14273             2   4422000.0       60.00  2016-03-23T00:00:00      2   \n",
      "14342             3   3611000.0       53.50  2017-04-27T00:00:00      1   \n",
      "15686            13   4700000.0       44.00  2015-12-01T00:00:00      2   \n",
      "15866            10   3950000.0       44.00  2016-04-16T00:00:00      2   \n",
      "16499             2   4995573.0       56.90  2016-06-17T00:00:00      2   \n",
      "16561             3   2450000.0       30.00  2016-06-02T00:00:00      1   \n",
      "16610            11  11940000.0      112.00  2015-11-19T00:00:00      3   \n",
      "17535             2   5985000.0       79.80  2018-07-30T00:00:00      3   \n",
      "17764             9   8400000.0       94.00  2016-01-24T00:00:00      3   \n",
      "18526             3  10800000.0       86.00  2016-06-24T00:00:00      4   \n",
      "18917             3   2660000.0       37.99  2017-08-17T00:00:00      1   \n",
      "19045             6   4650000.0       48.00  2016-01-25T00:00:00      2   \n",
      "19972            20   4361004.0       62.40  2015-09-20T00:00:00      2   \n",
      "20057            13  11500000.0      102.00  2015-10-14T00:00:00      2   \n",
      "20382             8   1750000.0       72.90  2018-10-27T00:00:00      3   \n",
      "20590             7   3380000.0       56.00  2017-11-06T00:00:00      2   \n",
      "20654             7   6100000.0       43.00  2016-01-13T00:00:00      1   \n",
      "21119             8   3500000.0       43.20  2018-11-11T00:00:00      2   \n",
      "21276             0  17122148.0      178.30  2017-02-10T00:00:00      1   \n",
      "21333            10   5900000.0       58.00  2015-03-12T00:00:00      3   \n",
      "21715             2   6047550.0       80.10  2018-07-30T00:00:00      2   \n",
      "21898             2   5886750.0       83.50  2018-07-30T00:00:00      2   \n",
      "22474             7  24000000.0      128.00  2015-07-24T00:00:00      4   \n",
      "22717             9   3000000.0       35.00  2018-01-02T00:00:00      1   \n",
      "22933            20   3176015.0       33.30  2015-04-22T00:00:00      1   \n",
      "23214             3   7990000.0       56.00  2016-05-31T00:00:00      2   \n",
      "\n",
      "       ceiling_height  floors_total  living_area  floor is_apartment  ...  \\\n",
      "1097             3.55           5.0        50.80      2          NaN  ...   \n",
      "2033              NaN           4.0        42.60      2          NaN  ...   \n",
      "2603              NaN          24.0        15.60      3          NaN  ...   \n",
      "2632              NaN          24.0        33.10     21          NaN  ...   \n",
      "3574              NaN           5.0        30.80      5          NaN  ...   \n",
      "4151             3.00           8.0        39.62      7          NaN  ...   \n",
      "4189             4.00           4.0        52.30      3        False  ...   \n",
      "4670              NaN           7.0          NaN      6          NaN  ...   \n",
      "5343              NaN           7.0        59.10      5        False  ...   \n",
      "5707              NaN          24.0        20.00     23          NaN  ...   \n",
      "6765              NaN          24.0        31.90      3          NaN  ...   \n",
      "7114              NaN           5.0        40.00      4          NaN  ...   \n",
      "7330              NaN           5.0        42.00      1        False  ...   \n",
      "7600              NaN          11.0        42.00      9          NaN  ...   \n",
      "8568              NaN           6.0        94.00      3          NaN  ...   \n",
      "8986              NaN           NaN        68.10      4          NaN  ...   \n",
      "9821             3.00           2.0        57.80      2          NaN  ...   \n",
      "10122             NaN           5.0        53.00      2          NaN  ...   \n",
      "11248             NaN           8.0        44.00      7          NaN  ...   \n",
      "12879             NaN          12.0        20.00     12        False  ...   \n",
      "12936             NaN           5.0        53.10      2          NaN  ...   \n",
      "13223            2.75          24.0        21.10      2          NaN  ...   \n",
      "13690            2.75           2.0        45.60      1        False  ...   \n",
      "14273            2.75          23.0        32.00     14          NaN  ...   \n",
      "14342             NaN           4.0        25.80      3        False  ...   \n",
      "15686             NaN           5.0        28.00      3          NaN  ...   \n",
      "15866            2.70           5.0        28.50      5        False  ...   \n",
      "16499             NaN          24.0        29.20     14          NaN  ...   \n",
      "16561             NaN           4.0        17.00      2          NaN  ...   \n",
      "16610            3.00           5.0        64.00      2          NaN  ...   \n",
      "17535             NaN           9.0          NaN      2        False  ...   \n",
      "17764             NaN          23.0        52.00      5          NaN  ...   \n",
      "18526            3.20           7.0        48.00      2          NaN  ...   \n",
      "18917             NaN           4.0        13.00      1          NaN  ...   \n",
      "19045            3.12           5.0        26.20      1        False  ...   \n",
      "19972             NaN          24.0        33.10     21          NaN  ...   \n",
      "20057             NaN           5.0        70.00      2          NaN  ...   \n",
      "20382             NaN           5.0        47.30      2          NaN  ...   \n",
      "20590            2.70           4.0        29.00      3          NaN  ...   \n",
      "20654             NaN           5.0        21.00      3          NaN  ...   \n",
      "21119             NaN           4.0          NaN      2          NaN  ...   \n",
      "21276             NaN           3.0          NaN      1          NaN  ...   \n",
      "21333             NaN           6.0        35.20      6        False  ...   \n",
      "21715             NaN           9.0        30.50      2        False  ...   \n",
      "21898             NaN           9.0        36.60      2        False  ...   \n",
      "22474            2.75           6.0        68.40      6        False  ...   \n",
      "22717            2.60          16.0        16.00      7        False  ...   \n",
      "22933             NaN          23.0        15.40     22          NaN  ...   \n",
      "23214             NaN           6.0          NaN      5        False  ...   \n",
      "\n",
      "       kitchen_area  balcony  locality_name  airports_nearest  \\\n",
      "1097           8.80      0.0     Неизвестно           23478.0   \n",
      "2033          18.60      0.0     Неизвестно               NaN   \n",
      "2603          10.70      0.0     Неизвестно           22041.0   \n",
      "2632           8.20      0.0     Неизвестно           22041.0   \n",
      "3574           6.50      0.0     Неизвестно           27419.0   \n",
      "4151          13.38      0.0     Неизвестно           25054.0   \n",
      "4189          10.40      0.0     Неизвестно           21774.0   \n",
      "4670            NaN      0.0     Неизвестно           26534.0   \n",
      "5343           8.30      4.0     Неизвестно           10556.0   \n",
      "5707            NaN      0.0     Неизвестно           21460.0   \n",
      "6765          12.20      0.0     Неизвестно           22041.0   \n",
      "7114           6.00      0.0     Неизвестно           14031.0   \n",
      "7330           7.50      0.0     Неизвестно           25925.0   \n",
      "7600          11.00      1.0     Неизвестно           37123.0   \n",
      "8568          23.00      0.0     Неизвестно           24233.0   \n",
      "8986          16.70      NaN     Неизвестно           19659.0   \n",
      "9821          11.30      0.0     Неизвестно           24953.0   \n",
      "10122         10.00      0.0     Неизвестно           25771.0   \n",
      "11248          8.70      0.0     Неизвестно           25221.0   \n",
      "12879          7.90      0.0     Неизвестно           37123.0   \n",
      "12936          8.20      0.0     Неизвестно           25680.0   \n",
      "13223           NaN      0.0     Неизвестно           22041.0   \n",
      "13690          8.00      2.0     Неизвестно           20234.0   \n",
      "14273         11.90      0.0     Неизвестно           22041.0   \n",
      "14342           NaN      1.0     Неизвестно               NaN   \n",
      "15686          5.00      0.0     Неизвестно           35920.0   \n",
      "15866          5.50      1.0     Неизвестно           36380.0   \n",
      "16499         10.90      0.0     Неизвестно           22041.0   \n",
      "16561          6.00      1.0     Неизвестно           21731.0   \n",
      "16610         23.00      0.0     Неизвестно           21219.0   \n",
      "17535           NaN      NaN     Неизвестно               NaN   \n",
      "17764           NaN      0.0     Неизвестно           36865.0   \n",
      "18526         12.00      0.0     Неизвестно           11206.0   \n",
      "18917         12.40      0.0     Неизвестно           21540.0   \n",
      "19045          8.00      0.0     Неизвестно           21654.0   \n",
      "19972          8.20      0.0     Неизвестно           22041.0   \n",
      "20057           NaN      0.0     Неизвестно           23478.0   \n",
      "20382          8.30      NaN     Неизвестно               NaN   \n",
      "20590         10.00      1.0     Неизвестно               NaN   \n",
      "20654         12.00      1.0     Неизвестно           24385.0   \n",
      "21119           NaN      NaN     Неизвестно           19744.0   \n",
      "21276         41.60      1.0     Неизвестно           60195.0   \n",
      "21333         11.00      0.0     Неизвестно           26090.0   \n",
      "21715         29.20      NaN     Неизвестно               NaN   \n",
      "21898         29.70      NaN     Неизвестно               NaN   \n",
      "22474         16.50      0.0     Неизвестно           23297.0   \n",
      "22717         10.00      1.0     Неизвестно               NaN   \n",
      "22933          9.00      0.0     Неизвестно           22041.0   \n",
      "23214           NaN      0.0     Неизвестно           11206.0   \n",
      "\n",
      "      cityCenters_nearest  parks_around3000  parks_nearest  ponds_around3000  \\\n",
      "1097               4258.0               0.0            NaN               0.0   \n",
      "2033                  NaN               NaN            NaN               NaN   \n",
      "2603              17369.0               0.0            NaN               1.0   \n",
      "2632              17369.0               0.0            NaN               1.0   \n",
      "3574               8127.0               0.0            NaN               1.0   \n",
      "4151               3902.0               1.0          485.0               3.0   \n",
      "4189               3039.0               1.0          690.0               1.0   \n",
      "4670               5382.0               1.0          446.0               1.0   \n",
      "5343               9538.0               1.0           67.0               0.0   \n",
      "5707              16788.0               0.0            NaN               1.0   \n",
      "6765              17369.0               0.0            NaN               1.0   \n",
      "7114               8582.0               0.0            NaN               0.0   \n",
      "7330               4627.0               2.0          459.0               0.0   \n",
      "7600              12332.0               0.0            NaN               0.0   \n",
      "8568               4065.0               1.0          547.0               0.0   \n",
      "8986              31813.0               0.0            NaN               0.0   \n",
      "9821               3801.0               1.0          375.0               2.0   \n",
      "10122              4474.0               2.0          374.0               0.0   \n",
      "11248              4069.0               0.0            NaN               2.0   \n",
      "12879             12332.0               0.0            NaN               0.0   \n",
      "12936              4383.0               3.0          336.0               0.0   \n",
      "13223             17369.0               0.0            NaN               1.0   \n",
      "13690             23659.0               0.0            NaN               2.0   \n",
      "14273             17369.0               0.0            NaN               1.0   \n",
      "14342                 NaN               NaN            NaN               NaN   \n",
      "15686              9633.0               2.0          472.0               3.0   \n",
      "15866              9497.0               1.0          634.0               3.0   \n",
      "16499             17369.0               0.0            NaN               1.0   \n",
      "16561              8619.0               0.0            NaN               3.0   \n",
      "16610              1322.0               1.0          740.0               3.0   \n",
      "17535                 NaN               NaN            NaN               NaN   \n",
      "17764             10976.0               0.0            NaN               1.0   \n",
      "18526              8943.0               0.0            NaN               0.0   \n",
      "18917              8429.0               0.0            NaN               3.0   \n",
      "19045              3312.0               1.0          549.0               1.0   \n",
      "19972             17369.0               0.0            NaN               1.0   \n",
      "20057              4258.0               0.0            NaN               0.0   \n",
      "20382                 NaN               NaN            NaN               NaN   \n",
      "20590                 NaN               NaN            NaN               NaN   \n",
      "20654              4604.0               1.0          700.0               0.0   \n",
      "21119             31897.0               0.0            NaN               0.0   \n",
      "21276             41294.0               0.0            NaN               0.0   \n",
      "21333              4805.0               0.0            NaN               1.0   \n",
      "21715                 NaN               NaN            NaN               NaN   \n",
      "21898                 NaN               NaN            NaN               NaN   \n",
      "22474              1780.0               3.0          277.0               3.0   \n",
      "22717                 NaN               NaN            NaN               NaN   \n",
      "22933             17369.0               0.0            NaN               1.0   \n",
      "23214              8943.0               0.0            NaN               0.0   \n",
      "\n",
      "       ponds_nearest  days_exposition  \n",
      "1097             NaN            147.0  \n",
      "2033             NaN             34.0  \n",
      "2603           374.0            276.0  \n",
      "2632           374.0            256.0  \n",
      "3574           603.0             45.0  \n",
      "4151           722.0            869.0  \n",
      "4189           953.0            223.0  \n",
      "4670           376.0            350.0  \n",
      "5343             NaN            303.0  \n",
      "5707           170.0             49.0  \n",
      "6765           374.0            468.0  \n",
      "7114             NaN             96.0  \n",
      "7330             NaN            566.0  \n",
      "7600             NaN            209.0  \n",
      "8568             NaN            248.0  \n",
      "8986             NaN             28.0  \n",
      "9821           532.0            531.0  \n",
      "10122            NaN            364.0  \n",
      "11248          653.0            551.0  \n",
      "12879            NaN            179.0  \n",
      "12936            NaN            542.0  \n",
      "13223          374.0            470.0  \n",
      "13690          296.0             92.0  \n",
      "14273          374.0             90.0  \n",
      "14342            NaN             92.0  \n",
      "15686          535.0            280.0  \n",
      "15866          513.0             85.0  \n",
      "16499          374.0              4.0  \n",
      "16561          162.0            140.0  \n",
      "16610          365.0            319.0  \n",
      "17535            NaN            213.0  \n",
      "17764          856.0            305.0  \n",
      "18526            NaN             65.0  \n",
      "18917          142.0             15.0  \n",
      "19045          858.0            254.0  \n",
      "19972          374.0            278.0  \n",
      "20057            NaN            325.0  \n",
      "20382            NaN              NaN  \n",
      "20590            NaN             78.0  \n",
      "20654            NaN            164.0  \n",
      "21119            NaN              9.0  \n",
      "21276            NaN              4.0  \n",
      "21333          943.0            486.0  \n",
      "21715            NaN            176.0  \n",
      "21898            NaN            169.0  \n",
      "22474          561.0            436.0  \n",
      "22717            NaN             75.0  \n",
      "22933          374.0            427.0  \n",
      "23214            NaN             70.0  \n",
      "\n",
      "[49 rows x 22 columns]\n"
     ]
    }
   ],
   "source": [
    "# выше я произвел и записал анализ используемых нами столбцов и предварительно отсеял полные и не полные\n",
    "# теперь постараемся визуально понять природу пропущенных значений\n",
    "# начнем с locality_name\n",
    "\n",
    "nan_locality_name = df['locality_name'].isnull() # 49 строк являются NaN\n",
    "# print(df[nan_locality_name])\n",
    "\n",
    "# скорее всего эти значения были пропущены, в смысле их забыли запонить либо что-то помешало заполнить их итд.\n",
    "# Данное поле не может быть не запоненным, поэтому я заменю NaN на слово \"Неизвестно\"\n",
    "# чтобы эти поля соответствовали типу данных str\n",
    "\n",
    "df['locality_name'] = df['locality_name'].fillna('Неизвестно')\n",
    "print(df[nan_locality_name]) # все получилось"
   ]
  },
  {
   "cell_type": "code",
   "execution_count": 15,
   "id": "7228e07b-f382-4fd7-8602-5ed937b3ea13",
   "metadata": {},
   "outputs": [
    {
     "data": {
      "text/plain": [
       "<Axes: ylabel='ceiling_height'>"
      ]
     },
     "execution_count": 15,
     "metadata": {},
     "output_type": "execute_result"
    },
    {
     "data": {
      "image/png": "[encoded data removed]",
      "text/plain": [
       "<Figure size 640x480 with 1 Axes>"
      ]
     },
     "metadata": {},
     "output_type": "display_data"
    }
   ],
   "source": [
    "# аналогично проверяем ceiling_height\n",
    "import seaborn as sns\n",
    "nan_ceiling_height = df['ceiling_height'].isnull()\n",
    "# print(df[nan_ceiling_height]) # у нас имеется 9195 рядов где высота потолка NaN\n",
    "\n",
    "# проверим есть ли выбросы\n",
    "sns.boxplot(df['ceiling_height'])"
   ]
  },
  {
   "cell_type": "code",
   "execution_count": null,
   "id": "0cb9ac5f-2e31-4429-8145-0029f9b408e4",
   "metadata": {},
   "outputs": [],
   "source": [
    "median_val = df['ceiling_height'].median() # правильнее всего будет взять медиану, чтобы выбросы не портили результат\n",
    "df['ceiling_height'] = df['ceiling_height'].fillna(median_val)\n",
    "df"
   ]
  },
  {
   "cell_type": "code",
   "execution_count": 18,
   "id": "7b26cf38-ba03-4972-aec5-69362bb28e16",
   "metadata": {},
   "outputs": [
    {
     "data": {
      "text/plain": [
       "<Axes: ylabel='days_exposition'>"
      ]
     },
     "execution_count": 18,
     "metadata": {},
     "output_type": "execute_result"
    },
    {
     "data": {
      "image/png": "[encoded data removed]",
      "text/plain": [
       "<Figure size 640x480 with 1 Axes>"
      ]
     },
     "metadata": {},
     "output_type": "display_data"
    }
   ],
   "source": [
    "# days_exposition\n",
    "\n",
    "nan_days_exposition = df['days_exposition'].isnull()\n",
    "# print(df[nan_days_exposition]) # 3181 rows are NaN\n",
    "\n",
    "# проверим выбросы\n",
    "sns.boxplot(df['days_exposition']) # как мы видим они есть"
   ]
  },
  {
   "cell_type": "code",
   "execution_count": 19,
   "id": "3316201f-7f74-4a25-b176-28d5ac05c954",
   "metadata": {},
   "outputs": [
    {
     "data": {
      "text/plain": [
       "<Axes: xlabel='days_exposition'>"
      ]
     },
     "execution_count": 19,
     "metadata": {},
     "output_type": "execute_result"
    },
    {
     "data": {
      "image/png": "[encoded data removed]",
      "text/plain": [
       "<Figure size 640x480 with 1 Axes>"
      ]
     },
     "metadata": {},
     "output_type": "display_data"
    }
   ],
   "source": [
    "# уменьшим диапазон чтобы рассмотреть подробнее\n",
    "sns.boxplot(df.query('days_exposition < 250')['days_exposition'], orient='h')\n",
    "\n",
    "# как мы видим большинство значений находится в диапазоне от 40 до 125 (примерно)"
   ]
  },
  {
   "cell_type": "code",
   "execution_count": 23,
   "id": "f59fee73-7e89-4881-8f1c-311f00bcd961",
   "metadata": {},
   "outputs": [],
   "source": [
    "median_days = df['days_exposition'].median() # опять так будет лучше взять медиану\n",
    "# print(median_days)\n",
    "df['days_exposition'] = df['days_exposition'].fillna(median_days)"
   ]
  },
  {
   "cell_type": "code",
   "execution_count": 24,
   "id": "6e8bd152-91e0-4664-a776-143926eb3170",
   "metadata": {},
   "outputs": [
    {
     "name": "stdout",
     "output_type": "stream",
     "text": [
      "<class 'pandas.core.frame.DataFrame'>\n",
      "RangeIndex: 23699 entries, 0 to 23698\n",
      "Data columns (total 22 columns):\n",
      " #   Column                Non-Null Count  Dtype  \n",
      "---  ------                --------------  -----  \n",
      " 0   total_images          23699 non-null  int64  \n",
      " 1   last_price            23699 non-null  float64\n",
      " 2   total_area            23699 non-null  float64\n",
      " 3   first_day_exposition  23699 non-null  object \n",
      " 4   rooms                 23699 non-null  int64  \n",
      " 5   ceiling_height        23699 non-null  float64\n",
      " 6   floors_total          23613 non-null  float64\n",
      " 7   living_area           21796 non-null  float64\n",
      " 8   floor                 23699 non-null  int64  \n",
      " 9   is_apartment          2775 non-null   object \n",
      " 10  studio                23699 non-null  bool   \n",
      " 11  open_plan             23699 non-null  bool   \n",
      " 12  kitchen_area          21421 non-null  float64\n",
      " 13  balcony               12180 non-null  float64\n",
      " 14  locality_name         23699 non-null  object \n",
      " 15  airports_nearest      18157 non-null  float64\n",
      " 16  cityCenters_nearest   18180 non-null  float64\n",
      " 17  parks_around3000      18181 non-null  float64\n",
      " 18  parks_nearest         8079 non-null   float64\n",
      " 19  ponds_around3000      18181 non-null  float64\n",
      " 20  ponds_nearest         9110 non-null   float64\n",
      " 21  days_exposition       23699 non-null  float64\n",
      "dtypes: bool(2), float64(14), int64(3), object(3)\n",
      "memory usage: 3.7+ MB\n"
     ]
    }
   ],
   "source": [
    "df.info() # мы закончили, теперь проверим наполненность наших коллон"
   ]
  },
  {
   "cell_type": "markdown",
   "id": "22a107fd-d7b9-4460-83d8-31b88cae339d",
   "metadata": {},
   "source": [
    "1.      Предобработайте данные и сделайте первоначальные выводы\n",
    "\n",
    "2.      Посчитайте количество объявлений по областям\n",
    "\n",
    "3.      Посчитайте суммарную стоимость недвижимостей по областям\n",
    "\n",
    "4.      Посчитайте среднее количество комнат, сгруппированных по областям\n",
    "\n",
    "5.      Посчитайте среднюю сумму стоимости квартиры сгруппированных по областям\n",
    "\n",
    "6.      Посчитайте среднюю высоту потолков сгруппированных по областям\n",
    "\n",
    "7.      Посчитайте среднюю стоимость квартир сгруппированных по количеству комнат\n",
    "\n",
    "8.      Посчитайте среднюю продолжительность продажи сгруппированных по областям\n",
    "\n",
    "9.      Теперь оставьте только те данные, в области которых, количество объявлений больше 50 *"
   ]
  },
  {
   "cell_type": "code",
   "execution_count": null,
   "id": "d4e3d6a2-a542-4cbe-bf47-a6fda3f414e1",
   "metadata": {},
   "outputs": [],
   "source": []
  }
 ],
 "metadata": {
  "kernelspec": {
   "display_name": "Python 3 (ipykernel)",
   "language": "python",
   "name": "python3"
  },
  "language_info": {
   "codemirror_mode": {
    "name": "ipython",
    "version": 3
   },
   "file_extension": ".py",
   "mimetype": "text/x-python",
   "name": "python",
   "nbconvert_exporter": "python",
   "pygments_lexer": "ipython3",
   "version": "3.11.5"
  }
 },
 "nbformat": 4,
 "nbformat_minor": 5
}
