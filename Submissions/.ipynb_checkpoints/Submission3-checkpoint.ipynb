{
 "cells": [
  {
   "cell_type": "markdown",
   "id": "753c2d6b-f542-447e-82ff-85663ca09b76",
   "metadata": {},
   "source": [
    "1.      Предобработайте данные и сделайте первоначальные выводы\n",
    "\n",
    "2.      Посчитайте количество объявлений по областям\n",
    "\n",
    "3.      Посчитайте суммарную стоимость недвижимостей по областям\n",
    "\n",
    "4.      Посчитайте среднее количество комнат, сгруппированных по областям\n",
    "\n",
    "5.      Посчитайте среднюю сумму стоимости квартиры сгруппированных по областям\n",
    "\n",
    "6.      Посчитайте среднюю высоту потолков сгруппированных по областям\n",
    "\n",
    "7.      Посчитайте среднюю стоимость квартир сгруппированных по количеству комнат\n",
    "\n",
    "8.      Посчитайте среднюю продолжительность продажи сгруппированных по областям\n",
    "\n",
    "9.      Теперь оставьте только те данные, в области которых, количество объявлений больше 50 *"
   ]
  },
  {
   "cell_type": "code",
   "execution_count": 3,
   "id": "df4925f3-254f-4ef3-98e1-d1274fb08c93",
   "metadata": {},
   "outputs": [],
   "source": [
    "import pandas as pd\n",
    "df = pd.read_csv('../datasets/данные для домашнего задания.csv', sep='\\t')\n",
    "df_prev = pd.read_csv('../datasets/real_estate_data.csv', sep='\\t')"
   ]
  },
  {
   "cell_type": "code",
   "execution_count": 4,
   "id": "4a9e1c7f-d65f-4152-8b99-1928cb4a0144",
   "metadata": {},
   "outputs": [
    {
     "data": {
      "text/plain": [
       "True"
      ]
     },
     "execution_count": 4,
     "metadata": {},
     "output_type": "execute_result"
    }
   ],
   "source": [
    "df.equals(df_prev) # проверим не отличается ли наш датасет от датасета из предыдущих уроков\n",
    "# как мы видим они идентичны."
   ]
  },
  {
   "cell_type": "code",
   "execution_count": 5,
   "id": "54468781-dae7-4608-aaea-5ef3c5ca1d3d",
   "metadata": {
    "scrolled": true
   },
   "outputs": [
    {
     "name": "stdout",
     "output_type": "stream",
     "text": [
      "<class 'pandas.core.frame.DataFrame'>\n",
      "RangeIndex: 23699 entries, 0 to 23698\n",
      "Data columns (total 22 columns):\n",
      " #   Column                Non-Null Count  Dtype  \n",
      "---  ------                --------------  -----  \n",
      " 0   total_images          23699 non-null  int64  \n",
      " 1   last_price            23699 non-null  float64\n",
      " 2   total_area            23699 non-null  float64\n",
      " 3   first_day_exposition  23699 non-null  object \n",
      " 4   rooms                 23699 non-null  int64  \n",
      " 5   ceiling_height        14504 non-null  float64\n",
      " 6   floors_total          23613 non-null  float64\n",
      " 7   living_area           21796 non-null  float64\n",
      " 8   floor                 23699 non-null  int64  \n",
      " 9   is_apartment          2775 non-null   object \n",
      " 10  studio                23699 non-null  bool   \n",
      " 11  open_plan             23699 non-null  bool   \n",
      " 12  kitchen_area          21421 non-null  float64\n",
      " 13  balcony               12180 non-null  float64\n",
      " 14  locality_name         23650 non-null  object \n",
      " 15  airports_nearest      18157 non-null  float64\n",
      " 16  cityCenters_nearest   18180 non-null  float64\n",
      " 17  parks_around3000      18181 non-null  float64\n",
      " 18  parks_nearest         8079 non-null   float64\n",
      " 19  ponds_around3000      18181 non-null  float64\n",
      " 20  ponds_nearest         9110 non-null   float64\n",
      " 21  days_exposition       20518 non-null  float64\n",
      "dtypes: bool(2), float64(14), int64(3), object(3)\n",
      "memory usage: 3.7+ MB\n"
     ]
    }
   ],
   "source": [
    "df.info()"
   ]
  },
  {
   "cell_type": "code",
   "execution_count": 6,
   "id": "304b0082-6f5a-4705-8590-f687c16a7d04",
   "metadata": {
    "scrolled": true
   },
   "outputs": [
    {
     "name": "stdout",
     "output_type": "stream",
     "text": [
      "<class 'pandas.core.frame.DataFrame'>\n",
      "RangeIndex: 23699 entries, 0 to 23698\n",
      "Data columns (total 22 columns):\n",
      " #   Column                Non-Null Count  Dtype  \n",
      "---  ------                --------------  -----  \n",
      " 0   total_images          23699 non-null  int64  \n",
      " 1   last_price            23699 non-null  float64\n",
      " 2   total_area            23699 non-null  float64\n",
      " 3   first_day_exposition  23699 non-null  object \n",
      " 4   rooms                 23699 non-null  int64  \n",
      " 5   ceiling_height        14504 non-null  float64\n",
      " 6   floors_total          23613 non-null  float64\n",
      " 7   living_area           21796 non-null  float64\n",
      " 8   floor                 23699 non-null  int64  \n",
      " 9   is_apartment          2775 non-null   object \n",
      " 10  studio                23699 non-null  bool   \n",
      " 11  open_plan             23699 non-null  bool   \n",
      " 12  kitchen_area          21421 non-null  float64\n",
      " 13  balcony               12180 non-null  float64\n",
      " 14  locality_name         23650 non-null  object \n",
      " 15  airports_nearest      18157 non-null  float64\n",
      " 16  cityCenters_nearest   18180 non-null  float64\n",
      " 17  parks_around3000      18181 non-null  float64\n",
      " 18  parks_nearest         8079 non-null   float64\n",
      " 19  ponds_around3000      18181 non-null  float64\n",
      " 20  ponds_nearest         9110 non-null   float64\n",
      " 21  days_exposition       20518 non-null  float64\n",
      "dtypes: bool(2), float64(14), int64(3), object(3)\n",
      "memory usage: 3.7+ MB\n"
     ]
    }
   ],
   "source": [
    "df_prev.info()"
   ]
  },
  {
   "cell_type": "code",
   "execution_count": 7,
   "id": "935e96e3-b145-41b7-aa7a-45a31ebe8d7d",
   "metadata": {},
   "outputs": [
    {
     "data": {
      "text/plain": [
       "array([False])"
      ]
     },
     "execution_count": 7,
     "metadata": {},
     "output_type": "execute_result"
    }
   ],
   "source": [
    "df.duplicated().unique() # дубликатов так же нет\n",
    "# df[df.duplicated()]"
   ]
  },
  {
   "cell_type": "markdown",
   "id": "31c4d428-57a3-45e1-a680-92e751e95206",
   "metadata": {},
   "source": [
    "Исходя из пунктов задания, мы будем работать с какими то конкретными столбцами\n",
    "\n",
    "А именно:\n",
    "области - locality_name (не полный)\n",
    "любой полностью заполненный столбец, например total_images\n",
    "цена - total_price (полный)\n",
    "кол-во комнат - rooms (полный)\n",
    "высота потолков - ceiling_height (не полный)\n",
    "продолжительность продажи - days_exposition (не полный)"
   ]
  },
  {
   "cell_type": "markdown",
   "id": "068b4a70-67e7-4ed4-b0d5-1d1e3780115b",
   "metadata": {},
   "source": [
    "Теперь нужно заполнить пустые значения для того чтобы было удобно работать с этими данными."
   ]
  },
  {
   "cell_type": "code",
   "execution_count": 29,
   "id": "3342223f-d20e-4c2f-96a4-a1fb291d0216",
   "metadata": {},
   "outputs": [
    {
     "name": "stdout",
     "output_type": "stream",
     "text": [
      "Empty DataFrame\n",
      "Columns: [total_images, last_price, total_area, first_day_exposition, rooms, ceiling_height, floors_total, living_area, floor, is_apartment, studio, open_plan, kitchen_area, balcony, locality_name, airports_nearest, cityCenters_nearest, parks_around3000, parks_nearest, ponds_around3000, ponds_nearest, days_exposition]\n",
      "Index: []\n",
      "\n",
      "[0 rows x 22 columns]\n"
     ]
    }
   ],
   "source": [
    "# для начала найдем их и постараемся визуально понять природу пропущенных значений\n",
    "\n",
    "nan_locality_name = df['locality_name'].isnull()\n",
    "# print(df[nan_locality_name])\n",
    "\n",
    "# скорее всего эти значения были пропущены, в смысле их забыли запонить либо что-то помешало заполнить их итд.\n",
    "# Данное поле не может быть не запоненным, поэтому заменю NaN на слово \"Неизвестно\"\n",
    "# чтобы эти поля соответствовали типу данных str\n",
    "\n",
    "df['locality_name'] = df['locality_name'].fillna('Неизвестно')\n",
    "print(df[nan_locality_name]) # все получилось"
   ]
  },
  {
   "cell_type": "code",
   "execution_count": null,
   "id": "7228e07b-f382-4fd7-8602-5ed937b3ea13",
   "metadata": {},
   "outputs": [],
   "source": []
  }
 ],
 "metadata": {
  "kernelspec": {
   "display_name": "Python 3 (ipykernel)",
   "language": "python",
   "name": "python3"
  },
  "language_info": {
   "codemirror_mode": {
    "name": "ipython",
    "version": 3
   },
   "file_extension": ".py",
   "mimetype": "text/x-python",
   "name": "python",
   "nbconvert_exporter": "python",
   "pygments_lexer": "ipython3",
   "version": "3.11.5"
  }
 },
 "nbformat": 4,
 "nbformat_minor": 5
}
