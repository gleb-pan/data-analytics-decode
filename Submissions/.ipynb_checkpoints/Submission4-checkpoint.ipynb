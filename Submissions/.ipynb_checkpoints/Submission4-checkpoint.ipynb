{
 "cells": [
  {
   "cell_type": "markdown",
   "id": "c66a8925-8d0c-494c-8e4a-5693c58af79b",
   "metadata": {},
   "source": [
    "# 1. Напишите функцию, которая прибавит 25 к числу, которое в него входит"
   ]
  },
  {
   "cell_type": "code",
   "execution_count": 1,
   "id": "c9f07707-8e00-4781-b66c-3c4e53b94cc2",
   "metadata": {},
   "outputs": [],
   "source": [
    "def add_twenty_five(number):\n",
    "    return number + 25"
   ]
  },
  {
   "cell_type": "code",
   "execution_count": 2,
   "id": "ec61f46e-ceb2-4e5b-a6bb-e17635b8160d",
   "metadata": {},
   "outputs": [
    {
     "name": "stdout",
     "output_type": "stream",
     "text": [
      "55\n"
     ]
    }
   ],
   "source": [
    "test = add_twenty_five(30)\n",
    "print(test)"
   ]
  },
  {
   "cell_type": "markdown",
   "id": "19ea0a7e-dff1-476f-a277-09d57eea4b69",
   "metadata": {},
   "source": [
    "# 2. Напишите функцию, которая прибавит ваше имя к тексту \"Добрый день! Дорогой/Дорогая: \""
   ]
  },
  {
   "cell_type": "code",
   "execution_count": 3,
   "id": "648bec49-00f7-4a31-a415-0f30749dd2d4",
   "metadata": {},
   "outputs": [],
   "source": [
    "def hello(name):\n",
    "    output = f\"Добрый день, {name}!\"\n",
    "    print(output)"
   ]
  },
  {
   "cell_type": "code",
   "execution_count": 4,
   "id": "5947c266-64b5-48a9-82ed-a210e758753f",
   "metadata": {},
   "outputs": [
    {
     "name": "stdout",
     "output_type": "stream",
     "text": [
      "Добрый день, Касым-Жомарт!\n"
     ]
    }
   ],
   "source": [
    "hello('Касым-Жомарт')"
   ]
  },
  {
   "cell_type": "markdown",
   "id": "19aeb455-c716-4bf4-9af1-6d149eb5f880",
   "metadata": {},
   "source": [
    "# 3. Попробуйте написать функцию которая будет приветствовать человека И далее можете сами пофантазировать (Задача со звёздочкой)"
   ]
  },
  {
   "cell_type": "code",
   "execution_count": 27,
   "id": "083a4be8-33f1-4c40-8308-974775e87cf9",
   "metadata": {},
   "outputs": [],
   "source": [
    "# Переовод температуры из кельвинов в градусы Цельсия\n",
    "def kelvin_to_celsius(temp):\n",
    "    print('Привет, кто бы ты ни был!\\n')\n",
    "    result = round(temp - 273.15, 2)\n",
    "    print(f'{temp} K = {result} degrees Celsius')"
   ]
  },
  {
   "cell_type": "code",
   "execution_count": 28,
   "id": "6e00288f-b655-47b2-b0ce-458ee413179e",
   "metadata": {},
   "outputs": [
    {
     "name": "stdout",
     "output_type": "stream",
     "text": [
      "Привет, кто бы ты ни был!\n",
      "\n",
      "289 K = 15.85 degrees Celsius\n"
     ]
    }
   ],
   "source": [
    "kelvin_to_celsius(289)"
   ]
  },
  {
   "cell_type": "markdown",
   "id": "f94a4a02-49c0-4f48-bfe9-f9a9a4dcb151",
   "metadata": {},
   "source": [
    "# 4. Напишите функцию, которая переведет указанные слова на русский язык: Hello - Привет, Five - Пять, Tree - Дерево. (Используйте операторы условия if else.)"
   ]
  },
  {
   "cell_type": "code",
   "execution_count": 18,
   "id": "7012c016-92b7-456d-ab3e-9407faa626c4",
   "metadata": {},
   "outputs": [],
   "source": [
    "def translate(word):\n",
    "    temp = word.lower()\n",
    "    dictionary = {'hello': 'Привет', 'five': 'Пять', 'tree': 'Дерево'}\n",
    "\n",
    "    if temp in dictionary:\n",
    "        output = f\"{word.capitalize()}(ENG) - {dictionary[temp]}(RU)\"\n",
    "        print(output)\n",
    "    else:\n",
    "        print('Перевод недоступен')"
   ]
  },
  {
   "cell_type": "code",
   "execution_count": 19,
   "id": "c0a8c3d0-0119-4ef0-bf21-a2d193cecb7c",
   "metadata": {},
   "outputs": [
    {
     "name": "stdout",
     "output_type": "stream",
     "text": [
      "Tree(ENG) - Дерево(RU)\n",
      "Five(ENG) - Пять(RU)\n",
      "Hello(ENG) - Привет(RU)\n",
      "Перевод недоступен\n"
     ]
    }
   ],
   "source": [
    "translate('tree')\n",
    "translate('five')\n",
    "translate('hello')\n",
    "translate('clock')"
   ]
  },
  {
   "cell_type": "code",
   "execution_count": null,
   "id": "1de7714f-f8de-4b83-8572-d5640eb515ab",
   "metadata": {},
   "outputs": [],
   "source": []
  }
 ],
 "metadata": {
  "kernelspec": {
   "display_name": "Python 3 (ipykernel)",
   "language": "python",
   "name": "python3"
  },
  "language_info": {
   "codemirror_mode": {
    "name": "ipython",
    "version": 3
   },
   "file_extension": ".py",
   "mimetype": "text/x-python",
   "name": "python",
   "nbconvert_exporter": "python",
   "pygments_lexer": "ipython3",
   "version": "3.11.5"
  }
 },
 "nbformat": 4,
 "nbformat_minor": 5
}
