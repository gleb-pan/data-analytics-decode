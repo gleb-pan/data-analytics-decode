{
 "cells": [
  {
   "cell_type": "markdown",
   "id": "23448f32-c243-4d24-ae8e-a43d120b7a10",
   "metadata": {},
   "source": [
    "# Статистика по заказам\n",
    "\n",
    "Представьте что вы работаете Аналитиком Данных в производственной компании, которая занимается отправкой определенных продуктов по миру. У бизнеса есть предположение, что есть определенные страны, с которыми нам не стоит работать, так как доставка в данные страны может быть нецелесообразной.\n",
    "\n",
    "\r\n",
    "Ваша задача, провести определенное исследование и предложить в какой стране работать лучше всего а в какой нет. "
   ]
  },
  {
   "cell_type": "code",
   "execution_count": 1,
   "id": "1e1343b9-f19d-4e17-b724-02015565b616",
   "metadata": {},
   "outputs": [],
   "source": [
    "import matplotlib.pyplot as plt\n",
    "import psycopg2 as psy\n",
    "import pandas as pd\n",
    "\n",
    "from datetime import datetime as dt\n",
    "\n",
    "def sql_to_pd(query):\n",
    "    '''\n",
    "    Функция стучится в базу данных и обрабатывает указанный в аргументе запрос.\n",
    "    Затем преобразует полученные данные в датафрейм и возвращает его.\n",
    "    '''\n",
    "    try:\n",
    "        # Connect to an existing database\n",
    "        connection = psy.connect(user=\"postgres\",\n",
    "                                  password=\"Pga1708844!\",\n",
    "                                  host=\"127.0.0.1\",\n",
    "                                  port=\"5432\",\n",
    "                                  database=\"postgres\")\n",
    "        # Create a cursor to perform database operations\n",
    "        cursor = connection.cursor()\n",
    "        cursor.execute(query)\n",
    "        colnames = [desc[0] for desc in cursor.description]\n",
    "        record = cursor.fetchall()\n",
    "        # Create a dataframe with the data from a database\n",
    "        data_frame = pd.DataFrame(record, columns=colnames)\n",
    "        return data_frame\n",
    "    except Exception as e:\n",
    "        print(\"Error while connecting to PostgreSQL\", e)\n",
    "    finally:\n",
    "        if (connection):\n",
    "            cursor.close()\n",
    "            connection.close()"
   ]
  },
  {
   "cell_type": "markdown",
   "id": "c1a6d01c-16cf-4879-ac96-9453483731cb",
   "metadata": {},
   "source": [
    "# 1. Покажите страны, с наибольшим количеством активных заказов"
   ]
  },
  {
   "cell_type": "code",
   "execution_count": null,
   "id": "f3e541fa-13af-4aa0-bb3e-dfb194f763a4",
   "metadata": {},
   "outputs": [],
   "source": []
  }
 ],
 "metadata": {
  "kernelspec": {
   "display_name": "Python 3 (ipykernel)",
   "language": "python",
   "name": "python3"
  },
  "language_info": {
   "codemirror_mode": {
    "name": "ipython",
    "version": 3
   },
   "file_extension": ".py",
   "mimetype": "text/x-python",
   "name": "python",
   "nbconvert_exporter": "python",
   "pygments_lexer": "ipython3",
   "version": "3.11.5"
  }
 },
 "nbformat": 4,
 "nbformat_minor": 5
}
