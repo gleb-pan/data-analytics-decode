{
 "cells": [
  {
   "cell_type": "markdown",
   "id": "29329080-eb63-43a2-977a-ece704362ec9",
   "metadata": {},
   "source": [
    "# Статистика по продуктам"
   ]
  },
  {
   "cell_type": "code",
   "execution_count": 7,
   "id": "2026270b-f78e-46f2-9bb9-1698ba4d0d95",
   "metadata": {},
   "outputs": [],
   "source": [
    "import matplotlib.pyplot as plt\n",
    "import psycopg2 as psy\n",
    "import pandas as pd\n",
    "\n",
    "from datetime import datetime as dt\n",
    "\n",
    "def state_flag(row):\n",
    "    if row['shipped_date'] == None:\n",
    "        return 1\n",
    "    else:\n",
    "        return 0\n",
    "\n",
    "def sql_to_pd(query, insert_state_flag=False):\n",
    "    '''\n",
    "    Функция стучится в базу данных и обрабатывает указанный в аргументе запрос.\n",
    "    Затем преобразует полученные данные в датафрейм и возвращает его.\n",
    "\n",
    "    query - SQL запрос в базу данных, которые указанны в функции.\n",
    "    \n",
    "    insert_state_flag - подходит исключительно для БД из задания.\n",
    "                        Если активен, добавляет столбец со статусом\n",
    "                        заказа в датафрейм используя функцию state_flag()\n",
    "                        (0-неактивный, 1-активный)\n",
    "    '''\n",
    "    try:\n",
    "        # Connect to an existing database\n",
    "        connection = psy.connect(user=\"postgres\",\n",
    "                                  password=\"Pga1708844!\",\n",
    "                                  host=\"127.0.0.1\",\n",
    "                                  port=\"5432\",\n",
    "                                  database=\"postgres\")\n",
    "        # Create a cursor to perform database operations\n",
    "        cursor = connection.cursor()\n",
    "        cursor.execute(query)\n",
    "        colnames = [desc[0] for desc in cursor.description]\n",
    "        record = cursor.fetchall()\n",
    "        # Create a dataframe with the data from a database\n",
    "        data_frame = pd.DataFrame(record, columns=colnames)\n",
    "        # Использую функцию выше в случае если нужно поставить флаг статуса заказа, включен по умолчанию\n",
    "        if insert_state_flag:\n",
    "            data_frame['order_state'] = data_frame.apply(state_flag, axis=1)\n",
    "        return data_frame\n",
    "    except Exception as e:\n",
    "        print(\"Error while connecting to PostgreSQL\", e)\n",
    "    finally:\n",
    "        if (connection):\n",
    "            cursor.close()\n",
    "            connection.close()"
   ]
  },
  {
   "cell_type": "markdown",
   "id": "d64a40a0-a343-4cdc-866c-2f9c12ca59f1",
   "metadata": {},
   "source": [
    "## 1. Выведите клиента с наибольшим количеством активных заказовМетод to_excel)"
   ]
  },
  {
   "cell_type": "code",
   "execution_count": 8,
   "id": "df10fa75-850e-41f1-af1e-7f9d88540287",
   "metadata": {
    "scrolled": true
   },
   "outputs": [
    {
     "name": "stdout",
     "output_type": "stream",
     "text": [
      "<class 'pandas.core.frame.DataFrame'>\n",
      "RangeIndex: 2155 entries, 0 to 2154\n",
      "Data columns (total 29 columns):\n",
      " #   Column            Non-Null Count  Dtype  \n",
      "---  ------            --------------  -----  \n",
      " 0   customer_id       2155 non-null   object \n",
      " 1   order_id          2155 non-null   int64  \n",
      " 2   employee_id       2155 non-null   int64  \n",
      " 3   order_date        2155 non-null   object \n",
      " 4   required_date     2155 non-null   object \n",
      " 5   shipped_date      2082 non-null   object \n",
      " 6   ship_via          2155 non-null   int64  \n",
      " 7   freight           2155 non-null   float64\n",
      " 8   ship_name         2155 non-null   object \n",
      " 9   ship_address      2155 non-null   object \n",
      " 10  ship_city         2155 non-null   object \n",
      " 11  ship_region       856 non-null    object \n",
      " 12  ship_postal_code  2100 non-null   object \n",
      " 13  ship_country      2155 non-null   object \n",
      " 14  product_id        2155 non-null   int64  \n",
      " 15  unit_price        2155 non-null   float64\n",
      " 16  quantity          2155 non-null   int64  \n",
      " 17  discount          2155 non-null   float64\n",
      " 18  company_name      2155 non-null   object \n",
      " 19  contact_name      2155 non-null   object \n",
      " 20  contact_title     2155 non-null   object \n",
      " 21  address           2155 non-null   object \n",
      " 22  city              2155 non-null   object \n",
      " 23  region            826 non-null    object \n",
      " 24  postal_code       2100 non-null   object \n",
      " 25  country           2155 non-null   object \n",
      " 26  phone             2155 non-null   object \n",
      " 27  fax               1506 non-null   object \n",
      " 28  order_state       2155 non-null   int64  \n",
      "dtypes: float64(3), int64(6), object(20)\n",
      "memory usage: 488.4+ KB\n"
     ]
    }
   ],
   "source": [
    "df = sql_to_pd('SELECT * FROM orders\\\n",
    "                    INNER JOIN order_details USING(order_id)\\\n",
    "                    INNER JOIN customers USING(customer_id)'\n",
    "               , insert_state_flag=True\n",
    "              )\n",
    "df.info()"
   ]
  },
  {
   "cell_type": "code",
   "execution_count": 9,
   "id": "528428b8-5aca-4591-9dd2-4aa73e1621cf",
   "metadata": {},
   "outputs": [
    {
     "data": {
      "text/html": [
       "<div>\n",
       "<style scoped>\n",
       "    .dataframe tbody tr th:only-of-type {\n",
       "        vertical-align: middle;\n",
       "    }\n",
       "\n",
       "    .dataframe tbody tr th {\n",
       "        vertical-align: top;\n",
       "    }\n",
       "\n",
       "    .dataframe thead th {\n",
       "        text-align: right;\n",
       "    }\n",
       "</style>\n",
       "<table border=\"1\" class=\"dataframe\">\n",
       "  <thead>\n",
       "    <tr style=\"text-align: right;\">\n",
       "      <th></th>\n",
       "      <th>customer_id</th>\n",
       "      <th>company_name</th>\n",
       "      <th>contact_name</th>\n",
       "      <th>address</th>\n",
       "      <th>active_orders_count</th>\n",
       "    </tr>\n",
       "  </thead>\n",
       "  <tbody>\n",
       "    <tr>\n",
       "      <th>0</th>\n",
       "      <td>RATTC</td>\n",
       "      <td>Rattlesnake Canyon Grocery</td>\n",
       "      <td>Paula Wilson</td>\n",
       "      <td>2817 Milton Dr.</td>\n",
       "      <td>25</td>\n",
       "    </tr>\n",
       "  </tbody>\n",
       "</table>\n",
       "</div>"
      ],
      "text/plain": [
       "  customer_id                company_name  contact_name          address  \\\n",
       "0       RATTC  Rattlesnake Canyon Grocery  Paula Wilson  2817 Milton Dr.   \n",
       "\n",
       "   active_orders_count  \n",
       "0                   25  "
      ]
     },
     "execution_count": 9,
     "metadata": {},
     "output_type": "execute_result"
    }
   ],
   "source": [
    "highest_active = df\\\n",
    "                .groupby('customer_id')\\\n",
    "                .agg({'company_name': 'first', 'contact_name': 'first', 'address': 'first', 'order_state':'sum'})\\\n",
    "                .sort_values(by='order_state', ascending=False)\\\n",
    "                .reset_index()\n",
    "highest_active.rename(columns={'order_state': 'active_orders_count'}, inplace=True)\n",
    "highest_active.head(1)"
   ]
  },
  {
   "cell_type": "markdown",
   "id": "44b6849c-a24f-4658-bfb7-b4329e40e60c",
   "metadata": {},
   "source": [
    "## 2. Выведите клиентов по количеству активных и неактивных заказов"
   ]
  },
  {
   "cell_type": "code",
   "execution_count": 10,
   "id": "f0c58e91-1daa-4c13-aa49-316c011a2f78",
   "metadata": {
    "scrolled": true
   },
   "outputs": [
    {
     "data": {
      "text/html": [
       "<div>\n",
       "<style scoped>\n",
       "    .dataframe tbody tr th:only-of-type {\n",
       "        vertical-align: middle;\n",
       "    }\n",
       "\n",
       "    .dataframe tbody tr th {\n",
       "        vertical-align: top;\n",
       "    }\n",
       "\n",
       "    .dataframe thead th {\n",
       "        text-align: right;\n",
       "    }\n",
       "</style>\n",
       "<table border=\"1\" class=\"dataframe\">\n",
       "  <thead>\n",
       "    <tr style=\"text-align: right;\">\n",
       "      <th></th>\n",
       "      <th>customer_id</th>\n",
       "      <th>company_name</th>\n",
       "      <th>contact_name</th>\n",
       "      <th>address</th>\n",
       "      <th>non_active_count</th>\n",
       "      <th>active_count</th>\n",
       "    </tr>\n",
       "  </thead>\n",
       "  <tbody>\n",
       "    <tr>\n",
       "      <th>0</th>\n",
       "      <td>ALFKI</td>\n",
       "      <td>Alfreds Futterkiste</td>\n",
       "      <td>Maria Anders</td>\n",
       "      <td>Obere Str. 57</td>\n",
       "      <td>12</td>\n",
       "      <td>0.0</td>\n",
       "    </tr>\n",
       "    <tr>\n",
       "      <th>1</th>\n",
       "      <td>ANATR</td>\n",
       "      <td>Ana Trujillo Emparedados y helados</td>\n",
       "      <td>Ana Trujillo</td>\n",
       "      <td>Avda. de la Constitución 2222</td>\n",
       "      <td>10</td>\n",
       "      <td>0.0</td>\n",
       "    </tr>\n",
       "    <tr>\n",
       "      <th>2</th>\n",
       "      <td>ANTON</td>\n",
       "      <td>Antonio Moreno Taquería</td>\n",
       "      <td>Antonio Moreno</td>\n",
       "      <td>Mataderos  2312</td>\n",
       "      <td>17</td>\n",
       "      <td>0.0</td>\n",
       "    </tr>\n",
       "    <tr>\n",
       "      <th>3</th>\n",
       "      <td>AROUT</td>\n",
       "      <td>Around the Horn</td>\n",
       "      <td>Thomas Hardy</td>\n",
       "      <td>120 Hanover Sq.</td>\n",
       "      <td>30</td>\n",
       "      <td>0.0</td>\n",
       "    </tr>\n",
       "    <tr>\n",
       "      <th>4</th>\n",
       "      <td>BERGS</td>\n",
       "      <td>Berglunds snabbköp</td>\n",
       "      <td>Christina Berglund</td>\n",
       "      <td>Berguvsvägen  8</td>\n",
       "      <td>52</td>\n",
       "      <td>0.0</td>\n",
       "    </tr>\n",
       "    <tr>\n",
       "      <th>...</th>\n",
       "      <td>...</td>\n",
       "      <td>...</td>\n",
       "      <td>...</td>\n",
       "      <td>...</td>\n",
       "      <td>...</td>\n",
       "      <td>...</td>\n",
       "    </tr>\n",
       "    <tr>\n",
       "      <th>84</th>\n",
       "      <td>WARTH</td>\n",
       "      <td>Wartian Herkku</td>\n",
       "      <td>Pirkko Koskitalo</td>\n",
       "      <td>Torikatu 38</td>\n",
       "      <td>37</td>\n",
       "      <td>0.0</td>\n",
       "    </tr>\n",
       "    <tr>\n",
       "      <th>85</th>\n",
       "      <td>WELLI</td>\n",
       "      <td>Wellington Importadora</td>\n",
       "      <td>Paula Parente</td>\n",
       "      <td>Rua do Mercado, 12</td>\n",
       "      <td>19</td>\n",
       "      <td>0.0</td>\n",
       "    </tr>\n",
       "    <tr>\n",
       "      <th>86</th>\n",
       "      <td>WHITC</td>\n",
       "      <td>White Clover Markets</td>\n",
       "      <td>Karl Jablonski</td>\n",
       "      <td>305 - 14th Ave. S. Suite 3B</td>\n",
       "      <td>40</td>\n",
       "      <td>0.0</td>\n",
       "    </tr>\n",
       "    <tr>\n",
       "      <th>87</th>\n",
       "      <td>WILMK</td>\n",
       "      <td>Wilman Kala</td>\n",
       "      <td>Matti Karttunen</td>\n",
       "      <td>Keskuskatu 45</td>\n",
       "      <td>17</td>\n",
       "      <td>0.0</td>\n",
       "    </tr>\n",
       "    <tr>\n",
       "      <th>88</th>\n",
       "      <td>WOLZA</td>\n",
       "      <td>Wolski  Zajazd</td>\n",
       "      <td>Zbyszek Piestrzeniewicz</td>\n",
       "      <td>ul. Filtrowa 68</td>\n",
       "      <td>16</td>\n",
       "      <td>0.0</td>\n",
       "    </tr>\n",
       "  </tbody>\n",
       "</table>\n",
       "<p>89 rows × 6 columns</p>\n",
       "</div>"
      ],
      "text/plain": [
       "   customer_id                        company_name             contact_name  \\\n",
       "0        ALFKI                 Alfreds Futterkiste             Maria Anders   \n",
       "1        ANATR  Ana Trujillo Emparedados y helados             Ana Trujillo   \n",
       "2        ANTON             Antonio Moreno Taquería           Antonio Moreno   \n",
       "3        AROUT                     Around the Horn             Thomas Hardy   \n",
       "4        BERGS                  Berglunds snabbköp       Christina Berglund   \n",
       "..         ...                                 ...                      ...   \n",
       "84       WARTH                      Wartian Herkku         Pirkko Koskitalo   \n",
       "85       WELLI              Wellington Importadora            Paula Parente   \n",
       "86       WHITC                White Clover Markets           Karl Jablonski   \n",
       "87       WILMK                         Wilman Kala          Matti Karttunen   \n",
       "88       WOLZA                      Wolski  Zajazd  Zbyszek Piestrzeniewicz   \n",
       "\n",
       "                          address  non_active_count  active_count  \n",
       "0                   Obere Str. 57                12           0.0  \n",
       "1   Avda. de la Constitución 2222                10           0.0  \n",
       "2                 Mataderos  2312                17           0.0  \n",
       "3                 120 Hanover Sq.                30           0.0  \n",
       "4                 Berguvsvägen  8                52           0.0  \n",
       "..                            ...               ...           ...  \n",
       "84                    Torikatu 38                37           0.0  \n",
       "85             Rua do Mercado, 12                19           0.0  \n",
       "86    305 - 14th Ave. S. Suite 3B                40           0.0  \n",
       "87                  Keskuskatu 45                17           0.0  \n",
       "88                ul. Filtrowa 68                16           0.0  \n",
       "\n",
       "[89 rows x 6 columns]"
      ]
     },
     "execution_count": 10,
     "metadata": {},
     "output_type": "execute_result"
    }
   ],
   "source": [
    "# неактивные заказы\n",
    "non_active_orders = df[df['order_state'] == 0][['customer_id','company_name', 'contact_name', 'address', 'order_state']]\n",
    "non_active_orders = non_active_orders\\\n",
    "                    .groupby('customer_id')\\\n",
    "                    .agg({'company_name': 'first', 'contact_name': 'first', 'address': 'first', 'order_state':'count'})\\\n",
    "                    .reset_index()\n",
    "non_active_orders.rename(columns={'order_state': 'non_active_count'}, inplace=True)\n",
    "\n",
    "# активные заказы\n",
    "active_orders = df[df['order_state'] > 0][['customer_id','company_name', 'contact_name', 'address', 'order_state']]\n",
    "active_orders = active_orders\\\n",
    "                    .groupby('customer_id')\\\n",
    "                    .agg({'company_name': 'first', 'contact_name': 'first', 'address': 'first', 'order_state':'count'})\\\n",
    "                    .reset_index()\n",
    "active_orders.rename(columns={'order_state': 'active_count'}, inplace=True)\n",
    "\n",
    "non_active_orders.merge(active_orders, how='left').fillna(0)\n",
    "\n",
    "# список всех клиентов и количесво актиных и неактивных заказов"
   ]
  },
  {
   "cell_type": "code",
   "execution_count": 11,
   "id": "eb08e1e3-f7ce-4e5a-ab8b-aaad5a484ad6",
   "metadata": {
    "scrolled": true
   },
   "outputs": [
    {
     "data": {
      "text/html": [
       "<div>\n",
       "<style scoped>\n",
       "    .dataframe tbody tr th:only-of-type {\n",
       "        vertical-align: middle;\n",
       "    }\n",
       "\n",
       "    .dataframe tbody tr th {\n",
       "        vertical-align: top;\n",
       "    }\n",
       "\n",
       "    .dataframe thead th {\n",
       "        text-align: right;\n",
       "    }\n",
       "</style>\n",
       "<table border=\"1\" class=\"dataframe\">\n",
       "  <thead>\n",
       "    <tr style=\"text-align: right;\">\n",
       "      <th></th>\n",
       "      <th>index</th>\n",
       "      <th>customer_id</th>\n",
       "      <th>company_name</th>\n",
       "      <th>contact_name</th>\n",
       "      <th>address</th>\n",
       "      <th>non_active_count</th>\n",
       "      <th>active_count</th>\n",
       "      <th>total_orders</th>\n",
       "    </tr>\n",
       "  </thead>\n",
       "  <tbody>\n",
       "    <tr>\n",
       "      <th>0</th>\n",
       "      <td>19</td>\n",
       "      <td>ERNSH</td>\n",
       "      <td>Ernst Handel</td>\n",
       "      <td>Roland Mendel</td>\n",
       "      <td>Kirchgasse 6</td>\n",
       "      <td>95</td>\n",
       "      <td>7</td>\n",
       "      <td>102</td>\n",
       "    </tr>\n",
       "    <tr>\n",
       "      <th>1</th>\n",
       "      <td>62</td>\n",
       "      <td>RATTC</td>\n",
       "      <td>Rattlesnake Canyon Grocery</td>\n",
       "      <td>Paula Wilson</td>\n",
       "      <td>2817 Milton Dr.</td>\n",
       "      <td>46</td>\n",
       "      <td>25</td>\n",
       "      <td>71</td>\n",
       "    </tr>\n",
       "    <tr>\n",
       "      <th>2</th>\n",
       "      <td>8</td>\n",
       "      <td>BONAP</td>\n",
       "      <td>Bon app'</td>\n",
       "      <td>Laurence Lebihan</td>\n",
       "      <td>12, rue des Bouchers</td>\n",
       "      <td>41</td>\n",
       "      <td>3</td>\n",
       "      <td>44</td>\n",
       "    </tr>\n",
       "    <tr>\n",
       "      <th>3</th>\n",
       "      <td>59</td>\n",
       "      <td>QUEEN</td>\n",
       "      <td>Queen Cozinha</td>\n",
       "      <td>Lúcia Carvalho</td>\n",
       "      <td>Alameda dos Canàrios, 891</td>\n",
       "      <td>37</td>\n",
       "      <td>3</td>\n",
       "      <td>40</td>\n",
       "    </tr>\n",
       "    <tr>\n",
       "      <th>4</th>\n",
       "      <td>42</td>\n",
       "      <td>LEHMS</td>\n",
       "      <td>Lehmanns Marktstand</td>\n",
       "      <td>Renate Messner</td>\n",
       "      <td>Magazinweg 7</td>\n",
       "      <td>35</td>\n",
       "      <td>4</td>\n",
       "      <td>39</td>\n",
       "    </tr>\n",
       "    <tr>\n",
       "      <th>5</th>\n",
       "      <td>45</td>\n",
       "      <td>LINOD</td>\n",
       "      <td>LINO-Delicateses</td>\n",
       "      <td>Felipe Izquierdo</td>\n",
       "      <td>Ave. 5 de Mayo Porlamar</td>\n",
       "      <td>31</td>\n",
       "      <td>4</td>\n",
       "      <td>35</td>\n",
       "    </tr>\n",
       "    <tr>\n",
       "      <th>6</th>\n",
       "      <td>9</td>\n",
       "      <td>BOTTM</td>\n",
       "      <td>Bottom-Dollar Markets</td>\n",
       "      <td>Elizabeth Lincoln</td>\n",
       "      <td>23 Tsawassen Blvd.</td>\n",
       "      <td>33</td>\n",
       "      <td>2</td>\n",
       "      <td>35</td>\n",
       "    </tr>\n",
       "    <tr>\n",
       "      <th>7</th>\n",
       "      <td>44</td>\n",
       "      <td>LILAS</td>\n",
       "      <td>LILA-Supermercado</td>\n",
       "      <td>Carlos González</td>\n",
       "      <td>Carrera 52 con Ave. Bolívar #65-98 Llano Largo</td>\n",
       "      <td>30</td>\n",
       "      <td>4</td>\n",
       "      <td>34</td>\n",
       "    </tr>\n",
       "    <tr>\n",
       "      <th>8</th>\n",
       "      <td>39</td>\n",
       "      <td>LAMAI</td>\n",
       "      <td>La maison d'Asie</td>\n",
       "      <td>Annette Roulet</td>\n",
       "      <td>1 rue Alsace-Lorraine</td>\n",
       "      <td>30</td>\n",
       "      <td>1</td>\n",
       "      <td>31</td>\n",
       "    </tr>\n",
       "    <tr>\n",
       "      <th>9</th>\n",
       "      <td>65</td>\n",
       "      <td>RICSU</td>\n",
       "      <td>Richter Supermarkt</td>\n",
       "      <td>Michael Holz</td>\n",
       "      <td>Grenzacherweg 237</td>\n",
       "      <td>27</td>\n",
       "      <td>3</td>\n",
       "      <td>30</td>\n",
       "    </tr>\n",
       "    <tr>\n",
       "      <th>10</th>\n",
       "      <td>64</td>\n",
       "      <td>RICAR</td>\n",
       "      <td>Ricardo Adocicados</td>\n",
       "      <td>Janete Limeira</td>\n",
       "      <td>Av. Copacabana, 267</td>\n",
       "      <td>24</td>\n",
       "      <td>3</td>\n",
       "      <td>27</td>\n",
       "    </tr>\n",
       "    <tr>\n",
       "      <th>11</th>\n",
       "      <td>30</td>\n",
       "      <td>GREAL</td>\n",
       "      <td>Great Lakes Food Market</td>\n",
       "      <td>Howard Snyder</td>\n",
       "      <td>2732 Baker Blvd.</td>\n",
       "      <td>20</td>\n",
       "      <td>2</td>\n",
       "      <td>22</td>\n",
       "    </tr>\n",
       "    <tr>\n",
       "      <th>12</th>\n",
       "      <td>63</td>\n",
       "      <td>REGGC</td>\n",
       "      <td>Reggiani Caseifici</td>\n",
       "      <td>Maurizio Moroni</td>\n",
       "      <td>Strada Provinciale 124</td>\n",
       "      <td>20</td>\n",
       "      <td>2</td>\n",
       "      <td>22</td>\n",
       "    </tr>\n",
       "    <tr>\n",
       "      <th>13</th>\n",
       "      <td>70</td>\n",
       "      <td>SIMOB</td>\n",
       "      <td>Simons bistro</td>\n",
       "      <td>Jytte Petersen</td>\n",
       "      <td>Vinbæltet 34</td>\n",
       "      <td>14</td>\n",
       "      <td>1</td>\n",
       "      <td>15</td>\n",
       "    </tr>\n",
       "    <tr>\n",
       "      <th>14</th>\n",
       "      <td>55</td>\n",
       "      <td>PERIC</td>\n",
       "      <td>Pericles Comidas clásicas</td>\n",
       "      <td>Guillermo Fernández</td>\n",
       "      <td>Calle Dr. Jorge Cash 321</td>\n",
       "      <td>12</td>\n",
       "      <td>2</td>\n",
       "      <td>14</td>\n",
       "    </tr>\n",
       "    <tr>\n",
       "      <th>15</th>\n",
       "      <td>5</td>\n",
       "      <td>BLAUS</td>\n",
       "      <td>Blauer See Delikatessen</td>\n",
       "      <td>Hanna Moos</td>\n",
       "      <td>Forsterstr. 57</td>\n",
       "      <td>11</td>\n",
       "      <td>3</td>\n",
       "      <td>14</td>\n",
       "    </tr>\n",
       "    <tr>\n",
       "      <th>16</th>\n",
       "      <td>61</td>\n",
       "      <td>RANCH</td>\n",
       "      <td>Rancho grande</td>\n",
       "      <td>Sergio Gutiérrez</td>\n",
       "      <td>Av. del Libertador 900</td>\n",
       "      <td>10</td>\n",
       "      <td>2</td>\n",
       "      <td>12</td>\n",
       "    </tr>\n",
       "    <tr>\n",
       "      <th>17</th>\n",
       "      <td>11</td>\n",
       "      <td>CACTU</td>\n",
       "      <td>Cactus Comidas para llevar</td>\n",
       "      <td>Patricio Simpson</td>\n",
       "      <td>Cerrito 333</td>\n",
       "      <td>9</td>\n",
       "      <td>2</td>\n",
       "      <td>11</td>\n",
       "    </tr>\n",
       "  </tbody>\n",
       "</table>\n",
       "</div>"
      ],
      "text/plain": [
       "    index customer_id                company_name         contact_name  \\\n",
       "0      19       ERNSH                Ernst Handel        Roland Mendel   \n",
       "1      62       RATTC  Rattlesnake Canyon Grocery         Paula Wilson   \n",
       "2       8       BONAP                    Bon app'     Laurence Lebihan   \n",
       "3      59       QUEEN               Queen Cozinha       Lúcia Carvalho   \n",
       "4      42       LEHMS         Lehmanns Marktstand       Renate Messner   \n",
       "5      45       LINOD            LINO-Delicateses     Felipe Izquierdo   \n",
       "6       9       BOTTM       Bottom-Dollar Markets    Elizabeth Lincoln   \n",
       "7      44       LILAS           LILA-Supermercado      Carlos González   \n",
       "8      39       LAMAI            La maison d'Asie       Annette Roulet   \n",
       "9      65       RICSU          Richter Supermarkt         Michael Holz   \n",
       "10     64       RICAR          Ricardo Adocicados       Janete Limeira   \n",
       "11     30       GREAL     Great Lakes Food Market        Howard Snyder   \n",
       "12     63       REGGC          Reggiani Caseifici      Maurizio Moroni   \n",
       "13     70       SIMOB               Simons bistro       Jytte Petersen   \n",
       "14     55       PERIC   Pericles Comidas clásicas  Guillermo Fernández   \n",
       "15      5       BLAUS     Blauer See Delikatessen           Hanna Moos   \n",
       "16     61       RANCH               Rancho grande     Sergio Gutiérrez   \n",
       "17     11       CACTU  Cactus Comidas para llevar     Patricio Simpson   \n",
       "\n",
       "                                           address  non_active_count  \\\n",
       "0                                     Kirchgasse 6                95   \n",
       "1                                  2817 Milton Dr.                46   \n",
       "2                             12, rue des Bouchers                41   \n",
       "3                        Alameda dos Canàrios, 891                37   \n",
       "4                                     Magazinweg 7                35   \n",
       "5                          Ave. 5 de Mayo Porlamar                31   \n",
       "6                               23 Tsawassen Blvd.                33   \n",
       "7   Carrera 52 con Ave. Bolívar #65-98 Llano Largo                30   \n",
       "8                            1 rue Alsace-Lorraine                30   \n",
       "9                                Grenzacherweg 237                27   \n",
       "10                             Av. Copacabana, 267                24   \n",
       "11                                2732 Baker Blvd.                20   \n",
       "12                          Strada Provinciale 124                20   \n",
       "13                                    Vinbæltet 34                14   \n",
       "14                        Calle Dr. Jorge Cash 321                12   \n",
       "15                                  Forsterstr. 57                11   \n",
       "16                          Av. del Libertador 900                10   \n",
       "17                                     Cerrito 333                 9   \n",
       "\n",
       "    active_count  total_orders  \n",
       "0              7           102  \n",
       "1             25            71  \n",
       "2              3            44  \n",
       "3              3            40  \n",
       "4              4            39  \n",
       "5              4            35  \n",
       "6              2            35  \n",
       "7              4            34  \n",
       "8              1            31  \n",
       "9              3            30  \n",
       "10             3            27  \n",
       "11             2            22  \n",
       "12             2            22  \n",
       "13             1            15  \n",
       "14             2            14  \n",
       "15             3            14  \n",
       "16             2            12  \n",
       "17             2            11  "
      ]
     },
     "execution_count": 11,
     "metadata": {},
     "output_type": "execute_result"
    }
   ],
   "source": [
    "# однако будет более информативным ваиратнт где мы выберем только тех клиентов которые имеют как активные так и неактивные заказы\n",
    "clients = non_active_orders.merge(active_orders, how='left').fillna(0)\n",
    "clients = clients[(clients['active_count'] != 0) & (clients['non_active_count'] != 0)]\n",
    "clients['active_count'] = clients['active_count'].astype(int)\n",
    "clients['total_orders'] = clients['active_count'] + clients['non_active_count'] # получаем также сумму активныйх и неактивных заказов\n",
    "clients = clients.sort_values(by='total_orders', ascending=False)\\\n",
    "                 .reset_index() # сортирую таблицу по общему количеству заказов\n",
    "clients"
   ]
  },
  {
   "cell_type": "markdown",
   "id": "749c4b6f-2b3c-4374-b26c-e673e1d5d170",
   "metadata": {},
   "source": [
    "## 3. Нарисуйте круговую диаграмму по топ 10 самых больших по заказам клиентов, разделенных на активные и неактивные заказы"
   ]
  },
  {
   "cell_type": "code",
   "execution_count": 12,
   "id": "aefb7f9b-6235-4d12-b872-759b60872f65",
   "metadata": {},
   "outputs": [
    {
     "data": {
      "application/vnd.plotly.v1+json": {
       "config": {
        "linkText": "Export to plot.ly",
        "plotlyServerURL": "https://plot.ly",
        "showLink": false
       },
       "data": [
        {
         "domain": {
          "x": [
           0,
           0.45
          ],
          "y": [
           0,
           1
          ]
         },
         "labels": [
          "ERNSH",
          "RATTC",
          "BONAP",
          "QUEEN",
          "LEHMS",
          "LINOD",
          "BOTTM",
          "LILAS",
          "LAMAI",
          "RICSU"
         ],
         "name": "Покупатели и активные заказы",
         "type": "pie",
         "values": [
          7,
          25,
          3,
          3,
          4,
          4,
          2,
          4,
          1,
          3
         ]
        },
        {
         "domain": {
          "x": [
           0.55,
           1
          ],
          "y": [
           0,
           1
          ]
         },
         "labels": [
          "ERNSH",
          "RATTC",
          "BONAP",
          "QUEEN",
          "LEHMS",
          "LINOD",
          "BOTTM",
          "LILAS",
          "LAMAI",
          "RICSU"
         ],
         "name": "Покупатели и неактивные заказы",
         "type": "pie",
         "values": [
          95,
          46,
          41,
          37,
          35,
          31,
          33,
          30,
          30,
          27
         ]
        }
       ],
       "layout": {
        "annotations": [
         {
          "font": {
           "size": 16
          },
          "showarrow": false,
          "text": "Покупатели и активные заказы",
          "x": 0.225,
          "xanchor": "center",
          "xref": "paper",
          "y": 1,
          "yanchor": "bottom",
          "yref": "paper"
         },
         {
          "font": {
           "size": 16
          },
          "showarrow": false,
          "text": "Покупатели и неактивные заказы",
          "x": 0.775,
          "xanchor": "center",
          "xref": "paper",
          "y": 1,
          "yanchor": "bottom",
          "yref": "paper"
         }
        ],
        "height": 600,
        "template": {
         "data": {
          "bar": [
           {
            "error_x": {
             "color": "#2a3f5f"
            },
            "error_y": {
             "color": "#2a3f5f"
            },
            "marker": {
             "line": {
              "color": "#E5ECF6",
              "width": 0.5
             },
             "pattern": {
              "fillmode": "overlay",
              "size": 10,
              "solidity": 0.2
             }
            },
            "type": "bar"
           }
          ],
          "barpolar": [
           {
            "marker": {
             "line": {
              "color": "#E5ECF6",
              "width": 0.5
             },
             "pattern": {
              "fillmode": "overlay",
              "size": 10,
              "solidity": 0.2
             }
            },
            "type": "barpolar"
           }
          ],
          "carpet": [
           {
            "aaxis": {
             "endlinecolor": "#2a3f5f",
             "gridcolor": "white",
             "linecolor": "white",
             "minorgridcolor": "white",
             "startlinecolor": "#2a3f5f"
            },
            "baxis": {
             "endlinecolor": "#2a3f5f",
             "gridcolor": "white",
             "linecolor": "white",
             "minorgridcolor": "white",
             "startlinecolor": "#2a3f5f"
            },
            "type": "carpet"
           }
          ],
          "choropleth": [
           {
            "colorbar": {
             "outlinewidth": 0,
             "ticks": ""
            },
            "type": "choropleth"
           }
          ],
          "contour": [
           {
            "colorbar": {
             "outlinewidth": 0,
             "ticks": ""
            },
            "colorscale": [
             [
              0,
              "#0d0887"
             ],
             [
              0.1111111111111111,
              "#46039f"
             ],
             [
              0.2222222222222222,
              "#7201a8"
             ],
             [
              0.3333333333333333,
              "#9c179e"
             ],
             [
              0.4444444444444444,
              "#bd3786"
             ],
             [
              0.5555555555555556,
              "#d8576b"
             ],
             [
              0.6666666666666666,
              "#ed7953"
             ],
             [
              0.7777777777777778,
              "#fb9f3a"
             ],
             [
              0.8888888888888888,
              "#fdca26"
             ],
             [
              1,
              "#f0f921"
             ]
            ],
            "type": "contour"
           }
          ],
          "contourcarpet": [
           {
            "colorbar": {
             "outlinewidth": 0,
             "ticks": ""
            },
            "type": "contourcarpet"
           }
          ],
          "heatmap": [
           {
            "colorbar": {
             "outlinewidth": 0,
             "ticks": ""
            },
            "colorscale": [
             [
              0,
              "#0d0887"
             ],
             [
              0.1111111111111111,
              "#46039f"
             ],
             [
              0.2222222222222222,
              "#7201a8"
             ],
             [
              0.3333333333333333,
              "#9c179e"
             ],
             [
              0.4444444444444444,
              "#bd3786"
             ],
             [
              0.5555555555555556,
              "#d8576b"
             ],
             [
              0.6666666666666666,
              "#ed7953"
             ],
             [
              0.7777777777777778,
              "#fb9f3a"
             ],
             [
              0.8888888888888888,
              "#fdca26"
             ],
             [
              1,
              "#f0f921"
             ]
            ],
            "type": "heatmap"
           }
          ],
          "heatmapgl": [
           {
            "colorbar": {
             "outlinewidth": 0,
             "ticks": ""
            },
            "colorscale": [
             [
              0,
              "#0d0887"
             ],
             [
              0.1111111111111111,
              "#46039f"
             ],
             [
              0.2222222222222222,
              "#7201a8"
             ],
             [
              0.3333333333333333,
              "#9c179e"
             ],
             [
              0.4444444444444444,
              "#bd3786"
             ],
             [
              0.5555555555555556,
              "#d8576b"
             ],
             [
              0.6666666666666666,
              "#ed7953"
             ],
             [
              0.7777777777777778,
              "#fb9f3a"
             ],
             [
              0.8888888888888888,
              "#fdca26"
             ],
             [
              1,
              "#f0f921"
             ]
            ],
            "type": "heatmapgl"
           }
          ],
          "histogram": [
           {
            "marker": {
             "pattern": {
              "fillmode": "overlay",
              "size": 10,
              "solidity": 0.2
             }
            },
            "type": "histogram"
           }
          ],
          "histogram2d": [
           {
            "colorbar": {
             "outlinewidth": 0,
             "ticks": ""
            },
            "colorscale": [
             [
              0,
              "#0d0887"
             ],
             [
              0.1111111111111111,
              "#46039f"
             ],
             [
              0.2222222222222222,
              "#7201a8"
             ],
             [
              0.3333333333333333,
              "#9c179e"
             ],
             [
              0.4444444444444444,
              "#bd3786"
             ],
             [
              0.5555555555555556,
              "#d8576b"
             ],
             [
              0.6666666666666666,
              "#ed7953"
             ],
             [
              0.7777777777777778,
              "#fb9f3a"
             ],
             [
              0.8888888888888888,
              "#fdca26"
             ],
             [
              1,
              "#f0f921"
             ]
            ],
            "type": "histogram2d"
           }
          ],
          "histogram2dcontour": [
           {
            "colorbar": {
             "outlinewidth": 0,
             "ticks": ""
            },
            "colorscale": [
             [
              0,
              "#0d0887"
             ],
             [
              0.1111111111111111,
              "#46039f"
             ],
             [
              0.2222222222222222,
              "#7201a8"
             ],
             [
              0.3333333333333333,
              "#9c179e"
             ],
             [
              0.4444444444444444,
              "#bd3786"
             ],
             [
              0.5555555555555556,
              "#d8576b"
             ],
             [
              0.6666666666666666,
              "#ed7953"
             ],
             [
              0.7777777777777778,
              "#fb9f3a"
             ],
             [
              0.8888888888888888,
              "#fdca26"
             ],
             [
              1,
              "#f0f921"
             ]
            ],
            "type": "histogram2dcontour"
           }
          ],
          "mesh3d": [
           {
            "colorbar": {
             "outlinewidth": 0,
             "ticks": ""
            },
            "type": "mesh3d"
           }
          ],
          "parcoords": [
           {
            "line": {
             "colorbar": {
              "outlinewidth": 0,
              "ticks": ""
             }
            },
            "type": "parcoords"
           }
          ],
          "pie": [
           {
            "automargin": true,
            "type": "pie"
           }
          ],
          "scatter": [
           {
            "fillpattern": {
             "fillmode": "overlay",
             "size": 10,
             "solidity": 0.2
            },
            "type": "scatter"
           }
          ],
          "scatter3d": [
           {
            "line": {
             "colorbar": {
              "outlinewidth": 0,
              "ticks": ""
             }
            },
            "marker": {
             "colorbar": {
              "outlinewidth": 0,
              "ticks": ""
             }
            },
            "type": "scatter3d"
           }
          ],
          "scattercarpet": [
           {
            "marker": {
             "colorbar": {
              "outlinewidth": 0,
              "ticks": ""
             }
            },
            "type": "scattercarpet"
           }
          ],
          "scattergeo": [
           {
            "marker": {
             "colorbar": {
              "outlinewidth": 0,
              "ticks": ""
             }
            },
            "type": "scattergeo"
           }
          ],
          "scattergl": [
           {
            "marker": {
             "colorbar": {
              "outlinewidth": 0,
              "ticks": ""
             }
            },
            "type": "scattergl"
           }
          ],
          "scattermapbox": [
           {
            "marker": {
             "colorbar": {
              "outlinewidth": 0,
              "ticks": ""
             }
            },
            "type": "scattermapbox"
           }
          ],
          "scatterpolar": [
           {
            "marker": {
             "colorbar": {
              "outlinewidth": 0,
              "ticks": ""
             }
            },
            "type": "scatterpolar"
           }
          ],
          "scatterpolargl": [
           {
            "marker": {
             "colorbar": {
              "outlinewidth": 0,
              "ticks": ""
             }
            },
            "type": "scatterpolargl"
           }
          ],
          "scatterternary": [
           {
            "marker": {
             "colorbar": {
              "outlinewidth": 0,
              "ticks": ""
             }
            },
            "type": "scatterternary"
           }
          ],
          "surface": [
           {
            "colorbar": {
             "outlinewidth": 0,
             "ticks": ""
            },
            "colorscale": [
             [
              0,
              "#0d0887"
             ],
             [
              0.1111111111111111,
              "#46039f"
             ],
             [
              0.2222222222222222,
              "#7201a8"
             ],
             [
              0.3333333333333333,
              "#9c179e"
             ],
             [
              0.4444444444444444,
              "#bd3786"
             ],
             [
              0.5555555555555556,
              "#d8576b"
             ],
             [
              0.6666666666666666,
              "#ed7953"
             ],
             [
              0.7777777777777778,
              "#fb9f3a"
             ],
             [
              0.8888888888888888,
              "#fdca26"
             ],
             [
              1,
              "#f0f921"
             ]
            ],
            "type": "surface"
           }
          ],
          "table": [
           {
            "cells": {
             "fill": {
              "color": "#EBF0F8"
             },
             "line": {
              "color": "white"
             }
            },
            "header": {
             "fill": {
              "color": "#C8D4E3"
             },
             "line": {
              "color": "white"
             }
            },
            "type": "table"
           }
          ]
         },
         "layout": {
          "annotationdefaults": {
           "arrowcolor": "#2a3f5f",
           "arrowhead": 0,
           "arrowwidth": 1
          },
          "autotypenumbers": "strict",
          "coloraxis": {
           "colorbar": {
            "outlinewidth": 0,
            "ticks": ""
           }
          },
          "colorscale": {
           "diverging": [
            [
             0,
             "#8e0152"
            ],
            [
             0.1,
             "#c51b7d"
            ],
            [
             0.2,
             "#de77ae"
            ],
            [
             0.3,
             "#f1b6da"
            ],
            [
             0.4,
             "#fde0ef"
            ],
            [
             0.5,
             "#f7f7f7"
            ],
            [
             0.6,
             "#e6f5d0"
            ],
            [
             0.7,
             "#b8e186"
            ],
            [
             0.8,
             "#7fbc41"
            ],
            [
             0.9,
             "#4d9221"
            ],
            [
             1,
             "#276419"
            ]
           ],
           "sequential": [
            [
             0,
             "#0d0887"
            ],
            [
             0.1111111111111111,
             "#46039f"
            ],
            [
             0.2222222222222222,
             "#7201a8"
            ],
            [
             0.3333333333333333,
             "#9c179e"
            ],
            [
             0.4444444444444444,
             "#bd3786"
            ],
            [
             0.5555555555555556,
             "#d8576b"
            ],
            [
             0.6666666666666666,
             "#ed7953"
            ],
            [
             0.7777777777777778,
             "#fb9f3a"
            ],
            [
             0.8888888888888888,
             "#fdca26"
            ],
            [
             1,
             "#f0f921"
            ]
           ],
           "sequentialminus": [
            [
             0,
             "#0d0887"
            ],
            [
             0.1111111111111111,
             "#46039f"
            ],
            [
             0.2222222222222222,
             "#7201a8"
            ],
            [
             0.3333333333333333,
             "#9c179e"
            ],
            [
             0.4444444444444444,
             "#bd3786"
            ],
            [
             0.5555555555555556,
             "#d8576b"
            ],
            [
             0.6666666666666666,
             "#ed7953"
            ],
            [
             0.7777777777777778,
             "#fb9f3a"
            ],
            [
             0.8888888888888888,
             "#fdca26"
            ],
            [
             1,
             "#f0f921"
            ]
           ]
          },
          "colorway": [
           "#636efa",
           "#EF553B",
           "#00cc96",
           "#ab63fa",
           "#FFA15A",
           "#19d3f3",
           "#FF6692",
           "#B6E880",
           "#FF97FF",
           "#FECB52"
          ],
          "font": {
           "color": "#2a3f5f"
          },
          "geo": {
           "bgcolor": "white",
           "lakecolor": "white",
           "landcolor": "#E5ECF6",
           "showlakes": true,
           "showland": true,
           "subunitcolor": "white"
          },
          "hoverlabel": {
           "align": "left"
          },
          "hovermode": "closest",
          "mapbox": {
           "style": "light"
          },
          "paper_bgcolor": "white",
          "plot_bgcolor": "#E5ECF6",
          "polar": {
           "angularaxis": {
            "gridcolor": "white",
            "linecolor": "white",
            "ticks": ""
           },
           "bgcolor": "#E5ECF6",
           "radialaxis": {
            "gridcolor": "white",
            "linecolor": "white",
            "ticks": ""
           }
          },
          "scene": {
           "xaxis": {
            "backgroundcolor": "#E5ECF6",
            "gridcolor": "white",
            "gridwidth": 2,
            "linecolor": "white",
            "showbackground": true,
            "ticks": "",
            "zerolinecolor": "white"
           },
           "yaxis": {
            "backgroundcolor": "#E5ECF6",
            "gridcolor": "white",
            "gridwidth": 2,
            "linecolor": "white",
            "showbackground": true,
            "ticks": "",
            "zerolinecolor": "white"
           },
           "zaxis": {
            "backgroundcolor": "#E5ECF6",
            "gridcolor": "white",
            "gridwidth": 2,
            "linecolor": "white",
            "showbackground": true,
            "ticks": "",
            "zerolinecolor": "white"
           }
          },
          "shapedefaults": {
           "line": {
            "color": "#2a3f5f"
           }
          },
          "ternary": {
           "aaxis": {
            "gridcolor": "white",
            "linecolor": "white",
            "ticks": ""
           },
           "baxis": {
            "gridcolor": "white",
            "linecolor": "white",
            "ticks": ""
           },
           "bgcolor": "#E5ECF6",
           "caxis": {
            "gridcolor": "white",
            "linecolor": "white",
            "ticks": ""
           }
          },
          "title": {
           "x": 0.05
          },
          "xaxis": {
           "automargin": true,
           "gridcolor": "white",
           "linecolor": "white",
           "ticks": "",
           "title": {
            "standoff": 15
           },
           "zerolinecolor": "white",
           "zerolinewidth": 2
          },
          "yaxis": {
           "automargin": true,
           "gridcolor": "white",
           "linecolor": "white",
           "ticks": "",
           "title": {
            "standoff": 15
           },
           "zerolinecolor": "white",
           "zerolinewidth": 2
          }
         }
        },
        "width": 1000
       }
      },
      "image/png": "[encoded data removed]",
      "text/html": [
       "<div>                            <div id=\"0ec1c6f0-9336-467f-a7e0-69f16793ba02\" class=\"plotly-graph-div\" style=\"height:600px; width:1000px;\"></div>            <script type=\"text/javascript\">                require([\"plotly\"], function(Plotly) {                    window.PLOTLYENV=window.PLOTLYENV || {};                                    if (document.getElementById(\"0ec1c6f0-9336-467f-a7e0-69f16793ba02\")) {                    Plotly.newPlot(                        \"0ec1c6f0-9336-467f-a7e0-69f16793ba02\",                        [{\"domain\":{\"x\":[0.0,0.45],\"y\":[0.0,1.0]},\"labels\":[\"ERNSH\",\"RATTC\",\"BONAP\",\"QUEEN\",\"LEHMS\",\"LINOD\",\"BOTTM\",\"LILAS\",\"LAMAI\",\"RICSU\"],\"name\":\"\\u041f\\u043e\\u043a\\u0443\\u043f\\u0430\\u0442\\u0435\\u043b\\u0438 \\u0438 \\u0430\\u043a\\u0442\\u0438\\u0432\\u043d\\u044b\\u0435 \\u0437\\u0430\\u043a\\u0430\\u0437\\u044b\",\"values\":[7,25,3,3,4,4,2,4,1,3],\"type\":\"pie\"},{\"domain\":{\"x\":[0.55,1.0],\"y\":[0.0,1.0]},\"labels\":[\"ERNSH\",\"RATTC\",\"BONAP\",\"QUEEN\",\"LEHMS\",\"LINOD\",\"BOTTM\",\"LILAS\",\"LAMAI\",\"RICSU\"],\"name\":\"\\u041f\\u043e\\u043a\\u0443\\u043f\\u0430\\u0442\\u0435\\u043b\\u0438 \\u0438 \\u043d\\u0435\\u0430\\u043a\\u0442\\u0438\\u0432\\u043d\\u044b\\u0435 \\u0437\\u0430\\u043a\\u0430\\u0437\\u044b\",\"values\":[95,46,41,37,35,31,33,30,30,27],\"type\":\"pie\"}],                        {\"annotations\":[{\"font\":{\"size\":16},\"showarrow\":false,\"text\":\"\\u041f\\u043e\\u043a\\u0443\\u043f\\u0430\\u0442\\u0435\\u043b\\u0438 \\u0438 \\u0430\\u043a\\u0442\\u0438\\u0432\\u043d\\u044b\\u0435 \\u0437\\u0430\\u043a\\u0430\\u0437\\u044b\",\"x\":0.225,\"xanchor\":\"center\",\"xref\":\"paper\",\"y\":1.0,\"yanchor\":\"bottom\",\"yref\":\"paper\"},{\"font\":{\"size\":16},\"showarrow\":false,\"text\":\"\\u041f\\u043e\\u043a\\u0443\\u043f\\u0430\\u0442\\u0435\\u043b\\u0438 \\u0438 \\u043d\\u0435\\u0430\\u043a\\u0442\\u0438\\u0432\\u043d\\u044b\\u0435 \\u0437\\u0430\\u043a\\u0430\\u0437\\u044b\",\"x\":0.775,\"xanchor\":\"center\",\"xref\":\"paper\",\"y\":1.0,\"yanchor\":\"bottom\",\"yref\":\"paper\"}],\"height\":600,\"template\":{\"data\":{\"barpolar\":[{\"marker\":{\"line\":{\"color\":\"#E5ECF6\",\"width\":0.5},\"pattern\":{\"fillmode\":\"overlay\",\"size\":10,\"solidity\":0.2}},\"type\":\"barpolar\"}],\"bar\":[{\"error_x\":{\"color\":\"#2a3f5f\"},\"error_y\":{\"color\":\"#2a3f5f\"},\"marker\":{\"line\":{\"color\":\"#E5ECF6\",\"width\":0.5},\"pattern\":{\"fillmode\":\"overlay\",\"size\":10,\"solidity\":0.2}},\"type\":\"bar\"}],\"carpet\":[{\"aaxis\":{\"endlinecolor\":\"#2a3f5f\",\"gridcolor\":\"white\",\"linecolor\":\"white\",\"minorgridcolor\":\"white\",\"startlinecolor\":\"#2a3f5f\"},\"baxis\":{\"endlinecolor\":\"#2a3f5f\",\"gridcolor\":\"white\",\"linecolor\":\"white\",\"minorgridcolor\":\"white\",\"startlinecolor\":\"#2a3f5f\"},\"type\":\"carpet\"}],\"choropleth\":[{\"colorbar\":{\"outlinewidth\":0,\"ticks\":\"\"},\"type\":\"choropleth\"}],\"contourcarpet\":[{\"colorbar\":{\"outlinewidth\":0,\"ticks\":\"\"},\"type\":\"contourcarpet\"}],\"contour\":[{\"colorbar\":{\"outlinewidth\":0,\"ticks\":\"\"},\"colorscale\":[[0.0,\"#0d0887\"],[0.1111111111111111,\"#46039f\"],[0.2222222222222222,\"#7201a8\"],[0.3333333333333333,\"#9c179e\"],[0.4444444444444444,\"#bd3786\"],[0.5555555555555556,\"#d8576b\"],[0.6666666666666666,\"#ed7953\"],[0.7777777777777778,\"#fb9f3a\"],[0.8888888888888888,\"#fdca26\"],[1.0,\"#f0f921\"]],\"type\":\"contour\"}],\"heatmapgl\":[{\"colorbar\":{\"outlinewidth\":0,\"ticks\":\"\"},\"colorscale\":[[0.0,\"#0d0887\"],[0.1111111111111111,\"#46039f\"],[0.2222222222222222,\"#7201a8\"],[0.3333333333333333,\"#9c179e\"],[0.4444444444444444,\"#bd3786\"],[0.5555555555555556,\"#d8576b\"],[0.6666666666666666,\"#ed7953\"],[0.7777777777777778,\"#fb9f3a\"],[0.8888888888888888,\"#fdca26\"],[1.0,\"#f0f921\"]],\"type\":\"heatmapgl\"}],\"heatmap\":[{\"colorbar\":{\"outlinewidth\":0,\"ticks\":\"\"},\"colorscale\":[[0.0,\"#0d0887\"],[0.1111111111111111,\"#46039f\"],[0.2222222222222222,\"#7201a8\"],[0.3333333333333333,\"#9c179e\"],[0.4444444444444444,\"#bd3786\"],[0.5555555555555556,\"#d8576b\"],[0.6666666666666666,\"#ed7953\"],[0.7777777777777778,\"#fb9f3a\"],[0.8888888888888888,\"#fdca26\"],[1.0,\"#f0f921\"]],\"type\":\"heatmap\"}],\"histogram2dcontour\":[{\"colorbar\":{\"outlinewidth\":0,\"ticks\":\"\"},\"colorscale\":[[0.0,\"#0d0887\"],[0.1111111111111111,\"#46039f\"],[0.2222222222222222,\"#7201a8\"],[0.3333333333333333,\"#9c179e\"],[0.4444444444444444,\"#bd3786\"],[0.5555555555555556,\"#d8576b\"],[0.6666666666666666,\"#ed7953\"],[0.7777777777777778,\"#fb9f3a\"],[0.8888888888888888,\"#fdca26\"],[1.0,\"#f0f921\"]],\"type\":\"histogram2dcontour\"}],\"histogram2d\":[{\"colorbar\":{\"outlinewidth\":0,\"ticks\":\"\"},\"colorscale\":[[0.0,\"#0d0887\"],[0.1111111111111111,\"#46039f\"],[0.2222222222222222,\"#7201a8\"],[0.3333333333333333,\"#9c179e\"],[0.4444444444444444,\"#bd3786\"],[0.5555555555555556,\"#d8576b\"],[0.6666666666666666,\"#ed7953\"],[0.7777777777777778,\"#fb9f3a\"],[0.8888888888888888,\"#fdca26\"],[1.0,\"#f0f921\"]],\"type\":\"histogram2d\"}],\"histogram\":[{\"marker\":{\"pattern\":{\"fillmode\":\"overlay\",\"size\":10,\"solidity\":0.2}},\"type\":\"histogram\"}],\"mesh3d\":[{\"colorbar\":{\"outlinewidth\":0,\"ticks\":\"\"},\"type\":\"mesh3d\"}],\"parcoords\":[{\"line\":{\"colorbar\":{\"outlinewidth\":0,\"ticks\":\"\"}},\"type\":\"parcoords\"}],\"pie\":[{\"automargin\":true,\"type\":\"pie\"}],\"scatter3d\":[{\"line\":{\"colorbar\":{\"outlinewidth\":0,\"ticks\":\"\"}},\"marker\":{\"colorbar\":{\"outlinewidth\":0,\"ticks\":\"\"}},\"type\":\"scatter3d\"}],\"scattercarpet\":[{\"marker\":{\"colorbar\":{\"outlinewidth\":0,\"ticks\":\"\"}},\"type\":\"scattercarpet\"}],\"scattergeo\":[{\"marker\":{\"colorbar\":{\"outlinewidth\":0,\"ticks\":\"\"}},\"type\":\"scattergeo\"}],\"scattergl\":[{\"marker\":{\"colorbar\":{\"outlinewidth\":0,\"ticks\":\"\"}},\"type\":\"scattergl\"}],\"scattermapbox\":[{\"marker\":{\"colorbar\":{\"outlinewidth\":0,\"ticks\":\"\"}},\"type\":\"scattermapbox\"}],\"scatterpolargl\":[{\"marker\":{\"colorbar\":{\"outlinewidth\":0,\"ticks\":\"\"}},\"type\":\"scatterpolargl\"}],\"scatterpolar\":[{\"marker\":{\"colorbar\":{\"outlinewidth\":0,\"ticks\":\"\"}},\"type\":\"scatterpolar\"}],\"scatter\":[{\"fillpattern\":{\"fillmode\":\"overlay\",\"size\":10,\"solidity\":0.2},\"type\":\"scatter\"}],\"scatterternary\":[{\"marker\":{\"colorbar\":{\"outlinewidth\":0,\"ticks\":\"\"}},\"type\":\"scatterternary\"}],\"surface\":[{\"colorbar\":{\"outlinewidth\":0,\"ticks\":\"\"},\"colorscale\":[[0.0,\"#0d0887\"],[0.1111111111111111,\"#46039f\"],[0.2222222222222222,\"#7201a8\"],[0.3333333333333333,\"#9c179e\"],[0.4444444444444444,\"#bd3786\"],[0.5555555555555556,\"#d8576b\"],[0.6666666666666666,\"#ed7953\"],[0.7777777777777778,\"#fb9f3a\"],[0.8888888888888888,\"#fdca26\"],[1.0,\"#f0f921\"]],\"type\":\"surface\"}],\"table\":[{\"cells\":{\"fill\":{\"color\":\"#EBF0F8\"},\"line\":{\"color\":\"white\"}},\"header\":{\"fill\":{\"color\":\"#C8D4E3\"},\"line\":{\"color\":\"white\"}},\"type\":\"table\"}]},\"layout\":{\"annotationdefaults\":{\"arrowcolor\":\"#2a3f5f\",\"arrowhead\":0,\"arrowwidth\":1},\"autotypenumbers\":\"strict\",\"coloraxis\":{\"colorbar\":{\"outlinewidth\":0,\"ticks\":\"\"}},\"colorscale\":{\"diverging\":[[0,\"#8e0152\"],[0.1,\"#c51b7d\"],[0.2,\"#de77ae\"],[0.3,\"#f1b6da\"],[0.4,\"#fde0ef\"],[0.5,\"#f7f7f7\"],[0.6,\"#e6f5d0\"],[0.7,\"#b8e186\"],[0.8,\"#7fbc41\"],[0.9,\"#4d9221\"],[1,\"#276419\"]],\"sequential\":[[0.0,\"#0d0887\"],[0.1111111111111111,\"#46039f\"],[0.2222222222222222,\"#7201a8\"],[0.3333333333333333,\"#9c179e\"],[0.4444444444444444,\"#bd3786\"],[0.5555555555555556,\"#d8576b\"],[0.6666666666666666,\"#ed7953\"],[0.7777777777777778,\"#fb9f3a\"],[0.8888888888888888,\"#fdca26\"],[1.0,\"#f0f921\"]],\"sequentialminus\":[[0.0,\"#0d0887\"],[0.1111111111111111,\"#46039f\"],[0.2222222222222222,\"#7201a8\"],[0.3333333333333333,\"#9c179e\"],[0.4444444444444444,\"#bd3786\"],[0.5555555555555556,\"#d8576b\"],[0.6666666666666666,\"#ed7953\"],[0.7777777777777778,\"#fb9f3a\"],[0.8888888888888888,\"#fdca26\"],[1.0,\"#f0f921\"]]},\"colorway\":[\"#636efa\",\"#EF553B\",\"#00cc96\",\"#ab63fa\",\"#FFA15A\",\"#19d3f3\",\"#FF6692\",\"#B6E880\",\"#FF97FF\",\"#FECB52\"],\"font\":{\"color\":\"#2a3f5f\"},\"geo\":{\"bgcolor\":\"white\",\"lakecolor\":\"white\",\"landcolor\":\"#E5ECF6\",\"showlakes\":true,\"showland\":true,\"subunitcolor\":\"white\"},\"hoverlabel\":{\"align\":\"left\"},\"hovermode\":\"closest\",\"mapbox\":{\"style\":\"light\"},\"paper_bgcolor\":\"white\",\"plot_bgcolor\":\"#E5ECF6\",\"polar\":{\"angularaxis\":{\"gridcolor\":\"white\",\"linecolor\":\"white\",\"ticks\":\"\"},\"bgcolor\":\"#E5ECF6\",\"radialaxis\":{\"gridcolor\":\"white\",\"linecolor\":\"white\",\"ticks\":\"\"}},\"scene\":{\"xaxis\":{\"backgroundcolor\":\"#E5ECF6\",\"gridcolor\":\"white\",\"gridwidth\":2,\"linecolor\":\"white\",\"showbackground\":true,\"ticks\":\"\",\"zerolinecolor\":\"white\"},\"yaxis\":{\"backgroundcolor\":\"#E5ECF6\",\"gridcolor\":\"white\",\"gridwidth\":2,\"linecolor\":\"white\",\"showbackground\":true,\"ticks\":\"\",\"zerolinecolor\":\"white\"},\"zaxis\":{\"backgroundcolor\":\"#E5ECF6\",\"gridcolor\":\"white\",\"gridwidth\":2,\"linecolor\":\"white\",\"showbackground\":true,\"ticks\":\"\",\"zerolinecolor\":\"white\"}},\"shapedefaults\":{\"line\":{\"color\":\"#2a3f5f\"}},\"ternary\":{\"aaxis\":{\"gridcolor\":\"white\",\"linecolor\":\"white\",\"ticks\":\"\"},\"baxis\":{\"gridcolor\":\"white\",\"linecolor\":\"white\",\"ticks\":\"\"},\"bgcolor\":\"#E5ECF6\",\"caxis\":{\"gridcolor\":\"white\",\"linecolor\":\"white\",\"ticks\":\"\"}},\"title\":{\"x\":0.05},\"xaxis\":{\"automargin\":true,\"gridcolor\":\"white\",\"linecolor\":\"white\",\"ticks\":\"\",\"title\":{\"standoff\":15},\"zerolinecolor\":\"white\",\"zerolinewidth\":2},\"yaxis\":{\"automargin\":true,\"gridcolor\":\"white\",\"linecolor\":\"white\",\"ticks\":\"\",\"title\":{\"standoff\":15},\"zerolinecolor\":\"white\",\"zerolinewidth\":2}}},\"width\":1000},                        {\"responsive\": true}                    ).then(function(){\n",
       "                            \n",
       "var gd = document.getElementById('0ec1c6f0-9336-467f-a7e0-69f16793ba02');\n",
       "var x = new MutationObserver(function (mutations, observer) {{\n",
       "        var display = window.getComputedStyle(gd).display;\n",
       "        if (!display || display === 'none') {{\n",
       "            console.log([gd, 'removed!']);\n",
       "            Plotly.purge(gd);\n",
       "            observer.disconnect();\n",
       "        }}\n",
       "}});\n",
       "\n",
       "// Listen for the removal of the full notebook cells\n",
       "var notebookContainer = gd.closest('#notebook-container');\n",
       "if (notebookContainer) {{\n",
       "    x.observe(notebookContainer, {childList: true});\n",
       "}}\n",
       "\n",
       "// Listen for the clearing of the current output cell\n",
       "var outputEl = gd.closest('.output');\n",
       "if (outputEl) {{\n",
       "    x.observe(outputEl, {childList: true});\n",
       "}}\n",
       "\n",
       "                        })                };                });            </script>        </div>"
      ]
     },
     "metadata": {},
     "output_type": "display_data"
    }
   ],
   "source": [
    "import plotly.graph_objects as go\n",
    "from plotly.subplots import make_subplots\n",
    "from plotly.offline import iplot\n",
    "\n",
    "clients_top10 = clients.head(10)\n",
    "\n",
    "fig = make_subplots(rows=1, cols=2, specs=[[{\"type\": \"pie\"}, {\"type\": \"pie\"}]], subplot_titles = ('Покупатели и активные заказы'\\\n",
    "                                                                                                  , 'Покупатели и неактивные заказы'))\n",
    "\n",
    "fig.add_trace(go.Pie(\n",
    "values = clients_top10['active_count'],\n",
    "labels = clients_top10['customer_id'],\n",
    "domain = dict(x=[0, 0.5]),\n",
    "name = 'Покупатели и активные заказы'),\n",
    "row = 1, col = 1)\n",
    "\n",
    "fig.add_trace(go.Pie(\n",
    "values = clients_top10['non_active_count'],\n",
    "labels = clients_top10['customer_id'],\n",
    "domain = dict(x=[0.5, 1.0]),\n",
    "name = 'Покупатели и неактивные заказы'),\n",
    "row = 1, col = 2)\n",
    "\n",
    "fig.update_layout(width=1000, height=600) \n",
    "\n",
    "iplot(fig)\n",
    "\n"
   ]
  },
  {
   "cell_type": "markdown",
   "id": "8bf92a6e-578d-4110-84d5-0522ce1c901c",
   "metadata": {},
   "source": [
    "## 4. Выведите продукт с наибольшим количеством активных заказов"
   ]
  },
  {
   "cell_type": "code",
   "execution_count": 16,
   "id": "d45a7a13-ffa3-4d55-9769-6ec964d271b2",
   "metadata": {},
   "outputs": [
    {
     "data": {
      "text/html": [
       "<div>\n",
       "<style scoped>\n",
       "    .dataframe tbody tr th:only-of-type {\n",
       "        vertical-align: middle;\n",
       "    }\n",
       "\n",
       "    .dataframe tbody tr th {\n",
       "        vertical-align: top;\n",
       "    }\n",
       "\n",
       "    .dataframe thead th {\n",
       "        text-align: right;\n",
       "    }\n",
       "</style>\n",
       "<table border=\"1\" class=\"dataframe\">\n",
       "  <thead>\n",
       "    <tr style=\"text-align: right;\">\n",
       "      <th></th>\n",
       "      <th>table_name</th>\n",
       "    </tr>\n",
       "  </thead>\n",
       "  <tbody>\n",
       "    <tr>\n",
       "      <th>0</th>\n",
       "      <td>customer_demographics</td>\n",
       "    </tr>\n",
       "    <tr>\n",
       "      <th>1</th>\n",
       "      <td>customer_customer_demo</td>\n",
       "    </tr>\n",
       "    <tr>\n",
       "      <th>2</th>\n",
       "      <td>customers</td>\n",
       "    </tr>\n",
       "    <tr>\n",
       "      <th>3</th>\n",
       "      <td>employees</td>\n",
       "    </tr>\n",
       "    <tr>\n",
       "      <th>4</th>\n",
       "      <td>categories</td>\n",
       "    </tr>\n",
       "    <tr>\n",
       "      <th>5</th>\n",
       "      <td>products</td>\n",
       "    </tr>\n",
       "    <tr>\n",
       "      <th>6</th>\n",
       "      <td>suppliers</td>\n",
       "    </tr>\n",
       "    <tr>\n",
       "      <th>7</th>\n",
       "      <td>orders</td>\n",
       "    </tr>\n",
       "    <tr>\n",
       "      <th>8</th>\n",
       "      <td>shippers</td>\n",
       "    </tr>\n",
       "    <tr>\n",
       "      <th>9</th>\n",
       "      <td>region</td>\n",
       "    </tr>\n",
       "    <tr>\n",
       "      <th>10</th>\n",
       "      <td>territories</td>\n",
       "    </tr>\n",
       "    <tr>\n",
       "      <th>11</th>\n",
       "      <td>employee_territories</td>\n",
       "    </tr>\n",
       "    <tr>\n",
       "      <th>12</th>\n",
       "      <td>order_details</td>\n",
       "    </tr>\n",
       "    <tr>\n",
       "      <th>13</th>\n",
       "      <td>us_states</td>\n",
       "    </tr>\n",
       "  </tbody>\n",
       "</table>\n",
       "</div>"
      ],
      "text/plain": [
       "                table_name\n",
       "0    customer_demographics\n",
       "1   customer_customer_demo\n",
       "2                customers\n",
       "3                employees\n",
       "4               categories\n",
       "5                 products\n",
       "6                suppliers\n",
       "7                   orders\n",
       "8                 shippers\n",
       "9                   region\n",
       "10             territories\n",
       "11    employee_territories\n",
       "12           order_details\n",
       "13               us_states"
      ]
     },
     "execution_count": 16,
     "metadata": {},
     "output_type": "execute_result"
    }
   ],
   "source": [
    "# проверяю наименование таблиц, спасибо Chat-GPT\n",
    "sql_to_pd(\"SELECT table_name FROM information_schema.tables WHERE table_schema = 'public'\")"
   ]
  },
  {
   "cell_type": "code",
   "execution_count": 21,
   "id": "fdea5c74-0f02-4d29-9e00-8aa7d480b314",
   "metadata": {
    "scrolled": true
   },
   "outputs": [
    {
     "name": "stdout",
     "output_type": "stream",
     "text": [
      "<class 'pandas.core.frame.DataFrame'>\n",
      "RangeIndex: 77 entries, 0 to 76\n",
      "Data columns (total 10 columns):\n",
      " #   Column             Non-Null Count  Dtype  \n",
      "---  ------             --------------  -----  \n",
      " 0   product_id         77 non-null     int64  \n",
      " 1   product_name       77 non-null     object \n",
      " 2   supplier_id        77 non-null     int64  \n",
      " 3   category_id        77 non-null     int64  \n",
      " 4   quantity_per_unit  77 non-null     object \n",
      " 5   unit_price         77 non-null     float64\n",
      " 6   units_in_stock     77 non-null     int64  \n",
      " 7   units_on_order     77 non-null     int64  \n",
      " 8   reorder_level      77 non-null     int64  \n",
      " 9   discontinued       77 non-null     int64  \n",
      "dtypes: float64(1), int64(7), object(2)\n",
      "memory usage: 6.1+ KB\n"
     ]
    }
   ],
   "source": [
    "products = sql_to_pd(\"SELECT * FROM products\")\n",
    "products.info()"
   ]
  },
  {
   "cell_type": "code",
   "execution_count": 19,
   "id": "a3e8b896-efe7-4d17-91aa-7e885a573808",
   "metadata": {
    "scrolled": true
   },
   "outputs": [
    {
     "name": "stdout",
     "output_type": "stream",
     "text": [
      "<class 'pandas.core.frame.DataFrame'>\n",
      "RangeIndex: 2155 entries, 0 to 2154\n",
      "Data columns (total 29 columns):\n",
      " #   Column            Non-Null Count  Dtype  \n",
      "---  ------            --------------  -----  \n",
      " 0   customer_id       2155 non-null   object \n",
      " 1   order_id          2155 non-null   int64  \n",
      " 2   employee_id       2155 non-null   int64  \n",
      " 3   order_date        2155 non-null   object \n",
      " 4   required_date     2155 non-null   object \n",
      " 5   shipped_date      2082 non-null   object \n",
      " 6   ship_via          2155 non-null   int64  \n",
      " 7   freight           2155 non-null   float64\n",
      " 8   ship_name         2155 non-null   object \n",
      " 9   ship_address      2155 non-null   object \n",
      " 10  ship_city         2155 non-null   object \n",
      " 11  ship_region       856 non-null    object \n",
      " 12  ship_postal_code  2100 non-null   object \n",
      " 13  ship_country      2155 non-null   object \n",
      " 14  product_id        2155 non-null   int64  \n",
      " 15  unit_price        2155 non-null   float64\n",
      " 16  quantity          2155 non-null   int64  \n",
      " 17  discount          2155 non-null   float64\n",
      " 18  company_name      2155 non-null   object \n",
      " 19  contact_name      2155 non-null   object \n",
      " 20  contact_title     2155 non-null   object \n",
      " 21  address           2155 non-null   object \n",
      " 22  city              2155 non-null   object \n",
      " 23  region            826 non-null    object \n",
      " 24  postal_code       2100 non-null   object \n",
      " 25  country           2155 non-null   object \n",
      " 26  phone             2155 non-null   object \n",
      " 27  fax               1506 non-null   object \n",
      " 28  order_state       2155 non-null   int64  \n",
      "dtypes: float64(3), int64(6), object(20)\n",
      "memory usage: 488.4+ KB\n"
     ]
    }
   ],
   "source": [
    "df.info()"
   ]
  },
  {
   "cell_type": "code",
   "execution_count": 23,
   "id": "a94b7307-552e-4bb9-b55b-195bba13f965",
   "metadata": {},
   "outputs": [
    {
     "data": {
      "text/html": [
       "<div>\n",
       "<style scoped>\n",
       "    .dataframe tbody tr th:only-of-type {\n",
       "        vertical-align: middle;\n",
       "    }\n",
       "\n",
       "    .dataframe tbody tr th {\n",
       "        vertical-align: top;\n",
       "    }\n",
       "\n",
       "    .dataframe thead th {\n",
       "        text-align: right;\n",
       "    }\n",
       "</style>\n",
       "<table border=\"1\" class=\"dataframe\">\n",
       "  <thead>\n",
       "    <tr style=\"text-align: right;\">\n",
       "      <th></th>\n",
       "      <th>customer_id</th>\n",
       "      <th>order_id</th>\n",
       "      <th>product_id</th>\n",
       "      <th>product_name</th>\n",
       "      <th>order_state</th>\n",
       "    </tr>\n",
       "  </thead>\n",
       "  <tbody>\n",
       "    <tr>\n",
       "      <th>0</th>\n",
       "      <td>VINET</td>\n",
       "      <td>10248</td>\n",
       "      <td>11</td>\n",
       "      <td>Queso Cabrales</td>\n",
       "      <td>0</td>\n",
       "    </tr>\n",
       "    <tr>\n",
       "      <th>1</th>\n",
       "      <td>VINET</td>\n",
       "      <td>10248</td>\n",
       "      <td>42</td>\n",
       "      <td>Singaporean Hokkien Fried Mee</td>\n",
       "      <td>0</td>\n",
       "    </tr>\n",
       "    <tr>\n",
       "      <th>2</th>\n",
       "      <td>VINET</td>\n",
       "      <td>10248</td>\n",
       "      <td>72</td>\n",
       "      <td>Mozzarella di Giovanni</td>\n",
       "      <td>0</td>\n",
       "    </tr>\n",
       "    <tr>\n",
       "      <th>3</th>\n",
       "      <td>TOMSP</td>\n",
       "      <td>10249</td>\n",
       "      <td>14</td>\n",
       "      <td>Tofu</td>\n",
       "      <td>0</td>\n",
       "    </tr>\n",
       "    <tr>\n",
       "      <th>4</th>\n",
       "      <td>TOMSP</td>\n",
       "      <td>10249</td>\n",
       "      <td>51</td>\n",
       "      <td>Manjimup Dried Apples</td>\n",
       "      <td>0</td>\n",
       "    </tr>\n",
       "    <tr>\n",
       "      <th>...</th>\n",
       "      <td>...</td>\n",
       "      <td>...</td>\n",
       "      <td>...</td>\n",
       "      <td>...</td>\n",
       "      <td>...</td>\n",
       "    </tr>\n",
       "    <tr>\n",
       "      <th>2150</th>\n",
       "      <td>RATTC</td>\n",
       "      <td>11077</td>\n",
       "      <td>64</td>\n",
       "      <td>Wimmers gute Semmelknödel</td>\n",
       "      <td>1</td>\n",
       "    </tr>\n",
       "    <tr>\n",
       "      <th>2151</th>\n",
       "      <td>RATTC</td>\n",
       "      <td>11077</td>\n",
       "      <td>66</td>\n",
       "      <td>Louisiana Hot Spiced Okra</td>\n",
       "      <td>1</td>\n",
       "    </tr>\n",
       "    <tr>\n",
       "      <th>2152</th>\n",
       "      <td>RATTC</td>\n",
       "      <td>11077</td>\n",
       "      <td>73</td>\n",
       "      <td>Röd Kaviar</td>\n",
       "      <td>1</td>\n",
       "    </tr>\n",
       "    <tr>\n",
       "      <th>2153</th>\n",
       "      <td>RATTC</td>\n",
       "      <td>11077</td>\n",
       "      <td>75</td>\n",
       "      <td>Rhönbräu Klosterbier</td>\n",
       "      <td>1</td>\n",
       "    </tr>\n",
       "    <tr>\n",
       "      <th>2154</th>\n",
       "      <td>RATTC</td>\n",
       "      <td>11077</td>\n",
       "      <td>77</td>\n",
       "      <td>Original Frankfurter grüne Soße</td>\n",
       "      <td>1</td>\n",
       "    </tr>\n",
       "  </tbody>\n",
       "</table>\n",
       "<p>2155 rows × 5 columns</p>\n",
       "</div>"
      ],
      "text/plain": [
       "     customer_id  order_id  product_id                     product_name  \\\n",
       "0          VINET     10248          11                   Queso Cabrales   \n",
       "1          VINET     10248          42    Singaporean Hokkien Fried Mee   \n",
       "2          VINET     10248          72           Mozzarella di Giovanni   \n",
       "3          TOMSP     10249          14                             Tofu   \n",
       "4          TOMSP     10249          51            Manjimup Dried Apples   \n",
       "...          ...       ...         ...                              ...   \n",
       "2150       RATTC     11077          64        Wimmers gute Semmelknödel   \n",
       "2151       RATTC     11077          66        Louisiana Hot Spiced Okra   \n",
       "2152       RATTC     11077          73                       Röd Kaviar   \n",
       "2153       RATTC     11077          75             Rhönbräu Klosterbier   \n",
       "2154       RATTC     11077          77  Original Frankfurter grüne Soße   \n",
       "\n",
       "      order_state  \n",
       "0               0  \n",
       "1               0  \n",
       "2               0  \n",
       "3               0  \n",
       "4               0  \n",
       "...           ...  \n",
       "2150            1  \n",
       "2151            1  \n",
       "2152            1  \n",
       "2153            1  \n",
       "2154            1  \n",
       "\n",
       "[2155 rows x 5 columns]"
      ]
     },
     "execution_count": 23,
     "metadata": {},
     "output_type": "execute_result"
    }
   ],
   "source": [
    "clients_and_products = df.merge(products, on='product_id', how='left')\n",
    "clients_and_products = clients_and_products[['customer_id', 'order_id', 'product_id', 'product_name', 'order_state']]\n",
    "clients_and_products"
   ]
  },
  {
   "cell_type": "markdown",
   "id": "d9607c52-2118-48df-a4a6-9e777646b79f",
   "metadata": {},
   "source": [
    "## 5. Выведите количества продуктов разделенные по активности"
   ]
  },
  {
   "cell_type": "code",
   "execution_count": null,
   "id": "d99a3fd0-4104-4395-8b02-b6d223564a7e",
   "metadata": {},
   "outputs": [],
   "source": []
  },
  {
   "cell_type": "markdown",
   "id": "67258f4f-1a3f-45ca-b687-a9df46b8cd47",
   "metadata": {},
   "source": [
    "## 6. Нарисуйте диаграмму по топ 10 самым продаваемым продуктам"
   ]
  },
  {
   "cell_type": "code",
   "execution_count": null,
   "id": "a7fa69cb-1231-4533-aebd-8f94fa374cda",
   "metadata": {},
   "outputs": [],
   "source": []
  },
  {
   "cell_type": "markdown",
   "id": "b7dc5d02-9daa-4d51-ab65-8c57142e4129",
   "metadata": {},
   "source": [
    "## 7. Добавьте в вашу таблицу должность и имя сотрудника, а также его город, гдеон работает"
   ]
  },
  {
   "cell_type": "code",
   "execution_count": null,
   "id": "cc22bb37-ae34-42ee-a2fa-3ea0a562c35e",
   "metadata": {},
   "outputs": [],
   "source": []
  },
  {
   "cell_type": "markdown",
   "id": "14052a75-dc09-4e59-b69b-28a8a85a2444",
   "metadata": {},
   "source": [
    "## 8. Теперь выведите количество активных и неактивных заказов по сотрудникам"
   ]
  },
  {
   "cell_type": "code",
   "execution_count": null,
   "id": "34f9bab0-3d37-4f0a-b18f-82193d93b820",
   "metadata": {},
   "outputs": [],
   "source": []
  },
  {
   "cell_type": "markdown",
   "id": "15d08b06-f4c9-4f85-ab8e-7fb949d5a03b",
   "metadata": {},
   "source": [
    "## 9. Выгрузите таблицу с заказами и сотрудниками в эксель. (Метод to_excel)"
   ]
  },
  {
   "cell_type": "code",
   "execution_count": null,
   "id": "a66bd2ef-d1c1-43a8-a10d-4953a46246e8",
   "metadata": {},
   "outputs": [],
   "source": []
  }
 ],
 "metadata": {
  "kernelspec": {
   "display_name": "Python 3 (ipykernel)",
   "language": "python",
   "name": "python3"
  },
  "language_info": {
   "codemirror_mode": {
    "name": "ipython",
    "version": 3
   },
   "file_extension": ".py",
   "mimetype": "text/x-python",
   "name": "python",
   "nbconvert_exporter": "python",
   "pygments_lexer": "ipython3",
   "version": "3.11.5"
  }
 },
 "nbformat": 4,
 "nbformat_minor": 5
}
